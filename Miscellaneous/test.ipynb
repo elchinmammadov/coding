{
 "cells": [
  {
   "cell_type": "code",
   "execution_count": 22,
   "metadata": {},
   "outputs": [
    {
     "name": "stdout",
     "output_type": "stream",
     "text": [
      "['S', 'h', 'l', 'd', ' ', 'c', 'n', 't', ' ', 'l', 'l', ' ', 'v', 'w', 'l', 's']\n"
     ]
    }
   ],
   "source": [
    "sentence = \"Should count all vowels\"\n",
    "vowels = \"aeiouAEIOU\"\n",
    "letters = [char for char in sentence if char not in vowels]\n",
    "print(letters)"
   ]
  },
  {
   "cell_type": "code",
   "execution_count": 6,
   "metadata": {},
   "outputs": [
    {
     "data": {
      "text/plain": [
       "array([1.        , 2.33333333, 3.66666667, 5.        ])"
      ]
     },
     "execution_count": 6,
     "metadata": {},
     "output_type": "execute_result"
    }
   ],
   "source": [
    "import numpy as np\n",
    "\n",
    "def looper(start, stop, step):\n",
    "    return np.linspace(start, stop, step)\n",
    "\n",
    "looper(1,5,4)"
   ]
  },
  {
   "cell_type": "code",
   "execution_count": 4,
   "metadata": {},
   "outputs": [
    {
     "name": "stdout",
     "output_type": "stream",
     "text": [
      "2\n",
      "6\n",
      "24\n",
      "120\n"
     ]
    },
    {
     "data": {
      "text/plain": [
       "120"
      ]
     },
     "execution_count": 4,
     "metadata": {},
     "output_type": "execute_result"
    }
   ],
   "source": [
    "def iterative_factorial(n):\n",
    "  fact = 1\n",
    "  for i in range (2, n+1):\n",
    "    fact = fact*i\n",
    "    print(fact)\n",
    "  return fact\n",
    "\n",
    "iterative_factorial(5)"
   ]
  },
  {
   "cell_type": "code",
   "execution_count": 2,
   "metadata": {},
   "outputs": [
    {
     "data": {
      "text/plain": [
       "120"
      ]
     },
     "execution_count": 2,
     "metadata": {},
     "output_type": "execute_result"
    }
   ],
   "source": [
    "def recur_factorial(n):\n",
    "    if n == 1:\n",
    "        return n\n",
    "    else:\n",
    "        temp = recur_factorial(n-1)\n",
    "        temp = temp * n\n",
    "    return temp\n",
    "\n",
    "recur_factorial(5)"
   ]
  },
  {
   "cell_type": "code",
   "execution_count": 6,
   "metadata": {},
   "outputs": [],
   "source": [
    "import pandas as pd\n",
    "order_leads = pd.read_csv(\n",
    "    'https://raw.githubusercontent.com/FBosler/Medium-Data-Exploration/master/order_leads.csv',\n",
    "    parse_dates = [3]\n",
    ")\n",
    "sales_team = pd.read_csv(\n",
    "    'https://raw.githubusercontent.com/FBosler/Medium-Data-Exploration/master/sales_team.csv',\n",
    "    parse_dates = [3]\n",
    ")\n",
    "df = pd.merge(\n",
    "  order_leads,\n",
    "  sales_team,\n",
    "  on=['Company Id','Company Name']\n",
    ")\n",
    "df = df.rename(\n",
    "  columns={'Order Value':'Val','Converted':'Sale'}\n",
    ")\n"
   ]
  },
  {
   "cell_type": "code",
   "execution_count": 14,
   "metadata": {},
   "outputs": [
    {
     "data": {
      "text/html": [
       "<div>\n",
       "<style scoped>\n",
       "    .dataframe tbody tr th:only-of-type {\n",
       "        vertical-align: middle;\n",
       "    }\n",
       "\n",
       "    .dataframe tbody tr th {\n",
       "        vertical-align: top;\n",
       "    }\n",
       "\n",
       "    .dataframe thead th {\n",
       "        text-align: right;\n",
       "    }\n",
       "</style>\n",
       "<table border=\"1\" class=\"dataframe\">\n",
       "  <thead>\n",
       "    <tr style=\"text-align: right;\">\n",
       "      <th></th>\n",
       "      <th>Order Id</th>\n",
       "      <th>Company Id</th>\n",
       "      <th>Company Name</th>\n",
       "      <th>Date</th>\n",
       "      <th>Val</th>\n",
       "      <th>Sale</th>\n",
       "      <th>Sales Rep</th>\n",
       "      <th>Sales Rep Id</th>\n",
       "    </tr>\n",
       "  </thead>\n",
       "  <tbody>\n",
       "    <tr>\n",
       "      <th>0</th>\n",
       "      <td>HZSXLI1IS9RGABZW</td>\n",
       "      <td>D0AUXPP07H6AVSGD</td>\n",
       "      <td>Melancholy Social-Role</td>\n",
       "      <td>2017-10-13</td>\n",
       "      <td>6952</td>\n",
       "      <td>0</td>\n",
       "      <td>William Taylor</td>\n",
       "      <td>ZTZA0ZLYZR85PTUJ</td>\n",
       "    </tr>\n",
       "    <tr>\n",
       "      <th>1</th>\n",
       "      <td>582WPS3OW8T6YT0R</td>\n",
       "      <td>D0AUXPP07H6AVSGD</td>\n",
       "      <td>Melancholy Social-Role</td>\n",
       "      <td>2017-09-02</td>\n",
       "      <td>7930</td>\n",
       "      <td>0</td>\n",
       "      <td>William Taylor</td>\n",
       "      <td>ZTZA0ZLYZR85PTUJ</td>\n",
       "    </tr>\n",
       "    <tr>\n",
       "      <th>2</th>\n",
       "      <td>KRF65MQZBOYG4Y9T</td>\n",
       "      <td>D0AUXPP07H6AVSGD</td>\n",
       "      <td>Melancholy Social-Role</td>\n",
       "      <td>2016-12-21</td>\n",
       "      <td>5538</td>\n",
       "      <td>1</td>\n",
       "      <td>William Taylor</td>\n",
       "      <td>ZTZA0ZLYZR85PTUJ</td>\n",
       "    </tr>\n",
       "    <tr>\n",
       "      <th>3</th>\n",
       "      <td>N3EDZ5V1WGSWW828</td>\n",
       "      <td>D0AUXPP07H6AVSGD</td>\n",
       "      <td>Melancholy Social-Role</td>\n",
       "      <td>2018-06-03</td>\n",
       "      <td>1113</td>\n",
       "      <td>0</td>\n",
       "      <td>William Taylor</td>\n",
       "      <td>ZTZA0ZLYZR85PTUJ</td>\n",
       "    </tr>\n",
       "    <tr>\n",
       "      <th>4</th>\n",
       "      <td>QXBC8COXEXGFSPLP</td>\n",
       "      <td>D0AUXPP07H6AVSGD</td>\n",
       "      <td>Melancholy Social-Role</td>\n",
       "      <td>2014-07-26</td>\n",
       "      <td>4596</td>\n",
       "      <td>0</td>\n",
       "      <td>William Taylor</td>\n",
       "      <td>ZTZA0ZLYZR85PTUJ</td>\n",
       "    </tr>\n",
       "    <tr>\n",
       "      <th>...</th>\n",
       "      <td>...</td>\n",
       "      <td>...</td>\n",
       "      <td>...</td>\n",
       "      <td>...</td>\n",
       "      <td>...</td>\n",
       "      <td>...</td>\n",
       "      <td>...</td>\n",
       "      <td>...</td>\n",
       "    </tr>\n",
       "    <tr>\n",
       "      <th>99995</th>\n",
       "      <td>HKZFX556ZQRZJZWR</td>\n",
       "      <td>APH243SK72T90MPS</td>\n",
       "      <td>Trade-Preparatory Quarterbacks</td>\n",
       "      <td>2017-11-06</td>\n",
       "      <td>7516</td>\n",
       "      <td>0</td>\n",
       "      <td>Ida Woodward</td>\n",
       "      <td>LF3CPWWZKSNB1AXI</td>\n",
       "    </tr>\n",
       "    <tr>\n",
       "      <th>99996</th>\n",
       "      <td>962CSDMAJ49E0CRK</td>\n",
       "      <td>APH243SK72T90MPS</td>\n",
       "      <td>Trade-Preparatory Quarterbacks</td>\n",
       "      <td>2018-08-02</td>\n",
       "      <td>442</td>\n",
       "      <td>1</td>\n",
       "      <td>Ida Woodward</td>\n",
       "      <td>LF3CPWWZKSNB1AXI</td>\n",
       "    </tr>\n",
       "    <tr>\n",
       "      <th>99997</th>\n",
       "      <td>ZW7RO9TLL6EVVJEC</td>\n",
       "      <td>APH243SK72T90MPS</td>\n",
       "      <td>Trade-Preparatory Quarterbacks</td>\n",
       "      <td>2014-11-02</td>\n",
       "      <td>8544</td>\n",
       "      <td>0</td>\n",
       "      <td>Ida Woodward</td>\n",
       "      <td>LF3CPWWZKSNB1AXI</td>\n",
       "    </tr>\n",
       "    <tr>\n",
       "      <th>99998</th>\n",
       "      <td>LNKGIWMZ9RT49IE9</td>\n",
       "      <td>APH243SK72T90MPS</td>\n",
       "      <td>Trade-Preparatory Quarterbacks</td>\n",
       "      <td>2017-04-01</td>\n",
       "      <td>6650</td>\n",
       "      <td>0</td>\n",
       "      <td>Ida Woodward</td>\n",
       "      <td>LF3CPWWZKSNB1AXI</td>\n",
       "    </tr>\n",
       "    <tr>\n",
       "      <th>99999</th>\n",
       "      <td>X9Y21H4JWX6OGC2Z</td>\n",
       "      <td>APH243SK72T90MPS</td>\n",
       "      <td>Trade-Preparatory Quarterbacks</td>\n",
       "      <td>2016-07-27</td>\n",
       "      <td>953</td>\n",
       "      <td>0</td>\n",
       "      <td>Ida Woodward</td>\n",
       "      <td>LF3CPWWZKSNB1AXI</td>\n",
       "    </tr>\n",
       "  </tbody>\n",
       "</table>\n",
       "<p>100000 rows × 8 columns</p>\n",
       "</div>"
      ],
      "text/plain": [
       "               Order Id        Company Id                    Company Name  \\\n",
       "0      HZSXLI1IS9RGABZW  D0AUXPP07H6AVSGD          Melancholy Social-Role   \n",
       "1      582WPS3OW8T6YT0R  D0AUXPP07H6AVSGD          Melancholy Social-Role   \n",
       "2      KRF65MQZBOYG4Y9T  D0AUXPP07H6AVSGD          Melancholy Social-Role   \n",
       "3      N3EDZ5V1WGSWW828  D0AUXPP07H6AVSGD          Melancholy Social-Role   \n",
       "4      QXBC8COXEXGFSPLP  D0AUXPP07H6AVSGD          Melancholy Social-Role   \n",
       "...                 ...               ...                             ...   \n",
       "99995  HKZFX556ZQRZJZWR  APH243SK72T90MPS  Trade-Preparatory Quarterbacks   \n",
       "99996  962CSDMAJ49E0CRK  APH243SK72T90MPS  Trade-Preparatory Quarterbacks   \n",
       "99997  ZW7RO9TLL6EVVJEC  APH243SK72T90MPS  Trade-Preparatory Quarterbacks   \n",
       "99998  LNKGIWMZ9RT49IE9  APH243SK72T90MPS  Trade-Preparatory Quarterbacks   \n",
       "99999  X9Y21H4JWX6OGC2Z  APH243SK72T90MPS  Trade-Preparatory Quarterbacks   \n",
       "\n",
       "            Date   Val  Sale       Sales Rep      Sales Rep Id  \n",
       "0     2017-10-13  6952     0  William Taylor  ZTZA0ZLYZR85PTUJ  \n",
       "1     2017-09-02  7930     0  William Taylor  ZTZA0ZLYZR85PTUJ  \n",
       "2     2016-12-21  5538     1  William Taylor  ZTZA0ZLYZR85PTUJ  \n",
       "3     2018-06-03  1113     0  William Taylor  ZTZA0ZLYZR85PTUJ  \n",
       "4     2014-07-26  4596     0  William Taylor  ZTZA0ZLYZR85PTUJ  \n",
       "...          ...   ...   ...             ...               ...  \n",
       "99995 2017-11-06  7516     0    Ida Woodward  LF3CPWWZKSNB1AXI  \n",
       "99996 2018-08-02   442     1    Ida Woodward  LF3CPWWZKSNB1AXI  \n",
       "99997 2014-11-02  8544     0    Ida Woodward  LF3CPWWZKSNB1AXI  \n",
       "99998 2017-04-01  6650     0    Ida Woodward  LF3CPWWZKSNB1AXI  \n",
       "99999 2016-07-27   953     0    Ida Woodward  LF3CPWWZKSNB1AXI  \n",
       "\n",
       "[100000 rows x 8 columns]"
      ]
     },
     "execution_count": 14,
     "metadata": {},
     "output_type": "execute_result"
    }
   ],
   "source": [
    "df"
   ]
  },
  {
   "cell_type": "code",
   "execution_count": 18,
   "metadata": {},
   "outputs": [
    {
     "data": {
      "text/html": [
       "<div>\n",
       "<style scoped>\n",
       "    .dataframe tbody tr th:only-of-type {\n",
       "        vertical-align: middle;\n",
       "    }\n",
       "\n",
       "    .dataframe tbody tr th {\n",
       "        vertical-align: top;\n",
       "    }\n",
       "\n",
       "    .dataframe thead th {\n",
       "        text-align: right;\n",
       "    }\n",
       "</style>\n",
       "<table border=\"1\" class=\"dataframe\">\n",
       "  <thead>\n",
       "    <tr style=\"text-align: right;\">\n",
       "      <th></th>\n",
       "      <th>Order Id</th>\n",
       "      <th>Company Id</th>\n",
       "      <th>Company Name</th>\n",
       "      <th>Date</th>\n",
       "      <th>Val</th>\n",
       "      <th>Sale</th>\n",
       "      <th>Sales Rep</th>\n",
       "      <th>Sales Rep Id</th>\n",
       "    </tr>\n",
       "  </thead>\n",
       "  <tbody>\n",
       "    <tr>\n",
       "      <th>25612</th>\n",
       "      <td>3BJY12LWBN7D0GJL</td>\n",
       "      <td>CE4544HJOFMONMH2</td>\n",
       "      <td>Follow-Up Boundary</td>\n",
       "      <td>2014-09-04</td>\n",
       "      <td>1940</td>\n",
       "      <td>0</td>\n",
       "      <td>Aaron Hendrickson</td>\n",
       "      <td>AEMLQ09IYM72ACBL</td>\n",
       "    </tr>\n",
       "    <tr>\n",
       "      <th>25613</th>\n",
       "      <td>W3HHOSC1H6A1PW37</td>\n",
       "      <td>CE4544HJOFMONMH2</td>\n",
       "      <td>Follow-Up Boundary</td>\n",
       "      <td>2015-09-24</td>\n",
       "      <td>2109</td>\n",
       "      <td>0</td>\n",
       "      <td>Aaron Hendrickson</td>\n",
       "      <td>AEMLQ09IYM72ACBL</td>\n",
       "    </tr>\n",
       "    <tr>\n",
       "      <th>25614</th>\n",
       "      <td>G9JKIZO4WD945GBH</td>\n",
       "      <td>CE4544HJOFMONMH2</td>\n",
       "      <td>Follow-Up Boundary</td>\n",
       "      <td>2014-12-06</td>\n",
       "      <td>4300</td>\n",
       "      <td>1</td>\n",
       "      <td>Aaron Hendrickson</td>\n",
       "      <td>AEMLQ09IYM72ACBL</td>\n",
       "    </tr>\n",
       "    <tr>\n",
       "      <th>25615</th>\n",
       "      <td>BKIJVKZ7REVN6P8B</td>\n",
       "      <td>CE4544HJOFMONMH2</td>\n",
       "      <td>Follow-Up Boundary</td>\n",
       "      <td>2017-05-07</td>\n",
       "      <td>3026</td>\n",
       "      <td>0</td>\n",
       "      <td>Aaron Hendrickson</td>\n",
       "      <td>AEMLQ09IYM72ACBL</td>\n",
       "    </tr>\n",
       "    <tr>\n",
       "      <th>25616</th>\n",
       "      <td>WFHGWR4PAD04A2GJ</td>\n",
       "      <td>CE4544HJOFMONMH2</td>\n",
       "      <td>Follow-Up Boundary</td>\n",
       "      <td>2016-01-20</td>\n",
       "      <td>5033</td>\n",
       "      <td>0</td>\n",
       "      <td>Aaron Hendrickson</td>\n",
       "      <td>AEMLQ09IYM72ACBL</td>\n",
       "    </tr>\n",
       "    <tr>\n",
       "      <th>...</th>\n",
       "      <td>...</td>\n",
       "      <td>...</td>\n",
       "      <td>...</td>\n",
       "      <td>...</td>\n",
       "      <td>...</td>\n",
       "      <td>...</td>\n",
       "      <td>...</td>\n",
       "      <td>...</td>\n",
       "    </tr>\n",
       "    <tr>\n",
       "      <th>25899</th>\n",
       "      <td>NATK7K3TZUH32BBE</td>\n",
       "      <td>CGDGXAW6GNU6JIEG</td>\n",
       "      <td>Fiftieth Art'S</td>\n",
       "      <td>2015-01-27</td>\n",
       "      <td>6095</td>\n",
       "      <td>1</td>\n",
       "      <td>Aaron Hendrickson</td>\n",
       "      <td>AEMLQ09IYM72ACBL</td>\n",
       "    </tr>\n",
       "    <tr>\n",
       "      <th>25900</th>\n",
       "      <td>EGD6IRB0UML62XB0</td>\n",
       "      <td>CGDGXAW6GNU6JIEG</td>\n",
       "      <td>Fiftieth Art'S</td>\n",
       "      <td>2018-11-04</td>\n",
       "      <td>7652</td>\n",
       "      <td>1</td>\n",
       "      <td>Aaron Hendrickson</td>\n",
       "      <td>AEMLQ09IYM72ACBL</td>\n",
       "    </tr>\n",
       "    <tr>\n",
       "      <th>25901</th>\n",
       "      <td>9Z18A7D1T8EUH58D</td>\n",
       "      <td>CGDGXAW6GNU6JIEG</td>\n",
       "      <td>Fiftieth Art'S</td>\n",
       "      <td>2016-05-08</td>\n",
       "      <td>4746</td>\n",
       "      <td>0</td>\n",
       "      <td>Aaron Hendrickson</td>\n",
       "      <td>AEMLQ09IYM72ACBL</td>\n",
       "    </tr>\n",
       "    <tr>\n",
       "      <th>25902</th>\n",
       "      <td>R0LUW64V2F3O2HSD</td>\n",
       "      <td>CGDGXAW6GNU6JIEG</td>\n",
       "      <td>Fiftieth Art'S</td>\n",
       "      <td>2017-02-16</td>\n",
       "      <td>6158</td>\n",
       "      <td>0</td>\n",
       "      <td>Aaron Hendrickson</td>\n",
       "      <td>AEMLQ09IYM72ACBL</td>\n",
       "    </tr>\n",
       "    <tr>\n",
       "      <th>25903</th>\n",
       "      <td>UMHMBM5M179IHX6D</td>\n",
       "      <td>CGDGXAW6GNU6JIEG</td>\n",
       "      <td>Fiftieth Art'S</td>\n",
       "      <td>2017-07-28</td>\n",
       "      <td>2164</td>\n",
       "      <td>0</td>\n",
       "      <td>Aaron Hendrickson</td>\n",
       "      <td>AEMLQ09IYM72ACBL</td>\n",
       "    </tr>\n",
       "  </tbody>\n",
       "</table>\n",
       "<p>292 rows × 8 columns</p>\n",
       "</div>"
      ],
      "text/plain": [
       "               Order Id        Company Id        Company Name       Date  \\\n",
       "25612  3BJY12LWBN7D0GJL  CE4544HJOFMONMH2  Follow-Up Boundary 2014-09-04   \n",
       "25613  W3HHOSC1H6A1PW37  CE4544HJOFMONMH2  Follow-Up Boundary 2015-09-24   \n",
       "25614  G9JKIZO4WD945GBH  CE4544HJOFMONMH2  Follow-Up Boundary 2014-12-06   \n",
       "25615  BKIJVKZ7REVN6P8B  CE4544HJOFMONMH2  Follow-Up Boundary 2017-05-07   \n",
       "25616  WFHGWR4PAD04A2GJ  CE4544HJOFMONMH2  Follow-Up Boundary 2016-01-20   \n",
       "...                 ...               ...                 ...        ...   \n",
       "25899  NATK7K3TZUH32BBE  CGDGXAW6GNU6JIEG      Fiftieth Art'S 2015-01-27   \n",
       "25900  EGD6IRB0UML62XB0  CGDGXAW6GNU6JIEG      Fiftieth Art'S 2018-11-04   \n",
       "25901  9Z18A7D1T8EUH58D  CGDGXAW6GNU6JIEG      Fiftieth Art'S 2016-05-08   \n",
       "25902  R0LUW64V2F3O2HSD  CGDGXAW6GNU6JIEG      Fiftieth Art'S 2017-02-16   \n",
       "25903  UMHMBM5M179IHX6D  CGDGXAW6GNU6JIEG      Fiftieth Art'S 2017-07-28   \n",
       "\n",
       "        Val  Sale          Sales Rep      Sales Rep Id  \n",
       "25612  1940     0  Aaron Hendrickson  AEMLQ09IYM72ACBL  \n",
       "25613  2109     0  Aaron Hendrickson  AEMLQ09IYM72ACBL  \n",
       "25614  4300     1  Aaron Hendrickson  AEMLQ09IYM72ACBL  \n",
       "25615  3026     0  Aaron Hendrickson  AEMLQ09IYM72ACBL  \n",
       "25616  5033     0  Aaron Hendrickson  AEMLQ09IYM72ACBL  \n",
       "...     ...   ...                ...               ...  \n",
       "25899  6095     1  Aaron Hendrickson  AEMLQ09IYM72ACBL  \n",
       "25900  7652     1  Aaron Hendrickson  AEMLQ09IYM72ACBL  \n",
       "25901  4746     0  Aaron Hendrickson  AEMLQ09IYM72ACBL  \n",
       "25902  6158     0  Aaron Hendrickson  AEMLQ09IYM72ACBL  \n",
       "25903  2164     0  Aaron Hendrickson  AEMLQ09IYM72ACBL  \n",
       "\n",
       "[292 rows x 8 columns]"
      ]
     },
     "execution_count": 18,
     "metadata": {},
     "output_type": "execute_result"
    }
   ],
   "source": [
    "grouped = df.groupby('Sales Rep')\n",
    "grouped\n",
    "type(grouped)\n",
    "grouped.groups\n",
    "grouped.get_group('Aaron Hendrickson')"
   ]
  },
  {
   "cell_type": "code",
   "execution_count": 19,
   "metadata": {},
   "outputs": [
    {
     "data": {
      "text/plain": [
       "Sales Rep\n",
       "Aaron Hendrickson    292\n",
       "Adam Sawyer          324\n",
       "Adele Kimmel         115\n",
       "Adrian Daugherty     369\n",
       "Adrianna Shelton      37\n",
       "                    ... \n",
       "Willie Lin            44\n",
       "Willie Rau            95\n",
       "Willie Sanchez       309\n",
       "Yvonne Jones          74\n",
       "Yvonne Lindsey        67\n",
       "Length: 499, dtype: int64"
      ]
     },
     "execution_count": 19,
     "metadata": {},
     "output_type": "execute_result"
    }
   ],
   "source": [
    "grouped.size()"
   ]
  },
  {
   "cell_type": "code",
   "execution_count": 26,
   "metadata": {},
   "outputs": [
    {
     "data": {
      "text/plain": [
       "Sales Rep\n",
       "Aaron        292\n",
       "Adam         324\n",
       "Adele        115\n",
       "Adrian       369\n",
       "Adrianna      37\n",
       "            ... \n",
       "Wesley       144\n",
       "Wilbert      213\n",
       "William     1393\n",
       "Willie       448\n",
       "Yvonne       141\n",
       "Length: 318, dtype: int64"
      ]
     },
     "execution_count": 26,
     "metadata": {},
     "output_type": "execute_result"
    }
   ],
   "source": [
    "df.groupby(df['Sales Rep'].str.split(' ').str[0]).size()"
   ]
  },
  {
   "cell_type": "code",
   "execution_count": 37,
   "metadata": {},
   "outputs": [
    {
     "data": {
      "text/plain": [
       "Sales Rep\n",
       "False    97111\n",
       "True      2889\n",
       "dtype: int64"
      ]
     },
     "execution_count": 37,
     "metadata": {},
     "output_type": "execute_result"
    }
   ],
   "source": [
    "df.groupby(df['Sales Rep'].apply(lambda x: 'William' in x)).size()"
   ]
  }
 ],
 "metadata": {
  "kernelspec": {
   "display_name": "Python 3",
   "language": "python",
   "name": "python3"
  },
  "language_info": {
   "codemirror_mode": {
    "name": "ipython",
    "version": 3
   },
   "file_extension": ".py",
   "mimetype": "text/x-python",
   "name": "python",
   "nbconvert_exporter": "python",
   "pygments_lexer": "ipython3",
   "version": "3.10.0"
  },
  "orig_nbformat": 4,
  "vscode": {
   "interpreter": {
    "hash": "369f2c481f4da34e4445cda3fffd2e751bd1c4d706f27375911949ba6bb62e1c"
   }
  }
 },
 "nbformat": 4,
 "nbformat_minor": 2
}
