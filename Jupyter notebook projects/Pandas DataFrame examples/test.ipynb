{
 "cells": [
  {
   "cell_type": "code",
   "execution_count": 12,
   "metadata": {},
   "outputs": [
    {
     "name": "stdout",
     "output_type": "stream",
     "text": [
      "True\n",
      "False\n"
     ]
    }
   ],
   "source": [
    "class Student:\n",
    "    def check_pass_fail(self):\n",
    "        if self.marks >= 40:\n",
    "            return True\n",
    "        else:\n",
    "            return False\n",
    "\n",
    "student1 = Student()\n",
    "student1.name = \"John\"\n",
    "student1.marks = 70\n",
    "\n",
    "student2 = Student()\n",
    "student2.name = \"Peter\"\n",
    "student2.marks = 30\n",
    "\n",
    "result = student1.check_pass_fail()\n",
    "print(result)\n",
    "\n",
    "result = student2.check_pass_fail()\n",
    "print(result)"
   ]
  },
  {
   "cell_type": "code",
   "execution_count": 11,
   "metadata": {},
   "outputs": [
    {
     "name": "stdout",
     "output_type": "stream",
     "text": [
      "Frank 89\n",
      "False\n"
     ]
    }
   ],
   "source": [
    "class Student:\n",
    "    def __init__(self, name, marks):\n",
    "        self.name = name\n",
    "        self.marks = marks\n",
    "    def check_pass_fail(self):\n",
    "        if self.marks >= 40:\n",
    "            return True\n",
    "        else:\n",
    "            return False\n",
    "\n",
    "student1 = Student(\"Frank\", 89)\n",
    "student2 = Student(\"Oscar\", 20)\n",
    "print(student1.name, student1.marks)\n",
    "\n",
    "result = student2.check_pass_fail()\n",
    "print(result)"
   ]
  },
  {
   "cell_type": "code",
   "execution_count": 19,
   "metadata": {},
   "outputs": [
    {
     "name": "stdout",
     "output_type": "stream",
     "text": [
      "The perimeter of the t1 triangle is 12\n"
     ]
    }
   ],
   "source": [
    "class Triangle():\n",
    "    def __init__ (self, a, b, c):\n",
    "        self.a = a\n",
    "        self.b = b\n",
    "        self.c = c\n",
    "    def get_perimeter(self):\n",
    "        result = self.a + self.b + self.c\n",
    "        return result\n",
    "\n",
    "t1 = Triangle(3, 4, 5)\n",
    "result = t1.get_perimeter()\n",
    "print(\"The perimeter of the t1 triangle is\", result)"
   ]
  },
  {
   "cell_type": "code",
   "execution_count": 35,
   "metadata": {},
   "outputs": [
    {
     "name": "stdout",
     "output_type": "stream",
     "text": [
      "S.H\n",
      "P.F\n"
     ]
    }
   ],
   "source": [
    "# codewars Abbreviate a Two Word Name\n",
    "\n",
    "class abbrev_name():\n",
    "    def __init__(self, name, surname):\n",
    "        self.name = name\n",
    "        self.surname = surname\n",
    "    def initials(self):\n",
    "        result = self.name[:1].upper() + \".\" + self.surname[:1].upper()\n",
    "        return result\n",
    "\n",
    "name1 = abbrev_name(\"Sam\", \"Harris\")\n",
    "print(name1.initials())\n",
    "\n",
    "name2 = abbrev_name(\"patrick\", \"feeney\")\n",
    "print(name2.initials())"
   ]
  },
  {
   "cell_type": "code",
   "execution_count": 95,
   "metadata": {},
   "outputs": [
    {
     "name": "stdout",
     "output_type": "stream",
     "text": [
      "[1 3 1 1 0 0 1]\n"
     ]
    }
   ],
   "source": [
    "import math\n",
    "import numpy as np\n",
    "\n",
    "def histogram(values, bin_width):\n",
    "    return\n",
    "\n",
    "values = [1, 1, 0, 1, 3, 2, 6] \n",
    "bin_width = 1\n",
    "\n",
    "values.sort()\n",
    "max_val = max(values)\n",
    "bin_count = math.ceil(max_val/bin_width)\n",
    "\n",
    "bins = [0]\n",
    "y = 0\n",
    "for x in range(bin_count+1):\n",
    "    y = y + bin_width\n",
    "    bins.append(y)\n",
    "\n",
    "result = np.histogram(values, bins)[0]\n",
    "print(result)"
   ]
  },
  {
   "cell_type": "code",
   "execution_count": 76,
   "metadata": {},
   "outputs": [
    {
     "data": {
      "text/plain": [
       "(array([4, 2, 0, 1], dtype=int64), array([0, 2, 4, 6, 8]))"
      ]
     },
     "execution_count": 76,
     "metadata": {},
     "output_type": "execute_result"
    }
   ],
   "source": []
  }
 ],
 "metadata": {
  "kernelspec": {
   "display_name": "base",
   "language": "python",
   "name": "python3"
  },
  "language_info": {
   "codemirror_mode": {
    "name": "ipython",
    "version": 3
   },
   "file_extension": ".py",
   "mimetype": "text/x-python",
   "name": "python",
   "nbconvert_exporter": "python",
   "pygments_lexer": "ipython3",
   "version": "3.7.7 (default, May  6 2020, 11:45:54) [MSC v.1916 64 bit (AMD64)]"
  },
  "orig_nbformat": 4,
  "vscode": {
   "interpreter": {
    "hash": "19d1d53a962d236aa061289c2ac16dc8e6d9648c89fe79f459ae9a3493bc67b4"
   }
  }
 },
 "nbformat": 4,
 "nbformat_minor": 2
}
