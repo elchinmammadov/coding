{
 "cells": [
  {
   "cell_type": "code",
   "execution_count": 61,
   "metadata": {},
   "outputs": [],
   "source": [
    "author1 = input(\"enter author's full name (name and surname)\")\n",
    "author2 = input(\"enter author's full name (name and surname)\")\n",
    "author3 = input(\"enter author's full name (name and surname)\")\n",
    "author4 = input(\"enter author's full name (name and surname)\")\n",
    "title = input(\"enter title\")\n",
    "organisation = input(\"enter name of organisation\")\n",
    "year = input(\"enter year of publication\")\n",
    "month = int(input(\"enter month of publication as a number\"))\n",
    "day = input(\"enter day of publication\")\n",
    "\n",
    "authors_list = [author1, author2, author3, author4] # to store all authors\n",
    "\n",
    "def month_func(month): # change month number to month name\n",
    "    if month == 1:\n",
    "        month = \"Jan.\"\n",
    "    elif month == 2:\n",
    "        month = \"Feb.\"\n",
    "    elif month == 3:\n",
    "        month = \"Mar.\"\n",
    "    elif month == 4:\n",
    "        month = \"Apr.\"\n",
    "    elif month == 5:\n",
    "        month = \"May.\"\n",
    "    elif month == 6:\n",
    "        month = \"Jun.\"\n",
    "    elif month == 7:\n",
    "        month = \"Jul.\"\n",
    "    elif month == 8:\n",
    "        month = \"Aug.\"\n",
    "    elif month == 9:\n",
    "        month = \"Sep.\"\n",
    "    elif month == 10:\n",
    "        month = \"Oct.\"\n",
    "    elif month == 11:\n",
    "        month = \"Nov.\"\n",
    "    elif month == 12:\n",
    "        month = \"Dec.\"\n",
    "    else:\n",
    "        month = \"error\"\n",
    "    return month\n",
    "\n",
    "month_shortened = month_func(month)"
   ]
  },
  {
   "cell_type": "code",
   "execution_count": 63,
   "metadata": {},
   "outputs": [],
   "source": [
    "def author_func(authors_list):\n",
    "    author = \"\"\n",
    "    for x in authors_list:\n",
    "        if x != \"\":\n",
    "            author = author + str(x).split(\" \")[1] + \", \" + str(x).split(\" \")[0] + \", \"\n",
    "    author = author[:-2] # remove last 2 characters from the string\n",
    "    return author\n",
    "\n",
    "author = author_func(authors_list)"
   ]
  },
  {
   "cell_type": "code",
   "execution_count": 65,
   "metadata": {},
   "outputs": [
    {
     "name": "stdout",
     "output_type": "stream",
     "text": [
      "Smith, John, Mammadov, Elchin. \"My cool title.\" Dec., 2020.\n"
     ]
    }
   ],
   "source": [
    "def combine_func(author, title, month_shortened):\n",
    "    combined_list = [] # create a list to store author, title, etc\n",
    "    combined_list.append(author + \". \")\n",
    "    combined_list.append('\"' + title + '.\" ')\n",
    "    if day != \"\":\n",
    "        combined_list.append(month_shortened + \" \")\n",
    "    else:\n",
    "        combined_list.append(month_shortened + \"\")\n",
    "    combined_list.append(day)\n",
    "    combined_list.append(\", \" + year + \".\")\n",
    "    combined_list = \"\".join(combined_list) # convert list to string\n",
    "    return combined_list\n",
    "\n",
    "\n",
    "citation = combine_func(author, title, month_shortened)\n",
    "print(citation)\n"
   ]
  }
 ],
 "metadata": {
  "kernelspec": {
   "display_name": "Python 3",
   "language": "python",
   "name": "python3"
  },
  "language_info": {
   "codemirror_mode": {
    "name": "ipython",
    "version": 3
   },
   "file_extension": ".py",
   "mimetype": "text/x-python",
   "name": "python",
   "nbconvert_exporter": "python",
   "pygments_lexer": "ipython3",
   "version": "3.10.0"
  },
  "orig_nbformat": 4,
  "vscode": {
   "interpreter": {
    "hash": "369f2c481f4da34e4445cda3fffd2e751bd1c4d706f27375911949ba6bb62e1c"
   }
  }
 },
 "nbformat": 4,
 "nbformat_minor": 2
}
