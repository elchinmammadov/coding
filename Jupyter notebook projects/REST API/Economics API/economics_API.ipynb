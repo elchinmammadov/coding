{
 "cells": [
  {
   "cell_type": "code",
   "execution_count": 2,
   "metadata": {},
   "outputs": [],
   "source": [
    "import pandas as pd\n",
    "import fredapi as fa # to import data from Federal Reserve API\n",
    "import wbgapi as wb # to import data from World Bank API\n",
    "import plotly.express as px # to chart the data"
   ]
  },
  {
   "attachments": {},
   "cell_type": "markdown",
   "metadata": {},
   "source": [
    "#### Federal Reserve API"
   ]
  },
  {
   "cell_type": "code",
   "execution_count": 268,
   "metadata": {},
   "outputs": [
    {
     "data": {
      "text/plain": [
       "2021-07-01    19672.594\n",
       "2021-10-01    20006.181\n",
       "2022-01-01    19924.088\n",
       "2022-04-01    19895.271\n",
       "2022-07-01    20039.406\n",
       "dtype: float64"
      ]
     },
     "execution_count": 268,
     "metadata": {},
     "output_type": "execute_result"
    }
   ],
   "source": [
    "# Downloads data from Federal Reserve API\n",
    "\n",
    "fred = fa.Fred(api_key=\"afaf79e2dc5aa8fa23e422406368e64a\")\n",
    "\n",
    "# comparable datasets\n",
    "real_gdp_capita_US_USD_NSA_A = fred.get_series('NYGDPPCAPKDUSA') # Constant GDP per capita for the United States (2010 U.S. Dollars, Not Seasonally Adjusted)\n",
    "real_gdp_capita_UK_USD_NSA_A = fred.get_series('NYGDPPCAPKDGBR') # Constant GDP per capita for the United Kingdom (2010 U.S. Dollars, Not Seasonally Adjusted)\n",
    "nominal_gdp_US_USD_A = fred.get_series('MKTGDPUSA646NWDB') # Gross Domestic Product for United States\n",
    "nominal_gdp_UK_USD_A = fred.get_series('MKTGDPGBA646NWDB') # Gross Domestic Product for United Kingdom\n",
    "nominal_gdp_US_NSA_Q = fred.get_series('NA000334Q') # Gross Domestic Product for United States\n",
    "nominal_gdp_UK_NSA_Q = fred.get_series('CPMNACNSAB1GQUK') # Gross Domestic Product for United Kingdom\n",
    "CPI_US_YoY_NSA_M = fred.get_series('CPALTT01USM659N') # Consumer Price Index: Total All Items for the United States \n",
    "CPI_UK_YoY_NSA_M = fred.get_series('CPALTT01GBM659N') # Consumer Price Index: Total All Items for the United Kingdom\n",
    "unemp_US_SA_M = fred.get_series('UNRATE') # unemployment rate in the United States\n",
    "unemp_UK_SA_M = fred.get_series('AURUKM') # Unemployment Rate in the United Kingdom\n",
    "population_US_NSA_A = fred.get_series('POPTHM') # Population in the United States\n",
    "population_UK_NSA_A = fred.get_series('POPUKA') # Population in the United Kingdom\n",
    "gov_debt_to_gdp_US_NSA_A = fred.get_series('GGGDTAUSA188N') # General government gross debt for United States\n",
    "gov_debt_to_gdp_UK_NSA_A = fred.get_series('GGGDTAGBA188N') # General government gross debt for United Kingdom\n",
    "house_debt_to_gdp_US_NSA_Q = fred.get_series('HDTGPDUSQ163N') # Household Debt to GDP for United States\n",
    "house_debt_to_gdp_UK_NSA_Q = fred.get_series('HDTGPDGBQ163N') # Household Debt to GDP for United Kingdom\n",
    "# non-comparable datasets\n",
    "real_gdp_US_SA_Q = fred.get_series('GDPC1') # Real Gross Domestic Product for United States (Billions of Chained 2012 Dollars, Seasonally Adjusted Annual Rate)\n",
    "real_gdp_UK_SA_Q = fred.get_series('NGDPRSAXDCGBQ') # Real Gross Domestic Product for Great Britain (Domestic Currency, Seasonally Adjusted)\n",
    "ind_prod_US_SA_M = fred.get_series('INDPRO') # Industrial Production: Total Index in the United States (Index 2017=100, Seasonally Adjusted)\n",
    "ind_prod_UK_SA_M = fred.get_series('GBRPROINDMISMEI') # Production of Total Industry in the United Kingdom (Index 2015=100, Seasonally Adjusted)\n",
    "\n",
    "# current account balance\n",
    "# FDI\n",
    "\n",
    "real_gdp_US_SA_Q.tail()"
   ]
  },
  {
   "cell_type": "code",
   "execution_count": 269,
   "metadata": {},
   "outputs": [
    {
     "data": {
      "text/html": [
       "<div>\n",
       "<style scoped>\n",
       "    .dataframe tbody tr th:only-of-type {\n",
       "        vertical-align: middle;\n",
       "    }\n",
       "\n",
       "    .dataframe tbody tr th {\n",
       "        vertical-align: top;\n",
       "    }\n",
       "\n",
       "    .dataframe thead th {\n",
       "        text-align: right;\n",
       "    }\n",
       "</style>\n",
       "<table border=\"1\" class=\"dataframe\">\n",
       "  <thead>\n",
       "    <tr style=\"text-align: right;\">\n",
       "      <th></th>\n",
       "      <th>ind_prod_US_SA_M</th>\n",
       "      <th>ind_prod_UK_SA_M</th>\n",
       "    </tr>\n",
       "  </thead>\n",
       "  <tbody>\n",
       "    <tr>\n",
       "      <th>2022-04-01</th>\n",
       "      <td>104.2709</td>\n",
       "      <td>113.229572</td>\n",
       "    </tr>\n",
       "    <tr>\n",
       "      <th>2022-05-01</th>\n",
       "      <td>104.1646</td>\n",
       "      <td>113.654050</td>\n",
       "    </tr>\n",
       "    <tr>\n",
       "      <th>2022-06-01</th>\n",
       "      <td>104.0772</td>\n",
       "      <td>113.335692</td>\n",
       "    </tr>\n",
       "    <tr>\n",
       "      <th>2022-07-01</th>\n",
       "      <td>104.7577</td>\n",
       "      <td>112.062257</td>\n",
       "    </tr>\n",
       "    <tr>\n",
       "      <th>2022-08-01</th>\n",
       "      <td>104.6544</td>\n",
       "      <td>110.045985</td>\n",
       "    </tr>\n",
       "  </tbody>\n",
       "</table>\n",
       "</div>"
      ],
      "text/plain": [
       "            ind_prod_US_SA_M  ind_prod_UK_SA_M\n",
       "2022-04-01          104.2709        113.229572\n",
       "2022-05-01          104.1646        113.654050\n",
       "2022-06-01          104.0772        113.335692\n",
       "2022-07-01          104.7577        112.062257\n",
       "2022-08-01          104.6544        110.045985"
      ]
     },
     "execution_count": 269,
     "metadata": {},
     "output_type": "execute_result"
    }
   ],
   "source": [
    "ind_prod_US_SA_M.name = 'ind_prod_US_SA_M'\n",
    "ind_prod_UK_SA_M.name = 'ind_prod_UK_SA_M'\n",
    "\n",
    "df = pd.merge(ind_prod_US_SA_M, ind_prod_UK_SA_M, how='inner', left_index=True, right_index=True) # merge data for 2 countries into a single DataFrame only for rows for which both countries have data\n",
    "df.tail()"
   ]
  },
  {
   "attachments": {},
   "cell_type": "markdown",
   "metadata": {},
   "source": [
    "#### World Bank API"
   ]
  },
  {
   "cell_type": "code",
   "execution_count": 80,
   "metadata": {},
   "outputs": [],
   "source": [
    "# Downloads data from World Bank API. \n",
    "# Documentation is here: https://github.com/tgherzog/wbgapi\n",
    "\n",
    "\n",
    "# find the right data to import:\n",
    "\n",
    "# wb.source.info() # shows names of World Bank databases.\n",
    "# wb.series.info() # shows all world bank indicators (e.g. 'EG.ELC.ACCS.ZS'). By defaults, it shows all indicators in World Development Indicators (WDI) database.\n",
    "# wb.series.info(q=\"GDP\") # to search for a specific indicator in World Bank API using a keyword\n",
    "# wb.economy.info() # shows names and codes of countries and economies and codes for their region & income levels in World Bank databases\n",
    "# wb.economy.info(q=\"Azerbaijan\") # to search for a specific country/economy in WB API using a keyword\n",
    "# wb.region.info() # shows names of geographic regions in World Bank databases\n",
    "# wb.income.info() # shows income groups in World Bank databases\n",
    "# wb.search('NY.GDP.MKTP.CD') # deeper search on all meta data \n",
    "# wb.series.metadata.get('EG.ELC.ACCS.ZS') # search for metadata for a specific indicator in World Bank API\n",
    "# wb.economy.metadata.get('FRA') # search for metadata for a specific country in World Bank API\n",
    "\n",
    "\n",
    "# summary of key indicators saved as dictionary:\n",
    "\n",
    "# mydict = {\n",
    "# # economic indicators\n",
    "# 'NY.GDP.MKTP.CD' : 'GDP (current US$)',\n",
    "# 'NY.GDP.MKTP.KD.ZG' : 'GDP growth (annual %)',\n",
    "# 'NY.GDP.PCAP.CD' : 'GDP per capita (current US$)',\n",
    "# 'NY.GDP.PCAP.KD.ZG' : 'GDP per capita growth (annual %)',\n",
    "# 'FP.CPI.TOTL.ZG' : 'Inflation, consumer prices (annual %)',\n",
    "# 'SL.UEM.TOTL.ZS' : 'Unemployment, total (% of total labor force)',\n",
    "# 'GC.DOD.TOTL.GD.ZS' : 'Central government debt, total (% of GDP)',\n",
    "# 'BX.KLT.DINV.WD.GD.ZS' : 'Foreign direct investment, net inflows (% of GDP)',\n",
    "# 'BN.GSR.GNFS.CD' : 'Net trade in goods and services (BoP, current US$)',\n",
    "# 'NE.EXP.GNFS.ZS': 'Exports of goods and services (% of GDP)',\n",
    "# 'SL.TLF.CACT.ZS' : 'Labor force participation rate, total (% of total population ages 15+)',\n",
    "# 'SI.DST.50MD' : 'Proportion of people living below 50 percent of median income (%)',\n",
    "# 'MS.MIL.XPND.GD.ZS' : 'Military expenditure (% of GDP)',\n",
    "# 'SE.XPD.TOTL.GB.ZS' : 'Government expenditure on education, total (% of government expenditure)',\n",
    "# # social indicators\n",
    "# 'SP.POP.TOTL' : 'Population, total',\n",
    "# 'SP.URB.TOTL.IN.ZS' : 'Urban population (% of total population)',\n",
    "# 'SP.POP.TOTL.FE.ZS' : 'Population, female (% of total population)',\n",
    "# 'SL.EMP.SMGT.FE.ZS' : 'Female share of employment in senior and middle management (%)',\n",
    "# 'SP.DYN.LE00.IN' : 'Life expectancy at birth, total (years)',\n",
    "# 'VC.IHR.PSRC.P5' : 'Intentional homicides (per 100,000 people)',\n",
    "# 'HD.HCI.OVRL' : 'Human Capital Index (HCI) (scale 0-1)',\n",
    "# 'EG.ELC.ACCS.ZS' : 'Access to electricity (% of population)',\n",
    "# 'IT.NET.USER.ZS' : 'Individuals using the Internet (% of population)',\n",
    "# 'IT.NET.BBND.P2' : 'Fixed broadband subscriptions (per 100 people)',\n",
    "# 'SH.STA.SMSS.ZS' : 'People using safely managed sanitation services (% of population)',\n",
    "# 'SN.ITK.DEFC.ZS' : 'Prevalence of undernourishment (% of population)',\n",
    "# # environmental  indicators\n",
    "# 'EN.ATM.CO2E.PC' : 'CO2 emissions (metric tons per capita)',\n",
    "# 'EG.ELC.RNWX.ZS' : 'Electricity production from renewable sources, excluding hydroelectric (% of total)',\n",
    "# 'EG.USE.COMM.CL.ZS' : 'Alternative and nuclear energy (% of total energy use)',\n",
    "# 'EG.USE.ELEC.KH.PC' : 'Electric power consumption (kWh per capita)',\n",
    "# 'ER.H2O.FWTL.ZS' : 'Annual freshwater withdrawals, total (% of internal resources)',\n",
    "# 'AG.LND.FRST.ZS' : 'Forest area (% of land area)'\n",
    "# }\n",
    "\n",
    "\n",
    "# sample queries to download data via API\n",
    "\n",
    "#df = wb.data.DataFrame(['NY.GDP.PCAP.CD', 'SP.POP.TOTL'], ('USA', 'AZE', 'WLD'), mrv=30, numericTimeKeys=True)\n",
    "#df = wb.data.DataFrame(['NY.GDP.PCAP.CD', 'SP.POP.TOTL'], ('USA', 'AZE', 'WLD'), time=range(2010,2020), index='time', numericTimeKeys=True, labels=True)\n",
    "#df = wb.data.DataFrame(['NY.GDP.PCAP.CD', 'SP.POP.TOTL'], ('USA', 'AZE', 'WLD'), time=2020, labels=True)\n",
    "#df = wb.data.DataFrame(['NY.GDP.PCAP.CD', 'SP.POP.TOTL'], wb.region.members('EUU', 'AFR'), time=(1999,2020), labels=True)"
   ]
  },
  {
   "cell_type": "code",
   "execution_count": 53,
   "metadata": {},
   "outputs": [
    {
     "name": "stdout",
     "output_type": "stream",
     "text": [
      "You selected Time series\n",
      "You selected 1960\n",
      "You selected 2021\n",
      "You selected Region\n",
      "You selected  ['EUU']\n",
      "You selected Unranked\n",
      "You selected  ['NY.GDP.MKTP.CD'] gdp\n",
      "You selected Line chart: percent change\n"
     ]
    },
    {
     "data": {
      "application/vnd.plotly.v1+json": {
       "config": {
        "plotlyServerURL": "https://plot.ly"
       },
       "data": [
        {
         "hovertemplate": "Country=Finland<br>Year=%{x}<br>Values=%{y}<extra></extra>",
         "legendgroup": "Finland",
         "line": {
          "color": "#636efa",
          "dash": "solid"
         },
         "marker": {
          "symbol": "circle"
         },
         "mode": "lines",
         "name": "Finland",
         "orientation": "v",
         "showlegend": true,
         "type": "scatter",
         "x": [
          1961,
          1962,
          1963,
          1964,
          1965,
          1966,
          1967,
          1968,
          1969,
          1970,
          1971,
          1972,
          1973,
          1974,
          1975,
          1976,
          1977,
          1978,
          1979,
          1980,
          1981,
          1982,
          1983,
          1984,
          1985,
          1986,
          1987,
          1988,
          1989,
          1990,
          1991,
          1992,
          1993,
          1994,
          1995,
          1996,
          1997,
          1998,
          1999,
          2000,
          2001,
          2002,
          2003,
          2004,
          2005,
          2006,
          2007,
          2008,
          2009,
          2010,
          2011,
          2012,
          2013,
          2014,
          2015,
          2016,
          2017,
          2018,
          2019,
          2020
         ],
         "xaxis": "x",
         "y": [
          0.13352673117733027,
          0.21371684876663077,
          0.31810597705320953,
          0.48669662175345985,
          0.6441753429676542,
          0.7626999166976756,
          0.7934094050330494,
          0.6889091273679941,
          0.9277507107580243,
          1.174061027608826,
          1.3980016171303764,
          1.8221473409335789,
          2.727408603012255,
          3.7565726244292597,
          4.641662842567159,
          5.096648300375015,
          5.412546705137654,
          5.940170565546585,
          7.511559311420241,
          9.268788858805598,
          9.039683549638518,
          9.106537039312128,
          8.757375524491698,
          9.123998147475037,
          9.695782988320282,
          13.07544259264386,
          16.533108726442812,
          19.87612123167252,
          21.78134125559983,
          26.074191931965018,
          23.45852933259091,
          20.54102562205268,
          16.077406101358537,
          18.773721726431358,
          24.686674914149517,
          24.292226160897886,
          23.293581433065185,
          24.657751949378774,
          24.892311941080706,
          23.122717875086334,
          23.795285862267924,
          25.876285139164505,
          31.857791047112485,
          36.80160429254443,
          38.21927386140743,
          40.55532599986493,
          48.076005437190766,
          53.69194522674487,
          47.524609845023946,
          46.74491414624243,
          51.75631024279303,
          48.44199989978241,
          50.944314206352836,
          51.61436635130584,
          43.89467732571313,
          45.08856073010105,
          47.93625169418167,
          51.77750648349459,
          50.39796085064275,
          51.0351541327299
         ],
         "yaxis": "y"
        },
        {
         "hovertemplate": "Country=Portugal<br>Year=%{x}<br>Values=%{y}<extra></extra>",
         "legendgroup": "Portugal",
         "line": {
          "color": "#EF553B",
          "dash": "solid"
         },
         "marker": {
          "symbol": "circle"
         },
         "mode": "lines",
         "name": "Portugal",
         "orientation": "v",
         "showlegend": true,
         "type": "scatter",
         "x": [
          1961,
          1962,
          1963,
          1964,
          1965,
          1966,
          1967,
          1968,
          1969,
          1970,
          1971,
          1972,
          1973,
          1974,
          1975,
          1976,
          1977,
          1978,
          1979,
          1980,
          1981,
          1982,
          1983,
          1984,
          1985,
          1986,
          1987,
          1988,
          1989,
          1990,
          1991,
          1992,
          1993,
          1994,
          1995,
          1996,
          1997,
          1998,
          1999,
          2000,
          2001,
          2002,
          2003,
          2004,
          2005,
          2006,
          2007,
          2008,
          2009,
          2010,
          2011,
          2012,
          2013,
          2014,
          2015,
          2016,
          2017,
          2018,
          2019,
          2020
         ],
         "xaxis": "x",
         "y": [
          0.07024809175640745,
          0.1487604575752668,
          0.2231410388080155,
          0.3264460858361755,
          0.467951729060049,
          0.6082259788450342,
          0.7976451330061467,
          0.989935432687983,
          1.182458018007531,
          1.5392191774808865,
          1.8816244128246473,
          2.519703257488518,
          3.7258431277162636,
          4.484275729122676,
          5.059002064712713,
          5.367540082088689,
          5.714117686216362,
          6.355508917927442,
          7.337346956261225,
          9.302053005736166,
          9.014177885350538,
          8.56023766980975,
          7.530517127782993,
          6.897396297157053,
          7.491733780614959,
          11.133877128615172,
          14.089227031107212,
          16.646011386950008,
          17.975975356681694,
          23.650460431099216,
          26.944879111338295,
          32.69412648193161,
          28.753770471514056,
          30.219036916013135,
          35.99173007376809,
          37.40350562161167,
          35.6455343681844,
          37.81570594396646,
          38.91931899501766,
          36.143047055537934,
          37.0822033588824,
          41.21331218824269,
          50.74312746250496,
          58.30793515897629,
          60.77309649428488,
          64.37530465985277,
          74.31508106664099,
          81.49291033013306,
          75.62148686329851,
          73.56876270815857,
          75.76248252585962,
          66.71395878625279,
          69.91125808941437,
          70.99734908809413,
          61.44332997464776,
          63.645536191915184,
          68.32163556530577,
          74.88409303911155,
          74.15560949768415,
          70.57059254169108
         ],
         "yaxis": "y"
        },
        {
         "hovertemplate": "Country=Netherlands<br>Year=%{x}<br>Values=%{y}<extra></extra>",
         "legendgroup": "Netherlands",
         "line": {
          "color": "#00cc96",
          "dash": "solid"
         },
         "marker": {
          "symbol": "circle"
         },
         "mode": "lines",
         "name": "Netherlands",
         "orientation": "v",
         "showlegend": true,
         "type": "scatter",
         "x": [
          1961,
          1962,
          1963,
          1964,
          1965,
          1966,
          1967,
          1968,
          1969,
          1970,
          1971,
          1972,
          1973,
          1974,
          1975,
          1976,
          1977,
          1978,
          1979,
          1980,
          1981,
          1982,
          1983,
          1984,
          1985,
          1986,
          1987,
          1988,
          1989,
          1990,
          1991,
          1992,
          1993,
          1994,
          1995,
          1996,
          1997,
          1998,
          1999,
          2000,
          2001,
          2002,
          2003,
          2004,
          2005,
          2006,
          2007,
          2008,
          2009,
          2010,
          2011,
          2012,
          2013,
          2014,
          2015,
          2016,
          2017,
          2018,
          2019,
          2020
         ],
         "xaxis": "x",
         "y": [
          0.09913870829587368,
          0.1930744092715715,
          0.2944192782497128,
          0.5231559524900973,
          0.7106004446165561,
          0.8626454720671601,
          1.043504553382831,
          1.2658799443998165,
          1.7723941992308494,
          2.108702696508227,
          2.6311874299917717,
          3.45611646368381,
          4.851793209594981,
          6.106402417096508,
          7.165813639677209,
          7.892325849031726,
          9.346154639532692,
          11.695533948413313,
          13.634951215201747,
          14.896091739622037,
          12.369534175751635,
          11.908932108047042,
          11.498883158691811,
          10.722389858013562,
          10.716945296797764,
          15.3611993943328,
          18.960219671431375,
          20.333890980018644,
          20.042787290813433,
          24.929576014156194,
          25.676502324238488,
          28.56509989487478,
          27.79838927167538,
          29.88201267599425,
          35.84218197643061,
          35.694628210069254,
          32.95143481662629,
          34.67791028590446,
          35.41436857583793,
          33.005732436078276,
          34.15485847621519,
          37.598374244230136,
          46.249565932692036,
          52.62827542868249,
          54.824958976014095,
          58.78424388856047,
          68.11926866273564,
          76.53446352439613,
          69.98945255579812,
          68.02331248188179,
          72.7387169619804,
          67.33440458678625,
          70.45001367946824,
          71.67144292677645,
          61.359643851805565,
          62.865554083839896,
          66.92275779525086,
          73.4533053634194,
          73.13977812099252,
          73.43880294060683
         ],
         "yaxis": "y"
        },
        {
         "hovertemplate": "Country=Belgium<br>Year=%{x}<br>Values=%{y}<extra></extra>",
         "legendgroup": "Belgium",
         "line": {
          "color": "#ab63fa",
          "dash": "solid"
         },
         "marker": {
          "symbol": "circle"
         },
         "mode": "lines",
         "name": "Belgium",
         "orientation": "v",
         "showlegend": true,
         "type": "scatter",
         "x": [
          1961,
          1962,
          1963,
          1964,
          1965,
          1966,
          1967,
          1968,
          1969,
          1970,
          1971,
          1972,
          1973,
          1974,
          1975,
          1976,
          1977,
          1978,
          1979,
          1980,
          1981,
          1982,
          1983,
          1984,
          1985,
          1986,
          1987,
          1988,
          1989,
          1990,
          1991,
          1992,
          1993,
          1994,
          1995,
          1996,
          1997,
          1998,
          1999,
          2000,
          2001,
          2002,
          2003,
          2004,
          2005,
          2006,
          2007,
          2008,
          2009,
          2010,
          2011,
          2012,
          2013,
          2014,
          2015,
          2016,
          2017,
          2018,
          2019,
          2020
         ],
         "xaxis": "x",
         "y": [
          0.0635938135433447,
          0.13769030627505363,
          0.22312005245493305,
          0.36894128461443665,
          0.4899966503502087,
          0.5998222212521982,
          0.7147711194285895,
          0.8335073115124041,
          1.033733602429665,
          1.290662277823814,
          1.557884162451772,
          2.191551881272936,
          3.0951142904173485,
          3.8061078254269436,
          4.633394961129595,
          5.0996290470591354,
          6.105401540530513,
          7.684186917071479,
          8.976689632087828,
          9.878491481237084,
          7.982975420580523,
          6.89931533826064,
          6.478026719722403,
          6.149113422047365,
          6.399461088048254,
          9.29433424740417,
          11.813959929138619,
          12.920830726402881,
          13.085681791414183,
          16.61185638866936,
          17.056094719332155,
          19.137853921330716,
          18.274992946707787,
          20.00437055432191,
          23.704729540341546,
          22.94785801323776,
          20.67544938552143,
          21.174671162587124,
          21.15043125059373,
          19.310326321295875,
          19.306353441099134,
          21.162256401473943,
          26.282794150399116,
          30.668539118388455,
          32.08379277573034,
          34.0175448195612,
          39.392260184094894,
          43.37262177589467,
          40.4500102671005,
          40.29276420703661,
          43.887452296237754,
          41.556367222268406,
          43.75541905854303,
          44.92185772948865,
          38.655765992646785,
          39.833183364773944,
          42.1234825798923,
          45.604365426642744,
          44.920661887985155,
          43.74563470081964
         ],
         "yaxis": "y"
        },
        {
         "hovertemplate": "Country=Sweden<br>Year=%{x}<br>Values=%{y}<extra></extra>",
         "legendgroup": "Sweden",
         "line": {
          "color": "#FFA15A",
          "dash": "solid"
         },
         "marker": {
          "symbol": "circle"
         },
         "mode": "lines",
         "name": "Sweden",
         "orientation": "v",
         "showlegend": true,
         "type": "scatter",
         "x": [
          1961,
          1962,
          1963,
          1964,
          1965,
          1966,
          1967,
          1968,
          1969,
          1970,
          1971,
          1972,
          1973,
          1974,
          1975,
          1976,
          1977,
          1978,
          1979,
          1980,
          1981,
          1982,
          1983,
          1984,
          1985,
          1986,
          1987,
          1988,
          1989,
          1990,
          1991,
          1992,
          1993,
          1994,
          1995,
          1996,
          1997,
          1998,
          1999,
          2000,
          2001,
          2002,
          2003,
          2004,
          2005,
          2006,
          2007,
          2008,
          2009,
          2010,
          2011,
          2012,
          2013,
          2014,
          2015,
          2016,
          2017,
          2018,
          2019,
          2020
         ],
         "xaxis": "x",
         "y": [
          0.08785552917215034,
          0.17978518304446833,
          0.2769639465907907,
          0.42406671869340373,
          0.5670953660958422,
          0.7046194720426413,
          0.8502662878766976,
          0.9634478097832804,
          1.1322749987161815,
          1.4074733666961379,
          1.6270304652749519,
          2.0939410788409414,
          2.754441297560467,
          3.1720956989418,
          4.238423269310995,
          4.647754237583312,
          4.9704998046156,
          5.6008399386774395,
          6.798119580263417,
          7.980332099916783,
          7.196317981424981,
          6.2289425203374895,
          5.636991139181792,
          5.901613254064913,
          6.212698641822279,
          8.511597340400309,
          10.566355179165509,
          12.08172299667538,
          12.774507462722791,
          15.548888436575503,
          16.33149379382509,
          16.96932138403959,
          12.458820801798462,
          13.475104170955897,
          15.893944617384662,
          17.438441689078154,
          15.947050315021801,
          16.115349116850524,
          16.321580628900705,
          15.611410449626522,
          14.319611301189521,
          15.865073644375478,
          20.130378608337022,
          23.339767747193246,
          23.788496193666898,
          25.739842859174708,
          30.047555641164603,
          31.719441741194345,
          26.589487644856945,
          30.335749360244797,
          35.283206047208736,
          33.91741242726151,
          36.08887141712816,
          35.78059027662899,
          30.92296203672784,
          31.589786711545536,
          33.19281669973811,
          34.10522271224218,
          32.74161226218931,
          33.222420061291615
         ],
         "yaxis": "y"
        },
        {
         "hovertemplate": "Country=Ireland<br>Year=%{x}<br>Values=%{y}<extra></extra>",
         "legendgroup": "Ireland",
         "line": {
          "color": "#19d3f3",
          "dash": "solid"
         },
         "marker": {
          "symbol": "circle"
         },
         "mode": "lines",
         "name": "Ireland",
         "orientation": "v",
         "showlegend": true,
         "type": "scatter",
         "x": [
          1961,
          1962,
          1963,
          1964,
          1965,
          1966,
          1967,
          1968,
          1969,
          1970,
          1971,
          1972,
          1973,
          1974,
          1975,
          1976,
          1977,
          1978,
          1979,
          1980,
          1981,
          1982,
          1983,
          1984,
          1985,
          1986,
          1987,
          1988,
          1989,
          1990,
          1991,
          1992,
          1993,
          1994,
          1995,
          1996,
          1997,
          1998,
          1999,
          2000,
          2001,
          2002,
          2003,
          2004,
          2005,
          2006,
          2007,
          2008,
          2009,
          2010,
          2011,
          2012,
          2013,
          2014,
          2015,
          2016,
          2017,
          2018,
          2019,
          2020
         ],
         "xaxis": "x",
         "y": [
          0.0766669541211713,
          0.16553136692621462,
          0.25344528776560726,
          0.42657993545736583,
          0.5189289517989715,
          0.600570688155162,
          0.7241197529767605,
          0.6905760535702539,
          0.9527763620675107,
          1.2667599609270321,
          1.6288722795052308,
          2.25785777243263,
          2.8576074892186547,
          3.071953473311158,
          3.8902504785347256,
          3.8747542240907427,
          4.800117429146873,
          6.5531228670946575,
          8.446219272490474,
          10.21410907805314,
          9.658419418897028,
          10.073285850713267,
          9.707847642285532,
          9.367833624534335,
          9.967713482748401,
          13.806440975725078,
          16.490846024296747,
          18.477294011141915,
          19.232965622829404,
          24.424057853890602,
          24.6725298683437,
          27.83395017682704,
          26.02865612520899,
          28.441952982484562,
          34.651400864368,
          38.080917155118165,
          41.72437303226056,
          45.51060962293862,
          49.993884338386714,
          50.67125864775033,
          55.38374175172619,
          65.3095245157043,
          83.91117567792853,
          99.22643776364794,
          108.25268736624272,
          118.7220916746424,
          138.2642359438776,
          141.03230154032948,
          120.92001527969543,
          113.40860347408359,
          122.22584946267335,
          115.27564007560918,
          121.86681345736889,
          132.53564326382434,
          149.35093117083088,
          153.13992835605623,
          171.9622438857125,
          197.54370122244572,
          204.8041229290832,
          218.60625592723102
         ],
         "yaxis": "y"
        },
        {
         "hovertemplate": "Country=France<br>Year=%{x}<br>Values=%{y}<extra></extra>",
         "legendgroup": "France",
         "line": {
          "color": "#FF6692",
          "dash": "solid"
         },
         "marker": {
          "symbol": "circle"
         },
         "mode": "lines",
         "name": "France",
         "orientation": "v",
         "showlegend": true,
         "type": "scatter",
         "x": [
          1961,
          1962,
          1963,
          1964,
          1965,
          1966,
          1967,
          1968,
          1969,
          1970,
          1971,
          1972,
          1973,
          1974,
          1975,
          1976,
          1977,
          1978,
          1979,
          1980,
          1981,
          1982,
          1983,
          1984,
          1985,
          1986,
          1987,
          1988,
          1989,
          1990,
          1991,
          1992,
          1993,
          1994,
          1995,
          1996,
          1997,
          1998,
          1999,
          2000,
          2001,
          2002,
          2003,
          2004,
          2005,
          2006,
          2007,
          2008,
          2009,
          2010,
          2011,
          2012,
          2013,
          2014,
          2015,
          2016,
          2017,
          2018,
          2019,
          2020
         ],
         "xaxis": "x",
         "y": [
          0.08414826835205291,
          0.21505743690481371,
          0.36213007644019424,
          0.5107614126489315,
          0.6317632489217273,
          0.7685015159926585,
          0.911965665969175,
          1.085728317034639,
          1.280465706961659,
          1.3857809494644981,
          1.6671810438169556,
          2.270270551261783,
          3.249543510914629,
          3.5889944494232333,
          4.798785282339419,
          4.9833857525174565,
          5.593432460059177,
          7.143092911717368,
          8.866587602739918,
          10.270117036874804,
          8.892285644914994,
          8.39932887780021,
          7.9974267418850875,
          7.5284002144896505,
          7.889259385990071,
          11.397988862490863,
          14.01271401519272,
          15.37347073915165,
          15.475756174970556,
          19.396462312360786,
          19.39802455607949,
          21.522380995648916,
          20.258424285229996,
          21.402122012671818,
          24.73053365997525,
          24.804142260294,
          22.348714459670216,
          23.15584078177959,
          22.995825916793923,
          20.94663190490554,
          21.13976306090903,
          23.12853112916373,
          28.64291880587415,
          33.06375089001836,
          34.30620098096558,
          36.29238080375694,
          41.757264896768625,
          46.091703832095504,
          42.40484723787476,
          41.509723783546775,
          45.04476548904209,
          42.1281816256862,
          44.188514313850085,
          44.89702771828766,
          38.19919495239422,
          38.74199032351521,
          40.705602408724864,
          43.85231722457946,
          42.85454856075497,
          41.270751723561965
         ],
         "yaxis": "y"
        },
        {
         "hovertemplate": "Country=Spain<br>Year=%{x}<br>Values=%{y}<extra></extra>",
         "legendgroup": "Spain",
         "line": {
          "color": "#B6E880",
          "dash": "solid"
         },
         "marker": {
          "symbol": "circle"
         },
         "mode": "lines",
         "name": "Spain",
         "orientation": "v",
         "showlegend": true,
         "type": "scatter",
         "x": [
          1961,
          1962,
          1963,
          1964,
          1965,
          1966,
          1967,
          1968,
          1969,
          1970,
          1971,
          1972,
          1973,
          1974,
          1975,
          1976,
          1977,
          1978,
          1979,
          1980,
          1981,
          1982,
          1983,
          1984,
          1985,
          1986,
          1987,
          1988,
          1989,
          1990,
          1991,
          1992,
          1993,
          1994,
          1995,
          1996,
          1997,
          1998,
          1999,
          2000,
          2001,
          2002,
          2003,
          2004,
          2005,
          2006,
          2007,
          2008,
          2009,
          2010,
          2011,
          2012,
          2013,
          2014,
          2015,
          2016,
          2017,
          2018,
          2019,
          2020
         ],
         "xaxis": "x",
         "y": [
          0.14597051795865634,
          0.336843660217927,
          0.5800790870296071,
          0.7680269830210664,
          1.0507538225084065,
          1.3791221250328842,
          1.6215033731875157,
          1.607291233112342,
          1.9852829049713052,
          2.3956732022425813,
          2.861740679986088,
          3.898260244468659,
          5.514140549394915,
          7.057736121874022,
          8.507608325158868,
          8.816596019604424,
          9.971495516300617,
          12.303347438302703,
          16.776649658457497,
          18.281344601191073,
          15.79968302561937,
          15.235479424371608,
          13.160818446325505,
          13.256222085127972,
          13.976107991858548,
          19.818294444185312,
          25.40362878895081,
          30.159416957055488,
          33.35658759125048,
          43.44607253927828,
          46.8098199882038,
          51.26221249364767,
          42.49487677244842,
          42.949394757948546,
          49.9114149994131,
          52.22914857743273,
          47.879316620943065,
          50.29293968160745,
          51.59285223604844,
          48.56569453945378,
          51.00658322246341,
          57.710178527134104,
          74.17246900059996,
          87.55570829834899,
          94.56856973758606,
          103.40571693501886,
          121.09966749966415,
          134.17614737954716,
          122.54683130308436,
          116.8009731592844,
          121.65532073325576,
          108.73579189845182,
          111.25384630793663,
          112.5858509074248,
          98.038064077646,
          101.12890053549941,
          107.7247823013806,
          116.70868972352314,
          114.39360046746674,
          105.15235726002277
         ],
         "yaxis": "y"
        },
        {
         "hovertemplate": "Country=Italy<br>Year=%{x}<br>Values=%{y}<extra></extra>",
         "legendgroup": "Italy",
         "line": {
          "color": "#FF97FF",
          "dash": "solid"
         },
         "marker": {
          "symbol": "circle"
         },
         "mode": "lines",
         "name": "Italy",
         "orientation": "v",
         "showlegend": true,
         "type": "scatter",
         "x": [
          1961,
          1962,
          1963,
          1964,
          1965,
          1966,
          1967,
          1968,
          1969,
          1970,
          1971,
          1972,
          1973,
          1974,
          1975,
          1976,
          1977,
          1978,
          1979,
          1980,
          1981,
          1982,
          1983,
          1984,
          1985,
          1986,
          1987,
          1988,
          1989,
          1990,
          1991,
          1992,
          1993,
          1994,
          1995,
          1996,
          1997,
          1998,
          1999,
          2000,
          2001,
          2002,
          2003,
          2004,
          2005,
          2006,
          2007,
          2008,
          2009,
          2010,
          2011,
          2012,
          2013,
          2014,
          2015,
          2016,
          2017,
          2018,
          2019,
          2020
         ],
         "xaxis": "x",
         "y": [
          0.1103736566398057,
          0.24758034335634904,
          0.4290041108035083,
          0.564317592103966,
          0.6832405224190226,
          0.8238044850277759,
          1.0089771149817763,
          1.1775808786815274,
          1.4039715150712686,
          1.8078372257416473,
          2.0870738059417997,
          2.596855335106968,
          3.345445160617735,
          3.941514536941094,
          4.638089028518207,
          4.564335124257414,
          5.378469089254552,
          6.801314190980889,
          8.748033941113151,
          10.817589907404399,
          9.664845268214266,
          9.579908258368269,
          9.970390257288061,
          9.842752570430207,
          10.197579878262841,
          14.856921642239518,
          18.950659292256276,
          21.077568186630387,
          21.995040280254017,
          28.24883545353846,
          29.858270602357674,
          31.68917219760592,
          25.36995101964675,
          26.218245389564196,
          28.086385631167097,
          31.497639155372916,
          29.7507920652063,
          30.448395641109258,
          30.012448126148843,
          27.393430905753693,
          27.92200288634029,
          30.614713941566965,
          38.064267502684075,
          43.73269952040365,
          45.01222928920875,
          47.27380958071228,
          53.79971973679832,
          58.6419004908515,
          53.47351979684606,
          51.893022256802105,
          55.827483241669256,
          50.676185620741826,
          52.037236630418874,
          52.53458411811779,
          44.477890250713706,
          45.47909584391448,
          47.5770011256225,
          50.79936833527344,
          48.80243611016454,
          45.86295781999369
         ],
         "yaxis": "y"
        },
        {
         "hovertemplate": "Country=Luxembourg<br>Year=%{x}<br>Values=%{y}<extra></extra>",
         "legendgroup": "Luxembourg",
         "line": {
          "color": "#FECB52",
          "dash": "solid"
         },
         "marker": {
          "symbol": "circle"
         },
         "mode": "lines",
         "name": "Luxembourg",
         "orientation": "v",
         "showlegend": true,
         "type": "scatter",
         "x": [
          1961,
          1962,
          1963,
          1964,
          1965,
          1966,
          1967,
          1968,
          1969,
          1970,
          1971,
          1972,
          1973,
          1974,
          1975,
          1976,
          1977,
          1978,
          1979,
          1980,
          1981,
          1982,
          1983,
          1984,
          1985,
          1986,
          1987,
          1988,
          1989,
          1990,
          1991,
          1992,
          1993,
          1994,
          1995,
          1996,
          1997,
          1998,
          1999,
          2000,
          2001,
          2002,
          2003,
          2004,
          2005,
          2006,
          2007,
          2008,
          2009,
          2010,
          2011,
          2012,
          2013,
          2014,
          2015,
          2016,
          2017,
          2018,
          2019,
          2020
         ],
         "xaxis": "x",
         "y": [
          0.00031248383941373525,
          0.05339167832062608,
          0.12389786179631934,
          0.2830313573131662,
          0.30923011977446846,
          0.37577039919810495,
          0.38469408675681027,
          0.5149995543804433,
          0.754274591873006,
          1.0709123742958173,
          1.1575763018115053,
          1.7015597719641784,
          2.707601214271965,
          3.522689099063169,
          3.437021275063974,
          3.8635618474969835,
          4.383126793196134,
          5.703178662411077,
          6.837450198442525,
          7.551762550493191,
          6.1792601901213695,
          5.538071779967195,
          5.42712393265818,
          5.305261273181498,
          5.5024074678054875,
          8.497586224155196,
          10.820710828953853,
          12.37949129527449,
          13.259564543431225,
          17.15361016909562,
          18.652954298296414,
          21.04593823447945,
          21.6238665352923,
          24.147254520349687,
          28.623998234014778,
          28.68397727426327,
          26.792473126146405,
          27.62525572666136,
          30.1102683336528,
          29.159692720504186,
          29.383225847083672,
          32.59705879825044,
          41.14545370010194,
          48.813273612344474,
          52.51740929820817,
          59.958345367688274,
          72.28529272372894,
          82.59444356801798,
          76.37647515599029,
          78.85783941803096,
          86.64601264788138,
          83.91859726487122,
          91.62806559909892,
          96.74442290820399,
          84.33796068104574,
          87.38558516996468,
          92.35101671696667,
          100.26781675336326,
          98.72034676796117,
          103.20578787564799
         ],
         "yaxis": "y"
        },
        {
         "hovertemplate": "Country=Austria<br>Year=%{x}<br>Values=%{y}<extra></extra>",
         "legendgroup": "Austria",
         "line": {
          "color": "#636efa",
          "dash": "solid"
         },
         "marker": {
          "symbol": "circle"
         },
         "mode": "lines",
         "name": "Austria",
         "orientation": "v",
         "showlegend": true,
         "type": "scatter",
         "x": [
          1961,
          1962,
          1963,
          1964,
          1965,
          1966,
          1967,
          1968,
          1969,
          1970,
          1971,
          1972,
          1973,
          1974,
          1975,
          1976,
          1977,
          1978,
          1979,
          1980,
          1981,
          1982,
          1983,
          1984,
          1985,
          1986,
          1987,
          1988,
          1989,
          1990,
          1991,
          1992,
          1993,
          1994,
          1995,
          1996,
          1997,
          1998,
          1999,
          2000,
          2001,
          2002,
          2003,
          2004,
          2005,
          2006,
          2007,
          2008,
          2009,
          2010,
          2011,
          2012,
          2013,
          2014,
          2015,
          2016,
          2017,
          2018,
          2019,
          2020
         ],
         "xaxis": "x",
         "y": [
          0.10906858554318966,
          0.17647055922220733,
          0.27022055922220756,
          0.39093125004932205,
          0.5159312500493225,
          0.6514770039957574,
          0.7564036716795652,
          0.8870321620505379,
          1.060280498904386,
          1.331824581476789,
          1.708829880008135,
          2.3460696049808187,
          3.476996568900428,
          4.337620820768462,
          5.076303212019912,
          5.516300810626133,
          6.818618629865213,
          8.412276766987896,
          10.215035726605095,
          11.446947328967058,
          9.774689399241769,
          9.811253986088712,
          9.939536748408992,
          9.312225400512776,
          9.524798523878646,
          14.02210891706771,
          17.834249780879006,
          19.22532826371367,
          19.18989637903404,
          24.24967641291749,
          25.361633369868546,
          28.590047925947715,
          27.877379322526185,
          29.87284919410959,
          35.5614252487905,
          34.98695078317535,
          31.276691976084358,
          32.10633098695915,
          31.954533045767008,
          28.925494832996193,
          28.958735832911582,
          31.520070223176845,
          38.782467910403355,
          44.72600659161781,
          46.9458444287778,
          50.0079904259545,
          58.03285984172157,
          64.53496128454974,
          59.93999592585363,
          58.5014900901512,
          64.47933633300973,
          61.099321751144224,
          64.2526857865799,
          66.13262073860923,
          56.93855406182321,
          59.04182244269857,
          62.29144988325135,
          68.04129979394442,
          66.50076424366236,
          64.71797175987815
         ],
         "yaxis": "y"
        },
        {
         "hovertemplate": "Country=Greece<br>Year=%{x}<br>Values=%{y}<extra></extra>",
         "legendgroup": "Greece",
         "line": {
          "color": "#EF553B",
          "dash": "solid"
         },
         "marker": {
          "symbol": "circle"
         },
         "mode": "lines",
         "name": "Greece",
         "orientation": "v",
         "showlegend": true,
         "type": "scatter",
         "x": [
          1961,
          1962,
          1963,
          1964,
          1965,
          1966,
          1967,
          1968,
          1969,
          1970,
          1971,
          1972,
          1973,
          1974,
          1975,
          1976,
          1977,
          1978,
          1979,
          1980,
          1981,
          1982,
          1983,
          1984,
          1985,
          1986,
          1987,
          1988,
          1989,
          1990,
          1991,
          1992,
          1993,
          1994,
          1995,
          1996,
          1997,
          1998,
          1999,
          2000,
          2001,
          2002,
          2003,
          2004,
          2005,
          2006,
          2007,
          2008,
          2009,
          2010,
          2011,
          2012,
          2013,
          2014,
          2015,
          2016,
          2017,
          2018,
          2019,
          2020
         ],
         "xaxis": "x",
         "y": [
          0.1444492623950524,
          0.20249689198518572,
          0.35986737390106005,
          0.5384975941541821,
          0.7736618506083064,
          0.9818106789947987,
          1.1396084883847366,
          1.327622358842409,
          1.6793906849946723,
          2.0309803513214066,
          2.3658878634781515,
          2.8949911948523086,
          4.154991738407238,
          4.847801390691935,
          5.580081365847172,
          6.1860436207089355,
          7.344794162718992,
          9.211834950027821,
          11.567367700786956,
          12.108933284024781,
          11.074800611031442,
          11.598764985807414,
          10.401788446218866,
          10.076808237817215,
          10.030864889202936,
          12.005115180097345,
          14.144159932799797,
          16.591235446033313,
          17.261971439127958,
          21.580597838984353,
          23.253453478459726,
          25.809616106973174,
          24.099051974497407,
          25.8966087068395,
          30.573816072593484,
          32.64598700824534,
          32.02225085467646,
          32.31533455042622,
          31.891062745608274,
          29.092770211402968,
          30.44254818498346,
          34.653419019753954,
          45.68084355554448,
          54.583211723819446,
          56.177574674207,
          62.09919053312111,
          72.56151000487633,
          81.09767426241176,
          75.42313362479781,
          67.53799602078455,
          64.27884637644131,
          54.82904774865005,
          54.10898243423159,
          53.313271036122565,
          44.13843840685726,
          43.553600661350224,
          45.09823090341765,
          47.91357520033391,
          46.320726730985335,
          42.55873101924721
         ],
         "yaxis": "y"
        },
        {
         "hovertemplate": "Country=Benchmark<br>Year=%{x}<br>Values=%{y}<extra></extra>",
         "legendgroup": "Benchmark",
         "line": {
          "color": "#00cc96",
          "dash": "solid"
         },
         "marker": {
          "symbol": "circle"
         },
         "mode": "lines",
         "name": "Benchmark",
         "orientation": "v",
         "showlegend": true,
         "type": "scatter",
         "x": [
          1961,
          1962,
          1963,
          1964,
          1965,
          1966,
          1967,
          1968,
          1969,
          1970,
          1971,
          1972,
          1973,
          1974,
          1975,
          1976,
          1977,
          1978,
          1979,
          1980,
          1981,
          1982,
          1983,
          1984,
          1985,
          1986,
          1987,
          1988,
          1989,
          1990,
          1991,
          1992,
          1993,
          1994,
          1995,
          1996,
          1997,
          1998,
          1999,
          2000,
          2001,
          2002,
          2003,
          2004,
          2005,
          2006,
          2007,
          2008,
          2009,
          2010,
          2011,
          2012,
          2013,
          2014,
          2015,
          2016,
          2017,
          2018,
          2019,
          2020
         ],
         "xaxis": "x",
         "y": [
          0.0976055315890223,
          0.21685017079714441,
          0.361361042185121,
          0.5146610890918859,
          0.6565679227381858,
          0.8070003933082541,
          0.9633431631684493,
          1.1057583850440422,
          1.3452549168471064,
          1.6052375266092707,
          1.913471052830399,
          2.524945436093617,
          3.500772283520659,
          4.133289347076816,
          5.1335062106571305,
          5.372865599696897,
          6.154986022489188,
          7.668325386674587,
          9.570502309555247,
          11.064790735098919,
          9.66230807979012,
          9.249987326286956,
          8.888150216272592,
          8.611750801360484,
          8.955448433218585,
          12.816579968152478,
          16.04889031418992,
          17.931148689596593,
          18.55622972986982,
          23.480393329294714,
          24.304574025526268,
          26.418755875499915,
          23.122005421419985,
          24.362755979900978,
          28.010024301814457,
          29.134914094670513,
          26.913752635424075,
          27.854290251370173,
          27.925167528085993,
          25.761966982758782,
          26.205952548666907,
          28.940791263163142,
          36.17073006861885,
          41.8877812206392,
          43.7080634886377,
          46.64829483491882,
          53.89482346638734,
          59.24570516917243,
          54.01205227371909,
          52.74976741426535,
          56.69806154945868,
          52.245965336441614,
          54.34864521026104,
          55.165824887618854,
          47.5614901780959,
          48.62923570366346,
          51.38580143142697,
          55.44356173619009,
          54.209747818873524,
          52.29678256671448
         ],
         "yaxis": "y"
        }
       ],
       "layout": {
        "height": 500,
        "legend": {
         "title": {
          "text": "Country"
         },
         "tracegroupgap": 0
        },
        "margin": {
         "t": 60
        },
        "template": {
         "data": {
          "bar": [
           {
            "error_x": {
             "color": "#f2f5fa"
            },
            "error_y": {
             "color": "#f2f5fa"
            },
            "marker": {
             "line": {
              "color": "rgb(17,17,17)",
              "width": 0.5
             },
             "pattern": {
              "fillmode": "overlay",
              "size": 10,
              "solidity": 0.2
             }
            },
            "type": "bar"
           }
          ],
          "barpolar": [
           {
            "marker": {
             "line": {
              "color": "rgb(17,17,17)",
              "width": 0.5
             },
             "pattern": {
              "fillmode": "overlay",
              "size": 10,
              "solidity": 0.2
             }
            },
            "type": "barpolar"
           }
          ],
          "carpet": [
           {
            "aaxis": {
             "endlinecolor": "#A2B1C6",
             "gridcolor": "#506784",
             "linecolor": "#506784",
             "minorgridcolor": "#506784",
             "startlinecolor": "#A2B1C6"
            },
            "baxis": {
             "endlinecolor": "#A2B1C6",
             "gridcolor": "#506784",
             "linecolor": "#506784",
             "minorgridcolor": "#506784",
             "startlinecolor": "#A2B1C6"
            },
            "type": "carpet"
           }
          ],
          "choropleth": [
           {
            "colorbar": {
             "outlinewidth": 0,
             "ticks": ""
            },
            "type": "choropleth"
           }
          ],
          "contour": [
           {
            "colorbar": {
             "outlinewidth": 0,
             "ticks": ""
            },
            "colorscale": [
             [
              0,
              "#0d0887"
             ],
             [
              0.1111111111111111,
              "#46039f"
             ],
             [
              0.2222222222222222,
              "#7201a8"
             ],
             [
              0.3333333333333333,
              "#9c179e"
             ],
             [
              0.4444444444444444,
              "#bd3786"
             ],
             [
              0.5555555555555556,
              "#d8576b"
             ],
             [
              0.6666666666666666,
              "#ed7953"
             ],
             [
              0.7777777777777778,
              "#fb9f3a"
             ],
             [
              0.8888888888888888,
              "#fdca26"
             ],
             [
              1,
              "#f0f921"
             ]
            ],
            "type": "contour"
           }
          ],
          "contourcarpet": [
           {
            "colorbar": {
             "outlinewidth": 0,
             "ticks": ""
            },
            "type": "contourcarpet"
           }
          ],
          "heatmap": [
           {
            "colorbar": {
             "outlinewidth": 0,
             "ticks": ""
            },
            "colorscale": [
             [
              0,
              "#0d0887"
             ],
             [
              0.1111111111111111,
              "#46039f"
             ],
             [
              0.2222222222222222,
              "#7201a8"
             ],
             [
              0.3333333333333333,
              "#9c179e"
             ],
             [
              0.4444444444444444,
              "#bd3786"
             ],
             [
              0.5555555555555556,
              "#d8576b"
             ],
             [
              0.6666666666666666,
              "#ed7953"
             ],
             [
              0.7777777777777778,
              "#fb9f3a"
             ],
             [
              0.8888888888888888,
              "#fdca26"
             ],
             [
              1,
              "#f0f921"
             ]
            ],
            "type": "heatmap"
           }
          ],
          "heatmapgl": [
           {
            "colorbar": {
             "outlinewidth": 0,
             "ticks": ""
            },
            "colorscale": [
             [
              0,
              "#0d0887"
             ],
             [
              0.1111111111111111,
              "#46039f"
             ],
             [
              0.2222222222222222,
              "#7201a8"
             ],
             [
              0.3333333333333333,
              "#9c179e"
             ],
             [
              0.4444444444444444,
              "#bd3786"
             ],
             [
              0.5555555555555556,
              "#d8576b"
             ],
             [
              0.6666666666666666,
              "#ed7953"
             ],
             [
              0.7777777777777778,
              "#fb9f3a"
             ],
             [
              0.8888888888888888,
              "#fdca26"
             ],
             [
              1,
              "#f0f921"
             ]
            ],
            "type": "heatmapgl"
           }
          ],
          "histogram": [
           {
            "marker": {
             "pattern": {
              "fillmode": "overlay",
              "size": 10,
              "solidity": 0.2
             }
            },
            "type": "histogram"
           }
          ],
          "histogram2d": [
           {
            "colorbar": {
             "outlinewidth": 0,
             "ticks": ""
            },
            "colorscale": [
             [
              0,
              "#0d0887"
             ],
             [
              0.1111111111111111,
              "#46039f"
             ],
             [
              0.2222222222222222,
              "#7201a8"
             ],
             [
              0.3333333333333333,
              "#9c179e"
             ],
             [
              0.4444444444444444,
              "#bd3786"
             ],
             [
              0.5555555555555556,
              "#d8576b"
             ],
             [
              0.6666666666666666,
              "#ed7953"
             ],
             [
              0.7777777777777778,
              "#fb9f3a"
             ],
             [
              0.8888888888888888,
              "#fdca26"
             ],
             [
              1,
              "#f0f921"
             ]
            ],
            "type": "histogram2d"
           }
          ],
          "histogram2dcontour": [
           {
            "colorbar": {
             "outlinewidth": 0,
             "ticks": ""
            },
            "colorscale": [
             [
              0,
              "#0d0887"
             ],
             [
              0.1111111111111111,
              "#46039f"
             ],
             [
              0.2222222222222222,
              "#7201a8"
             ],
             [
              0.3333333333333333,
              "#9c179e"
             ],
             [
              0.4444444444444444,
              "#bd3786"
             ],
             [
              0.5555555555555556,
              "#d8576b"
             ],
             [
              0.6666666666666666,
              "#ed7953"
             ],
             [
              0.7777777777777778,
              "#fb9f3a"
             ],
             [
              0.8888888888888888,
              "#fdca26"
             ],
             [
              1,
              "#f0f921"
             ]
            ],
            "type": "histogram2dcontour"
           }
          ],
          "mesh3d": [
           {
            "colorbar": {
             "outlinewidth": 0,
             "ticks": ""
            },
            "type": "mesh3d"
           }
          ],
          "parcoords": [
           {
            "line": {
             "colorbar": {
              "outlinewidth": 0,
              "ticks": ""
             }
            },
            "type": "parcoords"
           }
          ],
          "pie": [
           {
            "automargin": true,
            "type": "pie"
           }
          ],
          "scatter": [
           {
            "marker": {
             "line": {
              "color": "#283442"
             }
            },
            "type": "scatter"
           }
          ],
          "scatter3d": [
           {
            "line": {
             "colorbar": {
              "outlinewidth": 0,
              "ticks": ""
             }
            },
            "marker": {
             "colorbar": {
              "outlinewidth": 0,
              "ticks": ""
             }
            },
            "type": "scatter3d"
           }
          ],
          "scattercarpet": [
           {
            "marker": {
             "colorbar": {
              "outlinewidth": 0,
              "ticks": ""
             }
            },
            "type": "scattercarpet"
           }
          ],
          "scattergeo": [
           {
            "marker": {
             "colorbar": {
              "outlinewidth": 0,
              "ticks": ""
             }
            },
            "type": "scattergeo"
           }
          ],
          "scattergl": [
           {
            "marker": {
             "line": {
              "color": "#283442"
             }
            },
            "type": "scattergl"
           }
          ],
          "scattermapbox": [
           {
            "marker": {
             "colorbar": {
              "outlinewidth": 0,
              "ticks": ""
             }
            },
            "type": "scattermapbox"
           }
          ],
          "scatterpolar": [
           {
            "marker": {
             "colorbar": {
              "outlinewidth": 0,
              "ticks": ""
             }
            },
            "type": "scatterpolar"
           }
          ],
          "scatterpolargl": [
           {
            "marker": {
             "colorbar": {
              "outlinewidth": 0,
              "ticks": ""
             }
            },
            "type": "scatterpolargl"
           }
          ],
          "scatterternary": [
           {
            "marker": {
             "colorbar": {
              "outlinewidth": 0,
              "ticks": ""
             }
            },
            "type": "scatterternary"
           }
          ],
          "surface": [
           {
            "colorbar": {
             "outlinewidth": 0,
             "ticks": ""
            },
            "colorscale": [
             [
              0,
              "#0d0887"
             ],
             [
              0.1111111111111111,
              "#46039f"
             ],
             [
              0.2222222222222222,
              "#7201a8"
             ],
             [
              0.3333333333333333,
              "#9c179e"
             ],
             [
              0.4444444444444444,
              "#bd3786"
             ],
             [
              0.5555555555555556,
              "#d8576b"
             ],
             [
              0.6666666666666666,
              "#ed7953"
             ],
             [
              0.7777777777777778,
              "#fb9f3a"
             ],
             [
              0.8888888888888888,
              "#fdca26"
             ],
             [
              1,
              "#f0f921"
             ]
            ],
            "type": "surface"
           }
          ],
          "table": [
           {
            "cells": {
             "fill": {
              "color": "#506784"
             },
             "line": {
              "color": "rgb(17,17,17)"
             }
            },
            "header": {
             "fill": {
              "color": "#2a3f5f"
             },
             "line": {
              "color": "rgb(17,17,17)"
             }
            },
            "type": "table"
           }
          ]
         },
         "layout": {
          "annotationdefaults": {
           "arrowcolor": "#f2f5fa",
           "arrowhead": 0,
           "arrowwidth": 1
          },
          "autotypenumbers": "strict",
          "coloraxis": {
           "colorbar": {
            "outlinewidth": 0,
            "ticks": ""
           }
          },
          "colorscale": {
           "diverging": [
            [
             0,
             "#8e0152"
            ],
            [
             0.1,
             "#c51b7d"
            ],
            [
             0.2,
             "#de77ae"
            ],
            [
             0.3,
             "#f1b6da"
            ],
            [
             0.4,
             "#fde0ef"
            ],
            [
             0.5,
             "#f7f7f7"
            ],
            [
             0.6,
             "#e6f5d0"
            ],
            [
             0.7,
             "#b8e186"
            ],
            [
             0.8,
             "#7fbc41"
            ],
            [
             0.9,
             "#4d9221"
            ],
            [
             1,
             "#276419"
            ]
           ],
           "sequential": [
            [
             0,
             "#0d0887"
            ],
            [
             0.1111111111111111,
             "#46039f"
            ],
            [
             0.2222222222222222,
             "#7201a8"
            ],
            [
             0.3333333333333333,
             "#9c179e"
            ],
            [
             0.4444444444444444,
             "#bd3786"
            ],
            [
             0.5555555555555556,
             "#d8576b"
            ],
            [
             0.6666666666666666,
             "#ed7953"
            ],
            [
             0.7777777777777778,
             "#fb9f3a"
            ],
            [
             0.8888888888888888,
             "#fdca26"
            ],
            [
             1,
             "#f0f921"
            ]
           ],
           "sequentialminus": [
            [
             0,
             "#0d0887"
            ],
            [
             0.1111111111111111,
             "#46039f"
            ],
            [
             0.2222222222222222,
             "#7201a8"
            ],
            [
             0.3333333333333333,
             "#9c179e"
            ],
            [
             0.4444444444444444,
             "#bd3786"
            ],
            [
             0.5555555555555556,
             "#d8576b"
            ],
            [
             0.6666666666666666,
             "#ed7953"
            ],
            [
             0.7777777777777778,
             "#fb9f3a"
            ],
            [
             0.8888888888888888,
             "#fdca26"
            ],
            [
             1,
             "#f0f921"
            ]
           ]
          },
          "colorway": [
           "#636efa",
           "#EF553B",
           "#00cc96",
           "#ab63fa",
           "#FFA15A",
           "#19d3f3",
           "#FF6692",
           "#B6E880",
           "#FF97FF",
           "#FECB52"
          ],
          "font": {
           "color": "#f2f5fa"
          },
          "geo": {
           "bgcolor": "rgb(17,17,17)",
           "lakecolor": "rgb(17,17,17)",
           "landcolor": "rgb(17,17,17)",
           "showlakes": true,
           "showland": true,
           "subunitcolor": "#506784"
          },
          "hoverlabel": {
           "align": "left"
          },
          "hovermode": "closest",
          "mapbox": {
           "style": "dark"
          },
          "paper_bgcolor": "rgb(17,17,17)",
          "plot_bgcolor": "rgb(17,17,17)",
          "polar": {
           "angularaxis": {
            "gridcolor": "#506784",
            "linecolor": "#506784",
            "ticks": ""
           },
           "bgcolor": "rgb(17,17,17)",
           "radialaxis": {
            "gridcolor": "#506784",
            "linecolor": "#506784",
            "ticks": ""
           }
          },
          "scene": {
           "xaxis": {
            "backgroundcolor": "rgb(17,17,17)",
            "gridcolor": "#506784",
            "gridwidth": 2,
            "linecolor": "#506784",
            "showbackground": true,
            "ticks": "",
            "zerolinecolor": "#C8D4E3"
           },
           "yaxis": {
            "backgroundcolor": "rgb(17,17,17)",
            "gridcolor": "#506784",
            "gridwidth": 2,
            "linecolor": "#506784",
            "showbackground": true,
            "ticks": "",
            "zerolinecolor": "#C8D4E3"
           },
           "zaxis": {
            "backgroundcolor": "rgb(17,17,17)",
            "gridcolor": "#506784",
            "gridwidth": 2,
            "linecolor": "#506784",
            "showbackground": true,
            "ticks": "",
            "zerolinecolor": "#C8D4E3"
           }
          },
          "shapedefaults": {
           "line": {
            "color": "#f2f5fa"
           }
          },
          "sliderdefaults": {
           "bgcolor": "#C8D4E3",
           "bordercolor": "rgb(17,17,17)",
           "borderwidth": 1,
           "tickwidth": 0
          },
          "ternary": {
           "aaxis": {
            "gridcolor": "#506784",
            "linecolor": "#506784",
            "ticks": ""
           },
           "baxis": {
            "gridcolor": "#506784",
            "linecolor": "#506784",
            "ticks": ""
           },
           "bgcolor": "rgb(17,17,17)",
           "caxis": {
            "gridcolor": "#506784",
            "linecolor": "#506784",
            "ticks": ""
           }
          },
          "title": {
           "x": 0.05
          },
          "updatemenudefaults": {
           "bgcolor": "#506784",
           "borderwidth": 0
          },
          "xaxis": {
           "automargin": true,
           "gridcolor": "#283442",
           "linecolor": "#506784",
           "ticks": "",
           "title": {
            "standoff": 15
           },
           "zerolinecolor": "#283442",
           "zerolinewidth": 2
          },
          "yaxis": {
           "automargin": true,
           "gridcolor": "#283442",
           "linecolor": "#506784",
           "ticks": "",
           "title": {
            "standoff": 15
           },
           "zerolinecolor": "#283442",
           "zerolinewidth": 2
          }
         }
        },
        "width": 900,
        "xaxis": {
         "anchor": "y",
         "domain": [
          0,
          1
         ],
         "title": {
          "text": "Year"
         }
        },
        "yaxis": {
         "anchor": "x",
         "domain": [
          0,
          1
         ],
         "title": {
          "text": "Values"
         }
        }
       }
      }
     },
     "metadata": {},
     "output_type": "display_data"
    }
   ],
   "source": [
    "# Downloads data from World Bank API based on user inputs via prompt window. Then, shows the data either as bar chart (ranked or unranked) or as a line chart (ranked or unranked as well as actual or cumulative percent change).\n",
    "# Schema for this code logic is here: https://miro.com/app/board/uXjVP6Rlhjg=/\n",
    "\n",
    "# function for users to select data type by choosing either Snapshot (if user types '1') or Time series (if user types '2'). The function will return 1 or 2.\n",
    "def data_type_func():\n",
    "    data_type_dict = {1: 'Snapshot', 2: 'Time series'}\n",
    "    while True:\n",
    "        try: # use try+except to force the users to re-enter values if they entered them incorrectly\n",
    "            data_type_user_choice = int(input('What data type do you want to capture? Enter 1 for Snapshot or 2 for Time series'))\n",
    "            if data_type_user_choice in (1, 2):\n",
    "                print('You selected '+ data_type_dict[data_type_user_choice])\n",
    "                return data_type_user_choice\n",
    "                break\n",
    "            else:\n",
    "                print('You typed the wrong value. Try again.')\n",
    "        except:\n",
    "            print('You typed the wrong value. Try again.')\n",
    "\n",
    "# function for users to enter countries/regions that they want the data. The options will differ depending on whether they selected Country (1) or Region (2). The function will return country/countries or region(s)\n",
    "def geo_list_func(country_or_region):\n",
    "    geo_list = []\n",
    "    x = 0\n",
    "    if country_or_region == 1:\n",
    "        geo_msg = 'Enter ISO-3 country code (e.g. USA). Press \"q\" to finish.'\n",
    "    elif country_or_region == 2:\n",
    "        geo_msg = 'Enter geographical code (e.g. EUU). Press \"q\" to finish.'\n",
    "    while x == 0:\n",
    "        country = input(geo_msg)\n",
    "        if country == 'q':\n",
    "            x = x + 1\n",
    "        else:\n",
    "            geo_list.append(country.upper())\n",
    "    print('You selected ', geo_list)\n",
    "    return geo_list\n",
    "\n",
    "# function for users to select between Country (if user types '1') or Region (if user types '2'). The function will return 1 or 2.\n",
    "def geo_func():\n",
    "    geo_dict = {1: 'Country', 2: 'Region'}\n",
    "    while True:\n",
    "        try: # use try+except to force the users to re-enter values if they entered them incorrectly\n",
    "            geo_user_choice = int(input('What geography do you want to capture? Enter 1 for Country or 2 for Region'))\n",
    "            if geo_user_choice == 1:\n",
    "                print('You selected '+ geo_dict[geo_user_choice])\n",
    "                countries = geo_list_func(geo_user_choice) # calls geo_list_func to get user to enter countries, then assigns them to 'countries' list\n",
    "                return geo_user_choice, countries\n",
    "                break\n",
    "            elif geo_user_choice == 2:\n",
    "                print('You selected '+ geo_dict[geo_user_choice])\n",
    "                regions = geo_list_func(geo_user_choice) # calls geo_list_func to get user to enter regions, then assigns them to 'regions' list\n",
    "                return geo_user_choice, regions\n",
    "                break\n",
    "            else:\n",
    "                print('You typed the wrong value. Try again.')\n",
    "        except:\n",
    "            print('You typed the wrong value. Try again.')\n",
    "\n",
    "# function for users to type year(s) depending on their earlier selection between Snapshot and Time series data type. The function will return year(s).\n",
    "def year_func(data_type_user_choice):\n",
    "    while True:\n",
    "        try: # use try+except to force the users to re-enter values if they entered them incorrectly\n",
    "            if data_type_user_choice == 1: # runs this code if option 1 (i.e. Snapshot) has been previously selected as data type. Outputs year using year_user_choice variable.\n",
    "                year_user_choice = input('What year do you want to see the data for? For example, 2019.')\n",
    "                if len(year_user_choice) == 4 and int(year_user_choice) > 0: # checks to ensure that year value is 4 characters long\n",
    "                    print('You selected ' + year_user_choice)\n",
    "                    return int(year_user_choice)\n",
    "                    break\n",
    "            elif data_type_user_choice == 2: # runs this code if option 2 (i.e. Time series) has been previously selected as data type. Outputs start and end year using start_year_user_choice and end_year_user_choice variables.\n",
    "                start_year_user_choice = input('What start year do you want to see the data for? For example, 2019.')\n",
    "                end_year_user_choice = input('What end year do you want to see the data for? For example, 2019.')\n",
    "                if len(start_year_user_choice) == 4 and len(end_year_user_choice) == 4 and int(start_year_user_choice) < int(end_year_user_choice): # checks to ensure that years are 4-characters long and that start year value is lower than end year value.\n",
    "                    print('You selected ' + start_year_user_choice)\n",
    "                    print('You selected ' + end_year_user_choice)\n",
    "                    year_user_choice = (int(start_year_user_choice), int(end_year_user_choice))\n",
    "                    return year_user_choice\n",
    "                    break\n",
    "            else:\n",
    "                print('You typed the wrong value. Try again.')\n",
    "        except:\n",
    "            print('You typed the wrong value. Try again.')\n",
    "\n",
    "# function for users to select if they'd like to see unadjusted (i.e. unranked) data (option 1) or ranked data (option 2). For ranked data, the higher the value, the better.\n",
    "def ranked_or_unranked_func():\n",
    "    ranked_or_unranked_dict = {1: 'Unranked', 2: 'Ranked'}\n",
    "    while True:\n",
    "        try: # use try+except to force the users to re-enter values if they entered them incorrectly\n",
    "            ranked_or_unranked_user_choice = int(input('What data type do you want to capture? Enter 1 for Unranked or 2 for Ranked. For ranked data, the higher the rank value, the better.'))\n",
    "            if ranked_or_unranked_user_choice in (1, 2):\n",
    "                print('You selected '+ ranked_or_unranked_dict[ranked_or_unranked_user_choice])\n",
    "                return ranked_or_unranked_user_choice\n",
    "                break\n",
    "            else:\n",
    "                print('You typed the wrong value. Try again.')\n",
    "        except:\n",
    "            print('You typed the wrong value. Try again.')\n",
    "\n",
    "# function for users to type the data field(s) and description of those data field(s) that they wanna download. Whether it is a field or several fields depends on users' earlier selection between Snapshot and Time series data type. The function will return data field(s) in a list format and will also return description of data field(s) in a list format.\n",
    "def data_fields_func(field_or_fields):\n",
    "    field_list = []\n",
    "    field_list_desc = []\n",
    "    x = 0\n",
    "    if field_or_fields == 1:\n",
    "        while x == 0:\n",
    "            fields_msg = 'Enter data field to download data for (e.g. EG.ELC.ACCS.ZS). Press \"q\" to finish.'\n",
    "            data_field = input(fields_msg)\n",
    "            if data_field == 'q':\n",
    "                x = x + 1\n",
    "            else:\n",
    "                field_list.append(data_field.upper())\n",
    "                data_field_desc = input('Enter description for the data field that you have just entered (e.g. Access to electricity ( % of population)).')\n",
    "                field_list_desc.append(data_field_desc)\n",
    "    elif field_or_fields == 2:\n",
    "        field_msg = 'Enter data field to download data for (e.g. EG.ELC.ACCS.ZS).'\n",
    "        data_field = input(field_msg)\n",
    "        field_list.append(data_field.upper())\n",
    "        data_field_desc = input('Enter description for the data field that you have just entered (e.g. Access to electricity (% of population)).')\n",
    "        field_list_desc.append(data_field_desc)\n",
    "    print('You selected ', field_list, data_field_desc)\n",
    "    return field_list, field_list_desc\n",
    "\n",
    "# function to select the appropriate chart depending on whether the user previously selected Snapshot (in which case this function will automatically return 'Bar chart') or Time series data type (in which case the user will be given an option to either select 'Line chart' or 'Line chart: percent change'). The function will return 0, 1 or 2.\n",
    "def chart_type_func(data_type_user_choice):\n",
    "    chart_type_dict = {0: 'Bar chart', 1: 'Line chart', 2: 'Line chart: percent change'}\n",
    "    if data_type_user_choice == 1:\n",
    "        print('You selected '+ chart_type_dict[0])\n",
    "        return 0 # returns '0' value which represents 'Bar chart'\n",
    "    elif data_type_user_choice == 2:\n",
    "        while True:\n",
    "            try: # use try+except to force the users to re-enter values if they entered them incorrectly\n",
    "                chart_type_user_choice = int(input(\"What chart do you want to create? Enter 1 for 'Line chart' or 2 for 'Line chart: percent change'\"))\n",
    "                if chart_type_user_choice == 1:\n",
    "                    print('You selected '+ chart_type_dict[chart_type_user_choice])\n",
    "                    return chart_type_user_choice\n",
    "                    break\n",
    "                elif chart_type_user_choice == 2:\n",
    "                    print('You selected '+ chart_type_dict[chart_type_user_choice])\n",
    "                    return chart_type_user_choice\n",
    "                    break\n",
    "                else:\n",
    "                    print('You typed the wrong value. Try again.')\n",
    "            except:\n",
    "                print('You typed the wrong value. Try again.')\n",
    "\n",
    "def change_sign_func(df): # changes sign of values in column names specified by user within 'df' DataFrame. It's used for ranking data fields where higher value is bad. It's because by default, the higher the rank value, the better. \n",
    "    x = 0\n",
    "    ranked_msg = 'Enter description for the data field where higher value is bad (e.g. Inflation, consumer prices (annual %)). Press \"q\" to finish.'\n",
    "    change_sign_field_list = []\n",
    "    while x == 0:\n",
    "        change_sign_field = input(ranked_msg)\n",
    "        if change_sign_field == 'q':\n",
    "            x = x + 1\n",
    "        else:\n",
    "            change_sign_field_list.append(change_sign_field)\n",
    "    df[change_sign_field_list] = -df[change_sign_field_list]\n",
    "    return df\n",
    "\n",
    "def benchmark_df(df): # adds 'Benchmark' to list of countries to show their mean value.\n",
    "    bench_df = pd.DataFrame(df.mean()).T # creates new 'bench_df' DataFrame to with a row to show mean values of columns in 'df' DataFrame\n",
    "    bench_df[df.index.name] = 'Benchmark' # adds a column name 'Country' from 'df' DataFrame to 'bench_df' DataFrame and populates it with 'Benchmark' string as value\n",
    "    bench_df.set_index(df.index.name, inplace=True) # sets 'Country' column as index for 'bench_df' DataFrame\n",
    "    df = df.append(bench_df) # merges 'df' and 'bench_df' DataFrame into a new 'df' DataFrame\n",
    "    return df\n",
    "\n",
    "# function to download data and create a DataFrame to be used later to create a bar chart. It only works if user previously selected Snapshot (option 1) data type via 'data_type_user_choice' variable. The function needs 'data_type_user_choice', 'data_fields_user_choice', 'geo_user_choice' and 'year_user_choice' as input variables. The function returns formatted 'df' DataFrame\n",
    "def df_func(chart_type_choice, data_fields_user_choice, geo_user_choice, year_user_choice, ranked_or_unranked_user_choice):\n",
    "    data_fields_dict = {data_fields_user_choice[0][i]: data_fields_user_choice[1][i] for i in range(len(data_fields_user_choice[0]))} # converts list of lists 'data_fields_user_choice' into a dictionary 'data_fields_dict' containing data fields (i.e. indicator codes) and their descriptions\n",
    "    data_fields_dict = dict(sorted(data_fields_dict.items())) # sorts keys of the dictionary alphabetically. Without this, there will be a bug in 'df = wb.data.DataFrame(list(data_fields_dict.keys())...' line because column names in 'df' DataFrame would be assigned in alphabetical order instead of the order that they were entered in\n",
    "    if chart_type_choice == 0:\n",
    "        if geo_user_choice[0] == 1: # downloads data for countries\n",
    "            df = wb.data.DataFrame(list(data_fields_dict.keys()), geo_user_choice[1], time=year_user_choice, labels=True) # I removed '.dropna()' from the end of the code\n",
    "        elif geo_user_choice[0] == 2: # downloads data for regions\n",
    "            # BUG if user entered more than one region in 'geo_user_choice' variable, this code will only will generate an error.\n",
    "            for region in geo_user_choice[1]: # loops through regions previously inputted by user in 'geo_user_choice' variable\n",
    "                df = wb.data.DataFrame(list(data_fields_dict.keys()), wb.region.members(region), time=year_user_choice, labels=True) # I removed '.dropna()' from the end of the code\n",
    "        df.columns = ['Country'] +  list(data_fields_dict.values()) # change columns names from using indicator codes to indicator names\n",
    "        df.set_index(['Country'], inplace=True) # replaces index that has country codes with index using values from 'Country' column\n",
    "        if ranked_or_unranked_user_choice == 2: # checks if user selected to rank countries and if so, then transfrorms the 'df' DataFrame to show ranked data, where the higher the rank values, the better.\n",
    "            df = change_sign_func(df) # runs a function to change sign of values in column names specified by user within 'df' DataFrame. It's used for ranking data fields where higher value is bad. It's because by default, the higher the rank value, the better. \n",
    "            df = benchmark_df(df)            \n",
    "            df = df.rank(method='first') # creates a new 'df' DataFrame to rank the countries for each dataf field. The higher the rank value the better.\n",
    "        elif ranked_or_unranked_user_choice == 1: # checks if user selected not to rank countries and if so, then adds 'Benchmark' to list of countries in 'df' DataFrame that represents their median value.\n",
    "            df = benchmark_df(df)\n",
    "        df.sort_values(by=list(data_fields_dict.values())[0], ascending=False, inplace=True) # sorts values in the first column of 'df' DataFrame so that the countries look in ascending order when we chart this 'df' later.\n",
    "    elif chart_type_choice == 1 or chart_type_choice == 2: # will download the data wether for line chart. Since only 1 data type is selected for this, the function to change sign ('change_sign_func') has not been used here. If the user previously selected cumulative percentage change using 'chart_type_choice' variable (option 2), then this function performs additional calculations and formatting. This function returns 'df' DataFrame with the data.\n",
    "        if geo_user_choice[0] == 1: # downloads data for countries\n",
    "            df = wb.data.DataFrame(list(data_fields_dict.keys()), geo_user_choice[1], time=range(year_user_choice[0], year_user_choice[1]), numericTimeKeys=True, labels=True).dropna()\n",
    "        elif geo_user_choice[0] == 2: # downloads data for regions\n",
    "            # BUG if user entered more than one region in 'geo_user_choice' variable, this code will only will generate an error.\n",
    "            for region in geo_user_choice[1]: # loops through regions previously inputted by user in 'geo_user_choice' variable\n",
    "                df = wb.data.DataFrame(list(data_fields_dict.keys()), wb.region.members(region), time=range(year_user_choice[0], year_user_choice[1]), numericTimeKeys=True, labels=True).dropna()\n",
    "        df.set_index(['Country'], inplace=True) # replaces index that has country codes with index using values from 'Country' column\n",
    "        if ranked_or_unranked_user_choice == 2: # checks if user selected to rank countries (option 2) and if so, then transfrorms the 'df' DataFrame to show ranked data, where the higher the rank values, the better.\n",
    "            #df = change_sign_func(df) # runs a function to change sign of values in column names specified by user within 'df' DataFrame. It's used for ranking data fields where higher value is bad. It's because by default, the higher the rank value, the better. \n",
    "            df = benchmark_df(df)          \n",
    "            df = df.rank(method='first') # creates a new 'df' DataFrame to rank the countries for each dataf field. The higher the rank value the better.\n",
    "        elif ranked_or_unranked_user_choice == 1: # checks if user selected not to rank countries (option 1) and if so, then adds 'Benchmark' to list of countries in 'df' DataFrame that represents their median value.\n",
    "            df = benchmark_df(df)\n",
    "        if chart_type_choice == 2: # calculates cumulative percent change time series data\n",
    "            df = df.T.pct_change() # transposes 'df' DataFrame (i.e. swaps columns with rows) and then computes daily returns for each security\n",
    "            df = df[1:] # deletes first row with NaN values\n",
    "            df = (1 + df).cumprod() - 1 # calculates cumulative daily returns\n",
    "            df = df.T # transposes 'df' DataFrame (i.e. swaps columns with rows) back into it's previous state as it was before calculating cumulative returns\n",
    "        df = df.reset_index() # move 'Country' column from index to a separate column\n",
    "        df = df.melt(id_vars=['Country'], value_vars=list(df.columns)[1:], var_name='Year', value_name='Values') # move year column names into rows under 'Year' column and move their values under 'Values' column \n",
    "    return df\n",
    "\n",
    "# chart the data\n",
    "def chart_func(df, chart_type_choice):\n",
    "    if chart_type_choice == 0: # creates a bar chart (ranked/unranked and grouped). The chart will show either ranked or unranked data, depending on whether the user previously selected ranked 'df' or unranked 'df'\n",
    "        fig = px.bar(df, \n",
    "            x=df.index, \n",
    "            y=df.columns, \n",
    "            height=500, \n",
    "            width=900,\n",
    "            template='plotly_dark',\n",
    "            barmode = 'group'\n",
    "            )  # you can change the look of this chart by removing 'barmode = 'group' from this line code. If you do that, the chart will shows stacked bar chart if user selected ranked 'df' or shows single (instead of grouped) bar chart if user selected unranked 'df'.\n",
    "        fig.add_vline(df.index.tolist().index('Benchmark'),\n",
    "            line_width = 3,\n",
    "            line_dash = 'dash'\n",
    "            ) # OPTIONAL: adds a vertical dash line for the 'Benchmark' value\n",
    "        # fig.update_layout(plot_bgcolor = 'white') # OPTIONAL: you can change the chart background colour to white\n",
    "        fig.show()\n",
    "    elif chart_type_choice == 1 or chart_type_choice == 2: # creates a line chart (ranked/unranked). The chart will be the same no matter whether user previously picked cumulative or non-cumulative data using 'chart_type_choice' variable\n",
    "        fig = px.line(df, \n",
    "            x=df['Year'],\n",
    "            y=df['Values'],\n",
    "            color=df['Country'],\n",
    "            height=500, \n",
    "            width=900,\n",
    "            template='plotly_dark'\n",
    "            )  # charts the data\n",
    "        fig.show()\n",
    "\n",
    "# call the functions\n",
    "\n",
    "data_type_user_choice = data_type_func() # runs a function to let users select either Snapshot or Time series data type and outputs variable data_type_user_choice with user selection either as 1 (Snapshot) or 2 (Time series).\n",
    "year_user_choice = year_func(data_type_user_choice) # runs a function to let users select year (if they previously selected Snapshot data type) or start & end year (if they previuosly selected Time series data type)\n",
    "geo_user_choice = geo_func() # runs a function geo_func and returns a list of two lists, where the first entry shows whether the user picked country (option 1) or region (option 2) and the second entry is a list of countries/regions that the user has inputted\n",
    "ranked_or_unranked_user_choice = ranked_or_unranked_func() # runs a function for users to select if they'd like to see unadjusted (i.e. unranked) data (option 1) or ranked data (option 2). For ranked data, the higher the value, the better.\n",
    "data_fields_user_choice = data_fields_func(data_type_user_choice) # runs a function to let users select several data fields (if they previously selected Snapshot data type) or one data field (if they previuosly selected Time series data type). This function outputs field(s) inputted by user as a list and also outputs field(s) description inputted by user as a list.\n",
    "chart_type_choice = chart_type_func(data_type_user_choice) # runs a function to let users select a chart type (if they previuosly selected Time series data type) by choosing between 'Line chart' (option 1) or 'Line chart: percent change' (option 2). If the users previously selected Snapshot data type, then this function will automatically select 'Bar chart' (option 0).\n",
    "df = df_func(chart_type_choice, data_fields_user_choice, geo_user_choice, year_user_choice, ranked_or_unranked_user_choice) # runs a function to download required data based on earlier user choices and country/region inputs and selected data fields. This function formats the data (and ranks it if needed) and outputs data as 'df' DataFrame.\n",
    "chart = chart_func(df, chart_type_choice) # runs a function to create a chart of 'df' DataFrame depending on the type of data (Snapshot or Timeseries) "
   ]
  },
  {
   "cell_type": "code",
   "execution_count": null,
   "metadata": {},
   "outputs": [],
   "source": [
    "# TODO create geographic maps using this tutorial: https://www.youtube.com/watch?v=Oht6cf-Acl0"
   ]
  },
  {
   "attachments": {},
   "cell_type": "markdown",
   "metadata": {},
   "source": [
    "#### The code below is not needed. It's just to play around with data."
   ]
  },
  {
   "cell_type": "code",
   "execution_count": 60,
   "metadata": {},
   "outputs": [
    {
     "data": {
      "application/vnd.plotly.v1+json": {
       "config": {
        "plotlyServerURL": "https://plot.ly"
       },
       "data": [
        {
         "hovertemplate": "Country=Egypt, Arab Rep.<br>Year=%{x}<br>Values=%{y}<extra></extra>",
         "legendgroup": "Egypt, Arab Rep.",
         "line": {
          "color": "#636efa",
          "dash": "solid"
         },
         "marker": {
          "symbol": "circle"
         },
         "mode": "lines",
         "name": "Egypt, Arab Rep.",
         "showlegend": true,
         "type": "scattergl",
         "x": [
          1981,
          1982,
          1983,
          1984,
          1985,
          1986,
          1987,
          1988,
          1989,
          1990,
          1991,
          1992,
          1993,
          1994,
          1995,
          1996,
          1997,
          1998,
          1999,
          2000,
          2001,
          2002,
          2003,
          2004,
          2005,
          2006,
          2007,
          2008,
          2009,
          2010,
          2011,
          2012,
          2013,
          2014,
          2015,
          2016,
          2017,
          2018,
          2019
         ],
         "xaxis": "x",
         "y": [
          0.021512454085990562,
          0.27620164278894443,
          0.42899727869992055,
          0.5676664947121939,
          0.8021997109164083,
          0.9037232467973901,
          0.8669030032002547,
          0.6142258030945991,
          0.8346316341707882,
          0.9833454743559717,
          0.7253343293473402,
          0.9315257904520766,
          1.149461413192887,
          1.3949332396891414,
          1.7761652043363245,
          2.120904640233781,
          2.619608238882816,
          2.91459007881298,
          3.1860216512443804,
          3.60724351701953,
          3.461700314168568,
          2.9292306512172366,
          2.705066993589857,
          2.635569975248316,
          3.1347967341657386,
          3.957385425083217,
          5.019306925970291,
          6.513561224757998,
          7.728555926726848,
          9.105426579532356,
          9.890201797659417,
          11.880380682498084,
          12.31035213344392,
          13.102293669533658,
          14.199260381651182,
          14.341168734329605,
          9.878389226818443,
          10.523491350523404,
          12.986255185606913
         ],
         "yaxis": "y"
        },
        {
         "hovertemplate": "Country=Algeria<br>Year=%{x}<br>Values=%{y}<extra></extra>",
         "legendgroup": "Algeria",
         "line": {
          "color": "#EF553B",
          "dash": "solid"
         },
         "marker": {
          "symbol": "circle"
         },
         "mode": "lines",
         "name": "Algeria",
         "showlegend": true,
         "type": "scattergl",
         "x": [
          1981,
          1982,
          1983,
          1984,
          1985,
          1986,
          1987,
          1988,
          1989,
          1990,
          1991,
          1992,
          1993,
          1994,
          1995,
          1996,
          1997,
          1998,
          1999,
          2000,
          2001,
          2002,
          2003,
          2004,
          2005,
          2006,
          2007,
          2008,
          2009,
          2010,
          2011,
          2012,
          2013,
          2014,
          2015,
          2016,
          2017,
          2018,
          2019
         ],
         "xaxis": "x",
         "y": [
          0.0472836591420287,
          0.06755495578972326,
          0.15243307321569777,
          0.2680724504075729,
          0.3681893832139116,
          0.5040774892802089,
          0.5762007308962813,
          0.3953746702352783,
          0.3137938443321213,
          0.46526247886959005,
          0.07956367611201776,
          0.133581605955305,
          0.17945379153366692,
          0.004647320686754108,
          -0.013745342315328202,
          0.10851462624537267,
          0.13770317786266806,
          0.13794252504061943,
          0.14863779418802192,
          0.2938624664325675,
          0.2927837454077684,
          0.3403826903611926,
          0.6025886293304024,
          1.0151091903137135,
          1.437002210929216,
          1.7635728306644962,
          2.1874526222958717,
          3.0381420211592243,
          2.2402069097326556,
          2.806872441578514,
          3.723262018506703,
          3.9368797958812403,
          3.953315941896185,
          4.049074342360326,
          2.9195623334725678,
          2.7791698070019457,
          3.016801701871387,
          3.130479988881384,
          3.056247555951134
         ],
         "yaxis": "y"
        },
        {
         "hovertemplate": "Country=Namibia<br>Year=%{x}<br>Values=%{y}<extra></extra>",
         "legendgroup": "Namibia",
         "line": {
          "color": "#00cc96",
          "dash": "solid"
         },
         "marker": {
          "symbol": "circle"
         },
         "mode": "lines",
         "name": "Namibia",
         "showlegend": true,
         "type": "scattergl",
         "x": [
          1981,
          1982,
          1983,
          1984,
          1985,
          1986,
          1987,
          1988,
          1989,
          1990,
          1991,
          1992,
          1993,
          1994,
          1995,
          1996,
          1997,
          1998,
          1999,
          2000,
          2001,
          2002,
          2003,
          2004,
          2005,
          2006,
          2007,
          2008,
          2009,
          2010,
          2011,
          2012,
          2013,
          2014,
          2015,
          2016,
          2017,
          2018,
          2019
         ],
         "xaxis": "x",
         "y": [
          -0.07111251136378083,
          -0.12524466263417067,
          -0.051482428116297,
          -0.19440453331729335,
          -0.33602166851299387,
          -0.2530957459861062,
          -0.050365705464362365,
          0.030124136531913148,
          0.04666102722724297,
          0.15187193737942972,
          0.23731077085422436,
          0.4159382735986077,
          0.3423210809093693,
          0.5137721013239605,
          0.642584616995286,
          0.6470067821445855,
          0.7154380164076355,
          0.5990689620529932,
          0.5971875103198083,
          0.6193610282367541,
          0.4687003548744719,
          0.3827629692913146,
          1.0339702235431685,
          1.7287104347622924,
          1.992612157858448,
          2.3036590228479064,
          2.649535848006779,
          2.553729927716798,
          2.6905506181709455,
          3.7196040517546916,
          4.170481245598487,
          4.384595420969102,
          3.972253794327462,
          4.1341547474836435,
          3.6799050132162634,
          3.426742105355282,
          4.3239643528943015,
          4.648851997529506,
          4.178656429949487
         ],
         "yaxis": "y"
        },
        {
         "hovertemplate": "Country=Togo<br>Year=%{x}<br>Values=%{y}<extra></extra>",
         "legendgroup": "Togo",
         "line": {
          "color": "#ab63fa",
          "dash": "solid"
         },
         "marker": {
          "symbol": "circle"
         },
         "mode": "lines",
         "name": "Togo",
         "showlegend": true,
         "type": "scattergl",
         "x": [
          1981,
          1982,
          1983,
          1984,
          1985,
          1986,
          1987,
          1988,
          1989,
          1990,
          1991,
          1992,
          1993,
          1994,
          1995,
          1996,
          1997,
          1998,
          1999,
          2000,
          2001,
          2002,
          2003,
          2004,
          2005,
          2006,
          2007,
          2008,
          2009,
          2010,
          2011,
          2012,
          2013,
          2014,
          2015,
          2016,
          2017,
          2018,
          2019
         ],
         "xaxis": "x",
         "y": [
          -0.15316830618577904,
          -0.2769750564586453,
          -0.32616978938341956,
          -0.3680540394977706,
          -0.32915011466173094,
          -0.06643478824970417,
          0.09916353553231327,
          0.21333755087580641,
          0.19054837119318346,
          0.43295924413397935,
          0.409967823997051,
          0.4897447899298497,
          0.08543407172234985,
          -0.1353249708818025,
          0.15221113121654906,
          0.2895432277836798,
          0.3190243514144355,
          0.3968089046335401,
          0.3874168978256447,
          0.3128119822014961,
          0.30449335972900116,
          0.5018346198337293,
          0.8618619696430503,
          0.9887144609022043,
          1.007625096675675,
          1.0693121868058144,
          1.343005716937009,
          1.9247195978443945,
          1.9736293161017797,
          2.017806138574252,
          2.407628664410624,
          2.408375877511351,
          2.8029057873735423,
          3.0258280996711324,
          2.679015971020962,
          4.307625295423602,
          4.627792124204897,
          5.258487822472928,
          5.353695217372041
         ],
         "yaxis": "y"
        },
        {
         "hovertemplate": "Country=Congo, Rep.<br>Year=%{x}<br>Values=%{y}<extra></extra>",
         "legendgroup": "Congo, Rep.",
         "line": {
          "color": "#FFA15A",
          "dash": "solid"
         },
         "marker": {
          "symbol": "circle"
         },
         "mode": "lines",
         "name": "Congo, Rep.",
         "showlegend": true,
         "type": "scattergl",
         "x": [
          1981,
          1982,
          1983,
          1984,
          1985,
          1986,
          1987,
          1988,
          1989,
          1990,
          1991,
          1992,
          1993,
          1994,
          1995,
          1996,
          1997,
          1998,
          1999,
          2000,
          2001,
          2002,
          2003,
          2004,
          2005,
          2006,
          2007,
          2008,
          2009,
          2010,
          2011,
          2012,
          2013,
          2014,
          2015,
          2016,
          2017,
          2018,
          2019
         ],
         "xaxis": "x",
         "y": [
          0.1686692506512677,
          0.2666458887609977,
          0.22949827828128289,
          0.28595698074500286,
          0.26678188085134025,
          0.08410811942431962,
          0.34702655236501245,
          0.2970690583248967,
          0.40086612458211635,
          0.6407264741556686,
          0.5974079846461806,
          0.7195615682940988,
          0.5736478931340616,
          0.037266213356887956,
          0.24047823674678703,
          0.4894490738329298,
          0.36166220608391586,
          0.14285671307663472,
          0.3804533404360695,
          0.8923283263741071,
          0.6395297035446352,
          0.7787879764150574,
          1.0540095894972419,
          1.7300876647709988,
          2.8984722516472337,
          3.732278074514376,
          4.148739388453872,
          5.829569221701671,
          4.700151170275322,
          6.708066883325651,
          8.177753839884476,
          9.372226496529159,
          9.52805362445917,
          9.501196368622711,
          5.970501311362879,
          4.9909484648508355,
          5.5041881625826194,
          7.013872240116568,
          6.474711153063451
         ],
         "yaxis": "y"
        },
        {
         "hovertemplate": "Country=Chad<br>Year=%{x}<br>Values=%{y}<extra></extra>",
         "legendgroup": "Chad",
         "line": {
          "color": "#19d3f3",
          "dash": "solid"
         },
         "marker": {
          "symbol": "circle"
         },
         "mode": "lines",
         "name": "Chad",
         "showlegend": true,
         "type": "scattergl",
         "x": [
          1981,
          1982,
          1983,
          1984,
          1985,
          1986,
          1987,
          1988,
          1989,
          1990,
          1991,
          1992,
          1993,
          1994,
          1995,
          1996,
          1997,
          1998,
          1999,
          2000,
          2001,
          2002,
          2003,
          2004,
          2005,
          2006,
          2007,
          2008,
          2009,
          2010,
          2011,
          2012,
          2013,
          2014,
          2015,
          2016,
          2017,
          2018,
          2019
         ],
         "xaxis": "x",
         "y": [
          -0.15107887633482142,
          -0.19228662108457517,
          -0.1941782473333442,
          -0.11025982739819129,
          0.00006515778684490492,
          0.033713227906230436,
          0.12625764332603695,
          0.43523122137107406,
          0.38788284253896355,
          0.6830605185151297,
          0.8171671607773179,
          0.8217263323300776,
          0.4165030524443689,
          0.14214444478613442,
          0.39972566114600583,
          0.5559939136342937,
          0.49533970110880077,
          0.6890516945109606,
          0.4856437705300358,
          0.34414665845534853,
          0.6561852688708087,
          0.9332053661905968,
          1.65518762554857,
          3.2815543519551182,
          5.436874730528177,
          6.191369348331768,
          7.373783113333689,
          9.061772075508648,
          7.993908200728795,
          9.327277764043766,
          10.78342809352247,
          10.972250650617955,
          11.539695428296412,
          12.495387852594419,
          9.60054865343577,
          8.775174129020682,
          8.680902216927212,
          9.880097692300026,
          9.953460826938912
         ],
         "yaxis": "y"
        },
        {
         "hovertemplate": "Country=Mauritius<br>Year=%{x}<br>Values=%{y}<extra></extra>",
         "legendgroup": "Mauritius",
         "line": {
          "color": "#FF6692",
          "dash": "solid"
         },
         "marker": {
          "symbol": "circle"
         },
         "mode": "lines",
         "name": "Mauritius",
         "showlegend": true,
         "type": "scattergl",
         "x": [
          1981,
          1982,
          1983,
          1984,
          1985,
          1986,
          1987,
          1988,
          1989,
          1990,
          1991,
          1992,
          1993,
          1994,
          1995,
          1996,
          1997,
          1998,
          1999,
          2000,
          2001,
          2002,
          2003,
          2004,
          2005,
          2006,
          2007,
          2008,
          2009,
          2010,
          2011,
          2012,
          2013,
          2014,
          2015,
          2016,
          2017,
          2018,
          2019
         ],
         "xaxis": "x",
         "y": [
          0.00937044854841207,
          -0.047163738137493194,
          -0.03667757320683296,
          -0.08060792898644309,
          -0.04918508387230158,
          0.292556563522943,
          0.661841790134023,
          0.8859686676975449,
          0.9278609471238863,
          1.3445022851948742,
          1.524227326314414,
          1.848825930504605,
          1.8833737924689307,
          2.1438188409077252,
          2.569878148234793,
          2.907041921517285,
          2.6997802531915522,
          2.684138354397819,
          2.837918053396064,
          3.120305950361865,
          3.076408163112565,
          3.277576207248657,
          4.139260040439612,
          4.812787706594566,
          4.733184443247015,
          5.2103522712498656,
          6.2011166208606,
          7.82706684101567,
          7.065858238896915,
          7.838818751966672,
          9.177163407138618,
          9.309955176847785,
          9.717237012596645,
          10.312581302458426,
          9.330808497664878,
          9.808085600611385,
          10.715400035042398,
          11.530569911340757,
          11.4102804293392
         ],
         "yaxis": "y"
        },
        {
         "hovertemplate": "Country=Burkina Faso<br>Year=%{x}<br>Values=%{y}<extra></extra>",
         "legendgroup": "Burkina Faso",
         "line": {
          "color": "#B6E880",
          "dash": "solid"
         },
         "marker": {
          "symbol": "circle"
         },
         "mode": "lines",
         "name": "Burkina Faso",
         "showlegend": true,
         "type": "scattergl",
         "x": [
          1981,
          1982,
          1983,
          1984,
          1985,
          1986,
          1987,
          1988,
          1989,
          1990,
          1991,
          1992,
          1993,
          1994,
          1995,
          1996,
          1997,
          1998,
          1999,
          2000,
          2001,
          2002,
          2003,
          2004,
          2005,
          2006,
          2007,
          2008,
          2009,
          2010,
          2011,
          2012,
          2013,
          2014,
          2015,
          2016,
          2017,
          2018,
          2019
         ],
         "xaxis": "x",
         "y": [
          -0.07926370464502974,
          -0.09035509526011032,
          -0.170289523605341,
          -0.24308328108725175,
          -0.19506538581345667,
          0.05577996440045285,
          0.22870882875514842,
          0.35636139755363105,
          0.3561265681219672,
          0.6079583776667807,
          0.6254544638631747,
          0.7403736298483088,
          0.6588914382924922,
          -0.017332149316696133,
          0.23372949103952578,
          0.34107151267428804,
          0.26906427461112403,
          0.4542821188531714,
          0.7574183401011743,
          0.5390366646003792,
          0.6541394888253598,
          0.8781114860751387,
          1.4579874941631603,
          1.8265846496985052,
          2.186753083593927,
          2.3946979902344045,
          2.9537751408920916,
          3.900368596705677,
          3.899985428784362,
          4.241622269426946,
          5.263376704355406,
          5.512619506656455,
          5.970584004871568,
          6.229157525076934,
          5.134722759928949,
          5.6538257742843525,
          6.314156877291651,
          7.238660523653698,
          7.388032691913464
         ],
         "yaxis": "y"
        },
        {
         "hovertemplate": "Country=Zambia<br>Year=%{x}<br>Values=%{y}<extra></extra>",
         "legendgroup": "Zambia",
         "line": {
          "color": "#FF97FF",
          "dash": "solid"
         },
         "marker": {
          "symbol": "circle"
         },
         "mode": "lines",
         "name": "Zambia",
         "showlegend": true,
         "type": "scattergl",
         "x": [
          1981,
          1982,
          1983,
          1984,
          1985,
          1986,
          1987,
          1988,
          1989,
          1990,
          1991,
          1992,
          1993,
          1994,
          1995,
          1996,
          1997,
          1998,
          1999,
          2000,
          2001,
          2002,
          2003,
          2004,
          2005,
          2006,
          2007,
          2008,
          2009,
          2010,
          2011,
          2012,
          2013,
          2014,
          2015,
          2016,
          2017,
          2018,
          2019
         ],
         "xaxis": "x",
         "y": [
          0.011272141706925254,
          0.04315910113011623,
          -0.16012333403637802,
          -0.28464696580638726,
          -0.40429349405506465,
          -0.5660141747098264,
          -0.4072608077184723,
          -0.030261272272795292,
          0.04416704038632213,
          -0.14212889638220383,
          -0.11767009976728526,
          -0.16910254923371182,
          -0.14525712146314385,
          -0.04513702983455259,
          -0.005857913079801325,
          -0.06065518683896831,
          0.12371900569099115,
          -0.07620236427123361,
          -0.11102964445765495,
          -0.0597511320714087,
          0.06919466983139055,
          0.09514184049362329,
          0.2800208202809009,
          0.6245143425456876,
          1.1757070555293825,
          2.331207442037133,
          2.6707032187661057,
          3.6770749805209046,
          3.0027006930297704,
          4.291959651091476,
          5.1259995497003805,
          5.659631915400446,
          6.321383852386528,
          6.087354369521584,
          4.549345031668939,
          4.472884851366837,
          5.756391503025278,
          5.870763884763573,
          5.086608638523516
         ],
         "yaxis": "y"
        },
        {
         "hovertemplate": "Country=Botswana<br>Year=%{x}<br>Values=%{y}<extra></extra>",
         "legendgroup": "Botswana",
         "line": {
          "color": "#FECB52",
          "dash": "solid"
         },
         "marker": {
          "symbol": "circle"
         },
         "mode": "lines",
         "name": "Botswana",
         "showlegend": true,
         "type": "scattergl",
         "x": [
          1981,
          1982,
          1983,
          1984,
          1985,
          1986,
          1987,
          1988,
          1989,
          1990,
          1991,
          1992,
          1993,
          1994,
          1995,
          1996,
          1997,
          1998,
          1999,
          2000,
          2001,
          2002,
          2003,
          2004,
          2005,
          2006,
          2007,
          2008,
          2009,
          2010,
          2011,
          2012,
          2013,
          2014,
          2015,
          2016,
          2017,
          2018,
          2019
         ],
         "xaxis": "x",
         "y": [
          0.012194815173373064,
          -0.04337406072571337,
          0.10494094859831393,
          0.16954330809392482,
          0.050748391674867,
          0.31266235494685835,
          0.852418456822357,
          1.4926735845687826,
          1.9067126217965513,
          2.572892744783992,
          2.7163769246176863,
          2.9083990843430074,
          2.921192209017884,
          3.0147377993418143,
          3.458954485828577,
          3.5693693643997353,
          3.731927598957217,
          3.515365482080086,
          4.169322496672232,
          4.455933263279672,
          4.174366103328137,
          4.126529310963225,
          6.080227597051481,
          7.44308277426393,
          8.349311266039676,
          8.555712692047898,
          9.31087535704321,
          9.316546901299724,
          8.677540362299933,
          11.052377510301039,
          13.47038132203506,
          12.554228664001958,
          13.046014032334716,
          13.755687713171978,
          11.798990558631944,
          13.216457063807812,
          14.164554922246197,
          14.942940137282259,
          14.737157153763276
         ],
         "yaxis": "y"
        },
        {
         "hovertemplate": "Country=Congo, Dem. Rep.<br>Year=%{x}<br>Values=%{y}<extra></extra>",
         "legendgroup": "Congo, Dem. Rep.",
         "line": {
          "color": "#636efa",
          "dash": "solid"
         },
         "marker": {
          "symbol": "circle"
         },
         "mode": "lines",
         "name": "Congo, Dem. Rep.",
         "showlegend": true,
         "type": "scattergl",
         "x": [
          1981,
          1982,
          1983,
          1984,
          1985,
          1986,
          1987,
          1988,
          1989,
          1990,
          1991,
          1992,
          1993,
          1994,
          1995,
          1996,
          1997,
          1998,
          1999,
          2000,
          2001,
          2002,
          2003,
          2004,
          2005,
          2006,
          2007,
          2008,
          2009,
          2010,
          2011,
          2012,
          2013,
          2014,
          2015,
          2016,
          2017,
          2018,
          2019
         ],
         "xaxis": "x",
         "y": [
          -0.1290111712828711,
          -0.05163347463627388,
          -0.23537561030615295,
          -0.45413207562131686,
          -0.5001681933740975,
          -0.43762362324466986,
          -0.4677551883946419,
          -0.3844151017847923,
          -0.3732609783272882,
          -0.3504819955677302,
          -0.33074262642502017,
          -0.42846527741267637,
          -0.2562486768514888,
          -0.5956643592605056,
          -0.6079563877317066,
          -0.5990632851966102,
          -0.5768759133826333,
          -0.5680557421776152,
          -0.6727139175273065,
          0.3260258735312598,
          -0.4832770708302031,
          -0.3936726302891058,
          -0.3791169102403631,
          -0.28464499144600985,
          -0.16884022707453994,
          0.003957989582589638,
          0.16270622567226223,
          0.37468673468161895,
          0.295482267561042,
          0.4981471808146898,
          0.7950593504581029,
          1.0358724166442195,
          1.2702264606267462,
          1.4945620795063501,
          1.6341018329968193,
          1.5797142769750057,
          1.6411571464634092,
          2.304511959886973,
          2.596810803270599
         ],
         "yaxis": "y"
        },
        {
         "hovertemplate": "Country=Central African Republic<br>Year=%{x}<br>Values=%{y}<extra></extra>",
         "legendgroup": "Central African Republic",
         "line": {
          "color": "#EF553B",
          "dash": "solid"
         },
         "marker": {
          "symbol": "circle"
         },
         "mode": "lines",
         "name": "Central African Republic",
         "showlegend": true,
         "type": "scattergl",
         "x": [
          1981,
          1982,
          1983,
          1984,
          1985,
          1986,
          1987,
          1988,
          1989,
          1990,
          1991,
          1992,
          1993,
          1994,
          1995,
          1996,
          1997,
          1998,
          1999,
          2000,
          2001,
          2002,
          2003,
          2004,
          2005,
          2006,
          2007,
          2008,
          2009,
          2010,
          2011,
          2012,
          2013,
          2014,
          2015,
          2016,
          2017,
          2018,
          2019
         ],
         "xaxis": "x",
         "y": [
          -0.12827900246897006,
          -0.061145305285428386,
          -0.17360137516210172,
          -0.1997714094445755,
          0.08506606106381298,
          0.40802685141827766,
          0.5067998195823293,
          0.5869801097789331,
          0.5481253732581051,
          0.8075590725544084,
          0.7280953980265858,
          0.7714334738794362,
          0.6043966242411742,
          0.06790848220209367,
          0.39940090374216086,
          0.2644045902129286,
          0.17651814467563898,
          0.21365126534114154,
          0.25397400734426023,
          0.15021585846237961,
          0.17012848755931742,
          0.2496965172112522,
          0.4331827957181713,
          0.5963410869713028,
          0.6785618072296975,
          0.8340924384166502,
          1.1326334573260453,
          1.5009884155062947,
          1.5937981013963838,
          1.6881584277276676,
          2.0587652834209598,
          2.149279100428798,
          1.1222613083754935,
          1.377288991537681,
          1.1276330249083224,
          1.2897217293914296,
          1.6000314903762014,
          1.7865058290047755,
          1.7869103498612615
         ],
         "yaxis": "y"
        },
        {
         "hovertemplate": "Country=Niger<br>Year=%{x}<br>Values=%{y}<extra></extra>",
         "legendgroup": "Niger",
         "line": {
          "color": "#00cc96",
          "dash": "solid"
         },
         "marker": {
          "symbol": "circle"
         },
         "mode": "lines",
         "name": "Niger",
         "showlegend": true,
         "type": "scattergl",
         "x": [
          1981,
          1982,
          1983,
          1984,
          1985,
          1986,
          1987,
          1988,
          1989,
          1990,
          1991,
          1992,
          1993,
          1994,
          1995,
          1996,
          1997,
          1998,
          1999,
          2000,
          2001,
          2002,
          2003,
          2004,
          2005,
          2006,
          2007,
          2008,
          2009,
          2010,
          2011,
          2012,
          2013,
          2014,
          2015,
          2016,
          2017,
          2018,
          2019
         ],
         "xaxis": "x",
         "y": [
          -0.13459353884604763,
          -0.19569763835036857,
          -0.2812109441503463,
          -0.417488888354848,
          -0.42572547574096187,
          -0.24094930772803524,
          -0.1098328512590091,
          -0.09095700549303687,
          -0.1311357015056821,
          0.4001684225630182,
          0.3098526207430885,
          0.34989035000403845,
          0.21692014745869814,
          -0.22741101252582185,
          -0.0821146175776325,
          -0.040995062300666185,
          -0.08698556198064111,
          0.05375240999163999,
          0.011666555363549547,
          -0.10634582184361185,
          -0.02384250715810088,
          0.1090955399211384,
          0.35302059395189667,
          0.49906625818750827,
          0.7473683055146916,
          0.8960795776703512,
          1.2848036699552918,
          1.9091212021504607,
          1.9308593909740015,
          2.1298051427214606,
          2.4972559998677797,
          2.757951946489242,
          3.0760611318877453,
          3.330412384424097,
          2.8603845025913075,
          3.1454103975605756,
          3.4588377740453655,
          4.106054227953185,
          4.149025562903579
         ],
         "yaxis": "y"
        },
        {
         "hovertemplate": "Country=Rwanda<br>Year=%{x}<br>Values=%{y}<extra></extra>",
         "legendgroup": "Rwanda",
         "line": {
          "color": "#ab63fa",
          "dash": "solid"
         },
         "marker": {
          "symbol": "circle"
         },
         "mode": "lines",
         "name": "Rwanda",
         "showlegend": true,
         "type": "scattergl",
         "x": [
          1981,
          1982,
          1983,
          1984,
          1985,
          1986,
          1987,
          1988,
          1989,
          1990,
          1991,
          1992,
          1993,
          1994,
          1995,
          1996,
          1997,
          1998,
          1999,
          2000,
          2001,
          2002,
          2003,
          2004,
          2005,
          2006,
          2007,
          2008,
          2009,
          2010,
          2011,
          2012,
          2013,
          2014,
          2015,
          2016,
          2017,
          2018,
          2019
         ],
         "xaxis": "x",
         "y": [
          0.12137509033745775,
          0.12151856943494788,
          0.17925485108874462,
          0.2651074221238634,
          0.36728818601255653,
          0.5498603475259363,
          0.7193924149099644,
          0.9091170135067537,
          0.9167105092841414,
          1.032400415174238,
          0.52347287074029,
          0.6170566904300256,
          0.5712308273287348,
          -0.3993806328047891,
          0.03089793722382117,
          0.10166803656412648,
          0.4756211604032292,
          0.5854306905482267,
          0.7180163010188183,
          0.647782051479455,
          0.5664290932538998,
          0.5658963741997627,
          0.703232183621771,
          0.8930845302973611,
          1.336963525074855,
          1.6444046669443946,
          2.242219743562394,
          3.1260550616650997,
          3.520042390800608,
          3.8786249068983043,
          4.484196517071561,
          5.097292595277111,
          5.229033415768319,
          5.5627905659699195,
          5.805595094368434,
          5.926297676634876,
          6.374154953271644,
          6.684656454958042,
          7.253596698369684
         ],
         "yaxis": "y"
        },
        {
         "hovertemplate": "Country=Morocco<br>Year=%{x}<br>Values=%{y}<extra></extra>",
         "legendgroup": "Morocco",
         "line": {
          "color": "#FFA15A",
          "dash": "solid"
         },
         "marker": {
          "symbol": "circle"
         },
         "mode": "lines",
         "name": "Morocco",
         "showlegend": true,
         "type": "scattergl",
         "x": [
          1981,
          1982,
          1983,
          1984,
          1985,
          1986,
          1987,
          1988,
          1989,
          1990,
          1991,
          1992,
          1993,
          1994,
          1995,
          1996,
          1997,
          1998,
          1999,
          2000,
          2001,
          2002,
          2003,
          2004,
          2005,
          2006,
          2007,
          2008,
          2009,
          2010,
          2011,
          2012,
          2013,
          2014,
          2015,
          2016,
          2017,
          2018,
          2019
         ],
         "xaxis": "x",
         "y": [
          -0.18135395251963815,
          -0.18576425112711414,
          -0.2520763647501858,
          -0.3177373366887192,
          -0.3100721680272662,
          -0.10431307100119758,
          0.001679385729417282,
          0.18300741910340346,
          0.21103127885110662,
          0.3889469346407457,
          0.48583597152612423,
          0.5514485792276471,
          0.45684608853414144,
          0.6385712275402275,
          0.7962491834057761,
          0.9863734840231397,
          0.801659478484609,
          0.924003027878302,
          0.9159863855041106,
          0.7882858181716508,
          0.8160062036097591,
          0.9438208749492418,
          1.39608862817748,
          1.7441047059000279,
          1.8691464124286568,
          2.158983472418596,
          2.637633178178585,
          3.2573628211724213,
          3.275314255664746,
          3.2900148707923407,
          3.665265177769256,
          3.522405380742801,
          3.91632290276225,
          4.06615184876167,
          3.6564903498216523,
          3.754601801423874,
          4.047811162048093,
          4.435016666802271,
          4.516669319439686
         ],
         "yaxis": "y"
        },
        {
         "hovertemplate": "Country=Kenya<br>Year=%{x}<br>Values=%{y}<extra></extra>",
         "legendgroup": "Kenya",
         "line": {
          "color": "#19d3f3",
          "dash": "solid"
         },
         "marker": {
          "symbol": "circle"
         },
         "mode": "lines",
         "name": "Kenya",
         "showlegend": true,
         "type": "scattergl",
         "x": [
          1981,
          1982,
          1983,
          1984,
          1985,
          1986,
          1987,
          1988,
          1989,
          1990,
          1991,
          1992,
          1993,
          1994,
          1995,
          1996,
          1997,
          1998,
          1999,
          2000,
          2001,
          2002,
          2003,
          2004,
          2005,
          2006,
          2007,
          2008,
          2009,
          2010,
          2011,
          2012,
          2013,
          2014,
          2015,
          2016,
          2017,
          2018,
          2019
         ],
         "xaxis": "x",
         "y": [
          -0.05654591149437305,
          -0.11475564872535438,
          -0.17702147933476442,
          -0.14780889913132178,
          -0.15557218674122542,
          -0.003604608096426598,
          0.0971059295818828,
          0.15003692169591631,
          0.1400901778060748,
          0.17990187231548793,
          0.12197181156522241,
          0.12990679647526804,
          -0.20832205451309038,
          -0.016127304939854703,
          0.2451388063796598,
          0.6579952674331371,
          0.8052587037040484,
          0.9399018763010059,
          0.7750108547390517,
          0.7487688452701775,
          0.7873976328812193,
          0.8096590871283642,
          1.0514619076442249,
          1.215366623356409,
          1.57908939798345,
          2.5546323376219084,
          3.3987347724799495,
          3.940618774193302,
          4.828682717816629,
          5.249637556555969,
          5.4511249930545915,
          6.762458122151062,
          7.488471945821104,
          8.398871960485183,
          8.651392971696685,
          9.29757386982237,
          10.291430189013424,
          11.690840261153285,
          12.816291394884422
         ],
         "yaxis": "y"
        },
        {
         "hovertemplate": "Country=Zimbabwe<br>Year=%{x}<br>Values=%{y}<extra></extra>",
         "legendgroup": "Zimbabwe",
         "line": {
          "color": "#FF6692",
          "dash": "solid"
         },
         "marker": {
          "symbol": "circle"
         },
         "mode": "lines",
         "name": "Zimbabwe",
         "showlegend": true,
         "type": "scattergl",
         "x": [
          1981,
          1982,
          1983,
          1984,
          1985,
          1986,
          1987,
          1988,
          1989,
          1990,
          1991,
          1992,
          1993,
          1994,
          1995,
          1996,
          1997,
          1998,
          1999,
          2000,
          2001,
          2002,
          2003,
          2004,
          2005,
          2006,
          2007,
          2008,
          2009,
          2010,
          2011,
          2012,
          2013,
          2014,
          2015,
          2016,
          2017,
          2018,
          2019
         ],
         "xaxis": "x",
         "y": [
          0.19951068955066376,
          0.278614945568173,
          0.16248243976427057,
          -0.0489218068414643,
          -0.1559558998334476,
          -0.06907525140262505,
          0.009334949894654665,
          0.17007610660740435,
          0.24067767949066643,
          0.31516544973892513,
          0.29385420421981157,
          0.010870704111215046,
          -0.01722670616557409,
          0.031712977956355415,
          0.06474188246445745,
          0.2806281459484412,
          0.27709835627539436,
          -0.0414591202743001,
          0.026822643393382473,
          0.001660371138930694,
          0.014750478232225417,
          -0.050420488908584526,
          -0.14243077891550515,
          -0.1307511652947423,
          -0.13829483863748016,
          -0.18490733205365517,
          -0.20765765373240908,
          -0.3388546280940232,
          0.4472202490835204,
          0.8029484696224436,
          1.1114236540855837,
          1.5625374520790825,
          1.858421431343713,
          1.9189855251223564,
          1.9889975370377884,
          2.0766706999847684,
          1.6329148008419017,
          1.7123673125913021,
          1.8873589299234426
         ],
         "yaxis": "y"
        },
        {
         "hovertemplate": "Country=Madagascar<br>Year=%{x}<br>Values=%{y}<extra></extra>",
         "legendgroup": "Madagascar",
         "line": {
          "color": "#B6E880",
          "dash": "solid"
         },
         "marker": {
          "symbol": "circle"
         },
         "mode": "lines",
         "name": "Madagascar",
         "showlegend": true,
         "type": "scattergl",
         "x": [
          1981,
          1982,
          1983,
          1984,
          1985,
          1986,
          1987,
          1988,
          1989,
          1990,
          1991,
          1992,
          1993,
          1994,
          1995,
          1996,
          1997,
          1998,
          1999,
          2000,
          2001,
          2002,
          2003,
          2004,
          2005,
          2006,
          2007,
          2008,
          2009,
          2010,
          2011,
          2012,
          2013,
          2014,
          2015,
          2016,
          2017,
          2018,
          2019
         ],
         "xaxis": "x",
         "y": [
          -0.08506340464226037,
          -0.08013370940780462,
          -0.09907330499451639,
          -0.24912055383823828,
          -0.2689944861932613,
          -0.1641404010938362,
          -0.3823504887589039,
          -0.3868572973182526,
          -0.3895137969759894,
          -0.2442383399453797,
          -0.37431243505345735,
          -0.28583299953817454,
          -0.2188695093244135,
          -0.3228854476437333,
          -0.26216165294988436,
          -0.051896681452717086,
          -0.18048555415635914,
          -0.1537637026135127,
          -0.1776137701558952,
          -0.11007136726505018,
          0.04546763714782265,
          0.02881361385538539,
          0.22505214377303573,
          -0.02635340644092532,
          0.12638878487109273,
          0.22951475104488894,
          0.6387770905211116,
          1.0618055478778232,
          0.8487534408973461,
          0.9190811113610244,
          1.2207272232131876,
          1.2259475651220524,
          1.3883100939117403,
          1.407419173106709,
          1.1767428366574006,
          1.27778306362495,
          1.533020707330182,
          1.6172410564360624,
          1.7282597276833331
         ],
         "yaxis": "y"
        },
        {
         "hovertemplate": "Country=Sudan<br>Year=%{x}<br>Values=%{y}<extra></extra>",
         "legendgroup": "Sudan",
         "line": {
          "color": "#FF97FF",
          "dash": "solid"
         },
         "marker": {
          "symbol": "circle"
         },
         "mode": "lines",
         "name": "Sudan",
         "showlegend": true,
         "type": "scattergl",
         "x": [
          1981,
          1982,
          1983,
          1984,
          1985,
          1986,
          1987,
          1988,
          1989,
          1990,
          1991,
          1992,
          1993,
          1994,
          1995,
          1996,
          1997,
          1998,
          1999,
          2000,
          2001,
          2002,
          2003,
          2004,
          2005,
          2006,
          2007,
          2008,
          2009,
          2010,
          2011,
          2012,
          2013,
          2014,
          2015,
          2016,
          2017,
          2018,
          2019
         ],
         "xaxis": "x",
         "y": [
          0.11893697356956134,
          -0.07102482182354386,
          -0.08061464217767933,
          0.16709660455052622,
          -0.09633913801159211,
          0.1273933733997632,
          0.35093873113042084,
          0.605549225357537,
          1.3914867525091155,
          2.7580399720974778,
          3.90306817782856,
          -0.2142116990409001,
          -0.007821227185498936,
          0.42923125340759416,
          0.5449121828723387,
          0.007422311094031464,
          0.30493248701982867,
          0.2567671292977727,
          0.19328461967031219,
          0.36926856342561276,
          0.7556792343357315,
          1.026054993074879,
          1.3856181631115527,
          1.9765511601065366,
          2.9301710733474717,
          4.056471268644061,
          5.640020976207333,
          6.242335128605241,
          5.514465408115127,
          7.28338285039584,
          7.758397010708348,
          6.059529873791795,
          6.375790370143702,
          7.581327491861938,
          8.493636158897326,
          10.499781233810406,
          13.490695160148125,
          2.6119864589571264,
          2.612466673215365
         ],
         "yaxis": "y"
        },
        {
         "hovertemplate": "Country=Angola<br>Year=%{x}<br>Values=%{y}<extra></extra>",
         "legendgroup": "Angola",
         "line": {
          "color": "#FECB52",
          "dash": "solid"
         },
         "marker": {
          "symbol": "circle"
         },
         "mode": "lines",
         "name": "Angola",
         "showlegend": true,
         "type": "scattergl",
         "x": [
          1981,
          1982,
          1983,
          1984,
          1985,
          1986,
          1987,
          1988,
          1989,
          1990,
          1991,
          1992,
          1993,
          1994,
          1995,
          1996,
          1997,
          1998,
          1999,
          2000,
          2001,
          2002,
          2003,
          2004,
          2005,
          2006,
          2007,
          2008,
          2009,
          2010,
          2011,
          2012,
          2013,
          2014,
          2015,
          2016,
          2017,
          2018,
          2019
         ],
         "xaxis": "x",
         "y": [
          -0.06407893888670169,
          -0.06407893888670169,
          -0.024645766930260216,
          0.03388779174848766,
          0.273679475168755,
          0.19248955231023102,
          0.3631004766061088,
          0.47866883414586003,
          0.720106768302784,
          0.8933915393105858,
          0.7880074968805868,
          0.40086100823076287,
          -0.027279805509040078,
          -0.2516114202598285,
          -0.06605748526371347,
          0.2691075439389239,
          0.28966748616842497,
          0.09707880889811782,
          0.03750432753846611,
          0.5394299946148902,
          0.5067968297178147,
          1.5774531763925577,
          2.003573831911869,
          2.971340315664799,
          5.234027063073807,
          7.832472279424978,
          10.005212824056729,
          13.929358406733215,
          10.85517690166385,
          12.776158719241765,
          17.453160554516398,
          20.077158205081112,
          21.494143488606447,
          22.142119434629382,
          13.706894867401806,
          7.404091635362109,
          10.63017017677776,
          12.117426096491577,
          10.686883915348725
         ],
         "yaxis": "y"
        },
        {
         "hovertemplate": "Country=Seychelles<br>Year=%{x}<br>Values=%{y}<extra></extra>",
         "legendgroup": "Seychelles",
         "line": {
          "color": "#636efa",
          "dash": "solid"
         },
         "marker": {
          "symbol": "circle"
         },
         "mode": "lines",
         "name": "Seychelles",
         "showlegend": true,
         "type": "scattergl",
         "x": [
          1981,
          1982,
          1983,
          1984,
          1985,
          1986,
          1987,
          1988,
          1989,
          1990,
          1991,
          1992,
          1993,
          1994,
          1995,
          1996,
          1997,
          1998,
          1999,
          2000,
          2001,
          2002,
          2003,
          2004,
          2005,
          2006,
          2007,
          2008,
          2009,
          2010,
          2011,
          2012,
          2013,
          2014,
          2015,
          2016,
          2017,
          2018,
          2019
         ],
         "xaxis": "x",
         "y": [
          0.05120649058963034,
          0.0037653192390649792,
          -0.004372858407605373,
          0.02684645603426916,
          0.1461096778621367,
          0.41052212925923626,
          0.6915834533279597,
          0.9261272958031674,
          1.0686659373918985,
          1.5013009338078964,
          1.5404900351870556,
          1.942965303185919,
          2.2161085185624505,
          2.30116973827644,
          2.44890802523437,
          2.413938337820077,
          2.820368122444479,
          3.1285338495746613,
          3.2277228216608638,
          3.1727154813363283,
          3.222813415271066,
          3.733519233173209,
          3.789075165300244,
          4.6958180361945,
          5.237246042013728,
          5.8976478388876705,
          6.013987061911897,
          5.563638861499565,
          4.750636678058842,
          5.58223595661776,
          6.232926238903378,
          6.1899866883539945,
          8.012722018763574,
          8.416421787925781,
          8.60929255004933,
          9.113019408511775,
          9.677646113566738,
          10.104376280503754,
          10.429562100187905
         ],
         "yaxis": "y"
        },
        {
         "hovertemplate": "Country=South Africa<br>Year=%{x}<br>Values=%{y}<extra></extra>",
         "legendgroup": "South Africa",
         "line": {
          "color": "#EF553B",
          "dash": "solid"
         },
         "marker": {
          "symbol": "circle"
         },
         "mode": "lines",
         "name": "South Africa",
         "showlegend": true,
         "type": "scattergl",
         "x": [
          1981,
          1982,
          1983,
          1984,
          1985,
          1986,
          1987,
          1988,
          1989,
          1990,
          1991,
          1992,
          1993,
          1994,
          1995,
          1996,
          1997,
          1998,
          1999,
          2000,
          2001,
          2002,
          2003,
          2004,
          2005,
          2006,
          2007,
          2008,
          2009,
          2010,
          2011,
          2012,
          2013,
          2014,
          2015,
          2016,
          2017,
          2018,
          2019
         ],
         "xaxis": "x",
         "y": [
          0.04171238840192637,
          -0.03923218453864652,
          0.07596546780727587,
          -0.05079592557818857,
          -0.2790738142777941,
          -0.17958586529488307,
          0.07967455660575817,
          0.1628973443516608,
          0.20851486272739916,
          0.40974697921353687,
          0.5121526432094217,
          0.6435942118421716,
          0.6462758136816056,
          0.7169150331625391,
          0.920720106877909,
          0.8256719265803518,
          0.8898678377768365,
          0.7109864693640895,
          0.6945906472393251,
          0.6972391675295702,
          0.5146710367969713,
          0.4437467502023371,
          1.2035126585502924,
          1.8609910644169783,
          2.2307613041571526,
          2.398439051548976,
          2.7251806846857054,
          2.5356832590263725,
          2.6880221638986064,
          3.667892107840511,
          4.124614754969635,
          3.8584200929726897,
          3.483587061475058,
          3.263402220116613,
          2.87766965638012,
          2.619043207431413,
          3.2661976521849887,
          3.5278328876252134,
          3.3387356458888444
         ],
         "yaxis": "y"
        },
        {
         "hovertemplate": "Country=Mauritania<br>Year=%{x}<br>Values=%{y}<extra></extra>",
         "legendgroup": "Mauritania",
         "line": {
          "color": "#00cc96",
          "dash": "solid"
         },
         "marker": {
          "symbol": "circle"
         },
         "mode": "lines",
         "name": "Mauritania",
         "showlegend": true,
         "type": "scattergl",
         "x": [
          1981,
          1982,
          1983,
          1984,
          1985,
          1986,
          1987,
          1988,
          1989,
          1990,
          1991,
          1992,
          1993,
          1994,
          1995,
          1996,
          1997,
          1998,
          1999,
          2000,
          2001,
          2002,
          2003,
          2004,
          2005,
          2006,
          2007,
          2008,
          2009,
          2010,
          2011,
          2012,
          2013,
          2014,
          2015,
          2016,
          2017,
          2018,
          2019
         ],
         "xaxis": "x",
         "y": [
          0.05493784243719957,
          0.05806845099788749,
          0.11188397623191637,
          0.025239492510476635,
          -0.036454264945096515,
          0.13236078520982475,
          0.28316980789492874,
          0.3502419809277306,
          0.3843047020642403,
          0.4379988189904134,
          1.0361084855893616,
          1.0653128161361445,
          0.7628658828495654,
          0.8559318712913144,
          0.9960704450007525,
          1.0345755620039352,
          0.9772424177330814,
          0.9394007322411113,
          0.8951022753294358,
          0.6981405541337031,
          0.6662120890693699,
          0.695788523045382,
          0.9573426471704638,
          1.254456964281069,
          1.8017467936055822,
          2.7403235902806604,
          3.1474421011133993,
          3.9683385261059225,
          3.4989804342369153,
          4.3714538261276195,
          5.455261522281789,
          5.420508232050793,
          5.892739075513007,
          5.291041810471118,
          4.884835293453455,
          5.106114153337427,
          5.48914592031715,
          6.016280790600775,
          6.528838348371075
         ],
         "yaxis": "y"
        },
        {
         "hovertemplate": "Country=Lesotho<br>Year=%{x}<br>Values=%{y}<extra></extra>",
         "legendgroup": "Lesotho",
         "line": {
          "color": "#ab63fa",
          "dash": "solid"
         },
         "marker": {
          "symbol": "circle"
         },
         "mode": "lines",
         "name": "Lesotho",
         "showlegend": true,
         "type": "scattergl",
         "x": [
          1981,
          1982,
          1983,
          1984,
          1985,
          1986,
          1987,
          1988,
          1989,
          1990,
          1991,
          1992,
          1993,
          1994,
          1995,
          1996,
          1997,
          1998,
          1999,
          2000,
          2001,
          2002,
          2003,
          2004,
          2005,
          2006,
          2007,
          2008,
          2009,
          2010,
          2011,
          2012,
          2013,
          2014,
          2015,
          2016,
          2017,
          2018,
          2019
         ],
         "xaxis": "x",
         "y": [
          0.00608640590788645,
          -0.19189519352607876,
          -0.10395292549978996,
          -0.22801600328068172,
          -0.37754644601643805,
          -0.2611412749539871,
          -0.06670319772216882,
          0.08997052405216932,
          0.147936110819338,
          0.38199370253755727,
          0.6320487216020829,
          0.9256448477357408,
          0.9362084927497631,
          1.0350534094893407,
          1.3215466247006282,
          1.1923261150163476,
          1.3125239723575546,
          1.1513931889331337,
          1.1150439783677126,
          1.056011766204017,
          0.9133013430904207,
          0.797613827285198,
          1.6828928575677726,
          2.501788477593993,
          2.898288926099991,
          3.171146186204097,
          2.897515020830556,
          3.0940304417363294,
          3.033795899640907,
          4.178248321932953,
          4.9769521251139945,
          4.741251158825486,
          4.484997729243985,
          4.656329108125394,
          4.467958736965473,
          3.8985393402808004,
          4.343817790124135,
          4.825699483217727,
          4.679974419181059
         ],
         "yaxis": "y"
        },
        {
         "hovertemplate": "Country=Malawi<br>Year=%{x}<br>Values=%{y}<extra></extra>",
         "legendgroup": "Malawi",
         "line": {
          "color": "#FFA15A",
          "dash": "solid"
         },
         "marker": {
          "symbol": "circle"
         },
         "mode": "lines",
         "name": "Malawi",
         "showlegend": true,
         "type": "scattergl",
         "x": [
          1981,
          1982,
          1983,
          1984,
          1985,
          1986,
          1987,
          1988,
          1989,
          1990,
          1991,
          1992,
          1993,
          1994,
          1995,
          1996,
          1997,
          1998,
          1999,
          2000,
          2001,
          2002,
          2003,
          2004,
          2005,
          2006,
          2007,
          2008,
          2009,
          2010,
          2011,
          2012,
          2013,
          2014,
          2015,
          2016,
          2017,
          2018,
          2019
         ],
         "xaxis": "x",
         "y": [
          0.000024425858147880675,
          -0.04650021508025359,
          -0.011690346215912917,
          -0.023953738867948715,
          -0.08589439163043233,
          -0.04363139424109175,
          -0.044084428255928954,
          0.11495024304326629,
          0.2848612820367238,
          0.5196244959457619,
          0.7804194510007414,
          0.4539725618726771,
          0.6730317932442094,
          -0.04512795916823087,
          0.129117089669182,
          0.8430283733772432,
          1.1518387123851421,
          0.41443585895932444,
          0.43490799649124723,
          0.4087171963886904,
          0.38689879063784693,
          1.8244923626659415,
          1.5926739532736005,
          1.8086124191986244,
          1.953899351557033,
          2.230317565890634,
          2.5817213957749066,
          3.2992677359429283,
          4.002303031445563,
          4.623257674978199,
          5.467066957285026,
          3.870893490205665,
          3.4591414507645712,
          3.886508101130236,
          4.149423923620624,
          3.3897840153662635,
          6.226198209377381,
          6.983381909569909,
          7.908271417126134
         ],
         "yaxis": "y"
        },
        {
         "hovertemplate": "Country=Guinea-Bissau<br>Year=%{x}<br>Values=%{y}<extra></extra>",
         "legendgroup": "Guinea-Bissau",
         "line": {
          "color": "#19d3f3",
          "dash": "solid"
         },
         "marker": {
          "symbol": "circle"
         },
         "mode": "lines",
         "name": "Guinea-Bissau",
         "showlegend": true,
         "type": "scattergl",
         "x": [
          1981,
          1982,
          1983,
          1984,
          1985,
          1986,
          1987,
          1988,
          1989,
          1990,
          1991,
          1992,
          1993,
          1994,
          1995,
          1996,
          1997,
          1998,
          1999,
          2000,
          2001,
          2002,
          2003,
          2004,
          2005,
          2006,
          2007,
          2008,
          2009,
          2010,
          2011,
          2012,
          2013,
          2014,
          2015,
          2016,
          2017,
          2018,
          2019
         ],
         "xaxis": "x",
         "y": [
          0.3983426392595917,
          0.49586899452687283,
          0.4782817482047743,
          0.25146052083487325,
          0.3000566920068819,
          0.17686859913139386,
          0.5709927155283678,
          0.4862397374218106,
          0.9262145291698911,
          1.2047315842508008,
          1.3239175037159279,
          1.0452382196891357,
          1.1407376510082705,
          1.1293437557655426,
          1.2951480361726788,
          1.443835677914965,
          1.4269471419582378,
          0.8657966303496625,
          1.0283677694178195,
          2.353661663803743,
          2.5481951535729164,
          2.775799394826143,
          3.3148854006440835,
          3.808355245430011,
          4.305094732018215,
          4.353322918720233,
          5.298117348192908,
          6.845681463082427,
          6.502012940400471,
          6.680515158628016,
          8.939273180132925,
          7.940234813164796,
          8.453693660101402,
          8.533476051453974,
          8.473053237960016,
          9.654894941537094,
          11.201810987780572,
          12.597632464829168,
          12.010290145209998
         ],
         "yaxis": "y"
        },
        {
         "hovertemplate": "Country=Cameroon<br>Year=%{x}<br>Values=%{y}<extra></extra>",
         "legendgroup": "Cameroon",
         "line": {
          "color": "#FF6692",
          "dash": "solid"
         },
         "marker": {
          "symbol": "circle"
         },
         "mode": "lines",
         "name": "Cameroon",
         "showlegend": true,
         "type": "scattergl",
         "x": [
          1981,
          1982,
          1983,
          1984,
          1985,
          1986,
          1987,
          1988,
          1989,
          1990,
          1991,
          1992,
          1993,
          1994,
          1995,
          1996,
          1997,
          1998,
          1999,
          2000,
          2001,
          2002,
          2003,
          2004,
          2005,
          2006,
          2007,
          2008,
          2009,
          2010,
          2011,
          2012,
          2013,
          2014,
          2015,
          2016,
          2017,
          2018,
          2019
         ],
         "xaxis": "x",
         "y": [
          -0.009533224539871266,
          -0.0094856491682912,
          0.029310218256707543,
          0.09549230274375153,
          0.28020424306656677,
          0.7764530980967985,
          0.9551316376053527,
          0.833236073159519,
          0.6499295203966338,
          0.8449857394229199,
          0.7739265431416529,
          0.8086228290337145,
          1.4243987657931099,
          0.33378619981215096,
          0.627786794160309,
          0.6620611431582988,
          0.6165028989297636,
          0.6927155654520463,
          0.7328204664865554,
          0.5831106292308996,
          0.6410778734587268,
          0.860382951132354,
          1.3927116553612877,
          1.8205894876717768,
          1.923013434452785,
          2.1328642017270267,
          2.584988972743399,
          3.1523505546824104,
          3.1849859425289404,
          3.1212406936604253,
          3.589197968371555,
          3.5179053188046483,
          4.0533045305213165,
          4.4515212013072025,
          3.825815651433026,
          4.066146573033525,
          4.408372821925413,
          4.988978059702421,
          4.9436025763923785
         ],
         "yaxis": "y"
        },
        {
         "hovertemplate": "Country=Nigeria<br>Year=%{x}<br>Values=%{y}<extra></extra>",
         "legendgroup": "Nigeria",
         "line": {
          "color": "#B6E880",
          "dash": "solid"
         },
         "marker": {
          "symbol": "circle"
         },
         "mode": "lines",
         "name": "Nigeria",
         "showlegend": true,
         "type": "scattergl",
         "x": [
          1981,
          1982,
          1983,
          1984,
          1985,
          1986,
          1987,
          1988,
          1989,
          1990,
          1991,
          1992,
          1993,
          1994,
          1995,
          1996,
          1997,
          1998,
          1999,
          2000,
          2001,
          2002,
          2003,
          2004,
          2005,
          2006,
          2007,
          2008,
          2009,
          2010,
          2011,
          2012,
          2013,
          2014,
          2015,
          2016,
          2017,
          2018,
          2019
         ],
         "xaxis": "x",
         "y": [
          1.5618477977878533,
          1.223759921476502,
          0.5123396813594647,
          0.1445843125296835,
          0.14865681026506428,
          -0.14635005996638584,
          -0.1795237567135376,
          -0.22668087770941525,
          -0.31461315338494356,
          -0.158344386224616,
          -0.2349366819233928,
          -0.2555514852096894,
          -0.5677347137576567,
          -0.47302023857734876,
          -0.31368787243082663,
          -0.2044487141859489,
          -0.1517707405673,
          -0.14949331218150674,
          -0.07521869371808743,
          0.08172620986751689,
          0.15308882566752935,
          0.4857190447471109,
          0.6340969761429833,
          1.1243330335594748,
          1.7434451952331886,
          2.67752969715968,
          3.293115394889872,
          4.287644248090072,
          3.595024156206728,
          4.63000864595004,
          5.308135738527569,
          6.094841715399453,
          6.923345701307368,
          7.514971164412733,
          6.582394654931532,
          5.302784054173967,
          4.852585738283602,
          5.1865953593971215,
          5.979874579240666
         ],
         "yaxis": "y"
        },
        {
         "hovertemplate": "Country=Cote d'Ivoire<br>Year=%{x}<br>Values=%{y}<extra></extra>",
         "legendgroup": "Cote d'Ivoire",
         "line": {
          "color": "#FF97FF",
          "dash": "solid"
         },
         "marker": {
          "symbol": "circle"
         },
         "mode": "lines",
         "name": "Cote d'Ivoire",
         "showlegend": true,
         "type": "scattergl",
         "x": [
          1981,
          1982,
          1983,
          1984,
          1985,
          1986,
          1987,
          1988,
          1989,
          1990,
          1991,
          1992,
          1993,
          1994,
          1995,
          1996,
          1997,
          1998,
          1999,
          2000,
          2001,
          2002,
          2003,
          2004,
          2005,
          2006,
          2007,
          2008,
          2009,
          2010,
          2011,
          2012,
          2013,
          2014,
          2015,
          2016,
          2017,
          2018,
          2019
         ],
         "xaxis": "x",
         "y": [
          -0.17129449986855683,
          -0.2563486886977645,
          -0.3279831124083581,
          -0.3276437426642156,
          -0.3142773418240763,
          -0.09997559776778508,
          -0.008644415955673002,
          0.007818202115461359,
          -0.04109872568621753,
          0.06095303706087285,
          0.031154230964483665,
          0.09604882179855556,
          0.08551266821198689,
          -0.18299217400739942,
          0.08103012563704137,
          0.7759273622052267,
          0.7736084146408426,
          0.9281048931596245,
          0.854530820631002,
          0.6291430675849476,
          0.652041292229008,
          0.7742793176835174,
          1.0884982746722085,
          1.310482077734867,
          1.3622076869984419,
          1.4845096218067608,
          1.826373716551236,
          2.349010545934925,
          2.3301980701619316,
          2.433335850469728,
          2.606043588680128,
          2.5675783726140646,
          3.2022261755031707,
          3.8000053519738577,
          3.5023947920847336,
          3.7136445784852663,
          4.069782659587693,
          4.701027793610294,
          4.752912466520696
         ],
         "yaxis": "y"
        },
        {
         "hovertemplate": "Country=Sierra Leone<br>Year=%{x}<br>Values=%{y}<extra></extra>",
         "legendgroup": "Sierra Leone",
         "line": {
          "color": "#FECB52",
          "dash": "solid"
         },
         "marker": {
          "symbol": "circle"
         },
         "mode": "lines",
         "name": "Sierra Leone",
         "showlegend": true,
         "type": "scattergl",
         "x": [
          1981,
          1982,
          1983,
          1984,
          1985,
          1986,
          1987,
          1988,
          1989,
          1990,
          1991,
          1992,
          1993,
          1994,
          1995,
          1996,
          1997,
          1998,
          1999,
          2000,
          2001,
          2002,
          2003,
          2004,
          2005,
          2006,
          2007,
          2008,
          2009,
          2010,
          2011,
          2012,
          2013,
          2014,
          2015,
          2016,
          2017,
          2018,
          2019
         ],
         "xaxis": "x",
         "y": [
          0.012850739436938596,
          0.1768679427461859,
          -0.0959234099927635,
          -0.012005226554436255,
          -0.22149403249034816,
          -0.5546581625579343,
          -0.3628448975524047,
          -0.04143044062555068,
          -0.15236993714355862,
          -0.40978179214616106,
          -0.2913677753563123,
          -0.3822051943942405,
          -0.3015151976850785,
          -0.1715020458472316,
          -0.20889439668607535,
          -0.14440423027706595,
          -0.2275561300766895,
          -0.38913003156292714,
          -0.39184757216573884,
          -0.4222929229699287,
          -0.009283423296704618,
          0.13869050402930516,
          0.25904233127420495,
          0.3160309434005446,
          0.4995144841845889,
          0.7126705231545254,
          0.9610471805506648,
          1.2762704877057982,
          1.2294280045503756,
          1.3421999193056267,
          1.6733756908191717,
          2.4540851314669707,
          3.4702520866326907,
          3.5563934876310075,
          2.8328137811508243,
          2.338640673122465,
          2.3791377662448756,
          2.7114266646261926,
          2.703671271295257
         ],
         "yaxis": "y"
        },
        {
         "hovertemplate": "Country=Burundi<br>Year=%{x}<br>Values=%{y}<extra></extra>",
         "legendgroup": "Burundi",
         "line": {
          "color": "#636efa",
          "dash": "solid"
         },
         "marker": {
          "symbol": "circle"
         },
         "mode": "lines",
         "name": "Burundi",
         "showlegend": true,
         "type": "scattergl",
         "x": [
          1981,
          1982,
          1983,
          1984,
          1985,
          1986,
          1987,
          1988,
          1989,
          1990,
          1991,
          1992,
          1993,
          1994,
          1995,
          1996,
          1997,
          1998,
          1999,
          2000,
          2001,
          2002,
          2003,
          2004,
          2005,
          2006,
          2007,
          2008,
          2009,
          2010,
          2011,
          2012,
          2013,
          2014,
          2015,
          2016,
          2017,
          2018,
          2019
         ],
         "xaxis": "x",
         "y": [
          0.053624627606752684,
          0.10165580595200718,
          0.17744362940957448,
          0.07330141328255513,
          0.25034896502598936,
          0.30661156256472544,
          0.2302203850539033,
          0.17687488980914945,
          0.21114693178207622,
          0.2309105450005109,
          0.26928849695840773,
          0.1775647155366884,
          0.020556047839965785,
          0.005766847563786648,
          0.08774533798296602,
          -0.055117256231460354,
          0.0578102203358517,
          -0.02822127652674944,
          -0.12139415692443467,
          -0.05353829846207514,
          -0.04667902449069716,
          -0.10256544680762636,
          -0.1468612881865523,
          -0.004859425558209063,
          0.2146141741229861,
          0.3845146242020676,
          0.4745678406542744,
          0.752516220659363,
          0.9369396981035747,
          1.2094991046253312,
          1.4309623161527307,
          1.5369943695915866,
          1.665581822480318,
          1.9419428294722687,
          2.374919662468094,
          1.8696799735413578,
          1.9490545241110415,
          1.8922980279763815,
          1.806560056744218
         ],
         "yaxis": "y"
        },
        {
         "hovertemplate": "Country=Gambia, The<br>Year=%{x}<br>Values=%{y}<extra></extra>",
         "legendgroup": "Gambia, The",
         "line": {
          "color": "#EF553B",
          "dash": "solid"
         },
         "marker": {
          "symbol": "circle"
         },
         "mode": "lines",
         "name": "Gambia, The",
         "showlegend": true,
         "type": "scattergl",
         "x": [
          1981,
          1982,
          1983,
          1984,
          1985,
          1986,
          1987,
          1988,
          1989,
          1990,
          1991,
          1992,
          1993,
          1994,
          1995,
          1996,
          1997,
          1998,
          1999,
          2000,
          2001,
          2002,
          2003,
          2004,
          2005,
          2006,
          2007,
          2008,
          2009,
          2010,
          2011,
          2012,
          2013,
          2014,
          2015,
          2016,
          2017,
          2018,
          2019
         ],
         "xaxis": "x",
         "y": [
          -0.09256760198097291,
          -0.10382088656361388,
          -0.11462612021648,
          -0.2644006949078056,
          -0.06369591855675227,
          -0.22994166459478182,
          -0.08484388800551679,
          0.10615705195756298,
          0.17852520760487556,
          0.3152581763354638,
          1.8634158434031294,
          1.962723412385332,
          2.1319077811396765,
          2.0964389312622598,
          2.260306418172242,
          2.5184777432690773,
          2.333451051450738,
          2.485493586358756,
          2.379463515908494,
          2.2475240595784793,
          1.8513637934575002,
          1.3985164045941314,
          1.0202314148404996,
          2.989950549427525,
          3.262897098310721,
          3.3724503364956195,
          4.308200522219124,
          5.478176724392882,
          5.015165595986677,
          5.401559044896743,
          4.847396751066886,
          4.869429555807682,
          4.706010084492053,
          4.099788396929756,
          4.716661754729965,
          5.158020072222801,
          5.242348299933842,
          5.929922664840613,
          6.52282622694874
         ],
         "yaxis": "y"
        },
        {
         "hovertemplate": "Country=Tunisia<br>Year=%{x}<br>Values=%{y}<extra></extra>",
         "legendgroup": "Tunisia",
         "line": {
          "color": "#00cc96",
          "dash": "solid"
         },
         "marker": {
          "symbol": "circle"
         },
         "mode": "lines",
         "name": "Tunisia",
         "showlegend": true,
         "type": "scattergl",
         "x": [
          1981,
          1982,
          1983,
          1984,
          1985,
          1986,
          1987,
          1988,
          1989,
          1990,
          1991,
          1992,
          1993,
          1994,
          1995,
          1996,
          1997,
          1998,
          1999,
          2000,
          2001,
          2002,
          2003,
          2004,
          2005,
          2006,
          2007,
          2008,
          2009,
          2010,
          2011,
          2012,
          2013,
          2014,
          2015,
          2016,
          2017,
          2018,
          2019
         ],
         "xaxis": "x",
         "y": [
          -0.03609514368509892,
          -0.06984491315240249,
          -0.045053924796634504,
          -0.05595093468240342,
          -0.03819115771460402,
          0.03133548215201043,
          0.10888864186273817,
          0.15463606038363964,
          0.15529734610119594,
          0.40557860664261813,
          0.49526323351529133,
          0.7723065163583984,
          0.6707139100087465,
          0.7877656942494915,
          1.062053928844668,
          1.2400528162960431,
          1.372603117716857,
          1.4934855050852587,
          1.623894463399183,
          1.4557332912889223,
          1.523523877900287,
          1.6465917405042791,
          2.1395912117760094,
          2.5661687880635227,
          2.6908178953368074,
          2.9314709610622462,
          3.4503065455853443,
          4.130407111806901,
          3.9696098184356314,
          4.284238561130106,
          4.5034315300922225,
          4.410616713903294,
          4.567639503033797,
          4.749119420122772,
          4.23552436551597,
          4.073185375294186,
          3.8219761839689292,
          3.881669304307078,
          3.7772482754085512
         ],
         "yaxis": "y"
        },
        {
         "hovertemplate": "Country=Ghana<br>Year=%{x}<br>Values=%{y}<extra></extra>",
         "legendgroup": "Ghana",
         "line": {
          "color": "#ab63fa",
          "dash": "solid"
         },
         "marker": {
          "symbol": "circle"
         },
         "mode": "lines",
         "name": "Ghana",
         "showlegend": true,
         "type": "scattergl",
         "x": [
          1981,
          1982,
          1983,
          1984,
          1985,
          1986,
          1987,
          1988,
          1989,
          1990,
          1991,
          1992,
          1993,
          1994,
          1995,
          1996,
          1997,
          1998,
          1999,
          2000,
          2001,
          2002,
          2003,
          2004,
          2005,
          2006,
          2007,
          2008,
          2009,
          2010,
          2011,
          2012,
          2013,
          2014,
          2015,
          2016,
          2017,
          2018,
          2019
         ],
         "xaxis": "x",
         "y": [
          -0.05011814691607175,
          -0.09206137416228477,
          -0.08727407325511294,
          -0.007412076663809608,
          0.013298289940974817,
          0.28848337288924597,
          0.14163540894748783,
          0.16930801453498923,
          0.18143861447642484,
          0.3248307037639955,
          0.48396119961931716,
          0.44287341178119144,
          0.34217086019505705,
          0.22481015713517594,
          0.45439948206628955,
          0.56009643889173,
          0.5502710455463002,
          0.6829212123678623,
          0.7365486008858719,
          0.12098280814313145,
          0.19564388957071976,
          0.3871796535490042,
          0.7169886859273473,
          0.9979555845015302,
          1.417125665626358,
          3.598390009460232,
          4.5852801576163555,
          5.451570200461188,
          4.859790976008472,
          6.243109067605604,
          7.849335264815057,
          8.284327538202442,
          13.132692554148546,
          11.323967430562451,
          10.114517868266358,
          11.63493574967569,
          12.58903974474257,
          14.139668294385052,
          14.373234960889262
         ],
         "yaxis": "y"
        },
        {
         "hovertemplate": "Country=Benin<br>Year=%{x}<br>Values=%{y}<extra></extra>",
         "legendgroup": "Benin",
         "line": {
          "color": "#FFA15A",
          "dash": "solid"
         },
         "marker": {
          "symbol": "circle"
         },
         "mode": "lines",
         "name": "Benin",
         "showlegend": true,
         "type": "scattergl",
         "x": [
          1981,
          1982,
          1983,
          1984,
          1985,
          1986,
          1987,
          1988,
          1989,
          1990,
          1991,
          1992,
          1993,
          1994,
          1995,
          1996,
          1997,
          1998,
          1999,
          2000,
          2001,
          2002,
          2003,
          2004,
          2005,
          2006,
          2007,
          2008,
          2009,
          2010,
          2011,
          2012,
          2013,
          2014,
          2015,
          2016,
          2017,
          2018,
          2019
         ],
         "xaxis": "x",
         "y": [
          -0.08121790177029675,
          -0.09782807816732242,
          -0.22053222067543665,
          -0.25199589421163504,
          -0.2558537259171273,
          -0.04920792057795076,
          0.11183797194058576,
          0.15299370446190452,
          0.06905729042880582,
          0.3947433451426028,
          0.41358169205122985,
          0.20641411783833763,
          0.6186126381031858,
          0.1372169882996257,
          0.5439422608691611,
          0.6802092070278452,
          0.6141604982455049,
          0.747084062731177,
          1.6168939637468291,
          1.504883437702719,
          1.608944005293603,
          1.9847630181992741,
          2.8066197790921508,
          3.40509798284919,
          3.6736504267958994,
          4.00558897466986,
          4.8132287462012835,
          5.965112719669941,
          5.930166355206936,
          5.785507051893275,
          6.609542913969258,
          6.928373369897057,
          7.907903895787072,
          8.453488010854837,
          7.104001721702854,
          7.412064143124496,
          8.038705396320244,
          9.149362254395387,
          9.241359748765502
         ],
         "yaxis": "y"
        },
        {
         "hovertemplate": "Country=Gabon<br>Year=%{x}<br>Values=%{y}<extra></extra>",
         "legendgroup": "Gabon",
         "line": {
          "color": "#19d3f3",
          "dash": "solid"
         },
         "marker": {
          "symbol": "circle"
         },
         "mode": "lines",
         "name": "Gabon",
         "showlegend": true,
         "type": "scattergl",
         "x": [
          1981,
          1982,
          1983,
          1984,
          1985,
          1986,
          1987,
          1988,
          1989,
          1990,
          1991,
          1992,
          1993,
          1994,
          1995,
          1996,
          1997,
          1998,
          1999,
          2000,
          2001,
          2002,
          2003,
          2004,
          2005,
          2006,
          2007,
          2008,
          2009,
          2010,
          2011,
          2012,
          2013,
          2014,
          2015,
          2016,
          2017,
          2018,
          2019
         ],
         "xaxis": "x",
         "y": [
          -0.09752432646343157,
          -0.15459954784033647,
          -0.20757882239066372,
          -0.16781475040922655,
          -0.21958006473116154,
          -0.2046901522614223,
          -0.23316012024043808,
          -0.10401219973971487,
          -0.021783729828567355,
          0.39084050048407826,
          0.26247127451641483,
          0.30674391965895276,
          0.023134468055298285,
          -0.020753769661788768,
          0.15870687728360755,
          0.3304958093907788,
          0.24468867254936688,
          0.04761598738910133,
          0.08957629317656357,
          0.18712927177795224,
          0.1737594260969122,
          0.24670623774545053,
          0.5216015368465989,
          0.8156254336592916,
          1.239157486285558,
          1.4131945178706937,
          1.9103887403536208,
          2.638473631675973,
          1.8305431084701573,
          2.3583663240467647,
          3.2551049947111235,
          3.0121303622054514,
          3.1115033385876423,
          3.2536233865708413,
          2.360823493957376,
          2.276887165874327,
          2.4884934195739206,
          2.9412972281483953,
          2.9429517403669023
         ],
         "yaxis": "y"
        },
        {
         "hovertemplate": "Country=Uganda<br>Year=%{x}<br>Values=%{y}<extra></extra>",
         "legendgroup": "Uganda",
         "line": {
          "color": "#FF6692",
          "dash": "solid"
         },
         "marker": {
          "symbol": "circle"
         },
         "mode": "lines",
         "name": "Uganda",
         "showlegend": true,
         "type": "scattergl",
         "x": [
          1981,
          1982,
          1983,
          1984,
          1985,
          1986,
          1987,
          1988,
          1989,
          1990,
          1991,
          1992,
          1993,
          1994,
          1995,
          1996,
          1997,
          1998,
          1999,
          2000,
          2001,
          2002,
          2003,
          2004,
          2005,
          2006,
          2007,
          2008,
          2009,
          2010,
          2011,
          2012,
          2013,
          2014,
          2015,
          2016,
          2017,
          2018,
          2019
         ],
         "xaxis": "x",
         "y": [
          0.07447312812849005,
          0.7495440338740651,
          0.800028389080379,
          1.905044533672669,
          1.8279270924422435,
          2.1521778887585996,
          4.037330259810182,
          4.229695769491383,
          3.239465363446678,
          2.4584318508469964,
          1.668891505871036,
          1.2958660625022138,
          1.587508572315416,
          2.206169359648533,
          3.6245964176900802,
          3.856609963713934,
          4.037187000884678,
          4.290666029139682,
          3.8196328632636645,
          3.9760542154545355,
          3.6926377488309265,
          3.964256747810591,
          4.308397321876082,
          5.37909664381869,
          6.423387132160587,
          7.016686066076545,
          8.563288420729222,
          10.602352561435387,
          19.18930071785627,
          20.4311645152148,
          21.3939428460091,
          20.93933502164677,
          22.232809471683325,
          25.20290513370283,
          25.02195374026392,
          22.46436941282593,
          23.702094560971858,
          25.45569742604477,
          27.404930567970837
         ],
         "yaxis": "y"
        },
        {
         "hovertemplate": "Country=Senegal<br>Year=%{x}<br>Values=%{y}<extra></extra>",
         "legendgroup": "Senegal",
         "line": {
          "color": "#B6E880",
          "dash": "solid"
         },
         "marker": {
          "symbol": "circle"
         },
         "mode": "lines",
         "name": "Senegal",
         "showlegend": true,
         "type": "scattergl",
         "x": [
          1981,
          1982,
          1983,
          1984,
          1985,
          1986,
          1987,
          1988,
          1989,
          1990,
          1991,
          1992,
          1993,
          1994,
          1995,
          1996,
          1997,
          1998,
          1999,
          2000,
          2001,
          2002,
          2003,
          2004,
          2005,
          2006,
          2007,
          2008,
          2009,
          2010,
          2011,
          2012,
          2013,
          2014,
          2015,
          2016,
          2017,
          2018,
          2019
         ],
         "xaxis": "x",
         "y": [
          -0.09184155223881674,
          -0.11000990114448561,
          -0.2085872461801791,
          -0.22725449630163375,
          -0.15324751196828135,
          0.19555769145645252,
          0.4384030817312776,
          0.42311908083423133,
          0.4115050677616443,
          0.6387563518376389,
          0.6086558855402293,
          0.7227567551354106,
          0.6336608323316442,
          0.11629009928188094,
          0.4027034169934387,
          0.45444710525728804,
          0.3395420538584506,
          0.4424507350314417,
          0.46179125576276325,
          0.3332686717035209,
          0.44294232725561433,
          0.5534891033964953,
          0.9442379780667742,
          1.2342743843050346,
          1.4409691077463527,
          1.5937118446669296,
          2.102857186093077,
          2.7369379359188426,
          2.5799299446420494,
          2.574485813981267,
          2.949858244679057,
          2.9158428909533636,
          3.194726923225229,
          3.389530712719119,
          2.9410961502911506,
          3.2216983813383955,
          3.6554468031134366,
          4.125575990793393,
          4.188083056789209
         ],
         "yaxis": "y"
        },
        {
         "hovertemplate": "Country=Cabo Verde<br>Year=%{x}<br>Values=%{y}<extra></extra>",
         "legendgroup": "Cabo Verde",
         "line": {
          "color": "#FF97FF",
          "dash": "solid"
         },
         "marker": {
          "symbol": "circle"
         },
         "mode": "lines",
         "name": "Cabo Verde",
         "showlegend": true,
         "type": "scattergl",
         "x": [
          1981,
          1982,
          1983,
          1984,
          1985,
          1986,
          1987,
          1988,
          1989,
          1990,
          1991,
          1992,
          1993,
          1994,
          1995,
          1996,
          1997,
          1998,
          1999,
          2000,
          2001,
          2002,
          2003,
          2004,
          2005,
          2006,
          2007,
          2008,
          2009,
          2010,
          2011,
          2012,
          2013,
          2014,
          2015,
          2016,
          2017,
          2018,
          2019
         ],
         "xaxis": "x",
         "y": [
          -0.019534776609260285,
          -0.011361352829151294,
          -0.026507690630791725,
          -0.07190182887818197,
          -0.031766745715892,
          0.34028397657353926,
          0.6538371823874596,
          0.8580945225536938,
          0.8801714420724527,
          1.1574541170349009,
          1.2483942609363186,
          1.5108529377520465,
          2.447649643144431,
          1.8582747480143613,
          2.4246727156222767,
          2.5289286135857165,
          2.448994264892257,
          2.6690476227026547,
          3.1647080178289526,
          2.790784687479682,
          2.9580790873069223,
          3.365471353147723,
          4.722191275611683,
          5.49798800340764,
          5.833029439061618,
          6.788508951486021,
          9.643003422828867,
          11.579072418487302,
          11.034128518259406,
          10.700156950882954,
          12.117444844282925,
          11.244977630561971,
          12.008862482572962,
          12.075144928498013,
          10.22555614061198,
          10.691003270337585,
          11.441659676135398,
          12.8245645831616,
          12.93243776517683
         ],
         "yaxis": "y"
        },
        {
         "hovertemplate": "Country=Mali<br>Year=%{x}<br>Values=%{y}<extra></extra>",
         "legendgroup": "Mali",
         "line": {
          "color": "#FECB52",
          "dash": "solid"
         },
         "marker": {
          "symbol": "circle"
         },
         "mode": "lines",
         "name": "Mali",
         "showlegend": true,
         "type": "scattergl",
         "x": [
          1981,
          1982,
          1983,
          1984,
          1985,
          1986,
          1987,
          1988,
          1989,
          1990,
          1991,
          1992,
          1993,
          1994,
          1995,
          1996,
          1997,
          1998,
          1999,
          2000,
          2001,
          2002,
          2003,
          2004,
          2005,
          2006,
          2007,
          2008,
          2009,
          2010,
          2011,
          2012,
          2013,
          2014,
          2015,
          2016,
          2017,
          2018,
          2019
         ],
         "xaxis": "x",
         "y": [
          -0.12543039265750355,
          -0.24205210599035998,
          -0.26250393341960787,
          -0.29934745561046194,
          -0.20884069751380563,
          0.05255028466710754,
          0.1880664087226953,
          0.23262571610889804,
          0.23988909365862932,
          0.5240811428388092,
          0.5480735975204991,
          0.6086194033537669,
          0.601577087743113,
          0.18307491633401662,
          0.538011433005043,
          0.5800624988505281,
          0.5327154264180247,
          0.6595859210700543,
          0.9553003056184468,
          0.6829572043292844,
          0.9709923961099907,
          1.2209131623391256,
          1.6789200423192057,
          2.099549043362661,
          2.550347897883833,
          2.9245148729637704,
          3.635170589622213,
          4.59098277374313,
          4.814635250745793,
          5.0744567655045785,
          6.384882543000847,
          6.07057888828271,
          6.525576600256405,
          7.1633284674708,
          6.447195568015626,
          6.970744224979028,
          7.732050946224179,
          8.701058767077285,
          8.820047388255327
         ],
         "yaxis": "y"
        },
        {
         "hovertemplate": "Country=Equatorial Guinea<br>Year=%{x}<br>Values=%{y}<extra></extra>",
         "legendgroup": "Equatorial Guinea",
         "line": {
          "color": "#636efa",
          "dash": "solid"
         },
         "marker": {
          "symbol": "circle"
         },
         "mode": "lines",
         "name": "Equatorial Guinea",
         "showlegend": true,
         "type": "scattergl",
         "x": [
          1981,
          1982,
          1983,
          1984,
          1985,
          1986,
          1987,
          1988,
          1989,
          1990,
          1991,
          1992,
          1993,
          1994,
          1995,
          1996,
          1997,
          1998,
          1999,
          2000,
          2001,
          2002,
          2003,
          2004,
          2005,
          2006,
          2007,
          2008,
          2009,
          2010,
          2011,
          2012,
          2013,
          2014,
          2015,
          2016,
          2017,
          2018,
          2019
         ],
         "xaxis": "x",
         "y": [
          -0.2746972074951475,
          -0.12535292114665353,
          -0.12243426383682665,
          -0.006357583973548131,
          0.22660014399773987,
          0.5087490203539249,
          0.843217571766101,
          0.985168729718809,
          0.7429098273199168,
          1.2139223684614278,
          1.1899629401130123,
          1.6599431607643385,
          1.6864170062437593,
          0.9905463566396717,
          1.801052509049637,
          3.5902411727780565,
          7.7344527545844795,
          6.319639267232682,
          11.264663387601882,
          19.654403550062085,
          27.851814898865122,
          34.67614469533883,
          48.064071733873504,
          86.0954470061181,
          161.2610911366547,
          198.16972622316814,
          257.11562373664873,
          388.9836114093522,
          295.74052786128317,
          321.14680393544967,
          420.72452516893014,
          441.08278573779563,
          432.4041629345701,
          428.78310222238906,
          259.3622984110892,
          220.96227704015078,
          239.92059223245417,
          257.61505128374836,
          223.39746584297504
         ],
         "yaxis": "y"
        },
        {
         "hovertemplate": "Country=Eswatini<br>Year=%{x}<br>Values=%{y}<extra></extra>",
         "legendgroup": "Eswatini",
         "line": {
          "color": "#EF553B",
          "dash": "solid"
         },
         "marker": {
          "symbol": "circle"
         },
         "mode": "lines",
         "name": "Eswatini",
         "showlegend": true,
         "type": "scattergl",
         "x": [
          1981,
          1982,
          1983,
          1984,
          1985,
          1986,
          1987,
          1988,
          1989,
          1990,
          1991,
          1992,
          1993,
          1994,
          1995,
          1996,
          1997,
          1998,
          1999,
          2000,
          2001,
          2002,
          2003,
          2004,
          2005,
          2006,
          2007,
          2008,
          2009,
          2010,
          2011,
          2012,
          2013,
          2014,
          2015,
          2016,
          2017,
          2018,
          2019
         ],
         "xaxis": "x",
         "y": [
          0.0530638855234955,
          -0.008163336852929692,
          0.02460446405919825,
          -0.08768407512462972,
          -0.33565490949854737,
          -0.17131700609841427,
          0.07773986417473489,
          0.27678239584511743,
          0.2858206093207667,
          1.056645815214277,
          1.1331012965876495,
          1.3704151600572887,
          1.5040695749619095,
          1.6186201292339235,
          2.1346509737453174,
          1.9571191543791167,
          2.1673400118353743,
          1.9094147567385602,
          1.855872648441602,
          2.206825103304222,
          1.8458963970687963,
          1.6424848119158502,
          3.054632137631251,
          4.110849015714882,
          4.8636964580301605,
          5.0726027988493145,
          5.4010345179459565,
          5.077657497524246,
          5.605929287913037,
          7.189620328460403,
          7.893902871310647,
          8.015735059610476,
          7.482523381900151,
          7.160450458268095,
          6.496756127082685,
          6.040624410860973,
          7.1235517593702635,
          7.610295563203072,
          7.239967389749616
         ],
         "yaxis": "y"
        },
        {
         "hovertemplate": "Country=Comoros<br>Year=%{x}<br>Values=%{y}<extra></extra>",
         "legendgroup": "Comoros",
         "line": {
          "color": "#00cc96",
          "dash": "solid"
         },
         "marker": {
          "symbol": "circle"
         },
         "mode": "lines",
         "name": "Comoros",
         "showlegend": true,
         "type": "scattergl",
         "x": [
          1981,
          1982,
          1983,
          1984,
          1985,
          1986,
          1987,
          1988,
          1989,
          1990,
          1991,
          1992,
          1993,
          1994,
          1995,
          1996,
          1997,
          1998,
          1999,
          2000,
          2001,
          2002,
          2003,
          2004,
          2005,
          2006,
          2007,
          2008,
          2009,
          2010,
          2011,
          2012,
          2013,
          2014,
          2015,
          2016,
          2017,
          2018,
          2019
         ],
         "xaxis": "x",
         "y": [
          -0.07477330777281554,
          -0.13292557977100106,
          -0.09705230507753071,
          -0.12968262385102258,
          -0.07300103119557555,
          0.31561601240190096,
          0.5904659853923715,
          0.6798746869629566,
          0.6090831112338511,
          1.0244356715772778,
          0.9984560407358498,
          1.155274721774867,
          1.1340365090360005,
          0.5040612002222984,
          0.8776039940678977,
          0.8662572216163757,
          0.7173152176108681,
          0.7439914670367647,
          0.8021778636989003,
          0.6546013711880512,
          0.7835979961419381,
          1.0072012879604166,
          1.5769944183892153,
          1.9861061413579604,
          2.081003615343171,
          2.291101991995202,
          2.749315701441262,
          3.314705707559958,
          3.2660854621240283,
          3.278514333205698,
          3.820915719679819,
          3.7867866294033323,
          4.259794033038915,
          4.417007158308195,
          3.55205737174606,
          3.772613244862754,
          4.0770364106118375,
          4.601769437746723,
          4.631088239675062
         ],
         "yaxis": "y"
        },
        {
         "hovertemplate": "Country=Benchmark<br>Year=%{x}<br>Values=%{y}<extra></extra>",
         "legendgroup": "Benchmark",
         "line": {
          "color": "#ab63fa",
          "dash": "solid"
         },
         "marker": {
          "symbol": "circle"
         },
         "mode": "lines",
         "name": "Benchmark",
         "showlegend": true,
         "type": "scattergl",
         "x": [
          1981,
          1982,
          1983,
          1984,
          1985,
          1986,
          1987,
          1988,
          1989,
          1990,
          1991,
          1992,
          1993,
          1994,
          1995,
          1996,
          1997,
          1998,
          1999,
          2000,
          2001,
          2002,
          2003,
          2004,
          2005,
          2006,
          2007,
          2008,
          2009,
          2010,
          2011,
          2012,
          2013,
          2014,
          2015,
          2016,
          2017,
          2018,
          2019
         ],
         "xaxis": "x",
         "y": [
          0.2752135353891134,
          0.20668161919074346,
          0.10613631230997811,
          0.020945752875423107,
          -0.012744267599084758,
          0.040729193420639964,
          0.14964271417787955,
          0.1663856291928112,
          0.1880623032919433,
          0.3828892707920315,
          0.3651019875543964,
          0.31255996171536427,
          0.2693964369677013,
          0.25630364580961573,
          0.4302642324253876,
          0.5179108595867179,
          0.5796279714562509,
          0.5596694493493695,
          0.5885106669992306,
          0.6858763563698977,
          0.6333041365398022,
          0.7135480673358661,
          1.0806876611206442,
          1.5183864910648985,
          1.9571680387535513,
          2.461557404622753,
          3.0125677309720347,
          3.635370933242336,
          3.4645340529382516,
          4.250915626166678,
          4.924037680260299,
          5.19425601423447,
          5.4894820268182585,
          5.716761735286028,
          5.084954400748376,
          4.766115439151153,
          4.864379568956768,
          4.995543585643166,
          5.250308260545941
         ],
         "yaxis": "y"
        }
       ],
       "layout": {
        "height": 500,
        "legend": {
         "title": {
          "text": "Country"
         },
         "tracegroupgap": 0
        },
        "margin": {
         "t": 60
        },
        "template": {
         "data": {
          "bar": [
           {
            "error_x": {
             "color": "#f2f5fa"
            },
            "error_y": {
             "color": "#f2f5fa"
            },
            "marker": {
             "line": {
              "color": "rgb(17,17,17)",
              "width": 0.5
             },
             "pattern": {
              "fillmode": "overlay",
              "size": 10,
              "solidity": 0.2
             }
            },
            "type": "bar"
           }
          ],
          "barpolar": [
           {
            "marker": {
             "line": {
              "color": "rgb(17,17,17)",
              "width": 0.5
             },
             "pattern": {
              "fillmode": "overlay",
              "size": 10,
              "solidity": 0.2
             }
            },
            "type": "barpolar"
           }
          ],
          "carpet": [
           {
            "aaxis": {
             "endlinecolor": "#A2B1C6",
             "gridcolor": "#506784",
             "linecolor": "#506784",
             "minorgridcolor": "#506784",
             "startlinecolor": "#A2B1C6"
            },
            "baxis": {
             "endlinecolor": "#A2B1C6",
             "gridcolor": "#506784",
             "linecolor": "#506784",
             "minorgridcolor": "#506784",
             "startlinecolor": "#A2B1C6"
            },
            "type": "carpet"
           }
          ],
          "choropleth": [
           {
            "colorbar": {
             "outlinewidth": 0,
             "ticks": ""
            },
            "type": "choropleth"
           }
          ],
          "contour": [
           {
            "colorbar": {
             "outlinewidth": 0,
             "ticks": ""
            },
            "colorscale": [
             [
              0,
              "#0d0887"
             ],
             [
              0.1111111111111111,
              "#46039f"
             ],
             [
              0.2222222222222222,
              "#7201a8"
             ],
             [
              0.3333333333333333,
              "#9c179e"
             ],
             [
              0.4444444444444444,
              "#bd3786"
             ],
             [
              0.5555555555555556,
              "#d8576b"
             ],
             [
              0.6666666666666666,
              "#ed7953"
             ],
             [
              0.7777777777777778,
              "#fb9f3a"
             ],
             [
              0.8888888888888888,
              "#fdca26"
             ],
             [
              1,
              "#f0f921"
             ]
            ],
            "type": "contour"
           }
          ],
          "contourcarpet": [
           {
            "colorbar": {
             "outlinewidth": 0,
             "ticks": ""
            },
            "type": "contourcarpet"
           }
          ],
          "heatmap": [
           {
            "colorbar": {
             "outlinewidth": 0,
             "ticks": ""
            },
            "colorscale": [
             [
              0,
              "#0d0887"
             ],
             [
              0.1111111111111111,
              "#46039f"
             ],
             [
              0.2222222222222222,
              "#7201a8"
             ],
             [
              0.3333333333333333,
              "#9c179e"
             ],
             [
              0.4444444444444444,
              "#bd3786"
             ],
             [
              0.5555555555555556,
              "#d8576b"
             ],
             [
              0.6666666666666666,
              "#ed7953"
             ],
             [
              0.7777777777777778,
              "#fb9f3a"
             ],
             [
              0.8888888888888888,
              "#fdca26"
             ],
             [
              1,
              "#f0f921"
             ]
            ],
            "type": "heatmap"
           }
          ],
          "heatmapgl": [
           {
            "colorbar": {
             "outlinewidth": 0,
             "ticks": ""
            },
            "colorscale": [
             [
              0,
              "#0d0887"
             ],
             [
              0.1111111111111111,
              "#46039f"
             ],
             [
              0.2222222222222222,
              "#7201a8"
             ],
             [
              0.3333333333333333,
              "#9c179e"
             ],
             [
              0.4444444444444444,
              "#bd3786"
             ],
             [
              0.5555555555555556,
              "#d8576b"
             ],
             [
              0.6666666666666666,
              "#ed7953"
             ],
             [
              0.7777777777777778,
              "#fb9f3a"
             ],
             [
              0.8888888888888888,
              "#fdca26"
             ],
             [
              1,
              "#f0f921"
             ]
            ],
            "type": "heatmapgl"
           }
          ],
          "histogram": [
           {
            "marker": {
             "pattern": {
              "fillmode": "overlay",
              "size": 10,
              "solidity": 0.2
             }
            },
            "type": "histogram"
           }
          ],
          "histogram2d": [
           {
            "colorbar": {
             "outlinewidth": 0,
             "ticks": ""
            },
            "colorscale": [
             [
              0,
              "#0d0887"
             ],
             [
              0.1111111111111111,
              "#46039f"
             ],
             [
              0.2222222222222222,
              "#7201a8"
             ],
             [
              0.3333333333333333,
              "#9c179e"
             ],
             [
              0.4444444444444444,
              "#bd3786"
             ],
             [
              0.5555555555555556,
              "#d8576b"
             ],
             [
              0.6666666666666666,
              "#ed7953"
             ],
             [
              0.7777777777777778,
              "#fb9f3a"
             ],
             [
              0.8888888888888888,
              "#fdca26"
             ],
             [
              1,
              "#f0f921"
             ]
            ],
            "type": "histogram2d"
           }
          ],
          "histogram2dcontour": [
           {
            "colorbar": {
             "outlinewidth": 0,
             "ticks": ""
            },
            "colorscale": [
             [
              0,
              "#0d0887"
             ],
             [
              0.1111111111111111,
              "#46039f"
             ],
             [
              0.2222222222222222,
              "#7201a8"
             ],
             [
              0.3333333333333333,
              "#9c179e"
             ],
             [
              0.4444444444444444,
              "#bd3786"
             ],
             [
              0.5555555555555556,
              "#d8576b"
             ],
             [
              0.6666666666666666,
              "#ed7953"
             ],
             [
              0.7777777777777778,
              "#fb9f3a"
             ],
             [
              0.8888888888888888,
              "#fdca26"
             ],
             [
              1,
              "#f0f921"
             ]
            ],
            "type": "histogram2dcontour"
           }
          ],
          "mesh3d": [
           {
            "colorbar": {
             "outlinewidth": 0,
             "ticks": ""
            },
            "type": "mesh3d"
           }
          ],
          "parcoords": [
           {
            "line": {
             "colorbar": {
              "outlinewidth": 0,
              "ticks": ""
             }
            },
            "type": "parcoords"
           }
          ],
          "pie": [
           {
            "automargin": true,
            "type": "pie"
           }
          ],
          "scatter": [
           {
            "marker": {
             "line": {
              "color": "#283442"
             }
            },
            "type": "scatter"
           }
          ],
          "scatter3d": [
           {
            "line": {
             "colorbar": {
              "outlinewidth": 0,
              "ticks": ""
             }
            },
            "marker": {
             "colorbar": {
              "outlinewidth": 0,
              "ticks": ""
             }
            },
            "type": "scatter3d"
           }
          ],
          "scattercarpet": [
           {
            "marker": {
             "colorbar": {
              "outlinewidth": 0,
              "ticks": ""
             }
            },
            "type": "scattercarpet"
           }
          ],
          "scattergeo": [
           {
            "marker": {
             "colorbar": {
              "outlinewidth": 0,
              "ticks": ""
             }
            },
            "type": "scattergeo"
           }
          ],
          "scattergl": [
           {
            "marker": {
             "line": {
              "color": "#283442"
             }
            },
            "type": "scattergl"
           }
          ],
          "scattermapbox": [
           {
            "marker": {
             "colorbar": {
              "outlinewidth": 0,
              "ticks": ""
             }
            },
            "type": "scattermapbox"
           }
          ],
          "scatterpolar": [
           {
            "marker": {
             "colorbar": {
              "outlinewidth": 0,
              "ticks": ""
             }
            },
            "type": "scatterpolar"
           }
          ],
          "scatterpolargl": [
           {
            "marker": {
             "colorbar": {
              "outlinewidth": 0,
              "ticks": ""
             }
            },
            "type": "scatterpolargl"
           }
          ],
          "scatterternary": [
           {
            "marker": {
             "colorbar": {
              "outlinewidth": 0,
              "ticks": ""
             }
            },
            "type": "scatterternary"
           }
          ],
          "surface": [
           {
            "colorbar": {
             "outlinewidth": 0,
             "ticks": ""
            },
            "colorscale": [
             [
              0,
              "#0d0887"
             ],
             [
              0.1111111111111111,
              "#46039f"
             ],
             [
              0.2222222222222222,
              "#7201a8"
             ],
             [
              0.3333333333333333,
              "#9c179e"
             ],
             [
              0.4444444444444444,
              "#bd3786"
             ],
             [
              0.5555555555555556,
              "#d8576b"
             ],
             [
              0.6666666666666666,
              "#ed7953"
             ],
             [
              0.7777777777777778,
              "#fb9f3a"
             ],
             [
              0.8888888888888888,
              "#fdca26"
             ],
             [
              1,
              "#f0f921"
             ]
            ],
            "type": "surface"
           }
          ],
          "table": [
           {
            "cells": {
             "fill": {
              "color": "#506784"
             },
             "line": {
              "color": "rgb(17,17,17)"
             }
            },
            "header": {
             "fill": {
              "color": "#2a3f5f"
             },
             "line": {
              "color": "rgb(17,17,17)"
             }
            },
            "type": "table"
           }
          ]
         },
         "layout": {
          "annotationdefaults": {
           "arrowcolor": "#f2f5fa",
           "arrowhead": 0,
           "arrowwidth": 1
          },
          "autotypenumbers": "strict",
          "coloraxis": {
           "colorbar": {
            "outlinewidth": 0,
            "ticks": ""
           }
          },
          "colorscale": {
           "diverging": [
            [
             0,
             "#8e0152"
            ],
            [
             0.1,
             "#c51b7d"
            ],
            [
             0.2,
             "#de77ae"
            ],
            [
             0.3,
             "#f1b6da"
            ],
            [
             0.4,
             "#fde0ef"
            ],
            [
             0.5,
             "#f7f7f7"
            ],
            [
             0.6,
             "#e6f5d0"
            ],
            [
             0.7,
             "#b8e186"
            ],
            [
             0.8,
             "#7fbc41"
            ],
            [
             0.9,
             "#4d9221"
            ],
            [
             1,
             "#276419"
            ]
           ],
           "sequential": [
            [
             0,
             "#0d0887"
            ],
            [
             0.1111111111111111,
             "#46039f"
            ],
            [
             0.2222222222222222,
             "#7201a8"
            ],
            [
             0.3333333333333333,
             "#9c179e"
            ],
            [
             0.4444444444444444,
             "#bd3786"
            ],
            [
             0.5555555555555556,
             "#d8576b"
            ],
            [
             0.6666666666666666,
             "#ed7953"
            ],
            [
             0.7777777777777778,
             "#fb9f3a"
            ],
            [
             0.8888888888888888,
             "#fdca26"
            ],
            [
             1,
             "#f0f921"
            ]
           ],
           "sequentialminus": [
            [
             0,
             "#0d0887"
            ],
            [
             0.1111111111111111,
             "#46039f"
            ],
            [
             0.2222222222222222,
             "#7201a8"
            ],
            [
             0.3333333333333333,
             "#9c179e"
            ],
            [
             0.4444444444444444,
             "#bd3786"
            ],
            [
             0.5555555555555556,
             "#d8576b"
            ],
            [
             0.6666666666666666,
             "#ed7953"
            ],
            [
             0.7777777777777778,
             "#fb9f3a"
            ],
            [
             0.8888888888888888,
             "#fdca26"
            ],
            [
             1,
             "#f0f921"
            ]
           ]
          },
          "colorway": [
           "#636efa",
           "#EF553B",
           "#00cc96",
           "#ab63fa",
           "#FFA15A",
           "#19d3f3",
           "#FF6692",
           "#B6E880",
           "#FF97FF",
           "#FECB52"
          ],
          "font": {
           "color": "#f2f5fa"
          },
          "geo": {
           "bgcolor": "rgb(17,17,17)",
           "lakecolor": "rgb(17,17,17)",
           "landcolor": "rgb(17,17,17)",
           "showlakes": true,
           "showland": true,
           "subunitcolor": "#506784"
          },
          "hoverlabel": {
           "align": "left"
          },
          "hovermode": "closest",
          "mapbox": {
           "style": "dark"
          },
          "paper_bgcolor": "rgb(17,17,17)",
          "plot_bgcolor": "rgb(17,17,17)",
          "polar": {
           "angularaxis": {
            "gridcolor": "#506784",
            "linecolor": "#506784",
            "ticks": ""
           },
           "bgcolor": "rgb(17,17,17)",
           "radialaxis": {
            "gridcolor": "#506784",
            "linecolor": "#506784",
            "ticks": ""
           }
          },
          "scene": {
           "xaxis": {
            "backgroundcolor": "rgb(17,17,17)",
            "gridcolor": "#506784",
            "gridwidth": 2,
            "linecolor": "#506784",
            "showbackground": true,
            "ticks": "",
            "zerolinecolor": "#C8D4E3"
           },
           "yaxis": {
            "backgroundcolor": "rgb(17,17,17)",
            "gridcolor": "#506784",
            "gridwidth": 2,
            "linecolor": "#506784",
            "showbackground": true,
            "ticks": "",
            "zerolinecolor": "#C8D4E3"
           },
           "zaxis": {
            "backgroundcolor": "rgb(17,17,17)",
            "gridcolor": "#506784",
            "gridwidth": 2,
            "linecolor": "#506784",
            "showbackground": true,
            "ticks": "",
            "zerolinecolor": "#C8D4E3"
           }
          },
          "shapedefaults": {
           "line": {
            "color": "#f2f5fa"
           }
          },
          "sliderdefaults": {
           "bgcolor": "#C8D4E3",
           "bordercolor": "rgb(17,17,17)",
           "borderwidth": 1,
           "tickwidth": 0
          },
          "ternary": {
           "aaxis": {
            "gridcolor": "#506784",
            "linecolor": "#506784",
            "ticks": ""
           },
           "baxis": {
            "gridcolor": "#506784",
            "linecolor": "#506784",
            "ticks": ""
           },
           "bgcolor": "rgb(17,17,17)",
           "caxis": {
            "gridcolor": "#506784",
            "linecolor": "#506784",
            "ticks": ""
           }
          },
          "title": {
           "x": 0.05
          },
          "updatemenudefaults": {
           "bgcolor": "#506784",
           "borderwidth": 0
          },
          "xaxis": {
           "automargin": true,
           "gridcolor": "#283442",
           "linecolor": "#506784",
           "ticks": "",
           "title": {
            "standoff": 15
           },
           "zerolinecolor": "#283442",
           "zerolinewidth": 2
          },
          "yaxis": {
           "automargin": true,
           "gridcolor": "#283442",
           "linecolor": "#506784",
           "ticks": "",
           "title": {
            "standoff": 15
           },
           "zerolinecolor": "#283442",
           "zerolinewidth": 2
          }
         }
        },
        "width": 900,
        "xaxis": {
         "anchor": "y",
         "domain": [
          0,
          1
         ],
         "title": {
          "text": "Year"
         }
        },
        "yaxis": {
         "anchor": "x",
         "domain": [
          0,
          1
         ],
         "title": {
          "text": "Values"
         }
        }
       }
      }
     },
     "metadata": {},
     "output_type": "display_data"
    }
   ],
   "source": [
    "chart_type_choice = 2 # 1 for bar, 2 & 3 for line chart\n",
    "#data_fields_user_choice = (['NY.GDP.MKTP.CD', 'NY.GDP.PCAP.CD', 'SL.UEM.TOTL.ZS'],['gdp', 'gdp per cap', 'unemp'])\n",
    "data_fields_user_choice = (['NY.GDP.MKTP.CD'],['GDP'])\n",
    "geo_user_choice = [2,['EUU', 'AFR']]\n",
    "#geo_user_choice = [1,['AZE','GBR','WLD']]\n",
    "year_user_choice = (1980, 2020)\n",
    "ranked_or_unranked_user_choice = 1\n",
    "\n",
    "def change_sign_func(df): # changes sign of values in column names specified by user within 'df' DataFrame. It's used for ranking data fields where higher value is bad. It's because by default, the higher the rank value, the better. \n",
    "    x = 0\n",
    "    ranked_msg = 'Enter description for the data field where higher value is bad (e.g. Inflation, consumer prices (annual %)). Press \"q\" to finish.'\n",
    "    change_sign_field_list = []\n",
    "    while x == 0:\n",
    "        change_sign_field = input(ranked_msg)\n",
    "        if change_sign_field == 'q':\n",
    "            x = x + 1\n",
    "        else:\n",
    "            change_sign_field_list.append(change_sign_field)\n",
    "    df[change_sign_field_list] = -df[change_sign_field_list]\n",
    "    return df\n",
    "\n",
    "def benchmark_df(df): # adds 'Benchmark' to list of countries to show their mean value.\n",
    "    bench_df = pd.DataFrame(df.mean()).T # creates new 'bench_df' DataFrame to with a row to show mean values of columns in 'df' DataFrame\n",
    "    bench_df[df.index.name] = 'Benchmark' # adds a column name 'Country' from 'df' DataFrame to 'bench_df' DataFrame and populates it with 'Benchmark' string as value\n",
    "    bench_df.set_index(df.index.name, inplace=True) # sets 'Country' column as index for 'bench_df' DataFrame\n",
    "    df = df.append(bench_df) # merges 'df' and 'bench_df' DataFrame into a new 'df' DataFrame\n",
    "    return df\n",
    "\n",
    "def df_func(chart_type_choice, data_fields_user_choice, geo_user_choice, year_user_choice, ranked_or_unranked_user_choice):\n",
    "    data_fields_dict = {data_fields_user_choice[0][i]: data_fields_user_choice[1][i] for i in range(len(data_fields_user_choice[0]))} # converts list of lists 'data_fields_user_choice' into a dictionary 'data_fields_dict' containing data fields (i.e. indicator codes) and their descriptions\n",
    "    data_fields_dict = dict(sorted(data_fields_dict.items())) # sorts keys of the dictionary alphabetically. Without this, there will be a bug in 'df = wb.data.DataFrame(list(data_fields_dict.keys())...' line because column names in 'df' DataFrame would be assigned in alphabetical order instead of the order that they were entered in\n",
    "    if chart_type_choice == 0:\n",
    "        if geo_user_choice[0] == 1: # downloads data for countries\n",
    "            df = wb.data.DataFrame(list(data_fields_dict.keys()), geo_user_choice[1], time=year_user_choice, labels=True) # I removed '.dropna()' from the end of the code\n",
    "        elif geo_user_choice[0] == 2: # downloads data for regions\n",
    "            # BUG if user entered more than one region in 'geo_user_choice' variable, this code will only will generate an error.\n",
    "            for region in geo_user_choice[1]: # loops through regions previously inputted by user in 'geo_user_choice' variable\n",
    "                df = wb.data.DataFrame(list(data_fields_dict.keys()), wb.region.members(region), time=year_user_choice, labels=True) # I removed '.dropna()' from the end of the code\n",
    "        df.columns = ['Country'] +  list(data_fields_dict.values()) # change columns names from using indicator codes to indicator names\n",
    "        df.set_index(['Country'], inplace=True) # replaces index that has country codes with index using values from 'Country' column\n",
    "        if ranked_or_unranked_user_choice == 2: # checks if user selected to rank countries (option 2) and if so, then transfrorms the 'df' DataFrame to show ranked data, where the higher the rank values, the better.\n",
    "            df = change_sign_func(df) # runs a function to change sign of values in column names specified by user within 'df' DataFrame. It's used for ranking data fields where higher value is bad. It's because by default, the higher the rank value, the better. \n",
    "            df = benchmark_df(df)            \n",
    "            df = df.rank(method='first') # creates a new 'df' DataFrame to rank the countries for each dataf field. The higher the rank value the better.\n",
    "        elif ranked_or_unranked_user_choice == 1: # checks if user selected not to rank countries (option 1) and if so, then adds 'Benchmark' to list of countries in 'df' DataFrame that represents their median value.\n",
    "            df = benchmark_df(df)\n",
    "        df.sort_values(by=list(data_fields_dict.values())[0], ascending=False, inplace=True) # sorts values in the first column of 'df' DataFrame so that the countries look in ascending order when we chart this 'df' later.\n",
    "    elif chart_type_choice == 1 or chart_type_choice == 2: # will download the data wether for line chart. Since only 1 data type is selected for this, the function to change sign ('change_sign_func') has not been used here. If the user previously selected cumulative percentage change using 'chart_type_choice' variable (option 2), then this function performs additional calculations and formatting. This function returns 'df' DataFrame with the data.\n",
    "        if geo_user_choice[0] == 1: # downloads data for countries\n",
    "            df = wb.data.DataFrame(list(data_fields_dict.keys()), geo_user_choice[1], time=range(year_user_choice[0], year_user_choice[1]), numericTimeKeys=True, labels=True).dropna()\n",
    "        elif geo_user_choice[0] == 2: # downloads data for regions\n",
    "            # BUG if user entered more than one region in 'geo_user_choice' variable, this code will only will generate an error.\n",
    "            for region in geo_user_choice[1]: # loops through regions previously inputted by user in 'geo_user_choice' variable\n",
    "                df = wb.data.DataFrame(list(data_fields_dict.keys()), wb.region.members(region), time=range(year_user_choice[0], year_user_choice[1]), numericTimeKeys=True, labels=True).dropna()\n",
    "        df.set_index(['Country'], inplace=True) # replaces index that has country codes with index using values from 'Country' column\n",
    "        if ranked_or_unranked_user_choice == 2: # checks if user selected to rank countries (option 2) and if so, then transfrorms the 'df' DataFrame to show ranked data, where the higher the rank values, the better.\n",
    "            #df = change_sign_func(df) # runs a function to change sign of values in column names specified by user within 'df' DataFrame. It's used for ranking data fields where higher value is bad. It's because by default, the higher the rank value, the better. \n",
    "            df = benchmark_df(df)          \n",
    "            df = df.rank(method='first') # creates a new 'df' DataFrame to rank the countries for each dataf field. The higher the rank value the better.\n",
    "        elif ranked_or_unranked_user_choice == 1: # checks if user selected not to rank countries (option 1) and if so, then adds 'Benchmark' to list of countries in 'df' DataFrame that represents their median value.\n",
    "            df = benchmark_df(df)\n",
    "        if chart_type_choice == 2: # calculates cumulative percent change time series data\n",
    "            df = df.T.pct_change() # transposes 'df' DataFrame (i.e. swaps columns with rows) and then computes daily returns for each security\n",
    "            df = df[1:] # deletes first row with NaN values\n",
    "            df = (1 + df).cumprod() - 1 # calculates cumulative daily returns\n",
    "            df = df.T # transposes 'df' DataFrame (i.e. swaps columns with rows) back into it's previous state as it was before calculating cumulative returns\n",
    "        df = df.reset_index() # move 'Country' column from index to a separate column\n",
    "        df = df.melt(id_vars=['Country'], value_vars=list(df.columns)[1:], var_name='Year', value_name='Values') # move year column names into rows under 'Year' column and move their values under 'Values' column \n",
    "    # elif chart_type_choice == 2:\n",
    "        # ...\n",
    "    return df\n",
    "\n",
    "# chart the data\n",
    "def chart_func(df, chart_type_choice):\n",
    "    if chart_type_choice == 0: # creates a bar chart (ranked/unranked and grouped). The chart will show either ranked or unranked data, depending on whether the user previously selected ranked 'df' or unranked 'df'\n",
    "        fig = px.bar(df, \n",
    "            x=df.index, \n",
    "            y=df.columns, \n",
    "            barmode = 'group'\n",
    "            )  # you can change the look of this chart by removing 'barmode = 'group' from this line code. If you do that, the chart will shows stacked bar chart if user selected ranked 'df' or shows single (instead of grouped) bar chart if user selected unranked 'df'.\n",
    "        fig.add_vline(df.index.tolist().index('Benchmark'),\n",
    "            line_width = 3,\n",
    "            line_dash = 'dash'\n",
    "            ) # OPTIONAL: adds a vertical dash line for the 'Benchmark' value\n",
    "        # fig.update_layout(plot_bgcolor = 'white') # OPTIONAL: you can change the chart background colour to white\n",
    "        fig.show()\n",
    "    elif chart_type_choice == 1 or chart_type_choice == 2: # creates a line chart (ranked/unranked). The chart will be the same no matter whether user previously picked cumulative or non-cumulative data using 'chart_type_choice' variable\n",
    "        fig = px.line(df, \n",
    "            x=df['Year'],\n",
    "            y=df['Values'],\n",
    "            color=df['Country'],\n",
    "            height=500, \n",
    "            width=900,\n",
    "            template='plotly_dark'\n",
    "            )  # charts the data\n",
    "        fig.show()\n",
    "\n",
    "\n",
    "df = df_func(chart_type_choice, data_fields_user_choice, geo_user_choice, year_user_choice, ranked_or_unranked_user_choice) # runs a function to download required data based on earlier user choices and country/region inputs and selected data fields. This function formats the data (and ranks it if needed) and outputs data as 'df' DataFrame.\n",
    "chart = chart_func(df, chart_type_choice) # runs a function to create a chart of 'df' DataFrame depending on the type of data (Snapshot or Timeseries) \n"
   ]
  },
  {
   "cell_type": "code",
   "execution_count": 323,
   "metadata": {},
   "outputs": [
    {
     "data": {
      "application/vnd.plotly.v1+json": {
       "config": {
        "plotlyServerURL": "https://plot.ly"
       },
       "data": [
        {
         "alignmentgroup": "True",
         "hovertemplate": "data_field=GDP (current US$)<br>Country=%{x}<br>value=%{y}<extra></extra>",
         "legendgroup": "GDP (current US$)",
         "marker": {
          "color": "#636efa",
          "pattern": {
           "shape": ""
          }
         },
         "name": "GDP (current US$)",
         "offsetgroup": "GDP (current US$)",
         "orientation": "v",
         "showlegend": true,
         "textposition": "auto",
         "type": "bar",
         "x": [
          "Germany",
          "France",
          "Italy",
          "Spain",
          "Netherlands",
          "Poland",
          "Benchmark",
          "Sweden",
          "Belgium",
          "Austria",
          "Ireland",
          "Denmark",
          "Finland",
          "Romania",
          "Czechia",
          "Portugal",
          "Greece",
          "Hungary",
          "Slovak Republic",
          "Luxembourg",
          "Bulgaria",
          "Croatia",
          "Lithuania",
          "Slovenia",
          "Latvia",
          "Estonia",
          "Cyprus",
          "Malta"
         ],
         "xaxis": "x",
         "y": [
          28,
          27,
          26,
          25,
          24,
          23,
          22,
          21,
          20,
          19,
          18,
          17,
          16,
          15,
          14,
          13,
          12,
          11,
          10,
          9,
          8,
          7,
          6,
          5,
          4,
          3,
          2,
          1
         ],
         "yaxis": "y"
        },
        {
         "alignmentgroup": "True",
         "hovertemplate": "data_field=GDP per capita (current US$)<br>Country=%{x}<br>value=%{y}<extra></extra>",
         "legendgroup": "GDP per capita (current US$)",
         "marker": {
          "color": "#EF553B",
          "pattern": {
           "shape": ""
          }
         },
         "name": "GDP per capita (current US$)",
         "offsetgroup": "GDP per capita (current US$)",
         "orientation": "v",
         "showlegend": true,
         "textposition": "auto",
         "type": "bar",
         "x": [
          "Germany",
          "France",
          "Italy",
          "Spain",
          "Netherlands",
          "Poland",
          "Benchmark",
          "Sweden",
          "Belgium",
          "Austria",
          "Ireland",
          "Denmark",
          "Finland",
          "Romania",
          "Czechia",
          "Portugal",
          "Greece",
          "Hungary",
          "Slovak Republic",
          "Luxembourg",
          "Bulgaria",
          "Croatia",
          "Lithuania",
          "Slovenia",
          "Latvia",
          "Estonia",
          "Cyprus",
          "Malta"
         ],
         "xaxis": "x",
         "y": [
          21,
          19,
          17,
          14,
          25,
          4,
          18,
          24,
          20,
          22,
          27,
          26,
          23,
          2,
          11,
          10,
          6,
          5,
          8,
          28,
          1,
          3,
          9,
          13,
          7,
          12,
          15,
          16
         ],
         "yaxis": "y"
        },
        {
         "alignmentgroup": "True",
         "hovertemplate": "data_field=Unemployment, total (% of total labor force)<br>Country=%{x}<br>value=%{y}<extra></extra>",
         "legendgroup": "Unemployment, total (% of total labor force)",
         "marker": {
          "color": "#00cc96",
          "pattern": {
           "shape": ""
          }
         },
         "name": "Unemployment, total (% of total labor force)",
         "offsetgroup": "Unemployment, total (% of total labor force)",
         "orientation": "v",
         "showlegend": true,
         "textposition": "auto",
         "type": "bar",
         "x": [
          "Germany",
          "France",
          "Italy",
          "Spain",
          "Netherlands",
          "Poland",
          "Benchmark",
          "Sweden",
          "Belgium",
          "Austria",
          "Ireland",
          "Denmark",
          "Finland",
          "Romania",
          "Czechia",
          "Portugal",
          "Greece",
          "Hungary",
          "Slovak Republic",
          "Luxembourg",
          "Bulgaria",
          "Croatia",
          "Lithuania",
          "Slovenia",
          "Latvia",
          "Estonia",
          "Cyprus",
          "Malta"
         ],
         "xaxis": "x",
         "y": [
          26,
          7,
          3,
          2,
          25,
          27,
          13,
          5,
          18,
          19,
          17,
          16,
          8,
          21,
          28,
          12,
          1,
          24,
          15,
          14,
          20,
          10,
          4,
          22,
          6,
          11,
          9,
          23
         ],
         "yaxis": "y"
        }
       ],
       "layout": {
        "barmode": "group",
        "legend": {
         "title": {
          "text": "data_field"
         },
         "tracegroupgap": 0
        },
        "margin": {
         "t": 60
        },
        "template": {
         "data": {
          "bar": [
           {
            "error_x": {
             "color": "#2a3f5f"
            },
            "error_y": {
             "color": "#2a3f5f"
            },
            "marker": {
             "line": {
              "color": "#E5ECF6",
              "width": 0.5
             },
             "pattern": {
              "fillmode": "overlay",
              "size": 10,
              "solidity": 0.2
             }
            },
            "type": "bar"
           }
          ],
          "barpolar": [
           {
            "marker": {
             "line": {
              "color": "#E5ECF6",
              "width": 0.5
             },
             "pattern": {
              "fillmode": "overlay",
              "size": 10,
              "solidity": 0.2
             }
            },
            "type": "barpolar"
           }
          ],
          "carpet": [
           {
            "aaxis": {
             "endlinecolor": "#2a3f5f",
             "gridcolor": "white",
             "linecolor": "white",
             "minorgridcolor": "white",
             "startlinecolor": "#2a3f5f"
            },
            "baxis": {
             "endlinecolor": "#2a3f5f",
             "gridcolor": "white",
             "linecolor": "white",
             "minorgridcolor": "white",
             "startlinecolor": "#2a3f5f"
            },
            "type": "carpet"
           }
          ],
          "choropleth": [
           {
            "colorbar": {
             "outlinewidth": 0,
             "ticks": ""
            },
            "type": "choropleth"
           }
          ],
          "contour": [
           {
            "colorbar": {
             "outlinewidth": 0,
             "ticks": ""
            },
            "colorscale": [
             [
              0,
              "#0d0887"
             ],
             [
              0.1111111111111111,
              "#46039f"
             ],
             [
              0.2222222222222222,
              "#7201a8"
             ],
             [
              0.3333333333333333,
              "#9c179e"
             ],
             [
              0.4444444444444444,
              "#bd3786"
             ],
             [
              0.5555555555555556,
              "#d8576b"
             ],
             [
              0.6666666666666666,
              "#ed7953"
             ],
             [
              0.7777777777777778,
              "#fb9f3a"
             ],
             [
              0.8888888888888888,
              "#fdca26"
             ],
             [
              1,
              "#f0f921"
             ]
            ],
            "type": "contour"
           }
          ],
          "contourcarpet": [
           {
            "colorbar": {
             "outlinewidth": 0,
             "ticks": ""
            },
            "type": "contourcarpet"
           }
          ],
          "heatmap": [
           {
            "colorbar": {
             "outlinewidth": 0,
             "ticks": ""
            },
            "colorscale": [
             [
              0,
              "#0d0887"
             ],
             [
              0.1111111111111111,
              "#46039f"
             ],
             [
              0.2222222222222222,
              "#7201a8"
             ],
             [
              0.3333333333333333,
              "#9c179e"
             ],
             [
              0.4444444444444444,
              "#bd3786"
             ],
             [
              0.5555555555555556,
              "#d8576b"
             ],
             [
              0.6666666666666666,
              "#ed7953"
             ],
             [
              0.7777777777777778,
              "#fb9f3a"
             ],
             [
              0.8888888888888888,
              "#fdca26"
             ],
             [
              1,
              "#f0f921"
             ]
            ],
            "type": "heatmap"
           }
          ],
          "heatmapgl": [
           {
            "colorbar": {
             "outlinewidth": 0,
             "ticks": ""
            },
            "colorscale": [
             [
              0,
              "#0d0887"
             ],
             [
              0.1111111111111111,
              "#46039f"
             ],
             [
              0.2222222222222222,
              "#7201a8"
             ],
             [
              0.3333333333333333,
              "#9c179e"
             ],
             [
              0.4444444444444444,
              "#bd3786"
             ],
             [
              0.5555555555555556,
              "#d8576b"
             ],
             [
              0.6666666666666666,
              "#ed7953"
             ],
             [
              0.7777777777777778,
              "#fb9f3a"
             ],
             [
              0.8888888888888888,
              "#fdca26"
             ],
             [
              1,
              "#f0f921"
             ]
            ],
            "type": "heatmapgl"
           }
          ],
          "histogram": [
           {
            "marker": {
             "pattern": {
              "fillmode": "overlay",
              "size": 10,
              "solidity": 0.2
             }
            },
            "type": "histogram"
           }
          ],
          "histogram2d": [
           {
            "colorbar": {
             "outlinewidth": 0,
             "ticks": ""
            },
            "colorscale": [
             [
              0,
              "#0d0887"
             ],
             [
              0.1111111111111111,
              "#46039f"
             ],
             [
              0.2222222222222222,
              "#7201a8"
             ],
             [
              0.3333333333333333,
              "#9c179e"
             ],
             [
              0.4444444444444444,
              "#bd3786"
             ],
             [
              0.5555555555555556,
              "#d8576b"
             ],
             [
              0.6666666666666666,
              "#ed7953"
             ],
             [
              0.7777777777777778,
              "#fb9f3a"
             ],
             [
              0.8888888888888888,
              "#fdca26"
             ],
             [
              1,
              "#f0f921"
             ]
            ],
            "type": "histogram2d"
           }
          ],
          "histogram2dcontour": [
           {
            "colorbar": {
             "outlinewidth": 0,
             "ticks": ""
            },
            "colorscale": [
             [
              0,
              "#0d0887"
             ],
             [
              0.1111111111111111,
              "#46039f"
             ],
             [
              0.2222222222222222,
              "#7201a8"
             ],
             [
              0.3333333333333333,
              "#9c179e"
             ],
             [
              0.4444444444444444,
              "#bd3786"
             ],
             [
              0.5555555555555556,
              "#d8576b"
             ],
             [
              0.6666666666666666,
              "#ed7953"
             ],
             [
              0.7777777777777778,
              "#fb9f3a"
             ],
             [
              0.8888888888888888,
              "#fdca26"
             ],
             [
              1,
              "#f0f921"
             ]
            ],
            "type": "histogram2dcontour"
           }
          ],
          "mesh3d": [
           {
            "colorbar": {
             "outlinewidth": 0,
             "ticks": ""
            },
            "type": "mesh3d"
           }
          ],
          "parcoords": [
           {
            "line": {
             "colorbar": {
              "outlinewidth": 0,
              "ticks": ""
             }
            },
            "type": "parcoords"
           }
          ],
          "pie": [
           {
            "automargin": true,
            "type": "pie"
           }
          ],
          "scatter": [
           {
            "fillpattern": {
             "fillmode": "overlay",
             "size": 10,
             "solidity": 0.2
            },
            "type": "scatter"
           }
          ],
          "scatter3d": [
           {
            "line": {
             "colorbar": {
              "outlinewidth": 0,
              "ticks": ""
             }
            },
            "marker": {
             "colorbar": {
              "outlinewidth": 0,
              "ticks": ""
             }
            },
            "type": "scatter3d"
           }
          ],
          "scattercarpet": [
           {
            "marker": {
             "colorbar": {
              "outlinewidth": 0,
              "ticks": ""
             }
            },
            "type": "scattercarpet"
           }
          ],
          "scattergeo": [
           {
            "marker": {
             "colorbar": {
              "outlinewidth": 0,
              "ticks": ""
             }
            },
            "type": "scattergeo"
           }
          ],
          "scattergl": [
           {
            "marker": {
             "colorbar": {
              "outlinewidth": 0,
              "ticks": ""
             }
            },
            "type": "scattergl"
           }
          ],
          "scattermapbox": [
           {
            "marker": {
             "colorbar": {
              "outlinewidth": 0,
              "ticks": ""
             }
            },
            "type": "scattermapbox"
           }
          ],
          "scatterpolar": [
           {
            "marker": {
             "colorbar": {
              "outlinewidth": 0,
              "ticks": ""
             }
            },
            "type": "scatterpolar"
           }
          ],
          "scatterpolargl": [
           {
            "marker": {
             "colorbar": {
              "outlinewidth": 0,
              "ticks": ""
             }
            },
            "type": "scatterpolargl"
           }
          ],
          "scatterternary": [
           {
            "marker": {
             "colorbar": {
              "outlinewidth": 0,
              "ticks": ""
             }
            },
            "type": "scatterternary"
           }
          ],
          "surface": [
           {
            "colorbar": {
             "outlinewidth": 0,
             "ticks": ""
            },
            "colorscale": [
             [
              0,
              "#0d0887"
             ],
             [
              0.1111111111111111,
              "#46039f"
             ],
             [
              0.2222222222222222,
              "#7201a8"
             ],
             [
              0.3333333333333333,
              "#9c179e"
             ],
             [
              0.4444444444444444,
              "#bd3786"
             ],
             [
              0.5555555555555556,
              "#d8576b"
             ],
             [
              0.6666666666666666,
              "#ed7953"
             ],
             [
              0.7777777777777778,
              "#fb9f3a"
             ],
             [
              0.8888888888888888,
              "#fdca26"
             ],
             [
              1,
              "#f0f921"
             ]
            ],
            "type": "surface"
           }
          ],
          "table": [
           {
            "cells": {
             "fill": {
              "color": "#EBF0F8"
             },
             "line": {
              "color": "white"
             }
            },
            "header": {
             "fill": {
              "color": "#C8D4E3"
             },
             "line": {
              "color": "white"
             }
            },
            "type": "table"
           }
          ]
         },
         "layout": {
          "annotationdefaults": {
           "arrowcolor": "#2a3f5f",
           "arrowhead": 0,
           "arrowwidth": 1
          },
          "autotypenumbers": "strict",
          "coloraxis": {
           "colorbar": {
            "outlinewidth": 0,
            "ticks": ""
           }
          },
          "colorscale": {
           "diverging": [
            [
             0,
             "#8e0152"
            ],
            [
             0.1,
             "#c51b7d"
            ],
            [
             0.2,
             "#de77ae"
            ],
            [
             0.3,
             "#f1b6da"
            ],
            [
             0.4,
             "#fde0ef"
            ],
            [
             0.5,
             "#f7f7f7"
            ],
            [
             0.6,
             "#e6f5d0"
            ],
            [
             0.7,
             "#b8e186"
            ],
            [
             0.8,
             "#7fbc41"
            ],
            [
             0.9,
             "#4d9221"
            ],
            [
             1,
             "#276419"
            ]
           ],
           "sequential": [
            [
             0,
             "#0d0887"
            ],
            [
             0.1111111111111111,
             "#46039f"
            ],
            [
             0.2222222222222222,
             "#7201a8"
            ],
            [
             0.3333333333333333,
             "#9c179e"
            ],
            [
             0.4444444444444444,
             "#bd3786"
            ],
            [
             0.5555555555555556,
             "#d8576b"
            ],
            [
             0.6666666666666666,
             "#ed7953"
            ],
            [
             0.7777777777777778,
             "#fb9f3a"
            ],
            [
             0.8888888888888888,
             "#fdca26"
            ],
            [
             1,
             "#f0f921"
            ]
           ],
           "sequentialminus": [
            [
             0,
             "#0d0887"
            ],
            [
             0.1111111111111111,
             "#46039f"
            ],
            [
             0.2222222222222222,
             "#7201a8"
            ],
            [
             0.3333333333333333,
             "#9c179e"
            ],
            [
             0.4444444444444444,
             "#bd3786"
            ],
            [
             0.5555555555555556,
             "#d8576b"
            ],
            [
             0.6666666666666666,
             "#ed7953"
            ],
            [
             0.7777777777777778,
             "#fb9f3a"
            ],
            [
             0.8888888888888888,
             "#fdca26"
            ],
            [
             1,
             "#f0f921"
            ]
           ]
          },
          "colorway": [
           "#636efa",
           "#EF553B",
           "#00cc96",
           "#ab63fa",
           "#FFA15A",
           "#19d3f3",
           "#FF6692",
           "#B6E880",
           "#FF97FF",
           "#FECB52"
          ],
          "font": {
           "color": "#2a3f5f"
          },
          "geo": {
           "bgcolor": "white",
           "lakecolor": "white",
           "landcolor": "#E5ECF6",
           "showlakes": true,
           "showland": true,
           "subunitcolor": "white"
          },
          "hoverlabel": {
           "align": "left"
          },
          "hovermode": "closest",
          "mapbox": {
           "style": "light"
          },
          "paper_bgcolor": "white",
          "plot_bgcolor": "#E5ECF6",
          "polar": {
           "angularaxis": {
            "gridcolor": "white",
            "linecolor": "white",
            "ticks": ""
           },
           "bgcolor": "#E5ECF6",
           "radialaxis": {
            "gridcolor": "white",
            "linecolor": "white",
            "ticks": ""
           }
          },
          "scene": {
           "xaxis": {
            "backgroundcolor": "#E5ECF6",
            "gridcolor": "white",
            "gridwidth": 2,
            "linecolor": "white",
            "showbackground": true,
            "ticks": "",
            "zerolinecolor": "white"
           },
           "yaxis": {
            "backgroundcolor": "#E5ECF6",
            "gridcolor": "white",
            "gridwidth": 2,
            "linecolor": "white",
            "showbackground": true,
            "ticks": "",
            "zerolinecolor": "white"
           },
           "zaxis": {
            "backgroundcolor": "#E5ECF6",
            "gridcolor": "white",
            "gridwidth": 2,
            "linecolor": "white",
            "showbackground": true,
            "ticks": "",
            "zerolinecolor": "white"
           }
          },
          "shapedefaults": {
           "line": {
            "color": "#2a3f5f"
           }
          },
          "ternary": {
           "aaxis": {
            "gridcolor": "white",
            "linecolor": "white",
            "ticks": ""
           },
           "baxis": {
            "gridcolor": "white",
            "linecolor": "white",
            "ticks": ""
           },
           "bgcolor": "#E5ECF6",
           "caxis": {
            "gridcolor": "white",
            "linecolor": "white",
            "ticks": ""
           }
          },
          "title": {
           "x": 0.05
          },
          "xaxis": {
           "automargin": true,
           "gridcolor": "white",
           "linecolor": "white",
           "ticks": "",
           "title": {
            "standoff": 15
           },
           "zerolinecolor": "white",
           "zerolinewidth": 2
          },
          "yaxis": {
           "automargin": true,
           "gridcolor": "white",
           "linecolor": "white",
           "ticks": "",
           "title": {
            "standoff": 15
           },
           "zerolinecolor": "white",
           "zerolinewidth": 2
          }
         }
        },
        "xaxis": {
         "anchor": "y",
         "domain": [
          0,
          1
         ],
         "title": {
          "text": "Country"
         }
        },
        "yaxis": {
         "anchor": "x",
         "domain": [
          0,
          1
         ],
         "title": {
          "text": "value"
         }
        }
       }
      }
     },
     "metadata": {},
     "output_type": "display_data"
    }
   ],
   "source": [
    "# chart data as grouped bars\n",
    "\n",
    "# to have Country as row and all column names under a new 'data_field' column and their values under 'value' column\n",
    "df_new = df.reset_index() # move 'Country' column from index to a separate column\n",
    "df_new = df_new.melt(id_vars=['Country'], value_vars=list(df.columns)[0:], var_name='data_field', value_name='value')\n",
    "\n",
    "# chart shows data as grouped bars\n",
    "fig = px.bar(df_new, x='Country', y='value', color='data_field', barmode = 'group')\n",
    "fig.show()"
   ]
  },
  {
   "cell_type": "code",
   "execution_count": 228,
   "metadata": {},
   "outputs": [],
   "source": [
    "data_fields_dict = {'NY.GDP.MKTP.CD' : 'GDP (current US$)',\n",
    "                    'NY.GDP.PCAP.CD' : 'GDP per capita (current US$)',\n",
    "                    'SL.UEM.TOTL.ZS' : 'Unemployment, total (% of total labor force)',\n",
    "                    'FP.CPI.TOTL.ZG' : 'Inflation, consumer prices (annual %)'\n",
    "                    }\n",
    "data_fields_dict = dict(sorted(data_fields_dict.items())) # to sort keys in the dictionary alphabetically. Otherwise, API download wouldn't work properly\n",
    "\n",
    "#download the data\n",
    "df = wb.data.DataFrame(list(data_fields_dict.keys()), wb.region.members('EUU'), time=2020, labels=True).dropna()\n",
    "df.columns = ['Country'] + list(data_fields_dict.values()) # change columns names from using indicator codes to indicator names\n",
    "df.set_index(['Country'], inplace=True) # replace index that has country codes with index using values from 'Country' column\n",
    "\n",
    "# reformat the data to rank it (the higher the rank number the better)\n",
    "df['Inflation, consumer prices (annual %)'] = -df['Inflation, consumer prices (annual %)'] # since higher inflation rate is bad, we need to flip the sign for data under the inflation column. We'll need to use it in benchmarking rankings.\n",
    "df['Unemployment, total (% of total labor force)'] = -df['Unemployment, total (% of total labor force)'] # since higher unemployment rate is bad, we need to flip the sign for data under the unemployment column. We'll need to use it in benchmarking rankings.\n",
    "median_df = pd.DataFrame(df.median()).T # create new 'median_df' DataFrame to with a row to show median values of columns in 'df' DataFrame\n",
    "median_df[df.index.name] = 'Benchmark' # adds a column name 'Country' from 'df' DataFrame to 'median_df' DataFrame and populates it with 'Benchmark' string as value\n",
    "median_df.set_index(df.index.name, inplace=True) # sets 'Country' column as index for 'median_df' DataFrame\n",
    "# median_df\n",
    "# df\n",
    "benchmark_df = df.append(median_df) # mergers 'df' and 'median_df' DataFrame into a new 'benchmark_df' DataFrame\n",
    "ranked_df = benchmark_df.rank(method='first') # creates a new 'ranked_df' DataFrame to rank the countries for each dataf field. The higher the rank value the better.\n",
    "# ranked_df\n",
    "# comparison_df = pd.concat([ranked_df[ranked_df.index == 'France'], ranked_df[ranked_df.index == 'Benchmark']]) # to compare a country (in this case 'France') with a Benchmark and see them side-by-side\n",
    "# comparison_df"
   ]
  },
  {
   "cell_type": "code",
   "execution_count": 277,
   "metadata": {},
   "outputs": [
    {
     "data": {
      "text/html": [
       "<div>\n",
       "<style scoped>\n",
       "    .dataframe tbody tr th:only-of-type {\n",
       "        vertical-align: middle;\n",
       "    }\n",
       "\n",
       "    .dataframe tbody tr th {\n",
       "        vertical-align: top;\n",
       "    }\n",
       "\n",
       "    .dataframe thead th {\n",
       "        text-align: right;\n",
       "    }\n",
       "</style>\n",
       "<table border=\"1\" class=\"dataframe\">\n",
       "  <thead>\n",
       "    <tr style=\"text-align: right;\">\n",
       "      <th></th>\n",
       "      <th>Access to electricity (% of population)</th>\n",
       "      <th>Inflation, consumer prices (annual %)</th>\n",
       "      <th>GDP (current US$)</th>\n",
       "      <th>GDP per capita (current US$)</th>\n",
       "      <th>Population, female (% of total population)</th>\n",
       "    </tr>\n",
       "    <tr>\n",
       "      <th>Country</th>\n",
       "      <th></th>\n",
       "      <th></th>\n",
       "      <th></th>\n",
       "      <th></th>\n",
       "      <th></th>\n",
       "    </tr>\n",
       "  </thead>\n",
       "  <tbody>\n",
       "    <tr>\n",
       "      <th>Italy</th>\n",
       "      <td>100.000000</td>\n",
       "      <td>-0.137708</td>\n",
       "      <td>1.892574e+12</td>\n",
       "      <td>31834.972618</td>\n",
       "      <td>51.311884</td>\n",
       "    </tr>\n",
       "    <tr>\n",
       "      <th>Slovak Republic</th>\n",
       "      <td>100.000000</td>\n",
       "      <td>1.936941</td>\n",
       "      <td>1.051726e+11</td>\n",
       "      <td>19266.513574</td>\n",
       "      <td>51.306725</td>\n",
       "    </tr>\n",
       "    <tr>\n",
       "      <th>Portugal</th>\n",
       "      <td>100.000000</td>\n",
       "      <td>-0.012438</td>\n",
       "      <td>2.285392e+11</td>\n",
       "      <td>22194.566115</td>\n",
       "      <td>52.690275</td>\n",
       "    </tr>\n",
       "    <tr>\n",
       "      <th>Denmark</th>\n",
       "      <td>100.000000</td>\n",
       "      <td>0.420712</td>\n",
       "      <td>3.560849e+11</td>\n",
       "      <td>61063.316430</td>\n",
       "      <td>50.289018</td>\n",
       "    </tr>\n",
       "    <tr>\n",
       "      <th>Hungary</th>\n",
       "      <td>100.000000</td>\n",
       "      <td>3.326744</td>\n",
       "      <td>1.567431e+11</td>\n",
       "      <td>16075.973266</td>\n",
       "      <td>52.400400</td>\n",
       "    </tr>\n",
       "    <tr>\n",
       "      <th>Belgium</th>\n",
       "      <td>100.000000</td>\n",
       "      <td>0.740792</td>\n",
       "      <td>5.216769e+11</td>\n",
       "      <td>45189.366900</td>\n",
       "      <td>50.435502</td>\n",
       "    </tr>\n",
       "    <tr>\n",
       "      <th>Austria</th>\n",
       "      <td>100.000000</td>\n",
       "      <td>1.381911</td>\n",
       "      <td>4.332585e+11</td>\n",
       "      <td>48588.659385</td>\n",
       "      <td>50.705154</td>\n",
       "    </tr>\n",
       "    <tr>\n",
       "      <th>Croatia</th>\n",
       "      <td>100.000000</td>\n",
       "      <td>0.154811</td>\n",
       "      <td>5.720378e+10</td>\n",
       "      <td>14132.486561</td>\n",
       "      <td>51.786534</td>\n",
       "    </tr>\n",
       "    <tr>\n",
       "      <th>Greece</th>\n",
       "      <td>100.000000</td>\n",
       "      <td>-1.247984</td>\n",
       "      <td>1.888352e+11</td>\n",
       "      <td>17647.232688</td>\n",
       "      <td>50.918176</td>\n",
       "    </tr>\n",
       "    <tr>\n",
       "      <th>Czechia</th>\n",
       "      <td>100.000000</td>\n",
       "      <td>3.161295</td>\n",
       "      <td>2.453393e+11</td>\n",
       "      <td>22933.499591</td>\n",
       "      <td>50.765423</td>\n",
       "    </tr>\n",
       "    <tr>\n",
       "      <th>Sweden</th>\n",
       "      <td>100.000000</td>\n",
       "      <td>0.497367</td>\n",
       "      <td>5.414872e+11</td>\n",
       "      <td>52300.206199</td>\n",
       "      <td>49.907795</td>\n",
       "    </tr>\n",
       "    <tr>\n",
       "      <th>Luxembourg</th>\n",
       "      <td>100.000000</td>\n",
       "      <td>0.819957</td>\n",
       "      <td>7.335313e+10</td>\n",
       "      <td>116356.158037</td>\n",
       "      <td>49.425058</td>\n",
       "    </tr>\n",
       "    <tr>\n",
       "      <th>Latvia</th>\n",
       "      <td>100.000000</td>\n",
       "      <td>0.219065</td>\n",
       "      <td>3.364546e+10</td>\n",
       "      <td>17703.953443</td>\n",
       "      <td>53.910769</td>\n",
       "    </tr>\n",
       "    <tr>\n",
       "      <th>Poland</th>\n",
       "      <td>100.000000</td>\n",
       "      <td>3.374470</td>\n",
       "      <td>5.966244e+11</td>\n",
       "      <td>15742.453726</td>\n",
       "      <td>51.546822</td>\n",
       "    </tr>\n",
       "    <tr>\n",
       "      <th>Spain</th>\n",
       "      <td>100.000000</td>\n",
       "      <td>-0.322753</td>\n",
       "      <td>1.281485e+12</td>\n",
       "      <td>27056.421751</td>\n",
       "      <td>50.853503</td>\n",
       "    </tr>\n",
       "    <tr>\n",
       "      <th>Lithuania</th>\n",
       "      <td>100.000000</td>\n",
       "      <td>1.199894</td>\n",
       "      <td>5.654696e+10</td>\n",
       "      <td>20232.302036</td>\n",
       "      <td>53.715933</td>\n",
       "    </tr>\n",
       "    <tr>\n",
       "      <th>France</th>\n",
       "      <td>100.000000</td>\n",
       "      <td>0.476499</td>\n",
       "      <td>2.630318e+12</td>\n",
       "      <td>39037.122631</td>\n",
       "      <td>51.604879</td>\n",
       "    </tr>\n",
       "    <tr>\n",
       "      <th>Malta</th>\n",
       "      <td>100.000000</td>\n",
       "      <td>0.638545</td>\n",
       "      <td>1.491704e+10</td>\n",
       "      <td>28946.462677</td>\n",
       "      <td>49.852674</td>\n",
       "    </tr>\n",
       "    <tr>\n",
       "      <th>Cyprus</th>\n",
       "      <td>100.000000</td>\n",
       "      <td>-0.638423</td>\n",
       "      <td>2.469210e+10</td>\n",
       "      <td>27681.566406</td>\n",
       "      <td>50.013790</td>\n",
       "    </tr>\n",
       "    <tr>\n",
       "      <th>Germany</th>\n",
       "      <td>100.000000</td>\n",
       "      <td>0.506690</td>\n",
       "      <td>3.846414e+12</td>\n",
       "      <td>46252.689304</td>\n",
       "      <td>50.568201</td>\n",
       "    </tr>\n",
       "    <tr>\n",
       "      <th>Bulgaria</th>\n",
       "      <td>99.699997</td>\n",
       "      <td>1.672441</td>\n",
       "      <td>6.988935e+10</td>\n",
       "      <td>10079.203381</td>\n",
       "      <td>51.440632</td>\n",
       "    </tr>\n",
       "    <tr>\n",
       "      <th>Finland</th>\n",
       "      <td>100.000000</td>\n",
       "      <td>0.290555</td>\n",
       "      <td>2.718370e+11</td>\n",
       "      <td>49160.837152</td>\n",
       "      <td>50.684983</td>\n",
       "    </tr>\n",
       "    <tr>\n",
       "      <th>Romania</th>\n",
       "      <td>100.000000</td>\n",
       "      <td>2.631073</td>\n",
       "      <td>2.495113e+11</td>\n",
       "      <td>12956.566248</td>\n",
       "      <td>51.377136</td>\n",
       "    </tr>\n",
       "    <tr>\n",
       "      <th>Estonia</th>\n",
       "      <td>100.000000</td>\n",
       "      <td>-0.444531</td>\n",
       "      <td>3.065029e+10</td>\n",
       "      <td>23054.358491</td>\n",
       "      <td>52.624386</td>\n",
       "    </tr>\n",
       "    <tr>\n",
       "      <th>Slovenia</th>\n",
       "      <td>100.000000</td>\n",
       "      <td>-0.054857</td>\n",
       "      <td>5.358961e+10</td>\n",
       "      <td>25489.500228</td>\n",
       "      <td>50.203758</td>\n",
       "    </tr>\n",
       "    <tr>\n",
       "      <th>Netherlands</th>\n",
       "      <td>100.000000</td>\n",
       "      <td>1.272460</td>\n",
       "      <td>9.138654e+11</td>\n",
       "      <td>52396.032210</td>\n",
       "      <td>50.176783</td>\n",
       "    </tr>\n",
       "    <tr>\n",
       "      <th>Ireland</th>\n",
       "      <td>100.000000</td>\n",
       "      <td>-0.334585</td>\n",
       "      <td>4.258890e+11</td>\n",
       "      <td>85422.542868</td>\n",
       "      <td>50.355401</td>\n",
       "    </tr>\n",
       "  </tbody>\n",
       "</table>\n",
       "</div>"
      ],
      "text/plain": [
       "                 Access to electricity (% of population)  \\\n",
       "Country                                                    \n",
       "Italy                                         100.000000   \n",
       "Slovak Republic                               100.000000   \n",
       "Portugal                                      100.000000   \n",
       "Denmark                                       100.000000   \n",
       "Hungary                                       100.000000   \n",
       "Belgium                                       100.000000   \n",
       "Austria                                       100.000000   \n",
       "Croatia                                       100.000000   \n",
       "Greece                                        100.000000   \n",
       "Czechia                                       100.000000   \n",
       "Sweden                                        100.000000   \n",
       "Luxembourg                                    100.000000   \n",
       "Latvia                                        100.000000   \n",
       "Poland                                        100.000000   \n",
       "Spain                                         100.000000   \n",
       "Lithuania                                     100.000000   \n",
       "France                                        100.000000   \n",
       "Malta                                         100.000000   \n",
       "Cyprus                                        100.000000   \n",
       "Germany                                       100.000000   \n",
       "Bulgaria                                       99.699997   \n",
       "Finland                                       100.000000   \n",
       "Romania                                       100.000000   \n",
       "Estonia                                       100.000000   \n",
       "Slovenia                                      100.000000   \n",
       "Netherlands                                   100.000000   \n",
       "Ireland                                       100.000000   \n",
       "\n",
       "                 Inflation, consumer prices (annual %)  GDP (current US$)  \\\n",
       "Country                                                                     \n",
       "Italy                                        -0.137708       1.892574e+12   \n",
       "Slovak Republic                               1.936941       1.051726e+11   \n",
       "Portugal                                     -0.012438       2.285392e+11   \n",
       "Denmark                                       0.420712       3.560849e+11   \n",
       "Hungary                                       3.326744       1.567431e+11   \n",
       "Belgium                                       0.740792       5.216769e+11   \n",
       "Austria                                       1.381911       4.332585e+11   \n",
       "Croatia                                       0.154811       5.720378e+10   \n",
       "Greece                                       -1.247984       1.888352e+11   \n",
       "Czechia                                       3.161295       2.453393e+11   \n",
       "Sweden                                        0.497367       5.414872e+11   \n",
       "Luxembourg                                    0.819957       7.335313e+10   \n",
       "Latvia                                        0.219065       3.364546e+10   \n",
       "Poland                                        3.374470       5.966244e+11   \n",
       "Spain                                        -0.322753       1.281485e+12   \n",
       "Lithuania                                     1.199894       5.654696e+10   \n",
       "France                                        0.476499       2.630318e+12   \n",
       "Malta                                         0.638545       1.491704e+10   \n",
       "Cyprus                                       -0.638423       2.469210e+10   \n",
       "Germany                                       0.506690       3.846414e+12   \n",
       "Bulgaria                                      1.672441       6.988935e+10   \n",
       "Finland                                       0.290555       2.718370e+11   \n",
       "Romania                                       2.631073       2.495113e+11   \n",
       "Estonia                                      -0.444531       3.065029e+10   \n",
       "Slovenia                                     -0.054857       5.358961e+10   \n",
       "Netherlands                                   1.272460       9.138654e+11   \n",
       "Ireland                                      -0.334585       4.258890e+11   \n",
       "\n",
       "                 GDP per capita (current US$)  \\\n",
       "Country                                         \n",
       "Italy                            31834.972618   \n",
       "Slovak Republic                  19266.513574   \n",
       "Portugal                         22194.566115   \n",
       "Denmark                          61063.316430   \n",
       "Hungary                          16075.973266   \n",
       "Belgium                          45189.366900   \n",
       "Austria                          48588.659385   \n",
       "Croatia                          14132.486561   \n",
       "Greece                           17647.232688   \n",
       "Czechia                          22933.499591   \n",
       "Sweden                           52300.206199   \n",
       "Luxembourg                      116356.158037   \n",
       "Latvia                           17703.953443   \n",
       "Poland                           15742.453726   \n",
       "Spain                            27056.421751   \n",
       "Lithuania                        20232.302036   \n",
       "France                           39037.122631   \n",
       "Malta                            28946.462677   \n",
       "Cyprus                           27681.566406   \n",
       "Germany                          46252.689304   \n",
       "Bulgaria                         10079.203381   \n",
       "Finland                          49160.837152   \n",
       "Romania                          12956.566248   \n",
       "Estonia                          23054.358491   \n",
       "Slovenia                         25489.500228   \n",
       "Netherlands                      52396.032210   \n",
       "Ireland                          85422.542868   \n",
       "\n",
       "                 Population, female (% of total population)  \n",
       "Country                                                      \n",
       "Italy                                             51.311884  \n",
       "Slovak Republic                                   51.306725  \n",
       "Portugal                                          52.690275  \n",
       "Denmark                                           50.289018  \n",
       "Hungary                                           52.400400  \n",
       "Belgium                                           50.435502  \n",
       "Austria                                           50.705154  \n",
       "Croatia                                           51.786534  \n",
       "Greece                                            50.918176  \n",
       "Czechia                                           50.765423  \n",
       "Sweden                                            49.907795  \n",
       "Luxembourg                                        49.425058  \n",
       "Latvia                                            53.910769  \n",
       "Poland                                            51.546822  \n",
       "Spain                                             50.853503  \n",
       "Lithuania                                         53.715933  \n",
       "France                                            51.604879  \n",
       "Malta                                             49.852674  \n",
       "Cyprus                                            50.013790  \n",
       "Germany                                           50.568201  \n",
       "Bulgaria                                          51.440632  \n",
       "Finland                                           50.684983  \n",
       "Romania                                           51.377136  \n",
       "Estonia                                           52.624386  \n",
       "Slovenia                                          50.203758  \n",
       "Netherlands                                       50.176783  \n",
       "Ireland                                           50.355401  "
      ]
     },
     "execution_count": 277,
     "metadata": {},
     "output_type": "execute_result"
    }
   ],
   "source": [
    "# download data from World Bank for multiple countries & data fields/indicators but for a single year. Then show it as a bar chart.\n",
    "\n",
    "countries = ['USA', 'GBR', 'CHN', 'BRA', 'IND', 'ZWE', 'AZE', 'WLD'] # select countries\n",
    "region = 'EUU' # select region\n",
    "\n",
    "data_fields_dict = {'EG.ELC.ACCS.ZS' : 'Access to electricity (% of population)', \n",
    "                    'NY.GDP.PCAP.CD' : 'GDP per capita (current US$)',\n",
    "                    'NY.GDP.MKTP.CD' : 'GDP (current US$)',\n",
    "                    'FP.CPI.TOTL.ZG' : 'Inflation, consumer prices (annual %)',\n",
    "                    'SP.POP.TOTL.FE.ZS' : 'Population, female (% of total population)'\n",
    "                    } # create a dictionary of indicator codes and descriptions\n",
    "data_fields_dict = dict(sorted(data_fields_dict.items())) # to sort keys in the dictionary alphabetically. Otherwise, API download wouldn't work properly\n",
    "\n",
    "df = wb.data.DataFrame(list(data_fields_dict.keys()), wb.region.members(region), time=2020, labels=True).dropna() # downloads data for all EU countries for specific data fields/indicators for year 2020. Also, drops all blank values\n",
    "df.columns = ['Country'] +  list(data_fields_dict.values()) # change columns names from using indicator codes to indicator names\n",
    "df.set_index(['Country'], inplace=True) # replace index that has country codes with index using values from 'Country' column\n",
    "#df = wb.data.DataFrame(data_fields_list, countries, mrv=30, numericTimeKeys=True)\n",
    "#df = wb.data.DataFrame(data_fields_list, coutnries, time=range(2010,2020), index='time', numericTimeKeys=True, labels=True)\n",
    "df"
   ]
  },
  {
   "cell_type": "code",
   "execution_count": 274,
   "metadata": {},
   "outputs": [
    {
     "data": {
      "application/vnd.plotly.v1+json": {
       "config": {
        "plotlyServerURL": "https://plot.ly"
       },
       "data": [
        {
         "alignmentgroup": "True",
         "hovertemplate": "variable=Access to electricity (% of population)<br>Country=%{x}<br>value=%{y}<extra></extra>",
         "legendgroup": "Access to electricity (% of population)",
         "marker": {
          "color": "#636efa",
          "pattern": {
           "shape": ""
          }
         },
         "name": "Access to electricity (% of population)",
         "offsetgroup": "Access to electricity (% of population)",
         "orientation": "v",
         "showlegend": true,
         "textposition": "auto",
         "type": "bar",
         "x": [
          "Italy",
          "Slovak Republic",
          "Portugal",
          "Denmark",
          "Hungary",
          "Belgium",
          "Austria",
          "Croatia",
          "Greece",
          "Czechia",
          "Sweden",
          "Luxembourg",
          "Latvia",
          "Poland",
          "Spain",
          "Lithuania",
          "France",
          "Malta",
          "Cyprus",
          "Germany",
          "Bulgaria",
          "Finland",
          "Romania",
          "Estonia",
          "Slovenia",
          "Netherlands",
          "Ireland"
         ],
         "xaxis": "x",
         "y": [
          100,
          100,
          100,
          100,
          100,
          100,
          100,
          100,
          100,
          100,
          100,
          100,
          100,
          100,
          100,
          100,
          100,
          100,
          100,
          100,
          99.6999969482422,
          100,
          100,
          100,
          100,
          100,
          100
         ],
         "yaxis": "y"
        },
        {
         "alignmentgroup": "True",
         "hovertemplate": "variable=Inflation, consumer prices (annual %)<br>Country=%{x}<br>value=%{y}<extra></extra>",
         "legendgroup": "Inflation, consumer prices (annual %)",
         "marker": {
          "color": "#EF553B",
          "pattern": {
           "shape": ""
          }
         },
         "name": "Inflation, consumer prices (annual %)",
         "offsetgroup": "Inflation, consumer prices (annual %)",
         "orientation": "v",
         "showlegend": true,
         "textposition": "auto",
         "type": "bar",
         "x": [
          "Italy",
          "Slovak Republic",
          "Portugal",
          "Denmark",
          "Hungary",
          "Belgium",
          "Austria",
          "Croatia",
          "Greece",
          "Czechia",
          "Sweden",
          "Luxembourg",
          "Latvia",
          "Poland",
          "Spain",
          "Lithuania",
          "France",
          "Malta",
          "Cyprus",
          "Germany",
          "Bulgaria",
          "Finland",
          "Romania",
          "Estonia",
          "Slovenia",
          "Netherlands",
          "Ireland"
         ],
         "xaxis": "x",
         "y": [
          -0.13770757391657,
          1.9369412669422,
          -0.0124383299576167,
          0.420711974110026,
          3.3267438576673,
          0.740791812220385,
          1.38191063351859,
          0.154811374562028,
          -1.24798355581408,
          3.16129528497808,
          0.497367318853562,
          0.819957302126994,
          0.219064904842049,
          3.3744697261859,
          -0.322753017299705,
          1.19989444983569,
          0.476498852725083,
          0.638544956776653,
          -0.638422797978907,
          0.506689889953274,
          1.67244096855762,
          0.290554555653313,
          2.63107311184752,
          -0.444531097679859,
          -0.0548568157606067,
          1.2724603778917,
          -0.334584625428444
         ],
         "yaxis": "y"
        },
        {
         "alignmentgroup": "True",
         "hovertemplate": "variable=GDP (current US$)<br>Country=%{x}<br>value=%{y}<extra></extra>",
         "legendgroup": "GDP (current US$)",
         "marker": {
          "color": "#00cc96",
          "pattern": {
           "shape": ""
          }
         },
         "name": "GDP (current US$)",
         "offsetgroup": "GDP (current US$)",
         "orientation": "v",
         "showlegend": true,
         "textposition": "auto",
         "type": "bar",
         "x": [
          "Italy",
          "Slovak Republic",
          "Portugal",
          "Denmark",
          "Hungary",
          "Belgium",
          "Austria",
          "Croatia",
          "Greece",
          "Czechia",
          "Sweden",
          "Luxembourg",
          "Latvia",
          "Poland",
          "Spain",
          "Lithuania",
          "France",
          "Malta",
          "Cyprus",
          "Germany",
          "Bulgaria",
          "Finland",
          "Romania",
          "Estonia",
          "Slovenia",
          "Netherlands",
          "Ireland"
         ],
         "xaxis": "x",
         "y": [
          1892574064222.11,
          105172564491.569,
          228539245045.341,
          356084867685.639,
          156743134665.959,
          521676942134.632,
          433258467676.515,
          57203783203.0259,
          188835201625.91,
          245339322066.759,
          541487151474.557,
          73353132793.7076,
          33645460617.239,
          596624355719.671,
          1281484640043.58,
          56546957475.4912,
          2630317731455.26,
          14917038504.285,
          24692095945.1742,
          3846413928653.71,
          69889347433.4324,
          271836962949.417,
          249511333647.502,
          30650285471.7215,
          53589609580.7099,
          913865395789.886,
          425888950992.003
         ],
         "yaxis": "y"
        },
        {
         "alignmentgroup": "True",
         "hovertemplate": "variable=GDP per capita (current US$)<br>Country=%{x}<br>value=%{y}<extra></extra>",
         "legendgroup": "GDP per capita (current US$)",
         "marker": {
          "color": "#ab63fa",
          "pattern": {
           "shape": ""
          }
         },
         "name": "GDP per capita (current US$)",
         "offsetgroup": "GDP per capita (current US$)",
         "orientation": "v",
         "showlegend": true,
         "textposition": "auto",
         "type": "bar",
         "x": [
          "Italy",
          "Slovak Republic",
          "Portugal",
          "Denmark",
          "Hungary",
          "Belgium",
          "Austria",
          "Croatia",
          "Greece",
          "Czechia",
          "Sweden",
          "Luxembourg",
          "Latvia",
          "Poland",
          "Spain",
          "Lithuania",
          "France",
          "Malta",
          "Cyprus",
          "Germany",
          "Bulgaria",
          "Finland",
          "Romania",
          "Estonia",
          "Slovenia",
          "Netherlands",
          "Ireland"
         ],
         "xaxis": "x",
         "y": [
          31834.9726184046,
          19266.5135736247,
          22194.566114935,
          61063.3164304238,
          16075.9732662505,
          45189.3669003126,
          48588.6593847921,
          14132.4865609499,
          17647.2326882744,
          22933.4995909236,
          52300.2061994993,
          116356.158037286,
          17703.9534432332,
          15742.4537256368,
          27056.4217512166,
          20232.3020358588,
          39037.1226309074,
          28946.4626770412,
          27681.56640625,
          46252.6893044892,
          10079.2033812203,
          49160.8371522596,
          12956.5662477568,
          23054.3584905978,
          25489.5002284083,
          52396.0322099525,
          85422.5428682266
         ],
         "yaxis": "y"
        },
        {
         "alignmentgroup": "True",
         "hovertemplate": "variable=Population, female (% of total population)<br>Country=%{x}<br>value=%{y}<extra></extra>",
         "legendgroup": "Population, female (% of total population)",
         "marker": {
          "color": "#FFA15A",
          "pattern": {
           "shape": ""
          }
         },
         "name": "Population, female (% of total population)",
         "offsetgroup": "Population, female (% of total population)",
         "orientation": "v",
         "showlegend": true,
         "textposition": "auto",
         "type": "bar",
         "x": [
          "Italy",
          "Slovak Republic",
          "Portugal",
          "Denmark",
          "Hungary",
          "Belgium",
          "Austria",
          "Croatia",
          "Greece",
          "Czechia",
          "Sweden",
          "Luxembourg",
          "Latvia",
          "Poland",
          "Spain",
          "Lithuania",
          "France",
          "Malta",
          "Cyprus",
          "Germany",
          "Bulgaria",
          "Finland",
          "Romania",
          "Estonia",
          "Slovenia",
          "Netherlands",
          "Ireland"
         ],
         "xaxis": "x",
         "y": [
          51.3118839212073,
          51.3067246338268,
          52.6902753996952,
          50.289017840017,
          52.4003995714441,
          50.4355019182689,
          50.705154112631,
          51.7865337902422,
          50.9181760128699,
          50.7654228945384,
          49.9077953158991,
          49.4250578296932,
          53.9107688359995,
          51.5468217030299,
          50.8535030522973,
          53.7159326464364,
          51.6048791736532,
          49.8526743956932,
          50.013790407343,
          50.5682013421545,
          51.4406316809013,
          50.6849834263357,
          51.3771357692678,
          52.6243857134996,
          50.2037584682905,
          50.1767827517601,
          50.3554014787164
         ],
         "yaxis": "y"
        }
       ],
       "layout": {
        "barmode": "relative",
        "legend": {
         "title": {
          "text": "variable"
         },
         "tracegroupgap": 0
        },
        "margin": {
         "t": 60
        },
        "template": {
         "data": {
          "bar": [
           {
            "error_x": {
             "color": "#2a3f5f"
            },
            "error_y": {
             "color": "#2a3f5f"
            },
            "marker": {
             "line": {
              "color": "#E5ECF6",
              "width": 0.5
             },
             "pattern": {
              "fillmode": "overlay",
              "size": 10,
              "solidity": 0.2
             }
            },
            "type": "bar"
           }
          ],
          "barpolar": [
           {
            "marker": {
             "line": {
              "color": "#E5ECF6",
              "width": 0.5
             },
             "pattern": {
              "fillmode": "overlay",
              "size": 10,
              "solidity": 0.2
             }
            },
            "type": "barpolar"
           }
          ],
          "carpet": [
           {
            "aaxis": {
             "endlinecolor": "#2a3f5f",
             "gridcolor": "white",
             "linecolor": "white",
             "minorgridcolor": "white",
             "startlinecolor": "#2a3f5f"
            },
            "baxis": {
             "endlinecolor": "#2a3f5f",
             "gridcolor": "white",
             "linecolor": "white",
             "minorgridcolor": "white",
             "startlinecolor": "#2a3f5f"
            },
            "type": "carpet"
           }
          ],
          "choropleth": [
           {
            "colorbar": {
             "outlinewidth": 0,
             "ticks": ""
            },
            "type": "choropleth"
           }
          ],
          "contour": [
           {
            "colorbar": {
             "outlinewidth": 0,
             "ticks": ""
            },
            "colorscale": [
             [
              0,
              "#0d0887"
             ],
             [
              0.1111111111111111,
              "#46039f"
             ],
             [
              0.2222222222222222,
              "#7201a8"
             ],
             [
              0.3333333333333333,
              "#9c179e"
             ],
             [
              0.4444444444444444,
              "#bd3786"
             ],
             [
              0.5555555555555556,
              "#d8576b"
             ],
             [
              0.6666666666666666,
              "#ed7953"
             ],
             [
              0.7777777777777778,
              "#fb9f3a"
             ],
             [
              0.8888888888888888,
              "#fdca26"
             ],
             [
              1,
              "#f0f921"
             ]
            ],
            "type": "contour"
           }
          ],
          "contourcarpet": [
           {
            "colorbar": {
             "outlinewidth": 0,
             "ticks": ""
            },
            "type": "contourcarpet"
           }
          ],
          "heatmap": [
           {
            "colorbar": {
             "outlinewidth": 0,
             "ticks": ""
            },
            "colorscale": [
             [
              0,
              "#0d0887"
             ],
             [
              0.1111111111111111,
              "#46039f"
             ],
             [
              0.2222222222222222,
              "#7201a8"
             ],
             [
              0.3333333333333333,
              "#9c179e"
             ],
             [
              0.4444444444444444,
              "#bd3786"
             ],
             [
              0.5555555555555556,
              "#d8576b"
             ],
             [
              0.6666666666666666,
              "#ed7953"
             ],
             [
              0.7777777777777778,
              "#fb9f3a"
             ],
             [
              0.8888888888888888,
              "#fdca26"
             ],
             [
              1,
              "#f0f921"
             ]
            ],
            "type": "heatmap"
           }
          ],
          "heatmapgl": [
           {
            "colorbar": {
             "outlinewidth": 0,
             "ticks": ""
            },
            "colorscale": [
             [
              0,
              "#0d0887"
             ],
             [
              0.1111111111111111,
              "#46039f"
             ],
             [
              0.2222222222222222,
              "#7201a8"
             ],
             [
              0.3333333333333333,
              "#9c179e"
             ],
             [
              0.4444444444444444,
              "#bd3786"
             ],
             [
              0.5555555555555556,
              "#d8576b"
             ],
             [
              0.6666666666666666,
              "#ed7953"
             ],
             [
              0.7777777777777778,
              "#fb9f3a"
             ],
             [
              0.8888888888888888,
              "#fdca26"
             ],
             [
              1,
              "#f0f921"
             ]
            ],
            "type": "heatmapgl"
           }
          ],
          "histogram": [
           {
            "marker": {
             "pattern": {
              "fillmode": "overlay",
              "size": 10,
              "solidity": 0.2
             }
            },
            "type": "histogram"
           }
          ],
          "histogram2d": [
           {
            "colorbar": {
             "outlinewidth": 0,
             "ticks": ""
            },
            "colorscale": [
             [
              0,
              "#0d0887"
             ],
             [
              0.1111111111111111,
              "#46039f"
             ],
             [
              0.2222222222222222,
              "#7201a8"
             ],
             [
              0.3333333333333333,
              "#9c179e"
             ],
             [
              0.4444444444444444,
              "#bd3786"
             ],
             [
              0.5555555555555556,
              "#d8576b"
             ],
             [
              0.6666666666666666,
              "#ed7953"
             ],
             [
              0.7777777777777778,
              "#fb9f3a"
             ],
             [
              0.8888888888888888,
              "#fdca26"
             ],
             [
              1,
              "#f0f921"
             ]
            ],
            "type": "histogram2d"
           }
          ],
          "histogram2dcontour": [
           {
            "colorbar": {
             "outlinewidth": 0,
             "ticks": ""
            },
            "colorscale": [
             [
              0,
              "#0d0887"
             ],
             [
              0.1111111111111111,
              "#46039f"
             ],
             [
              0.2222222222222222,
              "#7201a8"
             ],
             [
              0.3333333333333333,
              "#9c179e"
             ],
             [
              0.4444444444444444,
              "#bd3786"
             ],
             [
              0.5555555555555556,
              "#d8576b"
             ],
             [
              0.6666666666666666,
              "#ed7953"
             ],
             [
              0.7777777777777778,
              "#fb9f3a"
             ],
             [
              0.8888888888888888,
              "#fdca26"
             ],
             [
              1,
              "#f0f921"
             ]
            ],
            "type": "histogram2dcontour"
           }
          ],
          "mesh3d": [
           {
            "colorbar": {
             "outlinewidth": 0,
             "ticks": ""
            },
            "type": "mesh3d"
           }
          ],
          "parcoords": [
           {
            "line": {
             "colorbar": {
              "outlinewidth": 0,
              "ticks": ""
             }
            },
            "type": "parcoords"
           }
          ],
          "pie": [
           {
            "automargin": true,
            "type": "pie"
           }
          ],
          "scatter": [
           {
            "fillpattern": {
             "fillmode": "overlay",
             "size": 10,
             "solidity": 0.2
            },
            "type": "scatter"
           }
          ],
          "scatter3d": [
           {
            "line": {
             "colorbar": {
              "outlinewidth": 0,
              "ticks": ""
             }
            },
            "marker": {
             "colorbar": {
              "outlinewidth": 0,
              "ticks": ""
             }
            },
            "type": "scatter3d"
           }
          ],
          "scattercarpet": [
           {
            "marker": {
             "colorbar": {
              "outlinewidth": 0,
              "ticks": ""
             }
            },
            "type": "scattercarpet"
           }
          ],
          "scattergeo": [
           {
            "marker": {
             "colorbar": {
              "outlinewidth": 0,
              "ticks": ""
             }
            },
            "type": "scattergeo"
           }
          ],
          "scattergl": [
           {
            "marker": {
             "colorbar": {
              "outlinewidth": 0,
              "ticks": ""
             }
            },
            "type": "scattergl"
           }
          ],
          "scattermapbox": [
           {
            "marker": {
             "colorbar": {
              "outlinewidth": 0,
              "ticks": ""
             }
            },
            "type": "scattermapbox"
           }
          ],
          "scatterpolar": [
           {
            "marker": {
             "colorbar": {
              "outlinewidth": 0,
              "ticks": ""
             }
            },
            "type": "scatterpolar"
           }
          ],
          "scatterpolargl": [
           {
            "marker": {
             "colorbar": {
              "outlinewidth": 0,
              "ticks": ""
             }
            },
            "type": "scatterpolargl"
           }
          ],
          "scatterternary": [
           {
            "marker": {
             "colorbar": {
              "outlinewidth": 0,
              "ticks": ""
             }
            },
            "type": "scatterternary"
           }
          ],
          "surface": [
           {
            "colorbar": {
             "outlinewidth": 0,
             "ticks": ""
            },
            "colorscale": [
             [
              0,
              "#0d0887"
             ],
             [
              0.1111111111111111,
              "#46039f"
             ],
             [
              0.2222222222222222,
              "#7201a8"
             ],
             [
              0.3333333333333333,
              "#9c179e"
             ],
             [
              0.4444444444444444,
              "#bd3786"
             ],
             [
              0.5555555555555556,
              "#d8576b"
             ],
             [
              0.6666666666666666,
              "#ed7953"
             ],
             [
              0.7777777777777778,
              "#fb9f3a"
             ],
             [
              0.8888888888888888,
              "#fdca26"
             ],
             [
              1,
              "#f0f921"
             ]
            ],
            "type": "surface"
           }
          ],
          "table": [
           {
            "cells": {
             "fill": {
              "color": "#EBF0F8"
             },
             "line": {
              "color": "white"
             }
            },
            "header": {
             "fill": {
              "color": "#C8D4E3"
             },
             "line": {
              "color": "white"
             }
            },
            "type": "table"
           }
          ]
         },
         "layout": {
          "annotationdefaults": {
           "arrowcolor": "#2a3f5f",
           "arrowhead": 0,
           "arrowwidth": 1
          },
          "autotypenumbers": "strict",
          "coloraxis": {
           "colorbar": {
            "outlinewidth": 0,
            "ticks": ""
           }
          },
          "colorscale": {
           "diverging": [
            [
             0,
             "#8e0152"
            ],
            [
             0.1,
             "#c51b7d"
            ],
            [
             0.2,
             "#de77ae"
            ],
            [
             0.3,
             "#f1b6da"
            ],
            [
             0.4,
             "#fde0ef"
            ],
            [
             0.5,
             "#f7f7f7"
            ],
            [
             0.6,
             "#e6f5d0"
            ],
            [
             0.7,
             "#b8e186"
            ],
            [
             0.8,
             "#7fbc41"
            ],
            [
             0.9,
             "#4d9221"
            ],
            [
             1,
             "#276419"
            ]
           ],
           "sequential": [
            [
             0,
             "#0d0887"
            ],
            [
             0.1111111111111111,
             "#46039f"
            ],
            [
             0.2222222222222222,
             "#7201a8"
            ],
            [
             0.3333333333333333,
             "#9c179e"
            ],
            [
             0.4444444444444444,
             "#bd3786"
            ],
            [
             0.5555555555555556,
             "#d8576b"
            ],
            [
             0.6666666666666666,
             "#ed7953"
            ],
            [
             0.7777777777777778,
             "#fb9f3a"
            ],
            [
             0.8888888888888888,
             "#fdca26"
            ],
            [
             1,
             "#f0f921"
            ]
           ],
           "sequentialminus": [
            [
             0,
             "#0d0887"
            ],
            [
             0.1111111111111111,
             "#46039f"
            ],
            [
             0.2222222222222222,
             "#7201a8"
            ],
            [
             0.3333333333333333,
             "#9c179e"
            ],
            [
             0.4444444444444444,
             "#bd3786"
            ],
            [
             0.5555555555555556,
             "#d8576b"
            ],
            [
             0.6666666666666666,
             "#ed7953"
            ],
            [
             0.7777777777777778,
             "#fb9f3a"
            ],
            [
             0.8888888888888888,
             "#fdca26"
            ],
            [
             1,
             "#f0f921"
            ]
           ]
          },
          "colorway": [
           "#636efa",
           "#EF553B",
           "#00cc96",
           "#ab63fa",
           "#FFA15A",
           "#19d3f3",
           "#FF6692",
           "#B6E880",
           "#FF97FF",
           "#FECB52"
          ],
          "font": {
           "color": "#2a3f5f"
          },
          "geo": {
           "bgcolor": "white",
           "lakecolor": "white",
           "landcolor": "#E5ECF6",
           "showlakes": true,
           "showland": true,
           "subunitcolor": "white"
          },
          "hoverlabel": {
           "align": "left"
          },
          "hovermode": "closest",
          "mapbox": {
           "style": "light"
          },
          "paper_bgcolor": "white",
          "plot_bgcolor": "#E5ECF6",
          "polar": {
           "angularaxis": {
            "gridcolor": "white",
            "linecolor": "white",
            "ticks": ""
           },
           "bgcolor": "#E5ECF6",
           "radialaxis": {
            "gridcolor": "white",
            "linecolor": "white",
            "ticks": ""
           }
          },
          "scene": {
           "xaxis": {
            "backgroundcolor": "#E5ECF6",
            "gridcolor": "white",
            "gridwidth": 2,
            "linecolor": "white",
            "showbackground": true,
            "ticks": "",
            "zerolinecolor": "white"
           },
           "yaxis": {
            "backgroundcolor": "#E5ECF6",
            "gridcolor": "white",
            "gridwidth": 2,
            "linecolor": "white",
            "showbackground": true,
            "ticks": "",
            "zerolinecolor": "white"
           },
           "zaxis": {
            "backgroundcolor": "#E5ECF6",
            "gridcolor": "white",
            "gridwidth": 2,
            "linecolor": "white",
            "showbackground": true,
            "ticks": "",
            "zerolinecolor": "white"
           }
          },
          "shapedefaults": {
           "line": {
            "color": "#2a3f5f"
           }
          },
          "ternary": {
           "aaxis": {
            "gridcolor": "white",
            "linecolor": "white",
            "ticks": ""
           },
           "baxis": {
            "gridcolor": "white",
            "linecolor": "white",
            "ticks": ""
           },
           "bgcolor": "#E5ECF6",
           "caxis": {
            "gridcolor": "white",
            "linecolor": "white",
            "ticks": ""
           }
          },
          "title": {
           "x": 0.05
          },
          "xaxis": {
           "automargin": true,
           "gridcolor": "white",
           "linecolor": "white",
           "ticks": "",
           "title": {
            "standoff": 15
           },
           "zerolinecolor": "white",
           "zerolinewidth": 2
          },
          "yaxis": {
           "automargin": true,
           "gridcolor": "white",
           "linecolor": "white",
           "ticks": "",
           "title": {
            "standoff": 15
           },
           "zerolinecolor": "white",
           "zerolinewidth": 2
          }
         }
        },
        "xaxis": {
         "anchor": "y",
         "domain": [
          0,
          1
         ],
         "title": {
          "text": "Country"
         }
        },
        "yaxis": {
         "anchor": "x",
         "domain": [
          0,
          1
         ],
         "title": {
          "text": "value"
         }
        }
       }
      }
     },
     "metadata": {},
     "output_type": "display_data"
    }
   ],
   "source": [
    "# chart the data\n",
    "\n",
    "fig = px.bar(df, x=df.index, y=df.columns)\n",
    "fig.show()"
   ]
  },
  {
   "cell_type": "code",
   "execution_count": 239,
   "metadata": {},
   "outputs": [
    {
     "data": {
      "text/html": [
       "<div>\n",
       "<style scoped>\n",
       "    .dataframe tbody tr th:only-of-type {\n",
       "        vertical-align: middle;\n",
       "    }\n",
       "\n",
       "    .dataframe tbody tr th {\n",
       "        vertical-align: top;\n",
       "    }\n",
       "\n",
       "    .dataframe thead th {\n",
       "        text-align: right;\n",
       "    }\n",
       "</style>\n",
       "<table border=\"1\" class=\"dataframe\">\n",
       "  <thead>\n",
       "    <tr style=\"text-align: right;\">\n",
       "      <th></th>\n",
       "      <th>Country</th>\n",
       "      <th>data_field</th>\n",
       "      <th>value</th>\n",
       "    </tr>\n",
       "  </thead>\n",
       "  <tbody>\n",
       "    <tr>\n",
       "      <th>0</th>\n",
       "      <td>Italy</td>\n",
       "      <td>GDP (current US$)</td>\n",
       "      <td>26.0</td>\n",
       "    </tr>\n",
       "    <tr>\n",
       "      <th>1</th>\n",
       "      <td>Slovak Republic</td>\n",
       "      <td>GDP (current US$)</td>\n",
       "      <td>10.0</td>\n",
       "    </tr>\n",
       "    <tr>\n",
       "      <th>2</th>\n",
       "      <td>Portugal</td>\n",
       "      <td>GDP (current US$)</td>\n",
       "      <td>13.0</td>\n",
       "    </tr>\n",
       "    <tr>\n",
       "      <th>3</th>\n",
       "      <td>Denmark</td>\n",
       "      <td>GDP (current US$)</td>\n",
       "      <td>18.0</td>\n",
       "    </tr>\n",
       "    <tr>\n",
       "      <th>4</th>\n",
       "      <td>Hungary</td>\n",
       "      <td>GDP (current US$)</td>\n",
       "      <td>11.0</td>\n",
       "    </tr>\n",
       "  </tbody>\n",
       "</table>\n",
       "</div>"
      ],
      "text/plain": [
       "           Country         data_field  value\n",
       "0            Italy  GDP (current US$)   26.0\n",
       "1  Slovak Republic  GDP (current US$)   10.0\n",
       "2         Portugal  GDP (current US$)   13.0\n",
       "3          Denmark  GDP (current US$)   18.0\n",
       "4          Hungary  GDP (current US$)   11.0"
      ]
     },
     "execution_count": 239,
     "metadata": {},
     "output_type": "execute_result"
    }
   ],
   "source": [
    "# to have Country as row and all column names under a new 'data_field' column and their values under 'value' column\n",
    "df_new = df.reset_index() # move 'Country' column from index to a separate column\n",
    "df_new = df_new.melt(id_vars=['Country'], value_vars=list(df.columns)[:], var_name='data_field', value_name='value')\n",
    "df_new.head()"
   ]
  }
 ],
 "metadata": {
  "kernelspec": {
   "display_name": "Python 3",
   "language": "python",
   "name": "python3"
  },
  "language_info": {
   "codemirror_mode": {
    "name": "ipython",
    "version": 3
   },
   "file_extension": ".py",
   "mimetype": "text/x-python",
   "name": "python",
   "nbconvert_exporter": "python",
   "pygments_lexer": "ipython3",
   "version": "3.10.0"
  },
  "orig_nbformat": 4,
  "vscode": {
   "interpreter": {
    "hash": "369f2c481f4da34e4445cda3fffd2e751bd1c4d706f27375911949ba6bb62e1c"
   }
  }
 },
 "nbformat": 4,
 "nbformat_minor": 2
}
