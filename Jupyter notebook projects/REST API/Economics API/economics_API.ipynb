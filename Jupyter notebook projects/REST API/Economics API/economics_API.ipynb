{
 "cells": [
  {
   "cell_type": "code",
   "execution_count": 2,
   "metadata": {},
   "outputs": [],
   "source": [
    "import pandas as pd\n",
    "import fredapi as fa # to import data from Federal Reserve API\n",
    "import wbgapi as wb # to import data from World Bank API\n",
    "import plotly.express as px # to chart the data"
   ]
  },
  {
   "attachments": {},
   "cell_type": "markdown",
   "metadata": {},
   "source": [
    "#### Federal Reserve API"
   ]
  },
  {
   "cell_type": "code",
   "execution_count": 268,
   "metadata": {},
   "outputs": [
    {
     "data": {
      "text/plain": [
       "2021-07-01    19672.594\n",
       "2021-10-01    20006.181\n",
       "2022-01-01    19924.088\n",
       "2022-04-01    19895.271\n",
       "2022-07-01    20039.406\n",
       "dtype: float64"
      ]
     },
     "execution_count": 268,
     "metadata": {},
     "output_type": "execute_result"
    }
   ],
   "source": [
    "# Downloads data from Federal Reserve API\n",
    "\n",
    "fred = fa.Fred(api_key=\"afaf79e2dc5aa8fa23e422406368e64a\")\n",
    "\n",
    "# comparable datasets\n",
    "real_gdp_capita_US_USD_NSA_A = fred.get_series('NYGDPPCAPKDUSA') # Constant GDP per capita for the United States (2010 U.S. Dollars, Not Seasonally Adjusted)\n",
    "real_gdp_capita_UK_USD_NSA_A = fred.get_series('NYGDPPCAPKDGBR') # Constant GDP per capita for the United Kingdom (2010 U.S. Dollars, Not Seasonally Adjusted)\n",
    "nominal_gdp_US_USD_A = fred.get_series('MKTGDPUSA646NWDB') # Gross Domestic Product for United States\n",
    "nominal_gdp_UK_USD_A = fred.get_series('MKTGDPGBA646NWDB') # Gross Domestic Product for United Kingdom\n",
    "nominal_gdp_US_NSA_Q = fred.get_series('NA000334Q') # Gross Domestic Product for United States\n",
    "nominal_gdp_UK_NSA_Q = fred.get_series('CPMNACNSAB1GQUK') # Gross Domestic Product for United Kingdom\n",
    "CPI_US_YoY_NSA_M = fred.get_series('CPALTT01USM659N') # Consumer Price Index: Total All Items for the United States \n",
    "CPI_UK_YoY_NSA_M = fred.get_series('CPALTT01GBM659N') # Consumer Price Index: Total All Items for the United Kingdom\n",
    "unemp_US_SA_M = fred.get_series('UNRATE') # unemployment rate in the United States\n",
    "unemp_UK_SA_M = fred.get_series('AURUKM') # Unemployment Rate in the United Kingdom\n",
    "population_US_NSA_A = fred.get_series('POPTHM') # Population in the United States\n",
    "population_UK_NSA_A = fred.get_series('POPUKA') # Population in the United Kingdom\n",
    "gov_debt_to_gdp_US_NSA_A = fred.get_series('GGGDTAUSA188N') # General government gross debt for United States\n",
    "gov_debt_to_gdp_UK_NSA_A = fred.get_series('GGGDTAGBA188N') # General government gross debt for United Kingdom\n",
    "house_debt_to_gdp_US_NSA_Q = fred.get_series('HDTGPDUSQ163N') # Household Debt to GDP for United States\n",
    "house_debt_to_gdp_UK_NSA_Q = fred.get_series('HDTGPDGBQ163N') # Household Debt to GDP for United Kingdom\n",
    "# non-comparable datasets\n",
    "real_gdp_US_SA_Q = fred.get_series('GDPC1') # Real Gross Domestic Product for United States (Billions of Chained 2012 Dollars, Seasonally Adjusted Annual Rate)\n",
    "real_gdp_UK_SA_Q = fred.get_series('NGDPRSAXDCGBQ') # Real Gross Domestic Product for Great Britain (Domestic Currency, Seasonally Adjusted)\n",
    "ind_prod_US_SA_M = fred.get_series('INDPRO') # Industrial Production: Total Index in the United States (Index 2017=100, Seasonally Adjusted)\n",
    "ind_prod_UK_SA_M = fred.get_series('GBRPROINDMISMEI') # Production of Total Industry in the United Kingdom (Index 2015=100, Seasonally Adjusted)\n",
    "\n",
    "# current account balance\n",
    "# FDI\n",
    "\n",
    "real_gdp_US_SA_Q.tail()"
   ]
  },
  {
   "cell_type": "code",
   "execution_count": 269,
   "metadata": {},
   "outputs": [
    {
     "data": {
      "text/html": [
       "<div>\n",
       "<style scoped>\n",
       "    .dataframe tbody tr th:only-of-type {\n",
       "        vertical-align: middle;\n",
       "    }\n",
       "\n",
       "    .dataframe tbody tr th {\n",
       "        vertical-align: top;\n",
       "    }\n",
       "\n",
       "    .dataframe thead th {\n",
       "        text-align: right;\n",
       "    }\n",
       "</style>\n",
       "<table border=\"1\" class=\"dataframe\">\n",
       "  <thead>\n",
       "    <tr style=\"text-align: right;\">\n",
       "      <th></th>\n",
       "      <th>ind_prod_US_SA_M</th>\n",
       "      <th>ind_prod_UK_SA_M</th>\n",
       "    </tr>\n",
       "  </thead>\n",
       "  <tbody>\n",
       "    <tr>\n",
       "      <th>2022-04-01</th>\n",
       "      <td>104.2709</td>\n",
       "      <td>113.229572</td>\n",
       "    </tr>\n",
       "    <tr>\n",
       "      <th>2022-05-01</th>\n",
       "      <td>104.1646</td>\n",
       "      <td>113.654050</td>\n",
       "    </tr>\n",
       "    <tr>\n",
       "      <th>2022-06-01</th>\n",
       "      <td>104.0772</td>\n",
       "      <td>113.335692</td>\n",
       "    </tr>\n",
       "    <tr>\n",
       "      <th>2022-07-01</th>\n",
       "      <td>104.7577</td>\n",
       "      <td>112.062257</td>\n",
       "    </tr>\n",
       "    <tr>\n",
       "      <th>2022-08-01</th>\n",
       "      <td>104.6544</td>\n",
       "      <td>110.045985</td>\n",
       "    </tr>\n",
       "  </tbody>\n",
       "</table>\n",
       "</div>"
      ],
      "text/plain": [
       "            ind_prod_US_SA_M  ind_prod_UK_SA_M\n",
       "2022-04-01          104.2709        113.229572\n",
       "2022-05-01          104.1646        113.654050\n",
       "2022-06-01          104.0772        113.335692\n",
       "2022-07-01          104.7577        112.062257\n",
       "2022-08-01          104.6544        110.045985"
      ]
     },
     "execution_count": 269,
     "metadata": {},
     "output_type": "execute_result"
    }
   ],
   "source": [
    "ind_prod_US_SA_M.name = 'ind_prod_US_SA_M'\n",
    "ind_prod_UK_SA_M.name = 'ind_prod_UK_SA_M'\n",
    "\n",
    "df = pd.merge(ind_prod_US_SA_M, ind_prod_UK_SA_M, how='inner', left_index=True, right_index=True) # merge data for 2 countries into a single DataFrame only for rows for which both countries have data\n",
    "df.tail()"
   ]
  },
  {
   "attachments": {},
   "cell_type": "markdown",
   "metadata": {},
   "source": [
    "#### World Bank API"
   ]
  },
  {
   "cell_type": "code",
   "execution_count": 91,
   "metadata": {},
   "outputs": [
    {
     "data": {
      "text/html": [
       "<div>\n",
       "<style scoped>\n",
       "    .dataframe tbody tr th:only-of-type {\n",
       "        vertical-align: middle;\n",
       "    }\n",
       "\n",
       "    .dataframe tbody tr th {\n",
       "        vertical-align: top;\n",
       "    }\n",
       "\n",
       "    .dataframe thead th {\n",
       "        text-align: right;\n",
       "    }\n",
       "</style>\n",
       "<table border=\"1\" class=\"dataframe\">\n",
       "  <thead>\n",
       "    <tr style=\"text-align: right;\">\n",
       "      <th></th>\n",
       "      <th></th>\n",
       "      <th>Country</th>\n",
       "      <th>Series</th>\n",
       "      <th>YR1999</th>\n",
       "      <th>YR2020</th>\n",
       "    </tr>\n",
       "    <tr>\n",
       "      <th>economy</th>\n",
       "      <th>series</th>\n",
       "      <th></th>\n",
       "      <th></th>\n",
       "      <th></th>\n",
       "      <th></th>\n",
       "    </tr>\n",
       "  </thead>\n",
       "  <tbody>\n",
       "    <tr>\n",
       "      <th>PLW</th>\n",
       "      <th>NY.GDP.PCAP.CD</th>\n",
       "      <td>Palau</td>\n",
       "      <td>GDP per capita (current US$)</td>\n",
       "      <td>NaN</td>\n",
       "      <td>1.424386e+04</td>\n",
       "    </tr>\n",
       "    <tr>\n",
       "      <th>EGY</th>\n",
       "      <th>NY.GDP.PCAP.CD</th>\n",
       "      <td>Egypt, Arab Rep.</td>\n",
       "      <td>GDP per capita (current US$)</td>\n",
       "      <td>1.343552e+03</td>\n",
       "      <td>3.569207e+03</td>\n",
       "    </tr>\n",
       "    <tr>\n",
       "      <th>VEN</th>\n",
       "      <th>NY.GDP.PCAP.CD</th>\n",
       "      <td>Venezuela, RB</td>\n",
       "      <td>GDP per capita (current US$)</td>\n",
       "      <td>4.127109e+03</td>\n",
       "      <td>NaN</td>\n",
       "    </tr>\n",
       "    <tr>\n",
       "      <th>DZA</th>\n",
       "      <th>NY.GDP.PCAP.CD</th>\n",
       "      <td>Algeria</td>\n",
       "      <td>GDP per capita (current US$)</td>\n",
       "      <td>1.588349e+03</td>\n",
       "      <td>3.306858e+03</td>\n",
       "    </tr>\n",
       "    <tr>\n",
       "      <th>KOR</th>\n",
       "      <th>NY.GDP.PCAP.CD</th>\n",
       "      <td>Korea, Rep.</td>\n",
       "      <td>GDP per capita (current US$)</td>\n",
       "      <td>1.067242e+04</td>\n",
       "      <td>3.159750e+04</td>\n",
       "    </tr>\n",
       "    <tr>\n",
       "      <th>...</th>\n",
       "      <th>...</th>\n",
       "      <td>...</td>\n",
       "      <td>...</td>\n",
       "      <td>...</td>\n",
       "      <td>...</td>\n",
       "    </tr>\n",
       "    <tr>\n",
       "      <th>SVK</th>\n",
       "      <th>SP.POP.TOTL</th>\n",
       "      <td>Slovak Republic</td>\n",
       "      <td>Population, total</td>\n",
       "      <td>5.396020e+06</td>\n",
       "      <td>5.458827e+06</td>\n",
       "    </tr>\n",
       "    <tr>\n",
       "      <th>GRC</th>\n",
       "      <th>SP.POP.TOTL</th>\n",
       "      <td>Greece</td>\n",
       "      <td>Population, total</td>\n",
       "      <td>1.076170e+07</td>\n",
       "      <td>1.070056e+07</td>\n",
       "    </tr>\n",
       "    <tr>\n",
       "      <th>ARE</th>\n",
       "      <th>SP.POP.TOTL</th>\n",
       "      <td>United Arab Emirates</td>\n",
       "      <td>Population, total</td>\n",
       "      <td>2.966029e+06</td>\n",
       "      <td>9.890400e+06</td>\n",
       "    </tr>\n",
       "    <tr>\n",
       "      <th>ARM</th>\n",
       "      <th>SP.POP.TOTL</th>\n",
       "      <td>Armenia</td>\n",
       "      <td>Population, total</td>\n",
       "      <td>3.089020e+06</td>\n",
       "      <td>2.963234e+06</td>\n",
       "    </tr>\n",
       "    <tr>\n",
       "      <th>CRI</th>\n",
       "      <th>SP.POP.TOTL</th>\n",
       "      <td>Costa Rica</td>\n",
       "      <td>Population, total</td>\n",
       "      <td>3.885428e+06</td>\n",
       "      <td>5.094114e+06</td>\n",
       "    </tr>\n",
       "  </tbody>\n",
       "</table>\n",
       "<p>434 rows × 4 columns</p>\n",
       "</div>"
      ],
      "text/plain": [
       "                                     Country                        Series  \\\n",
       "economy series                                                               \n",
       "PLW     NY.GDP.PCAP.CD                 Palau  GDP per capita (current US$)   \n",
       "EGY     NY.GDP.PCAP.CD      Egypt, Arab Rep.  GDP per capita (current US$)   \n",
       "VEN     NY.GDP.PCAP.CD         Venezuela, RB  GDP per capita (current US$)   \n",
       "DZA     NY.GDP.PCAP.CD               Algeria  GDP per capita (current US$)   \n",
       "KOR     NY.GDP.PCAP.CD           Korea, Rep.  GDP per capita (current US$)   \n",
       "...                                      ...                           ...   \n",
       "SVK     SP.POP.TOTL          Slovak Republic             Population, total   \n",
       "GRC     SP.POP.TOTL                   Greece             Population, total   \n",
       "ARE     SP.POP.TOTL     United Arab Emirates             Population, total   \n",
       "ARM     SP.POP.TOTL                  Armenia             Population, total   \n",
       "CRI     SP.POP.TOTL               Costa Rica             Population, total   \n",
       "\n",
       "                              YR1999        YR2020  \n",
       "economy series                                      \n",
       "PLW     NY.GDP.PCAP.CD           NaN  1.424386e+04  \n",
       "EGY     NY.GDP.PCAP.CD  1.343552e+03  3.569207e+03  \n",
       "VEN     NY.GDP.PCAP.CD  4.127109e+03           NaN  \n",
       "DZA     NY.GDP.PCAP.CD  1.588349e+03  3.306858e+03  \n",
       "KOR     NY.GDP.PCAP.CD  1.067242e+04  3.159750e+04  \n",
       "...                              ...           ...  \n",
       "SVK     SP.POP.TOTL     5.396020e+06  5.458827e+06  \n",
       "GRC     SP.POP.TOTL     1.076170e+07  1.070056e+07  \n",
       "ARE     SP.POP.TOTL     2.966029e+06  9.890400e+06  \n",
       "ARM     SP.POP.TOTL     3.089020e+06  2.963234e+06  \n",
       "CRI     SP.POP.TOTL     3.885428e+06  5.094114e+06  \n",
       "\n",
       "[434 rows x 4 columns]"
      ]
     },
     "execution_count": 91,
     "metadata": {},
     "output_type": "execute_result"
    }
   ],
   "source": [
    "# Downloads data from World Bank API. \n",
    "# Documentation is here: https://github.com/tgherzog/wbgapi\n",
    "\n",
    "\n",
    "# find the right data to import:\n",
    "\n",
    "# wb.source.info() # shows names of World Bank databases.\n",
    "# wb.series.info() # shows all world bank indicators (e.g. 'EG.ELC.ACCS.ZS'). By defaults, it shows all indicators in World Development Indicators (WDI) database.\n",
    "# wb.series.info(q=\"GDP\") # to search for a specific indicator in World Bank API using a keyword\n",
    "# wb.economy.info() # shows names and codes of countries and economies and codes for their region & income levels in World Bank databases\n",
    "# wb.economy.info(q=\"Azerbaijan\") # to search for a specific country/economy in WB API using a keyword\n",
    "# wb.region.info() # shows names of geographic regions in World Bank databases\n",
    "# wb.income.info() # shows income groups in World Bank databases\n",
    "# wb.search('NY.GDP.MKTP.CD') # deeper search on all meta data \n",
    "# wb.series.metadata.get('EG.ELC.ACCS.ZS') # search for metadata for a specific indicator in World Bank API\n",
    "# wb.economy.metadata.get('FRA') # search for metadata for a specific country in World Bank API\n",
    "\n",
    "\n",
    "# summary of key indicators saved as dictionary:\n",
    "\n",
    "# mydict = {\n",
    "# # economic indicators\n",
    "# 'NY.GDP.MKTP.CD' : 'GDP (current US$)',\n",
    "# 'NY.GDP.MKTP.KD.ZG' : 'GDP growth (annual %)',\n",
    "# 'NY.GDP.PCAP.CD' : 'GDP per capita (current US$)',\n",
    "# 'NY.GDP.PCAP.KD.ZG' : 'GDP per capita growth (annual %)',\n",
    "# 'FP.CPI.TOTL.ZG' : 'Inflation, consumer prices (annual %)',\n",
    "# 'SL.UEM.TOTL.ZS' : 'Unemployment, total (% of total labor force)',\n",
    "# 'GC.DOD.TOTL.GD.ZS' : 'Central government debt, total (% of GDP)',\n",
    "# 'BX.KLT.DINV.WD.GD.ZS' : 'Foreign direct investment, net inflows (% of GDP)',\n",
    "# 'BN.GSR.GNFS.CD' : 'Net trade in goods and services (BoP, current US$)',\n",
    "# 'NE.EXP.GNFS.ZS': 'Exports of goods and services (% of GDP)',\n",
    "# 'SL.TLF.CACT.ZS' : 'Labor force participation rate, total (% of total population ages 15+)',\n",
    "# 'SI.DST.50MD' : 'Proportion of people living below 50 percent of median income (%)',\n",
    "# 'MS.MIL.XPND.GD.ZS' : 'Military expenditure (% of GDP)',\n",
    "# 'SE.XPD.TOTL.GB.ZS' : 'Government expenditure on education, total (% of government expenditure)',\n",
    "# # social indicators\n",
    "# 'SP.POP.TOTL' : 'Population, total',\n",
    "# 'SP.URB.TOTL.IN.ZS' : 'Urban population (% of total population)',\n",
    "# 'SP.POP.TOTL.FE.ZS' : 'Population, female (% of total population)',\n",
    "# 'SL.EMP.SMGT.FE.ZS' : 'Female share of employment in senior and middle management (%)',\n",
    "# 'SP.DYN.LE00.IN' : 'Life expectancy at birth, total (years)',\n",
    "# 'VC.IHR.PSRC.P5' : 'Intentional homicides (per 100,000 people)',\n",
    "# 'HD.HCI.OVRL' : 'Human Capital Index (HCI) (scale 0-1)',\n",
    "# 'EG.ELC.ACCS.ZS' : 'Access to electricity (% of population)',\n",
    "# 'IT.NET.USER.ZS' : 'Individuals using the Internet (% of population)',\n",
    "# 'IT.NET.BBND.P2' : 'Fixed broadband subscriptions (per 100 people)',\n",
    "# 'SH.STA.SMSS.ZS' : 'People using safely managed sanitation services (% of population)',\n",
    "# 'SN.ITK.DEFC.ZS' : 'Prevalence of undernourishment (% of population)',\n",
    "# # environmental  indicators\n",
    "# 'EN.ATM.CO2E.PC' : 'CO2 emissions (metric tons per capita)',\n",
    "# 'EG.ELC.RNWX.ZS' : 'Electricity production from renewable sources, excluding hydroelectric (% of total)',\n",
    "# 'EG.USE.COMM.CL.ZS' : 'Alternative and nuclear energy (% of total energy use)',\n",
    "# 'EG.USE.ELEC.KH.PC' : 'Electric power consumption (kWh per capita)',\n",
    "# 'ER.H2O.FWTL.ZS' : 'Annual freshwater withdrawals, total (% of internal resources)',\n",
    "# 'AG.LND.FRST.ZS' : 'Forest area (% of land area)'\n",
    "# }\n",
    "\n",
    "\n",
    "# sample queries to download data via API\n",
    "\n",
    "#df = wb.data.DataFrame(['NY.GDP.PCAP.CD', 'SP.POP.TOTL'], ('USA', 'AZE', 'WLD'), mrv=30, numericTimeKeys=True)\n",
    "#df = wb.data.DataFrame(['NY.GDP.PCAP.CD', 'SP.POP.TOTL'], ('USA', 'AZE', 'WLD'), time=range(2010,2020), index='time', numericTimeKeys=True, labels=True)\n",
    "#df = wb.data.DataFrame(['NY.GDP.PCAP.CD', 'SP.POP.TOTL'], ('USA', 'AZE', 'WLD'), time=2020, labels=True)\n",
    "#df = wb.data.DataFrame(['NY.GDP.PCAP.CD', 'SP.POP.TOTL'], wb.region.members('EUU'), time=(1999,2020), labels=True)"
   ]
  },
  {
   "cell_type": "code",
   "execution_count": 53,
   "metadata": {},
   "outputs": [
    {
     "name": "stdout",
     "output_type": "stream",
     "text": [
      "You selected Time series\n",
      "You selected 1960\n",
      "You selected 2021\n",
      "You selected Region\n",
      "You selected  ['EUU']\n",
      "You selected Unranked\n",
      "You selected  ['NY.GDP.MKTP.CD'] gdp\n",
      "You selected Line chart: percent change\n"
     ]
    },
    {
     "data": {
      "application/vnd.plotly.v1+json": {
       "config": {
        "plotlyServerURL": "https://plot.ly"
       },
       "data": [
        {
         "hovertemplate": "Country=Finland<br>Year=%{x}<br>Values=%{y}<extra></extra>",
         "legendgroup": "Finland",
         "line": {
          "color": "#636efa",
          "dash": "solid"
         },
         "marker": {
          "symbol": "circle"
         },
         "mode": "lines",
         "name": "Finland",
         "orientation": "v",
         "showlegend": true,
         "type": "scatter",
         "x": [
          1961,
          1962,
          1963,
          1964,
          1965,
          1966,
          1967,
          1968,
          1969,
          1970,
          1971,
          1972,
          1973,
          1974,
          1975,
          1976,
          1977,
          1978,
          1979,
          1980,
          1981,
          1982,
          1983,
          1984,
          1985,
          1986,
          1987,
          1988,
          1989,
          1990,
          1991,
          1992,
          1993,
          1994,
          1995,
          1996,
          1997,
          1998,
          1999,
          2000,
          2001,
          2002,
          2003,
          2004,
          2005,
          2006,
          2007,
          2008,
          2009,
          2010,
          2011,
          2012,
          2013,
          2014,
          2015,
          2016,
          2017,
          2018,
          2019,
          2020
         ],
         "xaxis": "x",
         "y": [
          0.13352673117733027,
          0.21371684876663077,
          0.31810597705320953,
          0.48669662175345985,
          0.6441753429676542,
          0.7626999166976756,
          0.7934094050330494,
          0.6889091273679941,
          0.9277507107580243,
          1.174061027608826,
          1.3980016171303764,
          1.8221473409335789,
          2.727408603012255,
          3.7565726244292597,
          4.641662842567159,
          5.096648300375015,
          5.412546705137654,
          5.940170565546585,
          7.511559311420241,
          9.268788858805598,
          9.039683549638518,
          9.106537039312128,
          8.757375524491698,
          9.123998147475037,
          9.695782988320282,
          13.07544259264386,
          16.533108726442812,
          19.87612123167252,
          21.78134125559983,
          26.074191931965018,
          23.45852933259091,
          20.54102562205268,
          16.077406101358537,
          18.773721726431358,
          24.686674914149517,
          24.292226160897886,
          23.293581433065185,
          24.657751949378774,
          24.892311941080706,
          23.122717875086334,
          23.795285862267924,
          25.876285139164505,
          31.857791047112485,
          36.80160429254443,
          38.21927386140743,
          40.55532599986493,
          48.076005437190766,
          53.69194522674487,
          47.524609845023946,
          46.74491414624243,
          51.75631024279303,
          48.44199989978241,
          50.944314206352836,
          51.61436635130584,
          43.89467732571313,
          45.08856073010105,
          47.93625169418167,
          51.77750648349459,
          50.39796085064275,
          51.0351541327299
         ],
         "yaxis": "y"
        },
        {
         "hovertemplate": "Country=Portugal<br>Year=%{x}<br>Values=%{y}<extra></extra>",
         "legendgroup": "Portugal",
         "line": {
          "color": "#EF553B",
          "dash": "solid"
         },
         "marker": {
          "symbol": "circle"
         },
         "mode": "lines",
         "name": "Portugal",
         "orientation": "v",
         "showlegend": true,
         "type": "scatter",
         "x": [
          1961,
          1962,
          1963,
          1964,
          1965,
          1966,
          1967,
          1968,
          1969,
          1970,
          1971,
          1972,
          1973,
          1974,
          1975,
          1976,
          1977,
          1978,
          1979,
          1980,
          1981,
          1982,
          1983,
          1984,
          1985,
          1986,
          1987,
          1988,
          1989,
          1990,
          1991,
          1992,
          1993,
          1994,
          1995,
          1996,
          1997,
          1998,
          1999,
          2000,
          2001,
          2002,
          2003,
          2004,
          2005,
          2006,
          2007,
          2008,
          2009,
          2010,
          2011,
          2012,
          2013,
          2014,
          2015,
          2016,
          2017,
          2018,
          2019,
          2020
         ],
         "xaxis": "x",
         "y": [
          0.07024809175640745,
          0.1487604575752668,
          0.2231410388080155,
          0.3264460858361755,
          0.467951729060049,
          0.6082259788450342,
          0.7976451330061467,
          0.989935432687983,
          1.182458018007531,
          1.5392191774808865,
          1.8816244128246473,
          2.519703257488518,
          3.7258431277162636,
          4.484275729122676,
          5.059002064712713,
          5.367540082088689,
          5.714117686216362,
          6.355508917927442,
          7.337346956261225,
          9.302053005736166,
          9.014177885350538,
          8.56023766980975,
          7.530517127782993,
          6.897396297157053,
          7.491733780614959,
          11.133877128615172,
          14.089227031107212,
          16.646011386950008,
          17.975975356681694,
          23.650460431099216,
          26.944879111338295,
          32.69412648193161,
          28.753770471514056,
          30.219036916013135,
          35.99173007376809,
          37.40350562161167,
          35.6455343681844,
          37.81570594396646,
          38.91931899501766,
          36.143047055537934,
          37.0822033588824,
          41.21331218824269,
          50.74312746250496,
          58.30793515897629,
          60.77309649428488,
          64.37530465985277,
          74.31508106664099,
          81.49291033013306,
          75.62148686329851,
          73.56876270815857,
          75.76248252585962,
          66.71395878625279,
          69.91125808941437,
          70.99734908809413,
          61.44332997464776,
          63.645536191915184,
          68.32163556530577,
          74.88409303911155,
          74.15560949768415,
          70.57059254169108
         ],
         "yaxis": "y"
        },
        {
         "hovertemplate": "Country=Netherlands<br>Year=%{x}<br>Values=%{y}<extra></extra>",
         "legendgroup": "Netherlands",
         "line": {
          "color": "#00cc96",
          "dash": "solid"
         },
         "marker": {
          "symbol": "circle"
         },
         "mode": "lines",
         "name": "Netherlands",
         "orientation": "v",
         "showlegend": true,
         "type": "scatter",
         "x": [
          1961,
          1962,
          1963,
          1964,
          1965,
          1966,
          1967,
          1968,
          1969,
          1970,
          1971,
          1972,
          1973,
          1974,
          1975,
          1976,
          1977,
          1978,
          1979,
          1980,
          1981,
          1982,
          1983,
          1984,
          1985,
          1986,
          1987,
          1988,
          1989,
          1990,
          1991,
          1992,
          1993,
          1994,
          1995,
          1996,
          1997,
          1998,
          1999,
          2000,
          2001,
          2002,
          2003,
          2004,
          2005,
          2006,
          2007,
          2008,
          2009,
          2010,
          2011,
          2012,
          2013,
          2014,
          2015,
          2016,
          2017,
          2018,
          2019,
          2020
         ],
         "xaxis": "x",
         "y": [
          0.09913870829587368,
          0.1930744092715715,
          0.2944192782497128,
          0.5231559524900973,
          0.7106004446165561,
          0.8626454720671601,
          1.043504553382831,
          1.2658799443998165,
          1.7723941992308494,
          2.108702696508227,
          2.6311874299917717,
          3.45611646368381,
          4.851793209594981,
          6.106402417096508,
          7.165813639677209,
          7.892325849031726,
          9.346154639532692,
          11.695533948413313,
          13.634951215201747,
          14.896091739622037,
          12.369534175751635,
          11.908932108047042,
          11.498883158691811,
          10.722389858013562,
          10.716945296797764,
          15.3611993943328,
          18.960219671431375,
          20.333890980018644,
          20.042787290813433,
          24.929576014156194,
          25.676502324238488,
          28.56509989487478,
          27.79838927167538,
          29.88201267599425,
          35.84218197643061,
          35.694628210069254,
          32.95143481662629,
          34.67791028590446,
          35.41436857583793,
          33.005732436078276,
          34.15485847621519,
          37.598374244230136,
          46.249565932692036,
          52.62827542868249,
          54.824958976014095,
          58.78424388856047,
          68.11926866273564,
          76.53446352439613,
          69.98945255579812,
          68.02331248188179,
          72.7387169619804,
          67.33440458678625,
          70.45001367946824,
          71.67144292677645,
          61.359643851805565,
          62.865554083839896,
          66.92275779525086,
          73.4533053634194,
          73.13977812099252,
          73.43880294060683
         ],
         "yaxis": "y"
        },
        {
         "hovertemplate": "Country=Belgium<br>Year=%{x}<br>Values=%{y}<extra></extra>",
         "legendgroup": "Belgium",
         "line": {
          "color": "#ab63fa",
          "dash": "solid"
         },
         "marker": {
          "symbol": "circle"
         },
         "mode": "lines",
         "name": "Belgium",
         "orientation": "v",
         "showlegend": true,
         "type": "scatter",
         "x": [
          1961,
          1962,
          1963,
          1964,
          1965,
          1966,
          1967,
          1968,
          1969,
          1970,
          1971,
          1972,
          1973,
          1974,
          1975,
          1976,
          1977,
          1978,
          1979,
          1980,
          1981,
          1982,
          1983,
          1984,
          1985,
          1986,
          1987,
          1988,
          1989,
          1990,
          1991,
          1992,
          1993,
          1994,
          1995,
          1996,
          1997,
          1998,
          1999,
          2000,
          2001,
          2002,
          2003,
          2004,
          2005,
          2006,
          2007,
          2008,
          2009,
          2010,
          2011,
          2012,
          2013,
          2014,
          2015,
          2016,
          2017,
          2018,
          2019,
          2020
         ],
         "xaxis": "x",
         "y": [
          0.0635938135433447,
          0.13769030627505363,
          0.22312005245493305,
          0.36894128461443665,
          0.4899966503502087,
          0.5998222212521982,
          0.7147711194285895,
          0.8335073115124041,
          1.033733602429665,
          1.290662277823814,
          1.557884162451772,
          2.191551881272936,
          3.0951142904173485,
          3.8061078254269436,
          4.633394961129595,
          5.0996290470591354,
          6.105401540530513,
          7.684186917071479,
          8.976689632087828,
          9.878491481237084,
          7.982975420580523,
          6.89931533826064,
          6.478026719722403,
          6.149113422047365,
          6.399461088048254,
          9.29433424740417,
          11.813959929138619,
          12.920830726402881,
          13.085681791414183,
          16.61185638866936,
          17.056094719332155,
          19.137853921330716,
          18.274992946707787,
          20.00437055432191,
          23.704729540341546,
          22.94785801323776,
          20.67544938552143,
          21.174671162587124,
          21.15043125059373,
          19.310326321295875,
          19.306353441099134,
          21.162256401473943,
          26.282794150399116,
          30.668539118388455,
          32.08379277573034,
          34.0175448195612,
          39.392260184094894,
          43.37262177589467,
          40.4500102671005,
          40.29276420703661,
          43.887452296237754,
          41.556367222268406,
          43.75541905854303,
          44.92185772948865,
          38.655765992646785,
          39.833183364773944,
          42.1234825798923,
          45.604365426642744,
          44.920661887985155,
          43.74563470081964
         ],
         "yaxis": "y"
        },
        {
         "hovertemplate": "Country=Sweden<br>Year=%{x}<br>Values=%{y}<extra></extra>",
         "legendgroup": "Sweden",
         "line": {
          "color": "#FFA15A",
          "dash": "solid"
         },
         "marker": {
          "symbol": "circle"
         },
         "mode": "lines",
         "name": "Sweden",
         "orientation": "v",
         "showlegend": true,
         "type": "scatter",
         "x": [
          1961,
          1962,
          1963,
          1964,
          1965,
          1966,
          1967,
          1968,
          1969,
          1970,
          1971,
          1972,
          1973,
          1974,
          1975,
          1976,
          1977,
          1978,
          1979,
          1980,
          1981,
          1982,
          1983,
          1984,
          1985,
          1986,
          1987,
          1988,
          1989,
          1990,
          1991,
          1992,
          1993,
          1994,
          1995,
          1996,
          1997,
          1998,
          1999,
          2000,
          2001,
          2002,
          2003,
          2004,
          2005,
          2006,
          2007,
          2008,
          2009,
          2010,
          2011,
          2012,
          2013,
          2014,
          2015,
          2016,
          2017,
          2018,
          2019,
          2020
         ],
         "xaxis": "x",
         "y": [
          0.08785552917215034,
          0.17978518304446833,
          0.2769639465907907,
          0.42406671869340373,
          0.5670953660958422,
          0.7046194720426413,
          0.8502662878766976,
          0.9634478097832804,
          1.1322749987161815,
          1.4074733666961379,
          1.6270304652749519,
          2.0939410788409414,
          2.754441297560467,
          3.1720956989418,
          4.238423269310995,
          4.647754237583312,
          4.9704998046156,
          5.6008399386774395,
          6.798119580263417,
          7.980332099916783,
          7.196317981424981,
          6.2289425203374895,
          5.636991139181792,
          5.901613254064913,
          6.212698641822279,
          8.511597340400309,
          10.566355179165509,
          12.08172299667538,
          12.774507462722791,
          15.548888436575503,
          16.33149379382509,
          16.96932138403959,
          12.458820801798462,
          13.475104170955897,
          15.893944617384662,
          17.438441689078154,
          15.947050315021801,
          16.115349116850524,
          16.321580628900705,
          15.611410449626522,
          14.319611301189521,
          15.865073644375478,
          20.130378608337022,
          23.339767747193246,
          23.788496193666898,
          25.739842859174708,
          30.047555641164603,
          31.719441741194345,
          26.589487644856945,
          30.335749360244797,
          35.283206047208736,
          33.91741242726151,
          36.08887141712816,
          35.78059027662899,
          30.92296203672784,
          31.589786711545536,
          33.19281669973811,
          34.10522271224218,
          32.74161226218931,
          33.222420061291615
         ],
         "yaxis": "y"
        },
        {
         "hovertemplate": "Country=Ireland<br>Year=%{x}<br>Values=%{y}<extra></extra>",
         "legendgroup": "Ireland",
         "line": {
          "color": "#19d3f3",
          "dash": "solid"
         },
         "marker": {
          "symbol": "circle"
         },
         "mode": "lines",
         "name": "Ireland",
         "orientation": "v",
         "showlegend": true,
         "type": "scatter",
         "x": [
          1961,
          1962,
          1963,
          1964,
          1965,
          1966,
          1967,
          1968,
          1969,
          1970,
          1971,
          1972,
          1973,
          1974,
          1975,
          1976,
          1977,
          1978,
          1979,
          1980,
          1981,
          1982,
          1983,
          1984,
          1985,
          1986,
          1987,
          1988,
          1989,
          1990,
          1991,
          1992,
          1993,
          1994,
          1995,
          1996,
          1997,
          1998,
          1999,
          2000,
          2001,
          2002,
          2003,
          2004,
          2005,
          2006,
          2007,
          2008,
          2009,
          2010,
          2011,
          2012,
          2013,
          2014,
          2015,
          2016,
          2017,
          2018,
          2019,
          2020
         ],
         "xaxis": "x",
         "y": [
          0.0766669541211713,
          0.16553136692621462,
          0.25344528776560726,
          0.42657993545736583,
          0.5189289517989715,
          0.600570688155162,
          0.7241197529767605,
          0.6905760535702539,
          0.9527763620675107,
          1.2667599609270321,
          1.6288722795052308,
          2.25785777243263,
          2.8576074892186547,
          3.071953473311158,
          3.8902504785347256,
          3.8747542240907427,
          4.800117429146873,
          6.5531228670946575,
          8.446219272490474,
          10.21410907805314,
          9.658419418897028,
          10.073285850713267,
          9.707847642285532,
          9.367833624534335,
          9.967713482748401,
          13.806440975725078,
          16.490846024296747,
          18.477294011141915,
          19.232965622829404,
          24.424057853890602,
          24.6725298683437,
          27.83395017682704,
          26.02865612520899,
          28.441952982484562,
          34.651400864368,
          38.080917155118165,
          41.72437303226056,
          45.51060962293862,
          49.993884338386714,
          50.67125864775033,
          55.38374175172619,
          65.3095245157043,
          83.91117567792853,
          99.22643776364794,
          108.25268736624272,
          118.7220916746424,
          138.2642359438776,
          141.03230154032948,
          120.92001527969543,
          113.40860347408359,
          122.22584946267335,
          115.27564007560918,
          121.86681345736889,
          132.53564326382434,
          149.35093117083088,
          153.13992835605623,
          171.9622438857125,
          197.54370122244572,
          204.8041229290832,
          218.60625592723102
         ],
         "yaxis": "y"
        },
        {
         "hovertemplate": "Country=France<br>Year=%{x}<br>Values=%{y}<extra></extra>",
         "legendgroup": "France",
         "line": {
          "color": "#FF6692",
          "dash": "solid"
         },
         "marker": {
          "symbol": "circle"
         },
         "mode": "lines",
         "name": "France",
         "orientation": "v",
         "showlegend": true,
         "type": "scatter",
         "x": [
          1961,
          1962,
          1963,
          1964,
          1965,
          1966,
          1967,
          1968,
          1969,
          1970,
          1971,
          1972,
          1973,
          1974,
          1975,
          1976,
          1977,
          1978,
          1979,
          1980,
          1981,
          1982,
          1983,
          1984,
          1985,
          1986,
          1987,
          1988,
          1989,
          1990,
          1991,
          1992,
          1993,
          1994,
          1995,
          1996,
          1997,
          1998,
          1999,
          2000,
          2001,
          2002,
          2003,
          2004,
          2005,
          2006,
          2007,
          2008,
          2009,
          2010,
          2011,
          2012,
          2013,
          2014,
          2015,
          2016,
          2017,
          2018,
          2019,
          2020
         ],
         "xaxis": "x",
         "y": [
          0.08414826835205291,
          0.21505743690481371,
          0.36213007644019424,
          0.5107614126489315,
          0.6317632489217273,
          0.7685015159926585,
          0.911965665969175,
          1.085728317034639,
          1.280465706961659,
          1.3857809494644981,
          1.6671810438169556,
          2.270270551261783,
          3.249543510914629,
          3.5889944494232333,
          4.798785282339419,
          4.9833857525174565,
          5.593432460059177,
          7.143092911717368,
          8.866587602739918,
          10.270117036874804,
          8.892285644914994,
          8.39932887780021,
          7.9974267418850875,
          7.5284002144896505,
          7.889259385990071,
          11.397988862490863,
          14.01271401519272,
          15.37347073915165,
          15.475756174970556,
          19.396462312360786,
          19.39802455607949,
          21.522380995648916,
          20.258424285229996,
          21.402122012671818,
          24.73053365997525,
          24.804142260294,
          22.348714459670216,
          23.15584078177959,
          22.995825916793923,
          20.94663190490554,
          21.13976306090903,
          23.12853112916373,
          28.64291880587415,
          33.06375089001836,
          34.30620098096558,
          36.29238080375694,
          41.757264896768625,
          46.091703832095504,
          42.40484723787476,
          41.509723783546775,
          45.04476548904209,
          42.1281816256862,
          44.188514313850085,
          44.89702771828766,
          38.19919495239422,
          38.74199032351521,
          40.705602408724864,
          43.85231722457946,
          42.85454856075497,
          41.270751723561965
         ],
         "yaxis": "y"
        },
        {
         "hovertemplate": "Country=Spain<br>Year=%{x}<br>Values=%{y}<extra></extra>",
         "legendgroup": "Spain",
         "line": {
          "color": "#B6E880",
          "dash": "solid"
         },
         "marker": {
          "symbol": "circle"
         },
         "mode": "lines",
         "name": "Spain",
         "orientation": "v",
         "showlegend": true,
         "type": "scatter",
         "x": [
          1961,
          1962,
          1963,
          1964,
          1965,
          1966,
          1967,
          1968,
          1969,
          1970,
          1971,
          1972,
          1973,
          1974,
          1975,
          1976,
          1977,
          1978,
          1979,
          1980,
          1981,
          1982,
          1983,
          1984,
          1985,
          1986,
          1987,
          1988,
          1989,
          1990,
          1991,
          1992,
          1993,
          1994,
          1995,
          1996,
          1997,
          1998,
          1999,
          2000,
          2001,
          2002,
          2003,
          2004,
          2005,
          2006,
          2007,
          2008,
          2009,
          2010,
          2011,
          2012,
          2013,
          2014,
          2015,
          2016,
          2017,
          2018,
          2019,
          2020
         ],
         "xaxis": "x",
         "y": [
          0.14597051795865634,
          0.336843660217927,
          0.5800790870296071,
          0.7680269830210664,
          1.0507538225084065,
          1.3791221250328842,
          1.6215033731875157,
          1.607291233112342,
          1.9852829049713052,
          2.3956732022425813,
          2.861740679986088,
          3.898260244468659,
          5.514140549394915,
          7.057736121874022,
          8.507608325158868,
          8.816596019604424,
          9.971495516300617,
          12.303347438302703,
          16.776649658457497,
          18.281344601191073,
          15.79968302561937,
          15.235479424371608,
          13.160818446325505,
          13.256222085127972,
          13.976107991858548,
          19.818294444185312,
          25.40362878895081,
          30.159416957055488,
          33.35658759125048,
          43.44607253927828,
          46.8098199882038,
          51.26221249364767,
          42.49487677244842,
          42.949394757948546,
          49.9114149994131,
          52.22914857743273,
          47.879316620943065,
          50.29293968160745,
          51.59285223604844,
          48.56569453945378,
          51.00658322246341,
          57.710178527134104,
          74.17246900059996,
          87.55570829834899,
          94.56856973758606,
          103.40571693501886,
          121.09966749966415,
          134.17614737954716,
          122.54683130308436,
          116.8009731592844,
          121.65532073325576,
          108.73579189845182,
          111.25384630793663,
          112.5858509074248,
          98.038064077646,
          101.12890053549941,
          107.7247823013806,
          116.70868972352314,
          114.39360046746674,
          105.15235726002277
         ],
         "yaxis": "y"
        },
        {
         "hovertemplate": "Country=Italy<br>Year=%{x}<br>Values=%{y}<extra></extra>",
         "legendgroup": "Italy",
         "line": {
          "color": "#FF97FF",
          "dash": "solid"
         },
         "marker": {
          "symbol": "circle"
         },
         "mode": "lines",
         "name": "Italy",
         "orientation": "v",
         "showlegend": true,
         "type": "scatter",
         "x": [
          1961,
          1962,
          1963,
          1964,
          1965,
          1966,
          1967,
          1968,
          1969,
          1970,
          1971,
          1972,
          1973,
          1974,
          1975,
          1976,
          1977,
          1978,
          1979,
          1980,
          1981,
          1982,
          1983,
          1984,
          1985,
          1986,
          1987,
          1988,
          1989,
          1990,
          1991,
          1992,
          1993,
          1994,
          1995,
          1996,
          1997,
          1998,
          1999,
          2000,
          2001,
          2002,
          2003,
          2004,
          2005,
          2006,
          2007,
          2008,
          2009,
          2010,
          2011,
          2012,
          2013,
          2014,
          2015,
          2016,
          2017,
          2018,
          2019,
          2020
         ],
         "xaxis": "x",
         "y": [
          0.1103736566398057,
          0.24758034335634904,
          0.4290041108035083,
          0.564317592103966,
          0.6832405224190226,
          0.8238044850277759,
          1.0089771149817763,
          1.1775808786815274,
          1.4039715150712686,
          1.8078372257416473,
          2.0870738059417997,
          2.596855335106968,
          3.345445160617735,
          3.941514536941094,
          4.638089028518207,
          4.564335124257414,
          5.378469089254552,
          6.801314190980889,
          8.748033941113151,
          10.817589907404399,
          9.664845268214266,
          9.579908258368269,
          9.970390257288061,
          9.842752570430207,
          10.197579878262841,
          14.856921642239518,
          18.950659292256276,
          21.077568186630387,
          21.995040280254017,
          28.24883545353846,
          29.858270602357674,
          31.68917219760592,
          25.36995101964675,
          26.218245389564196,
          28.086385631167097,
          31.497639155372916,
          29.7507920652063,
          30.448395641109258,
          30.012448126148843,
          27.393430905753693,
          27.92200288634029,
          30.614713941566965,
          38.064267502684075,
          43.73269952040365,
          45.01222928920875,
          47.27380958071228,
          53.79971973679832,
          58.6419004908515,
          53.47351979684606,
          51.893022256802105,
          55.827483241669256,
          50.676185620741826,
          52.037236630418874,
          52.53458411811779,
          44.477890250713706,
          45.47909584391448,
          47.5770011256225,
          50.79936833527344,
          48.80243611016454,
          45.86295781999369
         ],
         "yaxis": "y"
        },
        {
         "hovertemplate": "Country=Luxembourg<br>Year=%{x}<br>Values=%{y}<extra></extra>",
         "legendgroup": "Luxembourg",
         "line": {
          "color": "#FECB52",
          "dash": "solid"
         },
         "marker": {
          "symbol": "circle"
         },
         "mode": "lines",
         "name": "Luxembourg",
         "orientation": "v",
         "showlegend": true,
         "type": "scatter",
         "x": [
          1961,
          1962,
          1963,
          1964,
          1965,
          1966,
          1967,
          1968,
          1969,
          1970,
          1971,
          1972,
          1973,
          1974,
          1975,
          1976,
          1977,
          1978,
          1979,
          1980,
          1981,
          1982,
          1983,
          1984,
          1985,
          1986,
          1987,
          1988,
          1989,
          1990,
          1991,
          1992,
          1993,
          1994,
          1995,
          1996,
          1997,
          1998,
          1999,
          2000,
          2001,
          2002,
          2003,
          2004,
          2005,
          2006,
          2007,
          2008,
          2009,
          2010,
          2011,
          2012,
          2013,
          2014,
          2015,
          2016,
          2017,
          2018,
          2019,
          2020
         ],
         "xaxis": "x",
         "y": [
          0.00031248383941373525,
          0.05339167832062608,
          0.12389786179631934,
          0.2830313573131662,
          0.30923011977446846,
          0.37577039919810495,
          0.38469408675681027,
          0.5149995543804433,
          0.754274591873006,
          1.0709123742958173,
          1.1575763018115053,
          1.7015597719641784,
          2.707601214271965,
          3.522689099063169,
          3.437021275063974,
          3.8635618474969835,
          4.383126793196134,
          5.703178662411077,
          6.837450198442525,
          7.551762550493191,
          6.1792601901213695,
          5.538071779967195,
          5.42712393265818,
          5.305261273181498,
          5.5024074678054875,
          8.497586224155196,
          10.820710828953853,
          12.37949129527449,
          13.259564543431225,
          17.15361016909562,
          18.652954298296414,
          21.04593823447945,
          21.6238665352923,
          24.147254520349687,
          28.623998234014778,
          28.68397727426327,
          26.792473126146405,
          27.62525572666136,
          30.1102683336528,
          29.159692720504186,
          29.383225847083672,
          32.59705879825044,
          41.14545370010194,
          48.813273612344474,
          52.51740929820817,
          59.958345367688274,
          72.28529272372894,
          82.59444356801798,
          76.37647515599029,
          78.85783941803096,
          86.64601264788138,
          83.91859726487122,
          91.62806559909892,
          96.74442290820399,
          84.33796068104574,
          87.38558516996468,
          92.35101671696667,
          100.26781675336326,
          98.72034676796117,
          103.20578787564799
         ],
         "yaxis": "y"
        },
        {
         "hovertemplate": "Country=Austria<br>Year=%{x}<br>Values=%{y}<extra></extra>",
         "legendgroup": "Austria",
         "line": {
          "color": "#636efa",
          "dash": "solid"
         },
         "marker": {
          "symbol": "circle"
         },
         "mode": "lines",
         "name": "Austria",
         "orientation": "v",
         "showlegend": true,
         "type": "scatter",
         "x": [
          1961,
          1962,
          1963,
          1964,
          1965,
          1966,
          1967,
          1968,
          1969,
          1970,
          1971,
          1972,
          1973,
          1974,
          1975,
          1976,
          1977,
          1978,
          1979,
          1980,
          1981,
          1982,
          1983,
          1984,
          1985,
          1986,
          1987,
          1988,
          1989,
          1990,
          1991,
          1992,
          1993,
          1994,
          1995,
          1996,
          1997,
          1998,
          1999,
          2000,
          2001,
          2002,
          2003,
          2004,
          2005,
          2006,
          2007,
          2008,
          2009,
          2010,
          2011,
          2012,
          2013,
          2014,
          2015,
          2016,
          2017,
          2018,
          2019,
          2020
         ],
         "xaxis": "x",
         "y": [
          0.10906858554318966,
          0.17647055922220733,
          0.27022055922220756,
          0.39093125004932205,
          0.5159312500493225,
          0.6514770039957574,
          0.7564036716795652,
          0.8870321620505379,
          1.060280498904386,
          1.331824581476789,
          1.708829880008135,
          2.3460696049808187,
          3.476996568900428,
          4.337620820768462,
          5.076303212019912,
          5.516300810626133,
          6.818618629865213,
          8.412276766987896,
          10.215035726605095,
          11.446947328967058,
          9.774689399241769,
          9.811253986088712,
          9.939536748408992,
          9.312225400512776,
          9.524798523878646,
          14.02210891706771,
          17.834249780879006,
          19.22532826371367,
          19.18989637903404,
          24.24967641291749,
          25.361633369868546,
          28.590047925947715,
          27.877379322526185,
          29.87284919410959,
          35.5614252487905,
          34.98695078317535,
          31.276691976084358,
          32.10633098695915,
          31.954533045767008,
          28.925494832996193,
          28.958735832911582,
          31.520070223176845,
          38.782467910403355,
          44.72600659161781,
          46.9458444287778,
          50.0079904259545,
          58.03285984172157,
          64.53496128454974,
          59.93999592585363,
          58.5014900901512,
          64.47933633300973,
          61.099321751144224,
          64.2526857865799,
          66.13262073860923,
          56.93855406182321,
          59.04182244269857,
          62.29144988325135,
          68.04129979394442,
          66.50076424366236,
          64.71797175987815
         ],
         "yaxis": "y"
        },
        {
         "hovertemplate": "Country=Greece<br>Year=%{x}<br>Values=%{y}<extra></extra>",
         "legendgroup": "Greece",
         "line": {
          "color": "#EF553B",
          "dash": "solid"
         },
         "marker": {
          "symbol": "circle"
         },
         "mode": "lines",
         "name": "Greece",
         "orientation": "v",
         "showlegend": true,
         "type": "scatter",
         "x": [
          1961,
          1962,
          1963,
          1964,
          1965,
          1966,
          1967,
          1968,
          1969,
          1970,
          1971,
          1972,
          1973,
          1974,
          1975,
          1976,
          1977,
          1978,
          1979,
          1980,
          1981,
          1982,
          1983,
          1984,
          1985,
          1986,
          1987,
          1988,
          1989,
          1990,
          1991,
          1992,
          1993,
          1994,
          1995,
          1996,
          1997,
          1998,
          1999,
          2000,
          2001,
          2002,
          2003,
          2004,
          2005,
          2006,
          2007,
          2008,
          2009,
          2010,
          2011,
          2012,
          2013,
          2014,
          2015,
          2016,
          2017,
          2018,
          2019,
          2020
         ],
         "xaxis": "x",
         "y": [
          0.1444492623950524,
          0.20249689198518572,
          0.35986737390106005,
          0.5384975941541821,
          0.7736618506083064,
          0.9818106789947987,
          1.1396084883847366,
          1.327622358842409,
          1.6793906849946723,
          2.0309803513214066,
          2.3658878634781515,
          2.8949911948523086,
          4.154991738407238,
          4.847801390691935,
          5.580081365847172,
          6.1860436207089355,
          7.344794162718992,
          9.211834950027821,
          11.567367700786956,
          12.108933284024781,
          11.074800611031442,
          11.598764985807414,
          10.401788446218866,
          10.076808237817215,
          10.030864889202936,
          12.005115180097345,
          14.144159932799797,
          16.591235446033313,
          17.261971439127958,
          21.580597838984353,
          23.253453478459726,
          25.809616106973174,
          24.099051974497407,
          25.8966087068395,
          30.573816072593484,
          32.64598700824534,
          32.02225085467646,
          32.31533455042622,
          31.891062745608274,
          29.092770211402968,
          30.44254818498346,
          34.653419019753954,
          45.68084355554448,
          54.583211723819446,
          56.177574674207,
          62.09919053312111,
          72.56151000487633,
          81.09767426241176,
          75.42313362479781,
          67.53799602078455,
          64.27884637644131,
          54.82904774865005,
          54.10898243423159,
          53.313271036122565,
          44.13843840685726,
          43.553600661350224,
          45.09823090341765,
          47.91357520033391,
          46.320726730985335,
          42.55873101924721
         ],
         "yaxis": "y"
        },
        {
         "hovertemplate": "Country=Benchmark<br>Year=%{x}<br>Values=%{y}<extra></extra>",
         "legendgroup": "Benchmark",
         "line": {
          "color": "#00cc96",
          "dash": "solid"
         },
         "marker": {
          "symbol": "circle"
         },
         "mode": "lines",
         "name": "Benchmark",
         "orientation": "v",
         "showlegend": true,
         "type": "scatter",
         "x": [
          1961,
          1962,
          1963,
          1964,
          1965,
          1966,
          1967,
          1968,
          1969,
          1970,
          1971,
          1972,
          1973,
          1974,
          1975,
          1976,
          1977,
          1978,
          1979,
          1980,
          1981,
          1982,
          1983,
          1984,
          1985,
          1986,
          1987,
          1988,
          1989,
          1990,
          1991,
          1992,
          1993,
          1994,
          1995,
          1996,
          1997,
          1998,
          1999,
          2000,
          2001,
          2002,
          2003,
          2004,
          2005,
          2006,
          2007,
          2008,
          2009,
          2010,
          2011,
          2012,
          2013,
          2014,
          2015,
          2016,
          2017,
          2018,
          2019,
          2020
         ],
         "xaxis": "x",
         "y": [
          0.0976055315890223,
          0.21685017079714441,
          0.361361042185121,
          0.5146610890918859,
          0.6565679227381858,
          0.8070003933082541,
          0.9633431631684493,
          1.1057583850440422,
          1.3452549168471064,
          1.6052375266092707,
          1.913471052830399,
          2.524945436093617,
          3.500772283520659,
          4.133289347076816,
          5.1335062106571305,
          5.372865599696897,
          6.154986022489188,
          7.668325386674587,
          9.570502309555247,
          11.064790735098919,
          9.66230807979012,
          9.249987326286956,
          8.888150216272592,
          8.611750801360484,
          8.955448433218585,
          12.816579968152478,
          16.04889031418992,
          17.931148689596593,
          18.55622972986982,
          23.480393329294714,
          24.304574025526268,
          26.418755875499915,
          23.122005421419985,
          24.362755979900978,
          28.010024301814457,
          29.134914094670513,
          26.913752635424075,
          27.854290251370173,
          27.925167528085993,
          25.761966982758782,
          26.205952548666907,
          28.940791263163142,
          36.17073006861885,
          41.8877812206392,
          43.7080634886377,
          46.64829483491882,
          53.89482346638734,
          59.24570516917243,
          54.01205227371909,
          52.74976741426535,
          56.69806154945868,
          52.245965336441614,
          54.34864521026104,
          55.165824887618854,
          47.5614901780959,
          48.62923570366346,
          51.38580143142697,
          55.44356173619009,
          54.209747818873524,
          52.29678256671448
         ],
         "yaxis": "y"
        }
       ],
       "layout": {
        "height": 500,
        "legend": {
         "title": {
          "text": "Country"
         },
         "tracegroupgap": 0
        },
        "margin": {
         "t": 60
        },
        "template": {
         "data": {
          "bar": [
           {
            "error_x": {
             "color": "#f2f5fa"
            },
            "error_y": {
             "color": "#f2f5fa"
            },
            "marker": {
             "line": {
              "color": "rgb(17,17,17)",
              "width": 0.5
             },
             "pattern": {
              "fillmode": "overlay",
              "size": 10,
              "solidity": 0.2
             }
            },
            "type": "bar"
           }
          ],
          "barpolar": [
           {
            "marker": {
             "line": {
              "color": "rgb(17,17,17)",
              "width": 0.5
             },
             "pattern": {
              "fillmode": "overlay",
              "size": 10,
              "solidity": 0.2
             }
            },
            "type": "barpolar"
           }
          ],
          "carpet": [
           {
            "aaxis": {
             "endlinecolor": "#A2B1C6",
             "gridcolor": "#506784",
             "linecolor": "#506784",
             "minorgridcolor": "#506784",
             "startlinecolor": "#A2B1C6"
            },
            "baxis": {
             "endlinecolor": "#A2B1C6",
             "gridcolor": "#506784",
             "linecolor": "#506784",
             "minorgridcolor": "#506784",
             "startlinecolor": "#A2B1C6"
            },
            "type": "carpet"
           }
          ],
          "choropleth": [
           {
            "colorbar": {
             "outlinewidth": 0,
             "ticks": ""
            },
            "type": "choropleth"
           }
          ],
          "contour": [
           {
            "colorbar": {
             "outlinewidth": 0,
             "ticks": ""
            },
            "colorscale": [
             [
              0,
              "#0d0887"
             ],
             [
              0.1111111111111111,
              "#46039f"
             ],
             [
              0.2222222222222222,
              "#7201a8"
             ],
             [
              0.3333333333333333,
              "#9c179e"
             ],
             [
              0.4444444444444444,
              "#bd3786"
             ],
             [
              0.5555555555555556,
              "#d8576b"
             ],
             [
              0.6666666666666666,
              "#ed7953"
             ],
             [
              0.7777777777777778,
              "#fb9f3a"
             ],
             [
              0.8888888888888888,
              "#fdca26"
             ],
             [
              1,
              "#f0f921"
             ]
            ],
            "type": "contour"
           }
          ],
          "contourcarpet": [
           {
            "colorbar": {
             "outlinewidth": 0,
             "ticks": ""
            },
            "type": "contourcarpet"
           }
          ],
          "heatmap": [
           {
            "colorbar": {
             "outlinewidth": 0,
             "ticks": ""
            },
            "colorscale": [
             [
              0,
              "#0d0887"
             ],
             [
              0.1111111111111111,
              "#46039f"
             ],
             [
              0.2222222222222222,
              "#7201a8"
             ],
             [
              0.3333333333333333,
              "#9c179e"
             ],
             [
              0.4444444444444444,
              "#bd3786"
             ],
             [
              0.5555555555555556,
              "#d8576b"
             ],
             [
              0.6666666666666666,
              "#ed7953"
             ],
             [
              0.7777777777777778,
              "#fb9f3a"
             ],
             [
              0.8888888888888888,
              "#fdca26"
             ],
             [
              1,
              "#f0f921"
             ]
            ],
            "type": "heatmap"
           }
          ],
          "heatmapgl": [
           {
            "colorbar": {
             "outlinewidth": 0,
             "ticks": ""
            },
            "colorscale": [
             [
              0,
              "#0d0887"
             ],
             [
              0.1111111111111111,
              "#46039f"
             ],
             [
              0.2222222222222222,
              "#7201a8"
             ],
             [
              0.3333333333333333,
              "#9c179e"
             ],
             [
              0.4444444444444444,
              "#bd3786"
             ],
             [
              0.5555555555555556,
              "#d8576b"
             ],
             [
              0.6666666666666666,
              "#ed7953"
             ],
             [
              0.7777777777777778,
              "#fb9f3a"
             ],
             [
              0.8888888888888888,
              "#fdca26"
             ],
             [
              1,
              "#f0f921"
             ]
            ],
            "type": "heatmapgl"
           }
          ],
          "histogram": [
           {
            "marker": {
             "pattern": {
              "fillmode": "overlay",
              "size": 10,
              "solidity": 0.2
             }
            },
            "type": "histogram"
           }
          ],
          "histogram2d": [
           {
            "colorbar": {
             "outlinewidth": 0,
             "ticks": ""
            },
            "colorscale": [
             [
              0,
              "#0d0887"
             ],
             [
              0.1111111111111111,
              "#46039f"
             ],
             [
              0.2222222222222222,
              "#7201a8"
             ],
             [
              0.3333333333333333,
              "#9c179e"
             ],
             [
              0.4444444444444444,
              "#bd3786"
             ],
             [
              0.5555555555555556,
              "#d8576b"
             ],
             [
              0.6666666666666666,
              "#ed7953"
             ],
             [
              0.7777777777777778,
              "#fb9f3a"
             ],
             [
              0.8888888888888888,
              "#fdca26"
             ],
             [
              1,
              "#f0f921"
             ]
            ],
            "type": "histogram2d"
           }
          ],
          "histogram2dcontour": [
           {
            "colorbar": {
             "outlinewidth": 0,
             "ticks": ""
            },
            "colorscale": [
             [
              0,
              "#0d0887"
             ],
             [
              0.1111111111111111,
              "#46039f"
             ],
             [
              0.2222222222222222,
              "#7201a8"
             ],
             [
              0.3333333333333333,
              "#9c179e"
             ],
             [
              0.4444444444444444,
              "#bd3786"
             ],
             [
              0.5555555555555556,
              "#d8576b"
             ],
             [
              0.6666666666666666,
              "#ed7953"
             ],
             [
              0.7777777777777778,
              "#fb9f3a"
             ],
             [
              0.8888888888888888,
              "#fdca26"
             ],
             [
              1,
              "#f0f921"
             ]
            ],
            "type": "histogram2dcontour"
           }
          ],
          "mesh3d": [
           {
            "colorbar": {
             "outlinewidth": 0,
             "ticks": ""
            },
            "type": "mesh3d"
           }
          ],
          "parcoords": [
           {
            "line": {
             "colorbar": {
              "outlinewidth": 0,
              "ticks": ""
             }
            },
            "type": "parcoords"
           }
          ],
          "pie": [
           {
            "automargin": true,
            "type": "pie"
           }
          ],
          "scatter": [
           {
            "marker": {
             "line": {
              "color": "#283442"
             }
            },
            "type": "scatter"
           }
          ],
          "scatter3d": [
           {
            "line": {
             "colorbar": {
              "outlinewidth": 0,
              "ticks": ""
             }
            },
            "marker": {
             "colorbar": {
              "outlinewidth": 0,
              "ticks": ""
             }
            },
            "type": "scatter3d"
           }
          ],
          "scattercarpet": [
           {
            "marker": {
             "colorbar": {
              "outlinewidth": 0,
              "ticks": ""
             }
            },
            "type": "scattercarpet"
           }
          ],
          "scattergeo": [
           {
            "marker": {
             "colorbar": {
              "outlinewidth": 0,
              "ticks": ""
             }
            },
            "type": "scattergeo"
           }
          ],
          "scattergl": [
           {
            "marker": {
             "line": {
              "color": "#283442"
             }
            },
            "type": "scattergl"
           }
          ],
          "scattermapbox": [
           {
            "marker": {
             "colorbar": {
              "outlinewidth": 0,
              "ticks": ""
             }
            },
            "type": "scattermapbox"
           }
          ],
          "scatterpolar": [
           {
            "marker": {
             "colorbar": {
              "outlinewidth": 0,
              "ticks": ""
             }
            },
            "type": "scatterpolar"
           }
          ],
          "scatterpolargl": [
           {
            "marker": {
             "colorbar": {
              "outlinewidth": 0,
              "ticks": ""
             }
            },
            "type": "scatterpolargl"
           }
          ],
          "scatterternary": [
           {
            "marker": {
             "colorbar": {
              "outlinewidth": 0,
              "ticks": ""
             }
            },
            "type": "scatterternary"
           }
          ],
          "surface": [
           {
            "colorbar": {
             "outlinewidth": 0,
             "ticks": ""
            },
            "colorscale": [
             [
              0,
              "#0d0887"
             ],
             [
              0.1111111111111111,
              "#46039f"
             ],
             [
              0.2222222222222222,
              "#7201a8"
             ],
             [
              0.3333333333333333,
              "#9c179e"
             ],
             [
              0.4444444444444444,
              "#bd3786"
             ],
             [
              0.5555555555555556,
              "#d8576b"
             ],
             [
              0.6666666666666666,
              "#ed7953"
             ],
             [
              0.7777777777777778,
              "#fb9f3a"
             ],
             [
              0.8888888888888888,
              "#fdca26"
             ],
             [
              1,
              "#f0f921"
             ]
            ],
            "type": "surface"
           }
          ],
          "table": [
           {
            "cells": {
             "fill": {
              "color": "#506784"
             },
             "line": {
              "color": "rgb(17,17,17)"
             }
            },
            "header": {
             "fill": {
              "color": "#2a3f5f"
             },
             "line": {
              "color": "rgb(17,17,17)"
             }
            },
            "type": "table"
           }
          ]
         },
         "layout": {
          "annotationdefaults": {
           "arrowcolor": "#f2f5fa",
           "arrowhead": 0,
           "arrowwidth": 1
          },
          "autotypenumbers": "strict",
          "coloraxis": {
           "colorbar": {
            "outlinewidth": 0,
            "ticks": ""
           }
          },
          "colorscale": {
           "diverging": [
            [
             0,
             "#8e0152"
            ],
            [
             0.1,
             "#c51b7d"
            ],
            [
             0.2,
             "#de77ae"
            ],
            [
             0.3,
             "#f1b6da"
            ],
            [
             0.4,
             "#fde0ef"
            ],
            [
             0.5,
             "#f7f7f7"
            ],
            [
             0.6,
             "#e6f5d0"
            ],
            [
             0.7,
             "#b8e186"
            ],
            [
             0.8,
             "#7fbc41"
            ],
            [
             0.9,
             "#4d9221"
            ],
            [
             1,
             "#276419"
            ]
           ],
           "sequential": [
            [
             0,
             "#0d0887"
            ],
            [
             0.1111111111111111,
             "#46039f"
            ],
            [
             0.2222222222222222,
             "#7201a8"
            ],
            [
             0.3333333333333333,
             "#9c179e"
            ],
            [
             0.4444444444444444,
             "#bd3786"
            ],
            [
             0.5555555555555556,
             "#d8576b"
            ],
            [
             0.6666666666666666,
             "#ed7953"
            ],
            [
             0.7777777777777778,
             "#fb9f3a"
            ],
            [
             0.8888888888888888,
             "#fdca26"
            ],
            [
             1,
             "#f0f921"
            ]
           ],
           "sequentialminus": [
            [
             0,
             "#0d0887"
            ],
            [
             0.1111111111111111,
             "#46039f"
            ],
            [
             0.2222222222222222,
             "#7201a8"
            ],
            [
             0.3333333333333333,
             "#9c179e"
            ],
            [
             0.4444444444444444,
             "#bd3786"
            ],
            [
             0.5555555555555556,
             "#d8576b"
            ],
            [
             0.6666666666666666,
             "#ed7953"
            ],
            [
             0.7777777777777778,
             "#fb9f3a"
            ],
            [
             0.8888888888888888,
             "#fdca26"
            ],
            [
             1,
             "#f0f921"
            ]
           ]
          },
          "colorway": [
           "#636efa",
           "#EF553B",
           "#00cc96",
           "#ab63fa",
           "#FFA15A",
           "#19d3f3",
           "#FF6692",
           "#B6E880",
           "#FF97FF",
           "#FECB52"
          ],
          "font": {
           "color": "#f2f5fa"
          },
          "geo": {
           "bgcolor": "rgb(17,17,17)",
           "lakecolor": "rgb(17,17,17)",
           "landcolor": "rgb(17,17,17)",
           "showlakes": true,
           "showland": true,
           "subunitcolor": "#506784"
          },
          "hoverlabel": {
           "align": "left"
          },
          "hovermode": "closest",
          "mapbox": {
           "style": "dark"
          },
          "paper_bgcolor": "rgb(17,17,17)",
          "plot_bgcolor": "rgb(17,17,17)",
          "polar": {
           "angularaxis": {
            "gridcolor": "#506784",
            "linecolor": "#506784",
            "ticks": ""
           },
           "bgcolor": "rgb(17,17,17)",
           "radialaxis": {
            "gridcolor": "#506784",
            "linecolor": "#506784",
            "ticks": ""
           }
          },
          "scene": {
           "xaxis": {
            "backgroundcolor": "rgb(17,17,17)",
            "gridcolor": "#506784",
            "gridwidth": 2,
            "linecolor": "#506784",
            "showbackground": true,
            "ticks": "",
            "zerolinecolor": "#C8D4E3"
           },
           "yaxis": {
            "backgroundcolor": "rgb(17,17,17)",
            "gridcolor": "#506784",
            "gridwidth": 2,
            "linecolor": "#506784",
            "showbackground": true,
            "ticks": "",
            "zerolinecolor": "#C8D4E3"
           },
           "zaxis": {
            "backgroundcolor": "rgb(17,17,17)",
            "gridcolor": "#506784",
            "gridwidth": 2,
            "linecolor": "#506784",
            "showbackground": true,
            "ticks": "",
            "zerolinecolor": "#C8D4E3"
           }
          },
          "shapedefaults": {
           "line": {
            "color": "#f2f5fa"
           }
          },
          "sliderdefaults": {
           "bgcolor": "#C8D4E3",
           "bordercolor": "rgb(17,17,17)",
           "borderwidth": 1,
           "tickwidth": 0
          },
          "ternary": {
           "aaxis": {
            "gridcolor": "#506784",
            "linecolor": "#506784",
            "ticks": ""
           },
           "baxis": {
            "gridcolor": "#506784",
            "linecolor": "#506784",
            "ticks": ""
           },
           "bgcolor": "rgb(17,17,17)",
           "caxis": {
            "gridcolor": "#506784",
            "linecolor": "#506784",
            "ticks": ""
           }
          },
          "title": {
           "x": 0.05
          },
          "updatemenudefaults": {
           "bgcolor": "#506784",
           "borderwidth": 0
          },
          "xaxis": {
           "automargin": true,
           "gridcolor": "#283442",
           "linecolor": "#506784",
           "ticks": "",
           "title": {
            "standoff": 15
           },
           "zerolinecolor": "#283442",
           "zerolinewidth": 2
          },
          "yaxis": {
           "automargin": true,
           "gridcolor": "#283442",
           "linecolor": "#506784",
           "ticks": "",
           "title": {
            "standoff": 15
           },
           "zerolinecolor": "#283442",
           "zerolinewidth": 2
          }
         }
        },
        "width": 900,
        "xaxis": {
         "anchor": "y",
         "domain": [
          0,
          1
         ],
         "title": {
          "text": "Year"
         }
        },
        "yaxis": {
         "anchor": "x",
         "domain": [
          0,
          1
         ],
         "title": {
          "text": "Values"
         }
        }
       }
      }
     },
     "metadata": {},
     "output_type": "display_data"
    }
   ],
   "source": [
    "# Downloads data from World Bank API based on user inputs via prompt window. Then, shows the data either as bar chart (ranked or unranked) or as a line chart (ranked or unranked as well as actual or cumulative percent change).\n",
    "# Schema for this code logic is here: https://miro.com/app/board/uXjVP6Rlhjg=/\n",
    "\n",
    "# function for users to select data type by choosing either Snapshot (if user types '1') or Time series (if user types '2'). The function will return 1 or 2.\n",
    "def data_type_func():\n",
    "    data_type_dict = {1: 'Snapshot', 2: 'Time series'}\n",
    "    while True:\n",
    "        try: # use try+except to force the users to re-enter values if they entered them incorrectly\n",
    "            data_type_user_choice = int(input('What data type do you want to capture? Enter 1 for Snapshot or 2 for Time series'))\n",
    "            if data_type_user_choice in (1, 2):\n",
    "                print('You selected '+ data_type_dict[data_type_user_choice])\n",
    "                return data_type_user_choice\n",
    "                break\n",
    "            else:\n",
    "                print('You typed the wrong value. Try again.')\n",
    "        except:\n",
    "            print('You typed the wrong value. Try again.')\n",
    "\n",
    "# function for users to enter countries/regions that they want the data. The options will differ depending on whether they selected Country (1) or Region (2). The function will return country/countries or region(s)\n",
    "def geo_list_func(country_or_region):\n",
    "    geo_list = []\n",
    "    x = 0\n",
    "    if country_or_region == 1:\n",
    "        geo_msg = 'Enter ISO-3 country code (e.g. USA). Press \"q\" to finish.'\n",
    "    elif country_or_region == 2:\n",
    "        geo_msg = 'Enter geographical code (e.g. EUU). Press \"q\" to finish.'\n",
    "    while x == 0:\n",
    "        country = input(geo_msg)\n",
    "        if country == 'q':\n",
    "            x = x + 1\n",
    "        else:\n",
    "            geo_list.append(country.upper())\n",
    "    print('You selected ', geo_list)\n",
    "    return geo_list\n",
    "\n",
    "# function for users to select between Country (if user types '1') or Region (if user types '2'). The function will return 1 or 2.\n",
    "def geo_func():\n",
    "    geo_dict = {1: 'Country', 2: 'Region'}\n",
    "    while True:\n",
    "        try: # use try+except to force the users to re-enter values if they entered them incorrectly\n",
    "            geo_user_choice = int(input('What geography do you want to capture? Enter 1 for Country or 2 for Region'))\n",
    "            if geo_user_choice == 1:\n",
    "                print('You selected '+ geo_dict[geo_user_choice])\n",
    "                countries = geo_list_func(geo_user_choice) # calls geo_list_func to get user to enter countries, then assigns them to 'countries' list\n",
    "                return geo_user_choice, countries\n",
    "                break\n",
    "            elif geo_user_choice == 2:\n",
    "                print('You selected '+ geo_dict[geo_user_choice])\n",
    "                regions = geo_list_func(geo_user_choice) # calls geo_list_func to get user to enter regions, then assigns them to 'regions' list\n",
    "                return geo_user_choice, regions\n",
    "                break\n",
    "            else:\n",
    "                print('You typed the wrong value. Try again.')\n",
    "        except:\n",
    "            print('You typed the wrong value. Try again.')\n",
    "\n",
    "# function for users to type year(s) depending on their earlier selection between Snapshot and Time series data type. The function will return year(s).\n",
    "def year_func(data_type_user_choice):\n",
    "    while True:\n",
    "        try: # use try+except to force the users to re-enter values if they entered them incorrectly\n",
    "            if data_type_user_choice == 1: # runs this code if option 1 (i.e. Snapshot) has been previously selected as data type. Outputs year using year_user_choice variable.\n",
    "                year_user_choice = input('What year do you want to see the data for? For example, 2019.')\n",
    "                if len(year_user_choice) == 4 and int(year_user_choice) > 0: # checks to ensure that year value is 4 characters long\n",
    "                    print('You selected ' + year_user_choice)\n",
    "                    return int(year_user_choice)\n",
    "                    break\n",
    "            elif data_type_user_choice == 2: # runs this code if option 2 (i.e. Time series) has been previously selected as data type. Outputs start and end year using start_year_user_choice and end_year_user_choice variables.\n",
    "                start_year_user_choice = input('What start year do you want to see the data for? For example, 2019.')\n",
    "                end_year_user_choice = input('What end year do you want to see the data for? For example, 2019.')\n",
    "                if len(start_year_user_choice) == 4 and len(end_year_user_choice) == 4 and int(start_year_user_choice) < int(end_year_user_choice): # checks to ensure that years are 4-characters long and that start year value is lower than end year value.\n",
    "                    print('You selected ' + start_year_user_choice)\n",
    "                    print('You selected ' + end_year_user_choice)\n",
    "                    year_user_choice = (int(start_year_user_choice), int(end_year_user_choice))\n",
    "                    return year_user_choice\n",
    "                    break\n",
    "            else:\n",
    "                print('You typed the wrong value. Try again.')\n",
    "        except:\n",
    "            print('You typed the wrong value. Try again.')\n",
    "\n",
    "# function for users to select if they'd like to see unadjusted (i.e. unranked) data (option 1) or ranked data (option 2). For ranked data, the higher the value, the better.\n",
    "def ranked_or_unranked_func():\n",
    "    ranked_or_unranked_dict = {1: 'Unranked', 2: 'Ranked'}\n",
    "    while True:\n",
    "        try: # use try+except to force the users to re-enter values if they entered them incorrectly\n",
    "            ranked_or_unranked_user_choice = int(input('What data type do you want to capture? Enter 1 for Unranked or 2 for Ranked. For ranked data, the higher the rank value, the better.'))\n",
    "            if ranked_or_unranked_user_choice in (1, 2):\n",
    "                print('You selected '+ ranked_or_unranked_dict[ranked_or_unranked_user_choice])\n",
    "                return ranked_or_unranked_user_choice\n",
    "                break\n",
    "            else:\n",
    "                print('You typed the wrong value. Try again.')\n",
    "        except:\n",
    "            print('You typed the wrong value. Try again.')\n",
    "\n",
    "# function for users to type the data field(s) and description of those data field(s) that they wanna download. Whether it is a field or several fields depends on users' earlier selection between Snapshot and Time series data type. The function will return data field(s) in a list format and will also return description of data field(s) in a list format.\n",
    "def data_fields_func(field_or_fields):\n",
    "    field_list = []\n",
    "    field_list_desc = []\n",
    "    x = 0\n",
    "    if field_or_fields == 1:\n",
    "        while x == 0:\n",
    "            fields_msg = 'Enter data field to download data for (e.g. EG.ELC.ACCS.ZS). Press \"q\" to finish.'\n",
    "            data_field = input(fields_msg)\n",
    "            if data_field == 'q':\n",
    "                x = x + 1\n",
    "            else:\n",
    "                field_list.append(data_field.upper())\n",
    "                data_field_desc = input('Enter description for the data field that you have just entered (e.g. Access to electricity ( % of population)).')\n",
    "                field_list_desc.append(data_field_desc)\n",
    "    elif field_or_fields == 2:\n",
    "        field_msg = 'Enter data field to download data for (e.g. EG.ELC.ACCS.ZS).'\n",
    "        data_field = input(field_msg)\n",
    "        field_list.append(data_field.upper())\n",
    "        data_field_desc = input('Enter description for the data field that you have just entered (e.g. Access to electricity (% of population)).')\n",
    "        field_list_desc.append(data_field_desc)\n",
    "    print('You selected ', field_list, data_field_desc)\n",
    "    return field_list, field_list_desc\n",
    "\n",
    "# function to select the appropriate chart depending on whether the user previously selected Snapshot (in which case this function will automatically return 'Bar chart') or Time series data type (in which case the user will be given an option to either select 'Line chart' or 'Line chart: percent change'). The function will return 0, 1 or 2.\n",
    "def chart_type_func(data_type_user_choice):\n",
    "    chart_type_dict = {0: 'Bar chart', 1: 'Line chart', 2: 'Line chart: percent change'}\n",
    "    if data_type_user_choice == 1:\n",
    "        print('You selected '+ chart_type_dict[0])\n",
    "        return 0 # returns '0' value which represents 'Bar chart'\n",
    "    elif data_type_user_choice == 2:\n",
    "        while True:\n",
    "            try: # use try+except to force the users to re-enter values if they entered them incorrectly\n",
    "                chart_type_user_choice = int(input(\"What chart do you want to create? Enter 1 for 'Line chart' or 2 for 'Line chart: percent change'\"))\n",
    "                if chart_type_user_choice == 1:\n",
    "                    print('You selected '+ chart_type_dict[chart_type_user_choice])\n",
    "                    return chart_type_user_choice\n",
    "                    break\n",
    "                elif chart_type_user_choice == 2:\n",
    "                    print('You selected '+ chart_type_dict[chart_type_user_choice])\n",
    "                    return chart_type_user_choice\n",
    "                    break\n",
    "                else:\n",
    "                    print('You typed the wrong value. Try again.')\n",
    "            except:\n",
    "                print('You typed the wrong value. Try again.')\n",
    "\n",
    "def change_sign_func(df): # changes sign of values in column names specified by user within 'df' DataFrame. It's used for ranking data fields where higher value is bad. It's because by default, the higher the rank value, the better. \n",
    "    x = 0\n",
    "    ranked_msg = 'Enter description for the data field where higher value is bad (e.g. Inflation, consumer prices (annual %)). Press \"q\" to finish.'\n",
    "    change_sign_field_list = []\n",
    "    while x == 0:\n",
    "        change_sign_field = input(ranked_msg)\n",
    "        if change_sign_field == 'q':\n",
    "            x = x + 1\n",
    "        else:\n",
    "            change_sign_field_list.append(change_sign_field)\n",
    "    df[change_sign_field_list] = -df[change_sign_field_list]\n",
    "    return df\n",
    "\n",
    "def benchmark_df(df): # adds 'Benchmark' to list of countries to show their mean value.\n",
    "    bench_df = pd.DataFrame(df.mean()).T # creates new 'bench_df' DataFrame to with a row to show mean values of columns in 'df' DataFrame\n",
    "    bench_df[df.index.name] = 'Benchmark' # adds a column name 'Country' from 'df' DataFrame to 'bench_df' DataFrame and populates it with 'Benchmark' string as value\n",
    "    bench_df.set_index(df.index.name, inplace=True) # sets 'Country' column as index for 'bench_df' DataFrame\n",
    "    df = df.append(bench_df) # merges 'df' and 'bench_df' DataFrame into a new 'df' DataFrame\n",
    "    return df\n",
    "\n",
    "# function to download data and create a DataFrame to be used later to create a bar chart. It only works if user previously selected Snapshot (option 1) data type via 'data_type_user_choice' variable. The function needs 'data_type_user_choice', 'data_fields_user_choice', 'geo_user_choice' and 'year_user_choice' as input variables. The function returns formatted 'df' DataFrame\n",
    "def df_func(chart_type_choice, data_fields_user_choice, geo_user_choice, year_user_choice, ranked_or_unranked_user_choice):\n",
    "    data_fields_dict = {data_fields_user_choice[0][i]: data_fields_user_choice[1][i] for i in range(len(data_fields_user_choice[0]))} # converts list of lists 'data_fields_user_choice' into a dictionary 'data_fields_dict' containing data fields (i.e. indicator codes) and their descriptions\n",
    "    data_fields_dict = dict(sorted(data_fields_dict.items())) # sorts keys of the dictionary alphabetically. Without this, there will be a bug in 'df = wb.data.DataFrame(list(data_fields_dict.keys())...' line because column names in 'df' DataFrame would be assigned in alphabetical order instead of the order that they were entered in\n",
    "    if chart_type_choice == 0:\n",
    "        if geo_user_choice[0] == 1: # downloads data for countries\n",
    "            df = wb.data.DataFrame(list(data_fields_dict.keys()), geo_user_choice[1], time=year_user_choice, labels=True) # I removed '.dropna()' from the end of the code\n",
    "        elif geo_user_choice[0] == 2: # downloads data for regions\n",
    "            # BUG if user entered more than one region in 'geo_user_choice' variable, this code will only will generate an error.\n",
    "            for region in geo_user_choice[1]: # loops through regions previously inputted by user in 'geo_user_choice' variable\n",
    "                df = wb.data.DataFrame(list(data_fields_dict.keys()), wb.region.members(region), time=year_user_choice, labels=True) # I removed '.dropna()' from the end of the code\n",
    "        df.columns = ['Country'] +  list(data_fields_dict.values()) # change columns names from using indicator codes to indicator names\n",
    "        df.set_index(['Country'], inplace=True) # replaces index that has country codes with index using values from 'Country' column\n",
    "        if ranked_or_unranked_user_choice == 2: # checks if user selected to rank countries and if so, then transfrorms the 'df' DataFrame to show ranked data, where the higher the rank values, the better.\n",
    "            df = change_sign_func(df) # runs a function to change sign of values in column names specified by user within 'df' DataFrame. It's used for ranking data fields where higher value is bad. It's because by default, the higher the rank value, the better. \n",
    "            df = benchmark_df(df)            \n",
    "            df = df.rank(method='first') # creates a new 'df' DataFrame to rank the countries for each dataf field. The higher the rank value the better.\n",
    "        elif ranked_or_unranked_user_choice == 1: # checks if user selected not to rank countries and if so, then adds 'Benchmark' to list of countries in 'df' DataFrame that represents their median value.\n",
    "            df = benchmark_df(df)\n",
    "        df.sort_values(by=list(data_fields_dict.values())[0], ascending=False, inplace=True) # sorts values in the first column of 'df' DataFrame so that the countries look in ascending order when we chart this 'df' later.\n",
    "    elif chart_type_choice == 1 or chart_type_choice == 2: # will download the data wether for line chart. Since only 1 data type is selected for this, the function to change sign ('change_sign_func') has not been used here. If the user previously selected cumulative percentage change using 'chart_type_choice' variable (option 2), then this function performs additional calculations and formatting. This function returns 'df' DataFrame with the data.\n",
    "        if geo_user_choice[0] == 1: # downloads data for countries\n",
    "            df = wb.data.DataFrame(list(data_fields_dict.keys()), geo_user_choice[1], time=range(year_user_choice[0], year_user_choice[1]), numericTimeKeys=True, labels=True).dropna()\n",
    "        elif geo_user_choice[0] == 2: # downloads data for regions\n",
    "            # BUG if user entered more than one region in 'geo_user_choice' variable, this code will only will generate an error.\n",
    "            for region in geo_user_choice[1]: # loops through regions previously inputted by user in 'geo_user_choice' variable\n",
    "                df = wb.data.DataFrame(list(data_fields_dict.keys()), wb.region.members(region), time=range(year_user_choice[0], year_user_choice[1]), numericTimeKeys=True, labels=True).dropna()\n",
    "        df.set_index(['Country'], inplace=True) # replaces index that has country codes with index using values from 'Country' column\n",
    "        if ranked_or_unranked_user_choice == 2: # checks if user selected to rank countries (option 2) and if so, then transfrorms the 'df' DataFrame to show ranked data, where the higher the rank values, the better.\n",
    "            #df = change_sign_func(df) # runs a function to change sign of values in column names specified by user within 'df' DataFrame. It's used for ranking data fields where higher value is bad. It's because by default, the higher the rank value, the better. \n",
    "            df = benchmark_df(df)          \n",
    "            df = df.rank(method='first') # creates a new 'df' DataFrame to rank the countries for each dataf field. The higher the rank value the better.\n",
    "        elif ranked_or_unranked_user_choice == 1: # checks if user selected not to rank countries (option 1) and if so, then adds 'Benchmark' to list of countries in 'df' DataFrame that represents their median value.\n",
    "            df = benchmark_df(df)\n",
    "        if chart_type_choice == 2: # calculates cumulative percent change time series data\n",
    "            df = df.T.pct_change() # transposes 'df' DataFrame (i.e. swaps columns with rows) and then computes daily returns for each security\n",
    "            df = df[1:] # deletes first row with NaN values\n",
    "            df = (1 + df).cumprod() - 1 # calculates cumulative daily returns\n",
    "            df = df.T # transposes 'df' DataFrame (i.e. swaps columns with rows) back into it's previous state as it was before calculating cumulative returns\n",
    "        df = df.reset_index() # move 'Country' column from index to a separate column\n",
    "        df = df.melt(id_vars=['Country'], value_vars=list(df.columns)[1:], var_name='Year', value_name='Values') # move year column names into rows under 'Year' column and move their values under 'Values' column \n",
    "    return df\n",
    "\n",
    "# chart the data\n",
    "def chart_func(df, chart_type_choice):\n",
    "    if chart_type_choice == 0: # creates a bar chart (ranked/unranked and grouped). The chart will show either ranked or unranked data, depending on whether the user previously selected ranked 'df' or unranked 'df'\n",
    "        fig = px.bar(df, \n",
    "            x=df.index, \n",
    "            y=df.columns, \n",
    "            height=500, \n",
    "            width=900,\n",
    "            template='plotly_dark',\n",
    "            barmode = 'group'\n",
    "            )  # you can change the look of this chart by removing 'barmode = 'group' from this line code. If you do that, the chart will shows stacked bar chart if user selected ranked 'df' or shows single (instead of grouped) bar chart if user selected unranked 'df'.\n",
    "        fig.add_vline(df.index.tolist().index('Benchmark'),\n",
    "            line_width = 3,\n",
    "            line_dash = 'dash'\n",
    "            ) # OPTIONAL: adds a vertical dash line for the 'Benchmark' value\n",
    "        # fig.update_layout(plot_bgcolor = 'white') # OPTIONAL: you can change the chart background colour to white\n",
    "        fig.show()\n",
    "    elif chart_type_choice == 1 or chart_type_choice == 2: # creates a line chart (ranked/unranked). The chart will be the same no matter whether user previously picked cumulative or non-cumulative data using 'chart_type_choice' variable\n",
    "        fig = px.line(df, \n",
    "            x=df['Year'],\n",
    "            y=df['Values'],\n",
    "            color=df['Country'],\n",
    "            height=500, \n",
    "            width=900,\n",
    "            template='plotly_dark'\n",
    "            )  # charts the data\n",
    "        fig.show()\n",
    "\n",
    "# call the functions\n",
    "\n",
    "data_type_user_choice = data_type_func() # runs a function to let users select either Snapshot or Time series data type and outputs variable data_type_user_choice with user selection either as 1 (Snapshot) or 2 (Time series).\n",
    "year_user_choice = year_func(data_type_user_choice) # runs a function to let users select year (if they previously selected Snapshot data type) or start & end year (if they previuosly selected Time series data type)\n",
    "geo_user_choice = geo_func() # runs a function geo_func and returns a list of two lists, where the first entry shows whether the user picked country (option 1) or region (option 2) and the second entry is a list of countries/regions that the user has inputted\n",
    "ranked_or_unranked_user_choice = ranked_or_unranked_func() # runs a function for users to select if they'd like to see unadjusted (i.e. unranked) data (option 1) or ranked data (option 2). For ranked data, the higher the value, the better.\n",
    "data_fields_user_choice = data_fields_func(data_type_user_choice) # runs a function to let users select several data fields (if they previously selected Snapshot data type) or one data field (if they previuosly selected Time series data type). This function outputs field(s) inputted by user as a list and also outputs field(s) description inputted by user as a list.\n",
    "chart_type_choice = chart_type_func(data_type_user_choice) # runs a function to let users select a chart type (if they previuosly selected Time series data type) by choosing between 'Line chart' (option 1) or 'Line chart: percent change' (option 2). If the users previously selected Snapshot data type, then this function will automatically select 'Bar chart' (option 0).\n",
    "df = df_func(chart_type_choice, data_fields_user_choice, geo_user_choice, year_user_choice, ranked_or_unranked_user_choice) # runs a function to download required data based on earlier user choices and country/region inputs and selected data fields. This function formats the data (and ranks it if needed) and outputs data as 'df' DataFrame.\n",
    "chart = chart_func(df, chart_type_choice) # runs a function to create a chart of 'df' DataFrame depending on the type of data (Snapshot or Timeseries) "
   ]
  },
  {
   "cell_type": "code",
   "execution_count": null,
   "metadata": {},
   "outputs": [],
   "source": [
    "# TODO create geographic maps using this tutorial: https://www.youtube.com/watch?v=Oht6cf-Acl0"
   ]
  },
  {
   "attachments": {},
   "cell_type": "markdown",
   "metadata": {},
   "source": [
    "#### The code below is not needed. It's just to play around with data."
   ]
  },
  {
   "cell_type": "code",
   "execution_count": 92,
   "metadata": {},
   "outputs": [
    {
     "data": {
      "application/vnd.plotly.v1+json": {
       "config": {
        "plotlyServerURL": "https://plot.ly"
       },
       "data": [
        {
         "hovertemplate": "Country=Cyprus<br>Year=%{x}<br>Values=%{y}<extra></extra>",
         "legendgroup": "Cyprus",
         "line": {
          "color": "#636efa",
          "dash": "solid"
         },
         "marker": {
          "symbol": "circle"
         },
         "mode": "lines",
         "name": "Cyprus",
         "orientation": "v",
         "showlegend": true,
         "type": "scatter",
         "x": [
          1980,
          1981,
          1982,
          1983,
          1984,
          1985,
          1986,
          1987,
          1988,
          1989,
          1990,
          1991,
          1992,
          1993,
          1994,
          1995,
          1996,
          1997,
          1998,
          1999,
          2000,
          2001,
          2002,
          2003,
          2004,
          2005,
          2006,
          2007,
          2008,
          2009,
          2010,
          2011,
          2012,
          2013,
          2014,
          2015,
          2016,
          2017,
          2018,
          2019
         ],
         "xaxis": "x",
         "y": [
          2154311276.94859,
          2087496373.77964,
          2159242416.76942,
          2160364071.19021,
          2278248953.14058,
          2430411900.19194,
          3090734463.27684,
          3704813885.50548,
          4278792597.23965,
          4563482603.5503,
          5591130217.66965,
          5770197348.48485,
          6912150456.32334,
          6590291048.29211,
          7425703928.57143,
          9933133247.08926,
          10011918444.1656,
          9547818700.11403,
          10248617647.0588,
          10497908306.3646,
          9985844486.33365,
          10397897085.6102,
          11420227884.6154,
          14547325028.3126,
          17320552500,
          18433411267.2553,
          20072786350.5206,
          23968764029.5647,
          27844698989.3072,
          25945391775.4932,
          25732432719.0773,
          27565469097.9955,
          24978513426.6992,
          23900872625.8467,
          23156850006.6427,
          19842404304.8929,
          20953442550.3653,
          22870833709.8961,
          25522671232.8767,
          25758357774.5438
         ],
         "yaxis": "y"
        },
        {
         "hovertemplate": "Country=Bulgaria<br>Year=%{x}<br>Values=%{y}<extra></extra>",
         "legendgroup": "Bulgaria",
         "line": {
          "color": "#EF553B",
          "dash": "solid"
         },
         "marker": {
          "symbol": "circle"
         },
         "mode": "lines",
         "name": "Bulgaria",
         "orientation": "v",
         "showlegend": true,
         "type": "scatter",
         "x": [
          1980,
          1981,
          1982,
          1983,
          1984,
          1985,
          1986,
          1987,
          1988,
          1989,
          1990,
          1991,
          1992,
          1993,
          1994,
          1995,
          1996,
          1997,
          1998,
          1999,
          2000,
          2001,
          2002,
          2003,
          2004,
          2005,
          2006,
          2007,
          2008,
          2009,
          2010,
          2011,
          2012,
          2013,
          2014,
          2015,
          2016,
          2017,
          2018,
          2019
         ],
         "xaxis": "x",
         "y": [
          19839230769.2308,
          19870000000,
          19342000000,
          16563666666.6667,
          17594944444.4444,
          17155421052.6316,
          20249294117.6471,
          28101000000,
          22555941176.4706,
          21988444444.4444,
          20632090909.0909,
          10943548387.0968,
          10350515463.9175,
          10829710144.9275,
          9697416974.16974,
          18983303571.4286,
          12294221472.7375,
          11315986087.1633,
          15030695296.5235,
          13627323284.5405,
          13245833843.5454,
          14183497963.1071,
          16402846413.0958,
          21144983551.6823,
          26157894736.8421,
          29869283400.0381,
          34379808888.6039,
          44405101469.5591,
          54438966419.8639,
          52023504656.2878,
          50682061053.2016,
          57678241023.818,
          54300857424.4415,
          55810138436.4821,
          57082011260.3446,
          50781996712.7635,
          53953897624.4344,
          59199447421.4924,
          66363422450.2112,
          68915416141.9576
         ],
         "yaxis": "y"
        },
        {
         "hovertemplate": "Country=Finland<br>Year=%{x}<br>Values=%{y}<extra></extra>",
         "legendgroup": "Finland",
         "line": {
          "color": "#00cc96",
          "dash": "solid"
         },
         "marker": {
          "symbol": "circle"
         },
         "mode": "lines",
         "name": "Finland",
         "orientation": "v",
         "showlegend": true,
         "type": "scatter",
         "x": [
          1980,
          1981,
          1982,
          1983,
          1984,
          1985,
          1986,
          1987,
          1988,
          1989,
          1990,
          1991,
          1992,
          1993,
          1994,
          1995,
          1996,
          1997,
          1998,
          1999,
          2000,
          2001,
          2002,
          2003,
          2004,
          2005,
          2006,
          2007,
          2008,
          2009,
          2010,
          2011,
          2012,
          2013,
          2014,
          2015,
          2016,
          2017,
          2018,
          2019
         ],
         "xaxis": "x",
         "y": [
          53645202422.6968,
          52448332874.07,
          52797582336.2526,
          50973526900.0854,
          52888800949.7428,
          55875863392.1719,
          73531550551.255,
          91594751792.2359,
          109058990760.483,
          119012054870.445,
          141438345513.917,
          127773856785.767,
          112532519246.084,
          89214114708.0254,
          103299943084.804,
          134189814814.815,
          132129174216.93,
          126912152101.707,
          134038718291.055,
          135264083658.688,
          126019543413.334,
          129533107311.811,
          140404460203.138,
          171652458349.411,
          197479443979.151,
          204885494686.381,
          217089269791.764,
          256378067752.158,
          285716311136.719,
          253497520828.515,
          249424310816.667,
          275604356167.316,
          258290060227.734,
          271362405890.589,
          274862826772.156,
          234534382384.766,
          240771351298.833,
          255647979916.471,
          275715087494.902,
          268508200125.49
         ],
         "yaxis": "y"
        },
        {
         "hovertemplate": "Country=Portugal<br>Year=%{x}<br>Values=%{y}<extra></extra>",
         "legendgroup": "Portugal",
         "line": {
          "color": "#ab63fa",
          "dash": "solid"
         },
         "marker": {
          "symbol": "circle"
         },
         "mode": "lines",
         "name": "Portugal",
         "orientation": "v",
         "showlegend": true,
         "type": "scatter",
         "x": [
          1980,
          1981,
          1982,
          1983,
          1984,
          1985,
          1986,
          1987,
          1988,
          1989,
          1990,
          1991,
          1992,
          1993,
          1994,
          1995,
          1996,
          1997,
          1998,
          1999,
          2000,
          2001,
          2002,
          2003,
          2004,
          2005,
          2006,
          2007,
          2008,
          2009,
          2010,
          2011,
          2012,
          2013,
          2014,
          2015,
          2016,
          2017,
          2018,
          2019
         ],
         "xaxis": "x",
         "y": [
          32896519823.7885,
          31977276872.9642,
          30527754793.1382,
          27239650741.9472,
          25217969049.5755,
          27115807742.0873,
          38745901353.7059,
          48182925857.4071,
          56347250696.3788,
          60594092182.3275,
          78713860216.5659,
          89233599278.4792,
          107592098307.098,
          95009751901.2592,
          99688641304.3478,
          118122007430.012,
          122630089680.27,
          117016535162.95,
          123946327916.296,
          127470385557.184,
          118605192877.388,
          121604107164.997,
          134795565549.419,
          165226175536.793,
          189382122532.169,
          197253876704.921,
          208756449275.848,
          240496147317.381,
          263416394624.084,
          244667762835.543,
          238113003233.284,
          245117990242.248,
          216224240577.957,
          226433858005.714,
          229901964221.884,
          199394066525.44,
          206426152308.931,
          221357874718.93,
          242313116577.967,
          239986922638.902
         ],
         "yaxis": "y"
        },
        {
         "hovertemplate": "Country=Netherlands<br>Year=%{x}<br>Values=%{y}<extra></extra>",
         "legendgroup": "Netherlands",
         "line": {
          "color": "#FFA15A",
          "dash": "solid"
         },
         "marker": {
          "symbol": "circle"
         },
         "mode": "lines",
         "name": "Netherlands",
         "orientation": "v",
         "showlegend": true,
         "type": "scatter",
         "x": [
          1980,
          1981,
          1982,
          1983,
          1984,
          1985,
          1986,
          1987,
          1988,
          1989,
          1990,
          1991,
          1992,
          1993,
          1994,
          1995,
          1996,
          1997,
          1998,
          1999,
          2000,
          2001,
          2002,
          2003,
          2004,
          2005,
          2006,
          2007,
          2008,
          2009,
          2010,
          2011,
          2012,
          2013,
          2014,
          2015,
          2016,
          2017,
          2018,
          2019
         ],
         "xaxis": "x",
         "y": [
          195152092662.381,
          164134217080.279,
          158479527935.958,
          153445465987.182,
          143912664148.352,
          143845822717.622,
          200862095700.666,
          245046310922.541,
          261910508417.884,
          258336705808.999,
          318330511920.61,
          327500327675.625,
          362962872180.451,
          353550169672.52,
          379130260322.073,
          452301674444.139,
          450490196078.431,
          416812740004.518,
          438008220395.468,
          447049523049.808,
          417479337444.707,
          431586852369.686,
          473861980070.981,
          580070360701.96,
          658380081545.175,
          685348181515.953,
          733955269898.823,
          848558887541.179,
          951869997864.062,
          871518638049.218,
          847380859016.668,
          905270626332.687,
          838923319919.531,
          877172824534.512,
          892167986713.722,
          765572770634.375,
          784060430240.08,
          833869641687.06,
          914043438179.607,
          910194347568.626
         ],
         "yaxis": "y"
        },
        {
         "hovertemplate": "Country=Malta<br>Year=%{x}<br>Values=%{y}<extra></extra>",
         "legendgroup": "Malta",
         "line": {
          "color": "#19d3f3",
          "dash": "solid"
         },
         "marker": {
          "symbol": "circle"
         },
         "mode": "lines",
         "name": "Malta",
         "orientation": "v",
         "showlegend": true,
         "type": "scatter",
         "x": [
          1980,
          1981,
          1982,
          1983,
          1984,
          1985,
          1986,
          1987,
          1988,
          1989,
          1990,
          1991,
          1992,
          1993,
          1994,
          1995,
          1996,
          1997,
          1998,
          1999,
          2000,
          2001,
          2002,
          2003,
          2004,
          2005,
          2006,
          2007,
          2008,
          2009,
          2010,
          2011,
          2012,
          2013,
          2014,
          2015,
          2016,
          2017,
          2018,
          2019
         ],
         "xaxis": "x",
         "y": [
          1250242107.87969,
          1243469360.56838,
          1234518125,
          1165771369.00625,
          1101828568.76804,
          1117835285.50512,
          1435079200.34957,
          1751247763.41948,
          2019474244.19359,
          2118574772.11136,
          2547163582.33149,
          2750041434.26295,
          3021910216.71827,
          2709178326.78271,
          2998570146.54095,
          3720400535.01945,
          3822882801.33397,
          3793418418.41842,
          4010571223.3396,
          4121350731.81231,
          4069515579.07114,
          4088368978.34589,
          4470446391.44639,
          5448415500.17071,
          6098092551.07125,
          6416184181.07201,
          6778324049.68009,
          7925371475.49959,
          9090406767.24769,
          8696366907.4743,
          9035932122.49768,
          9638916481.06904,
          9462238211.48657,
          10551661176.7831,
          11626281387.0068,
          11091434483.5238,
          11668286794.8616,
          13505056441.5193,
          15301279478.2071,
          15719500920.5362
         ],
         "yaxis": "y"
        },
        {
         "hovertemplate": "Country=Belgium<br>Year=%{x}<br>Values=%{y}<extra></extra>",
         "legendgroup": "Belgium",
         "line": {
          "color": "#FF6692",
          "dash": "solid"
         },
         "marker": {
          "symbol": "circle"
         },
         "mode": "lines",
         "name": "Belgium",
         "orientation": "v",
         "showlegend": true,
         "type": "scatter",
         "x": [
          1980,
          1981,
          1982,
          1983,
          1984,
          1985,
          1986,
          1987,
          1988,
          1989,
          1990,
          1991,
          1992,
          1993,
          1994,
          1995,
          1996,
          1997,
          1998,
          1999,
          2000,
          2001,
          2002,
          2003,
          2004,
          2005,
          2006,
          2007,
          2008,
          2009,
          2010,
          2011,
          2012,
          2013,
          2014,
          2015,
          2016,
          2017,
          2018,
          2019
         ],
         "xaxis": "x",
         "y": [
          126829314388.191,
          104730018470.23,
          92095926187.5331,
          87184239053.2544,
          83349530159.1734,
          86268264148.3796,
          120018787249.413,
          149394404105.889,
          162299103675.261,
          164221056511.057,
          205331747947.851,
          210510999409.333,
          234781652446.675,
          224721795708.955,
          244884129491.198,
          288025588396.278,
          279201433224.756,
          252708051420.839,
          258528339631.029,
          258245733221.468,
          236792460312.471,
          236746141604.37,
          258383599375.177,
          318082528506.588,
          369214712443.206,
          385714762230.039,
          408259840868.823,
          470922156309.453,
          517328087920.078,
          483254171097.812,
          481420882905.001,
          523330354138.133,
          496152879924.727,
          521791015247.06,
          535390200131.018,
          462335574841.484,
          476062757356.927,
          502764720556.354,
          543347368038.353,
          535376258146.666
         ],
         "yaxis": "y"
        },
        {
         "hovertemplate": "Country=Denmark<br>Year=%{x}<br>Values=%{y}<extra></extra>",
         "legendgroup": "Denmark",
         "line": {
          "color": "#B6E880",
          "dash": "solid"
         },
         "marker": {
          "symbol": "circle"
         },
         "mode": "lines",
         "name": "Denmark",
         "orientation": "v",
         "showlegend": true,
         "type": "scatter",
         "x": [
          1980,
          1981,
          1982,
          1983,
          1984,
          1985,
          1986,
          1987,
          1988,
          1989,
          1990,
          1991,
          1992,
          1993,
          1994,
          1995,
          1996,
          1997,
          1998,
          1999,
          2000,
          2001,
          2002,
          2003,
          2004,
          2005,
          2006,
          2007,
          2008,
          2009,
          2010,
          2011,
          2012,
          2013,
          2014,
          2015,
          2016,
          2017,
          2018,
          2019
         ],
         "xaxis": "x",
         "y": [
          71127528699.9414,
          61877813965.2413,
          60412844678.604,
          60644782176.0525,
          59105236853.7937,
          62658568287.3429,
          88078760103.8191,
          109414423928.775,
          115552846616.653,
          112409222182.704,
          138247285815.855,
          139224688814.195,
          152915654478.885,
          143195627014.605,
          156162386724.523,
          185006881515.065,
          187632346387.984,
          173537647058.824,
          176991934992.837,
          177965188354.692,
          164158739097.623,
          164791442543.375,
          178635163717.431,
          218096033517.009,
          251373002954.382,
          264467336457.17,
          282884947702.966,
          319423424509.066,
          353361038818.383,
          321241303699.006,
          321995279401.502,
          344003137611.271,
          327148943812.137,
          343584391647.927,
          352993631617.708,
          302673070846.857,
          313115929314.339,
          332121063806.391,
          356841216410.068,
          347561349210.979
         ],
         "yaxis": "y"
        },
        {
         "hovertemplate": "Country=Sweden<br>Year=%{x}<br>Values=%{y}<extra></extra>",
         "legendgroup": "Sweden",
         "line": {
          "color": "#FF97FF",
          "dash": "solid"
         },
         "marker": {
          "symbol": "circle"
         },
         "mode": "lines",
         "name": "Sweden",
         "orientation": "v",
         "showlegend": true,
         "type": "scatter",
         "x": [
          1980,
          1981,
          1982,
          1983,
          1984,
          1985,
          1986,
          1987,
          1988,
          1989,
          1990,
          1991,
          1992,
          1993,
          1994,
          1995,
          1996,
          1997,
          1998,
          1999,
          2000,
          2001,
          2002,
          2003,
          2004,
          2005,
          2006,
          2007,
          2008,
          2009,
          2010,
          2011,
          2012,
          2013,
          2014,
          2015,
          2016,
          2017,
          2018,
          2019
         ],
         "xaxis": "x",
         "y": [
          142092068280.689,
          129686938223.328,
          114380557730.876,
          105014356666.797,
          109201362581.3,
          114123537581.794,
          150498057723.623,
          183009638350.893,
          206986674500.588,
          217948315624.564,
          261846194498.885,
          274229034311.699,
          284321115594.629,
          212953336588.123,
          229033566614.826,
          267305875261.099,
          291743811512.079,
          268146144677.73,
          270809066780.714,
          274072182416.731,
          262835454366.855,
          242395852494.409,
          266849061835.659,
          334337212322.076,
          385118044877.465,
          392218088878.779,
          423093437423.762,
          491252589217.021,
          517706149201.196,
          436537014293.554,
          495812558843.31,
          574094112972.733,
          552483727282.802,
          586841821796.891,
          581964017237.095,
          505103781349.757,
          515654671469.547,
          541018749769.097,
          555455371487.089,
          533879529188.454
         ],
         "yaxis": "y"
        },
        {
         "hovertemplate": "Country=Ireland<br>Year=%{x}<br>Values=%{y}<extra></extra>",
         "legendgroup": "Ireland",
         "line": {
          "color": "#FECB52",
          "dash": "solid"
         },
         "marker": {
          "symbol": "circle"
         },
         "mode": "lines",
         "name": "Ireland",
         "orientation": "v",
         "showlegend": true,
         "type": "scatter",
         "x": [
          1980,
          1981,
          1982,
          1983,
          1984,
          1985,
          1986,
          1987,
          1988,
          1989,
          1990,
          1991,
          1992,
          1993,
          1994,
          1995,
          1996,
          1997,
          1998,
          1999,
          2000,
          2001,
          2002,
          2003,
          2004,
          2005,
          2006,
          2007,
          2008,
          2009,
          2010,
          2011,
          2012,
          2013,
          2014,
          2015,
          2016,
          2017,
          2018,
          2019
         ],
         "xaxis": "x",
         "y": [
          21747855640.0712,
          20670190138.1671,
          21474752962.2178,
          20766047763.5314,
          20106648454.8404,
          21270013325.5601,
          28714571852.4799,
          33920518492.5094,
          37772896220.7559,
          39238392677.7542,
          49305632408.4929,
          49787501584.4847,
          55918538121.3989,
          52417477613.676,
          57097656065.96,
          69139823232.3232,
          75790786290.3226,
          82856648758.3572,
          90199410115.5097,
          98893958262.6438,
          100207610429.909,
          109346669229.695,
          128596035288.401,
          164670771259.602,
          194372115041.065,
          211876989655.907,
          232180617162.279,
          270079279419.5,
          275447471451.063,
          236443115853.695,
          221876011283.5,
          238975558966.528,
          225496810956.67,
          238279269750.987,
          258969649063.72,
          291580037584.33,
          298928152644.686,
          335430829594.026,
          385041711506.234,
          399122063504.148
         ],
         "yaxis": "y"
        },
        {
         "hovertemplate": "Country=Germany<br>Year=%{x}<br>Values=%{y}<extra></extra>",
         "legendgroup": "Germany",
         "line": {
          "color": "#636efa",
          "dash": "solid"
         },
         "marker": {
          "symbol": "circle"
         },
         "mode": "lines",
         "name": "Germany",
         "orientation": "v",
         "showlegend": true,
         "type": "scatter",
         "x": [
          1980,
          1981,
          1982,
          1983,
          1984,
          1985,
          1986,
          1987,
          1988,
          1989,
          1990,
          1991,
          1992,
          1993,
          1994,
          1995,
          1996,
          1997,
          1998,
          1999,
          2000,
          2001,
          2002,
          2003,
          2004,
          2005,
          2006,
          2007,
          2008,
          2009,
          2010,
          2011,
          2012,
          2013,
          2014,
          2015,
          2016,
          2017,
          2018,
          2019
         ],
         "xaxis": "x",
         "y": [
          950290856466.538,
          800472055387.278,
          776576439106.956,
          770684323247.798,
          725111123634.115,
          732534887058.198,
          1046259374943.71,
          1298176105549.51,
          1401233225303.49,
          1398967436804.33,
          1771671206875.68,
          1868945197407.19,
          2131571696931.75,
          2071323790370.28,
          2205074123177.05,
          2585792275146.72,
          2497244606186.64,
          2211989623279.95,
          2238990774702.68,
          2194945278872.59,
          1947981991011.77,
          1945790973803.15,
          2078484517474.51,
          2501640388482.35,
          2814353869359.08,
          2846864211175.1,
          2994703642023.53,
          3425578382921.58,
          3745264093617.19,
          3411261212652.34,
          3399667820000.01,
          3749314991050.59,
          3527143188785.16,
          3733804649549.03,
          3889093051023.52,
          3357585719351.56,
          3469853463945.53,
          3690849152517.65,
          3977289455388.23,
          3888326788627.44
         ],
         "yaxis": "y"
        },
        {
         "hovertemplate": "Country=France<br>Year=%{x}<br>Values=%{y}<extra></extra>",
         "legendgroup": "France",
         "line": {
          "color": "#EF553B",
          "dash": "solid"
         },
         "marker": {
          "symbol": "circle"
         },
         "mode": "lines",
         "name": "France",
         "orientation": "v",
         "showlegend": true,
         "type": "scatter",
         "x": [
          1980,
          1981,
          1982,
          1983,
          1984,
          1985,
          1986,
          1987,
          1988,
          1989,
          1990,
          1991,
          1992,
          1993,
          1994,
          1995,
          1996,
          1997,
          1998,
          1999,
          2000,
          2001,
          2002,
          2003,
          2004,
          2005,
          2006,
          2007,
          2008,
          2009,
          2010,
          2011,
          2012,
          2013,
          2014,
          2015,
          2016,
          2017,
          2018,
          2019
         ],
         "xaxis": "x",
         "y": [
          701288419745.421,
          615552202776.101,
          584877732308.614,
          559869179791.72,
          530683779929.445,
          553138414367.061,
          771470783218.108,
          934173305685.911,
          1018847043277.17,
          1025211803413.53,
          1269179616913.63,
          1269276828275.78,
          1401465923172.24,
          1322815612694,
          1393982750472.59,
          1601094756209.75,
          1605675086549.56,
          1452884917959.09,
          1503108739159.44,
          1493151737698.46,
          1365639660792.16,
          1377657339291.34,
          1501409382971.38,
          1844544792036.86,
          2119633181634.37,
          2196945232435.8,
          2320536221304.7,
          2660591246211.77,
          2930303780828.12,
          2700887366932.03,
          2645187882116.67,
          2865157541994.17,
          2683671716967.19,
          2811876903329.03,
          2855964488590.19,
          2439188643162.5,
          2472964344587.17,
          2595151045197.65,
          2790956878746.66,
          2728870246705.88
         ],
         "yaxis": "y"
        },
        {
         "hovertemplate": "Country=Spain<br>Year=%{x}<br>Values=%{y}<extra></extra>",
         "legendgroup": "Spain",
         "line": {
          "color": "#00cc96",
          "dash": "solid"
         },
         "marker": {
          "symbol": "circle"
         },
         "mode": "lines",
         "name": "Spain",
         "orientation": "v",
         "showlegend": true,
         "type": "scatter",
         "x": [
          1980,
          1981,
          1982,
          1983,
          1984,
          1985,
          1986,
          1987,
          1988,
          1989,
          1990,
          1991,
          1992,
          1993,
          1994,
          1995,
          1996,
          1997,
          1998,
          1999,
          2000,
          2001,
          2002,
          2003,
          2004,
          2005,
          2006,
          2007,
          2008,
          2009,
          2010,
          2011,
          2012,
          2013,
          2014,
          2015,
          2016,
          2017,
          2018,
          2019
         ],
         "xaxis": "x",
         "y": [
          232766822928.754,
          202807891511.984,
          195996754505.528,
          170951185614.849,
          172102910370.524,
          180793463796.477,
          251321075204.942,
          318747935588.196,
          376160409941.437,
          414757056921.996,
          536558591250.408,
          577166174539.632,
          630916018202.503,
          525075636030.854,
          530562634455.347,
          614609020549.773,
          642588992512.807,
          590077272727.273,
          619214834614.099,
          634907542858.302,
          598363313494.903,
          627830029412.205,
          708756677088.629,
          907491523174.116,
          1069055675273.75,
          1153715822717.51,
          1260398977831.76,
          1474002579820,
          1631863493552.34,
          1491472923706.64,
          1422108199783.34,
          1480710495710.12,
          1324744314781.64,
          1355142585077.65,
          1371222712535.68,
          1195599995808.59,
          1232912963206.23,
          1312539279462.36,
          1420994142512.16,
          1393046093137.25
         ],
         "yaxis": "y"
        },
        {
         "hovertemplate": "Country=Italy<br>Year=%{x}<br>Values=%{y}<extra></extra>",
         "legendgroup": "Italy",
         "line": {
          "color": "#ab63fa",
          "dash": "solid"
         },
         "marker": {
          "symbol": "circle"
         },
         "mode": "lines",
         "name": "Italy",
         "orientation": "v",
         "showlegend": true,
         "type": "scatter",
         "x": [
          1980,
          1981,
          1982,
          1983,
          1984,
          1985,
          1986,
          1987,
          1988,
          1989,
          1990,
          1991,
          1992,
          1993,
          1994,
          1995,
          1996,
          1997,
          1998,
          1999,
          2000,
          2001,
          2002,
          2003,
          2004,
          2005,
          2006,
          2007,
          2008,
          2009,
          2010,
          2011,
          2012,
          2013,
          2014,
          2015,
          2016,
          2017,
          2018,
          2019
         ],
         "xaxis": "x",
         "y": [
          477256775943.929,
          430702851303.015,
          427272645669.291,
          443042373788.883,
          437887689001.543,
          452217492140.757,
          640386352773.087,
          805713128174.485,
          891608957155.608,
          928661332204.347,
          1181222653522.95,
          1246220156079.29,
          1320161644933.23,
          1064958075550.63,
          1099216688280.5,
          1174662070605.02,
          1312426527795.21,
          1241879604365.62,
          1270052525928.4,
          1252446659833.79,
          1146676894209.73,
          1168023426056.38,
          1276769338449.3,
          1577621707050.51,
          1806542968545.56,
          1858217147203.73,
          1949551719389.64,
          2213102482751.46,
          2408655348718.59,
          2199928804118.63,
          2136099955236.67,
          2294994296589.5,
          2086957656821.6,
          2141924094298.56,
          2162009615996.54,
          1836637711060.55,
          1877071687633.78,
          1961796197354.36,
          2091932426266.98,
          2011285742552.15
         ],
         "yaxis": "y"
        },
        {
         "hovertemplate": "Country=Luxembourg<br>Year=%{x}<br>Values=%{y}<extra></extra>",
         "legendgroup": "Luxembourg",
         "line": {
          "color": "#FFA15A",
          "dash": "solid"
         },
         "marker": {
          "symbol": "circle"
         },
         "mode": "lines",
         "name": "Luxembourg",
         "orientation": "v",
         "showlegend": true,
         "type": "scatter",
         "x": [
          1980,
          1981,
          1982,
          1983,
          1984,
          1985,
          1986,
          1987,
          1988,
          1989,
          1990,
          1991,
          1992,
          1993,
          1994,
          1995,
          1996,
          1997,
          1998,
          1999,
          2000,
          2001,
          2002,
          2003,
          2004,
          2005,
          2006,
          2007,
          2008,
          2009,
          2010,
          2011,
          2012,
          2013,
          2014,
          2015,
          2016,
          2017,
          2018,
          2019
         ],
         "xaxis": "x",
         "y": [
          6019805490.41247,
          5053665797.47936,
          4602316793.21914,
          4524217751.47929,
          4438435492.87908,
          4577211767.10374,
          6685595087.59256,
          8320902215.01891,
          9418167855.18376,
          10037674037.674,
          12778792853.6939,
          13834219728.293,
          15518702634.8808,
          15925521222.0149,
          17701798890.7644,
          20853093869.7318,
          20895314657.9805,
          19563836265.2233,
          20150053345.1878,
          21899317598.8414,
          21230182989.3036,
          21387533703.2327,
          23649833332.1655,
          29667268248.1305,
          35064843792.8993,
          37672280120.4794,
          42910146296.0646,
          51587401415.7872,
          58844277701.5258,
          54467289897.5582,
          56213985987.4168,
          61696281326.2453,
          59776383527.3602,
          65203276466.9763,
          68804811897.6445,
          60071584216.1375,
          62216885435.9488,
          65712180342.9836,
          71285019397.4133,
          70195715495.5136
         ],
         "yaxis": "y"
        },
        {
         "hovertemplate": "Country=Austria<br>Year=%{x}<br>Values=%{y}<extra></extra>",
         "legendgroup": "Austria",
         "line": {
          "color": "#19d3f3",
          "dash": "solid"
         },
         "marker": {
          "symbol": "circle"
         },
         "mode": "lines",
         "name": "Austria",
         "orientation": "v",
         "showlegend": true,
         "type": "scatter",
         "x": [
          1980,
          1981,
          1982,
          1983,
          1984,
          1985,
          1986,
          1987,
          1988,
          1989,
          1990,
          1991,
          1992,
          1993,
          1994,
          1995,
          1996,
          1997,
          1998,
          1999,
          2000,
          2001,
          2002,
          2003,
          2004,
          2005,
          2006,
          2007,
          2008,
          2009,
          2010,
          2011,
          2012,
          2013,
          2014,
          2015,
          2016,
          2017,
          2018,
          2019
         ],
         "xaxis": "x",
         "y": [
          82058912997.2346,
          71034228443.062,
          71275287569.5733,
          72121016546.6524,
          67985344886.8716,
          69386774408.0872,
          99036164939.1618,
          124168442533.74,
          133339397080.129,
          133105805512.22,
          166463386179.354,
          173794177961.108,
          195078126721.763,
          190379720809.18,
          203535242741.838,
          241038283062.645,
          237250948791.266,
          212790348404.555,
          218259904401.956,
          217259147049.954,
          197289625479.906,
          197508773215.323,
          214394866675.24,
          262273631180.054,
          301457562038.541,
          316092273276.015,
          336280064332.411,
          389185571506.052,
          432051935642.945,
          401758735822.211,
          392275107258.667,
          431685217367.511,
          409401816050.531,
          430190979705.962,
          442584815286.034,
          381971148530.543,
          395837353031.499,
          417261151844.977,
          455168151938.941,
          445011872704.47
         ],
         "yaxis": "y"
        },
        {
         "hovertemplate": "Country=Greece<br>Year=%{x}<br>Values=%{y}<extra></extra>",
         "legendgroup": "Greece",
         "line": {
          "color": "#FF6692",
          "dash": "solid"
         },
         "marker": {
          "symbol": "circle"
         },
         "mode": "lines",
         "name": "Greece",
         "orientation": "v",
         "showlegend": true,
         "type": "scatter",
         "x": [
          1980,
          1981,
          1982,
          1983,
          1984,
          1985,
          1986,
          1987,
          1988,
          1989,
          1990,
          1991,
          1992,
          1993,
          1994,
          1995,
          1996,
          1997,
          1998,
          1999,
          2000,
          2001,
          2002,
          2003,
          2004,
          2005,
          2006,
          2007,
          2008,
          2009,
          2010,
          2011,
          2012,
          2013,
          2014,
          2015,
          2016,
          2017,
          2018,
          2019
         ],
         "xaxis": "x",
         "y": [
          56829664268.5851,
          52346506765.0676,
          54617989795.9184,
          49428873839.0093,
          48020024183.7969,
          47820851221.3175,
          56379593476.1441,
          65652750377.4535,
          76261277924.5736,
          79169043222.8284,
          97891092003.4394,
          105143232379.884,
          116224672863.783,
          108809059155.767,
          116601801966.292,
          136878365936.167,
          145861612400.906,
          143157600149.757,
          144428172489.335,
          142588875293.749,
          130457756628.436,
          136309295225.34,
          154564203586.954,
          202370140236.265,
          240963562236.127,
          247875422204.414,
          273546728473.073,
          318902829550.733,
          355908689477.445,
          331308500253.274,
          297124961971.501,
          282995942006.557,
          242029307133.408,
          238907690051.13,
          235458133124.608,
          195683527003.375,
          193148146586.933,
          199844406013.531,
          212049447242.111,
          205144152830.847
         ],
         "yaxis": "y"
        },
        {
         "hovertemplate": "Country=Benchmark<br>Year=%{x}<br>Values=%{y}<extra></extra>",
         "legendgroup": "Benchmark",
         "line": {
          "color": "#B6E880",
          "dash": "solid"
         },
         "marker": {
          "symbol": "circle"
         },
         "mode": "lines",
         "name": "Benchmark",
         "orientation": "v",
         "showlegend": true,
         "type": "scatter",
         "x": [
          1980,
          1981,
          1982,
          1983,
          1984,
          1985,
          1986,
          1987,
          1988,
          1989,
          1990,
          1991,
          1992,
          1993,
          1994,
          1995,
          1996,
          1997,
          1998,
          1999,
          2000,
          2001,
          2002,
          2003,
          2004,
          2005,
          2006,
          2007,
          2008,
          2009,
          2010,
          2011,
          2012,
          2013,
          2014,
          2015,
          2016,
          2017,
          2018,
          2019
         ],
         "xaxis": "x",
         "y": [
          186661507288.98187,
          162746773843.6832,
          156948463112.6735,
          152692884822.12378,
          147116855391.90033,
          151313567070.13455,
          211574339526.99887,
          261710153248.44055,
          287391232790.794,
          293549440811.4637,
          368102900154.7309,
          381888457729.4473,
          420132106586.60767,
          381792874621.1701,
          403299606743.6115,
          465979786342.7691,
          472217055823.7282,
          431470020326.0053,
          443295112172.4076,
          441435658591.15405,
          403590526850.438,
          408187135732.49274,
          445402835665.14954,
          548169747922.4642,
          628351042708.2855,
          650227411653.5625,
          690904603003.7793,
          794491781365.7509,
          871712420160.5977,
          795582919022.3107,
          781773602573.4697,
          845166678181.0876,
          784540351519.4751,
          819575202211.243,
          837838414521.5009,
          724096932282.438,
          742682348001.7704,
          785937624138.5146,
          847036482608.7064,
          828641326898.4619
         ],
         "yaxis": "y"
        }
       ],
       "layout": {
        "height": 500,
        "legend": {
         "title": {
          "text": "Country"
         },
         "tracegroupgap": 0
        },
        "margin": {
         "t": 60
        },
        "template": {
         "data": {
          "bar": [
           {
            "error_x": {
             "color": "#f2f5fa"
            },
            "error_y": {
             "color": "#f2f5fa"
            },
            "marker": {
             "line": {
              "color": "rgb(17,17,17)",
              "width": 0.5
             },
             "pattern": {
              "fillmode": "overlay",
              "size": 10,
              "solidity": 0.2
             }
            },
            "type": "bar"
           }
          ],
          "barpolar": [
           {
            "marker": {
             "line": {
              "color": "rgb(17,17,17)",
              "width": 0.5
             },
             "pattern": {
              "fillmode": "overlay",
              "size": 10,
              "solidity": 0.2
             }
            },
            "type": "barpolar"
           }
          ],
          "carpet": [
           {
            "aaxis": {
             "endlinecolor": "#A2B1C6",
             "gridcolor": "#506784",
             "linecolor": "#506784",
             "minorgridcolor": "#506784",
             "startlinecolor": "#A2B1C6"
            },
            "baxis": {
             "endlinecolor": "#A2B1C6",
             "gridcolor": "#506784",
             "linecolor": "#506784",
             "minorgridcolor": "#506784",
             "startlinecolor": "#A2B1C6"
            },
            "type": "carpet"
           }
          ],
          "choropleth": [
           {
            "colorbar": {
             "outlinewidth": 0,
             "ticks": ""
            },
            "type": "choropleth"
           }
          ],
          "contour": [
           {
            "colorbar": {
             "outlinewidth": 0,
             "ticks": ""
            },
            "colorscale": [
             [
              0,
              "#0d0887"
             ],
             [
              0.1111111111111111,
              "#46039f"
             ],
             [
              0.2222222222222222,
              "#7201a8"
             ],
             [
              0.3333333333333333,
              "#9c179e"
             ],
             [
              0.4444444444444444,
              "#bd3786"
             ],
             [
              0.5555555555555556,
              "#d8576b"
             ],
             [
              0.6666666666666666,
              "#ed7953"
             ],
             [
              0.7777777777777778,
              "#fb9f3a"
             ],
             [
              0.8888888888888888,
              "#fdca26"
             ],
             [
              1,
              "#f0f921"
             ]
            ],
            "type": "contour"
           }
          ],
          "contourcarpet": [
           {
            "colorbar": {
             "outlinewidth": 0,
             "ticks": ""
            },
            "type": "contourcarpet"
           }
          ],
          "heatmap": [
           {
            "colorbar": {
             "outlinewidth": 0,
             "ticks": ""
            },
            "colorscale": [
             [
              0,
              "#0d0887"
             ],
             [
              0.1111111111111111,
              "#46039f"
             ],
             [
              0.2222222222222222,
              "#7201a8"
             ],
             [
              0.3333333333333333,
              "#9c179e"
             ],
             [
              0.4444444444444444,
              "#bd3786"
             ],
             [
              0.5555555555555556,
              "#d8576b"
             ],
             [
              0.6666666666666666,
              "#ed7953"
             ],
             [
              0.7777777777777778,
              "#fb9f3a"
             ],
             [
              0.8888888888888888,
              "#fdca26"
             ],
             [
              1,
              "#f0f921"
             ]
            ],
            "type": "heatmap"
           }
          ],
          "heatmapgl": [
           {
            "colorbar": {
             "outlinewidth": 0,
             "ticks": ""
            },
            "colorscale": [
             [
              0,
              "#0d0887"
             ],
             [
              0.1111111111111111,
              "#46039f"
             ],
             [
              0.2222222222222222,
              "#7201a8"
             ],
             [
              0.3333333333333333,
              "#9c179e"
             ],
             [
              0.4444444444444444,
              "#bd3786"
             ],
             [
              0.5555555555555556,
              "#d8576b"
             ],
             [
              0.6666666666666666,
              "#ed7953"
             ],
             [
              0.7777777777777778,
              "#fb9f3a"
             ],
             [
              0.8888888888888888,
              "#fdca26"
             ],
             [
              1,
              "#f0f921"
             ]
            ],
            "type": "heatmapgl"
           }
          ],
          "histogram": [
           {
            "marker": {
             "pattern": {
              "fillmode": "overlay",
              "size": 10,
              "solidity": 0.2
             }
            },
            "type": "histogram"
           }
          ],
          "histogram2d": [
           {
            "colorbar": {
             "outlinewidth": 0,
             "ticks": ""
            },
            "colorscale": [
             [
              0,
              "#0d0887"
             ],
             [
              0.1111111111111111,
              "#46039f"
             ],
             [
              0.2222222222222222,
              "#7201a8"
             ],
             [
              0.3333333333333333,
              "#9c179e"
             ],
             [
              0.4444444444444444,
              "#bd3786"
             ],
             [
              0.5555555555555556,
              "#d8576b"
             ],
             [
              0.6666666666666666,
              "#ed7953"
             ],
             [
              0.7777777777777778,
              "#fb9f3a"
             ],
             [
              0.8888888888888888,
              "#fdca26"
             ],
             [
              1,
              "#f0f921"
             ]
            ],
            "type": "histogram2d"
           }
          ],
          "histogram2dcontour": [
           {
            "colorbar": {
             "outlinewidth": 0,
             "ticks": ""
            },
            "colorscale": [
             [
              0,
              "#0d0887"
             ],
             [
              0.1111111111111111,
              "#46039f"
             ],
             [
              0.2222222222222222,
              "#7201a8"
             ],
             [
              0.3333333333333333,
              "#9c179e"
             ],
             [
              0.4444444444444444,
              "#bd3786"
             ],
             [
              0.5555555555555556,
              "#d8576b"
             ],
             [
              0.6666666666666666,
              "#ed7953"
             ],
             [
              0.7777777777777778,
              "#fb9f3a"
             ],
             [
              0.8888888888888888,
              "#fdca26"
             ],
             [
              1,
              "#f0f921"
             ]
            ],
            "type": "histogram2dcontour"
           }
          ],
          "mesh3d": [
           {
            "colorbar": {
             "outlinewidth": 0,
             "ticks": ""
            },
            "type": "mesh3d"
           }
          ],
          "parcoords": [
           {
            "line": {
             "colorbar": {
              "outlinewidth": 0,
              "ticks": ""
             }
            },
            "type": "parcoords"
           }
          ],
          "pie": [
           {
            "automargin": true,
            "type": "pie"
           }
          ],
          "scatter": [
           {
            "marker": {
             "line": {
              "color": "#283442"
             }
            },
            "type": "scatter"
           }
          ],
          "scatter3d": [
           {
            "line": {
             "colorbar": {
              "outlinewidth": 0,
              "ticks": ""
             }
            },
            "marker": {
             "colorbar": {
              "outlinewidth": 0,
              "ticks": ""
             }
            },
            "type": "scatter3d"
           }
          ],
          "scattercarpet": [
           {
            "marker": {
             "colorbar": {
              "outlinewidth": 0,
              "ticks": ""
             }
            },
            "type": "scattercarpet"
           }
          ],
          "scattergeo": [
           {
            "marker": {
             "colorbar": {
              "outlinewidth": 0,
              "ticks": ""
             }
            },
            "type": "scattergeo"
           }
          ],
          "scattergl": [
           {
            "marker": {
             "line": {
              "color": "#283442"
             }
            },
            "type": "scattergl"
           }
          ],
          "scattermapbox": [
           {
            "marker": {
             "colorbar": {
              "outlinewidth": 0,
              "ticks": ""
             }
            },
            "type": "scattermapbox"
           }
          ],
          "scatterpolar": [
           {
            "marker": {
             "colorbar": {
              "outlinewidth": 0,
              "ticks": ""
             }
            },
            "type": "scatterpolar"
           }
          ],
          "scatterpolargl": [
           {
            "marker": {
             "colorbar": {
              "outlinewidth": 0,
              "ticks": ""
             }
            },
            "type": "scatterpolargl"
           }
          ],
          "scatterternary": [
           {
            "marker": {
             "colorbar": {
              "outlinewidth": 0,
              "ticks": ""
             }
            },
            "type": "scatterternary"
           }
          ],
          "surface": [
           {
            "colorbar": {
             "outlinewidth": 0,
             "ticks": ""
            },
            "colorscale": [
             [
              0,
              "#0d0887"
             ],
             [
              0.1111111111111111,
              "#46039f"
             ],
             [
              0.2222222222222222,
              "#7201a8"
             ],
             [
              0.3333333333333333,
              "#9c179e"
             ],
             [
              0.4444444444444444,
              "#bd3786"
             ],
             [
              0.5555555555555556,
              "#d8576b"
             ],
             [
              0.6666666666666666,
              "#ed7953"
             ],
             [
              0.7777777777777778,
              "#fb9f3a"
             ],
             [
              0.8888888888888888,
              "#fdca26"
             ],
             [
              1,
              "#f0f921"
             ]
            ],
            "type": "surface"
           }
          ],
          "table": [
           {
            "cells": {
             "fill": {
              "color": "#506784"
             },
             "line": {
              "color": "rgb(17,17,17)"
             }
            },
            "header": {
             "fill": {
              "color": "#2a3f5f"
             },
             "line": {
              "color": "rgb(17,17,17)"
             }
            },
            "type": "table"
           }
          ]
         },
         "layout": {
          "annotationdefaults": {
           "arrowcolor": "#f2f5fa",
           "arrowhead": 0,
           "arrowwidth": 1
          },
          "autotypenumbers": "strict",
          "coloraxis": {
           "colorbar": {
            "outlinewidth": 0,
            "ticks": ""
           }
          },
          "colorscale": {
           "diverging": [
            [
             0,
             "#8e0152"
            ],
            [
             0.1,
             "#c51b7d"
            ],
            [
             0.2,
             "#de77ae"
            ],
            [
             0.3,
             "#f1b6da"
            ],
            [
             0.4,
             "#fde0ef"
            ],
            [
             0.5,
             "#f7f7f7"
            ],
            [
             0.6,
             "#e6f5d0"
            ],
            [
             0.7,
             "#b8e186"
            ],
            [
             0.8,
             "#7fbc41"
            ],
            [
             0.9,
             "#4d9221"
            ],
            [
             1,
             "#276419"
            ]
           ],
           "sequential": [
            [
             0,
             "#0d0887"
            ],
            [
             0.1111111111111111,
             "#46039f"
            ],
            [
             0.2222222222222222,
             "#7201a8"
            ],
            [
             0.3333333333333333,
             "#9c179e"
            ],
            [
             0.4444444444444444,
             "#bd3786"
            ],
            [
             0.5555555555555556,
             "#d8576b"
            ],
            [
             0.6666666666666666,
             "#ed7953"
            ],
            [
             0.7777777777777778,
             "#fb9f3a"
            ],
            [
             0.8888888888888888,
             "#fdca26"
            ],
            [
             1,
             "#f0f921"
            ]
           ],
           "sequentialminus": [
            [
             0,
             "#0d0887"
            ],
            [
             0.1111111111111111,
             "#46039f"
            ],
            [
             0.2222222222222222,
             "#7201a8"
            ],
            [
             0.3333333333333333,
             "#9c179e"
            ],
            [
             0.4444444444444444,
             "#bd3786"
            ],
            [
             0.5555555555555556,
             "#d8576b"
            ],
            [
             0.6666666666666666,
             "#ed7953"
            ],
            [
             0.7777777777777778,
             "#fb9f3a"
            ],
            [
             0.8888888888888888,
             "#fdca26"
            ],
            [
             1,
             "#f0f921"
            ]
           ]
          },
          "colorway": [
           "#636efa",
           "#EF553B",
           "#00cc96",
           "#ab63fa",
           "#FFA15A",
           "#19d3f3",
           "#FF6692",
           "#B6E880",
           "#FF97FF",
           "#FECB52"
          ],
          "font": {
           "color": "#f2f5fa"
          },
          "geo": {
           "bgcolor": "rgb(17,17,17)",
           "lakecolor": "rgb(17,17,17)",
           "landcolor": "rgb(17,17,17)",
           "showlakes": true,
           "showland": true,
           "subunitcolor": "#506784"
          },
          "hoverlabel": {
           "align": "left"
          },
          "hovermode": "closest",
          "mapbox": {
           "style": "dark"
          },
          "paper_bgcolor": "rgb(17,17,17)",
          "plot_bgcolor": "rgb(17,17,17)",
          "polar": {
           "angularaxis": {
            "gridcolor": "#506784",
            "linecolor": "#506784",
            "ticks": ""
           },
           "bgcolor": "rgb(17,17,17)",
           "radialaxis": {
            "gridcolor": "#506784",
            "linecolor": "#506784",
            "ticks": ""
           }
          },
          "scene": {
           "xaxis": {
            "backgroundcolor": "rgb(17,17,17)",
            "gridcolor": "#506784",
            "gridwidth": 2,
            "linecolor": "#506784",
            "showbackground": true,
            "ticks": "",
            "zerolinecolor": "#C8D4E3"
           },
           "yaxis": {
            "backgroundcolor": "rgb(17,17,17)",
            "gridcolor": "#506784",
            "gridwidth": 2,
            "linecolor": "#506784",
            "showbackground": true,
            "ticks": "",
            "zerolinecolor": "#C8D4E3"
           },
           "zaxis": {
            "backgroundcolor": "rgb(17,17,17)",
            "gridcolor": "#506784",
            "gridwidth": 2,
            "linecolor": "#506784",
            "showbackground": true,
            "ticks": "",
            "zerolinecolor": "#C8D4E3"
           }
          },
          "shapedefaults": {
           "line": {
            "color": "#f2f5fa"
           }
          },
          "sliderdefaults": {
           "bgcolor": "#C8D4E3",
           "bordercolor": "rgb(17,17,17)",
           "borderwidth": 1,
           "tickwidth": 0
          },
          "ternary": {
           "aaxis": {
            "gridcolor": "#506784",
            "linecolor": "#506784",
            "ticks": ""
           },
           "baxis": {
            "gridcolor": "#506784",
            "linecolor": "#506784",
            "ticks": ""
           },
           "bgcolor": "rgb(17,17,17)",
           "caxis": {
            "gridcolor": "#506784",
            "linecolor": "#506784",
            "ticks": ""
           }
          },
          "title": {
           "x": 0.05
          },
          "updatemenudefaults": {
           "bgcolor": "#506784",
           "borderwidth": 0
          },
          "xaxis": {
           "automargin": true,
           "gridcolor": "#283442",
           "linecolor": "#506784",
           "ticks": "",
           "title": {
            "standoff": 15
           },
           "zerolinecolor": "#283442",
           "zerolinewidth": 2
          },
          "yaxis": {
           "automargin": true,
           "gridcolor": "#283442",
           "linecolor": "#506784",
           "ticks": "",
           "title": {
            "standoff": 15
           },
           "zerolinecolor": "#283442",
           "zerolinewidth": 2
          }
         }
        },
        "width": 900,
        "xaxis": {
         "anchor": "y",
         "domain": [
          0,
          1
         ],
         "title": {
          "text": "Year"
         }
        },
        "yaxis": {
         "anchor": "x",
         "domain": [
          0,
          1
         ],
         "title": {
          "text": "Values"
         }
        }
       }
      }
     },
     "metadata": {},
     "output_type": "display_data"
    }
   ],
   "source": [
    "chart_type_choice = 1 # 0 for bar, 1 & 2 for line chart\n",
    "#data_fields_user_choice = (['NY.GDP.MKTP.CD', 'NY.GDP.PCAP.CD', 'SL.UEM.TOTL.ZS'],['gdp', 'gdp per cap', 'unemp'])\n",
    "data_fields_user_choice = (['NY.GDP.MKTP.CD'],['GDP'])\n",
    "geo_user_choice = [2,['EUU']]\n",
    "#geo_user_choice = [1,['AZE','GBR','WLD']]\n",
    "year_user_choice = (1980, 2020)\n",
    "ranked_or_unranked_user_choice = 1\n",
    "\n",
    "def change_sign_func(df): # changes sign of values in column names specified by user within 'df' DataFrame. It's used for ranking data fields where higher value is bad. It's because by default, the higher the rank value, the better. \n",
    "    x = 0\n",
    "    ranked_msg = 'Enter description for the data field where higher value is bad (e.g. Inflation, consumer prices (annual %)). Press \"q\" to finish.'\n",
    "    change_sign_field_list = []\n",
    "    while x == 0:\n",
    "        change_sign_field = input(ranked_msg)\n",
    "        if change_sign_field == 'q':\n",
    "            x = x + 1\n",
    "        else:\n",
    "            change_sign_field_list.append(change_sign_field)\n",
    "    df[change_sign_field_list] = -df[change_sign_field_list]\n",
    "    return df\n",
    "\n",
    "def benchmark_df(df): # adds 'Benchmark' to list of countries to show their mean value.\n",
    "    bench_df = pd.DataFrame(df.mean()).T # creates new 'bench_df' DataFrame to with a row to show mean values of columns in 'df' DataFrame\n",
    "    bench_df[df.index.name] = 'Benchmark' # adds a column name 'Country' from 'df' DataFrame to 'bench_df' DataFrame and populates it with 'Benchmark' string as value\n",
    "    bench_df.set_index(df.index.name, inplace=True) # sets 'Country' column as index for 'bench_df' DataFrame\n",
    "    df = df.append(bench_df) # merges 'df' and 'bench_df' DataFrame into a new 'df' DataFrame\n",
    "    return df\n",
    "\n",
    "def df_func(chart_type_choice, data_fields_user_choice, geo_user_choice, year_user_choice, ranked_or_unranked_user_choice):\n",
    "    data_fields_dict = {data_fields_user_choice[0][i]: data_fields_user_choice[1][i] for i in range(len(data_fields_user_choice[0]))} # converts list of lists 'data_fields_user_choice' into a dictionary 'data_fields_dict' containing data fields (i.e. indicator codes) and their descriptions\n",
    "    data_fields_dict = dict(sorted(data_fields_dict.items())) # sorts keys of the dictionary alphabetically. Without this, there will be a bug in 'df = wb.data.DataFrame(list(data_fields_dict.keys())...' line because column names in 'df' DataFrame would be assigned in alphabetical order instead of the order that they were entered in\n",
    "    if chart_type_choice == 0:\n",
    "        if geo_user_choice[0] == 1: # downloads data for countries\n",
    "            df = wb.data.DataFrame(list(data_fields_dict.keys()), geo_user_choice[1], time=year_user_choice, labels=True) # I removed '.dropna()' from the end of the code\n",
    "        elif geo_user_choice[0] == 2: # downloads data for regions\n",
    "            # BUG if user entered more than one region in 'geo_user_choice' variable, this code will only will generate an error.\n",
    "            for region in geo_user_choice[1]: # loops through regions previously inputted by user in 'geo_user_choice' variable\n",
    "                df = wb.data.DataFrame(list(data_fields_dict.keys()), wb.region.members(region), time=year_user_choice, labels=True) # I removed '.dropna()' from the end of the code\n",
    "        df.columns = ['Country'] +  list(data_fields_dict.values()) # change columns names from using indicator codes to indicator names\n",
    "        df.set_index(['Country'], inplace=True) # replaces index that has country codes with index using values from 'Country' column\n",
    "        if ranked_or_unranked_user_choice == 2: # checks if user selected to rank countries (option 2) and if so, then transfrorms the 'df' DataFrame to show ranked data, where the higher the rank values, the better.\n",
    "            df = change_sign_func(df) # runs a function to change sign of values in column names specified by user within 'df' DataFrame. It's used for ranking data fields where higher value is bad. It's because by default, the higher the rank value, the better. \n",
    "            df = benchmark_df(df)            \n",
    "            df = df.rank(method='first') # creates a new 'df' DataFrame to rank the countries for each dataf field. The higher the rank value the better.\n",
    "        elif ranked_or_unranked_user_choice == 1: # checks if user selected not to rank countries (option 1) and if so, then adds 'Benchmark' to list of countries in 'df' DataFrame that represents their median value.\n",
    "            df = benchmark_df(df)\n",
    "        df.sort_values(by=list(data_fields_dict.values())[0], ascending=False, inplace=True) # sorts values in the first column of 'df' DataFrame so that the countries look in ascending order when we chart this 'df' later.\n",
    "    elif chart_type_choice == 1 or chart_type_choice == 2: # will download the data wether for line chart. Since only 1 data type is selected for this, the function to change sign ('change_sign_func') has not been used here. If the user previously selected cumulative percentage change using 'chart_type_choice' variable (option 2), then this function performs additional calculations and formatting. This function returns 'df' DataFrame with the data.\n",
    "        if geo_user_choice[0] == 1: # downloads data for countries\n",
    "            df = wb.data.DataFrame(list(data_fields_dict.keys()), geo_user_choice[1], time=range(year_user_choice[0], year_user_choice[1]), numericTimeKeys=True, labels=True).dropna()\n",
    "        elif geo_user_choice[0] == 2: # downloads data for regions\n",
    "            # BUG if user entered more than one region in 'geo_user_choice' variable, this code will only will generate an error.\n",
    "            for region in geo_user_choice[1]: # loops through regions previously inputted by user in 'geo_user_choice' variable\n",
    "                df = wb.data.DataFrame(list(data_fields_dict.keys()), wb.region.members(region), time=range(year_user_choice[0], year_user_choice[1]), numericTimeKeys=True, labels=True).dropna()\n",
    "        df.set_index(['Country'], inplace=True) # replaces index that has country codes with index using values from 'Country' column\n",
    "        if ranked_or_unranked_user_choice == 2: # checks if user selected to rank countries (option 2) and if so, then transfrorms the 'df' DataFrame to show ranked data, where the higher the rank values, the better.\n",
    "            #df = change_sign_func(df) # runs a function to change sign of values in column names specified by user within 'df' DataFrame. It's used for ranking data fields where higher value is bad. It's because by default, the higher the rank value, the better. \n",
    "            df = benchmark_df(df)          \n",
    "            df = df.rank(method='first') # creates a new 'df' DataFrame to rank the countries for each dataf field. The higher the rank value the better.\n",
    "        elif ranked_or_unranked_user_choice == 1: # checks if user selected not to rank countries (option 1) and if so, then adds 'Benchmark' to list of countries in 'df' DataFrame that represents their median value.\n",
    "            df = benchmark_df(df)\n",
    "        if chart_type_choice == 2: # calculates cumulative percent change time series data\n",
    "            df = df.T.pct_change() # transposes 'df' DataFrame (i.e. swaps columns with rows) and then computes daily returns for each security\n",
    "            df = df[1:] # deletes first row with NaN values\n",
    "            df = (1 + df).cumprod() - 1 # calculates cumulative daily returns\n",
    "            df = df.T # transposes 'df' DataFrame (i.e. swaps columns with rows) back into it's previous state as it was before calculating cumulative returns\n",
    "        df = df.reset_index() # move 'Country' column from index to a separate column\n",
    "        df = df.melt(id_vars=['Country'], value_vars=list(df.columns)[1:], var_name='Year', value_name='Values') # move year column names into rows under 'Year' column and move their values under 'Values' column \n",
    "    return df\n",
    "\n",
    "# chart the data\n",
    "def chart_func(df, chart_type_choice):\n",
    "    if chart_type_choice == 0: # creates a bar chart (ranked/unranked and grouped). The chart will show either ranked or unranked data, depending on whether the user previously selected ranked 'df' or unranked 'df'\n",
    "        fig = px.bar(df, \n",
    "            x=df.index, \n",
    "            y=df.columns, \n",
    "            barmode = 'group'\n",
    "            )  # you can change the look of this chart by removing 'barmode = 'group' from this line code. If you do that, the chart will shows stacked bar chart if user selected ranked 'df' or shows single (instead of grouped) bar chart if user selected unranked 'df'.\n",
    "        fig.add_vline(df.index.tolist().index('Benchmark'),\n",
    "            line_width = 3,\n",
    "            line_dash = 'dash'\n",
    "            ) # OPTIONAL: adds a vertical dash line for the 'Benchmark' value\n",
    "        # fig.update_layout(plot_bgcolor = 'white') # OPTIONAL: you can change the chart background colour to white\n",
    "        fig.show()\n",
    "    elif chart_type_choice == 1 or chart_type_choice == 2: # creates a line chart (ranked/unranked). The chart will be the same no matter whether user previously picked cumulative or non-cumulative data using 'chart_type_choice' variable\n",
    "        fig = px.line(df, \n",
    "            x=df['Year'],\n",
    "            y=df['Values'],\n",
    "            color=df['Country'],\n",
    "            height=500, \n",
    "            width=900,\n",
    "            template='plotly_dark'\n",
    "            )  # charts the data\n",
    "        fig.show()\n",
    "\n",
    "\n",
    "df = df_func(chart_type_choice, data_fields_user_choice, geo_user_choice, year_user_choice, ranked_or_unranked_user_choice) # runs a function to download required data based on earlier user choices and country/region inputs and selected data fields. This function formats the data (and ranks it if needed) and outputs data as 'df' DataFrame.\n",
    "chart = chart_func(df, chart_type_choice) # runs a function to create a chart of 'df' DataFrame depending on the type of data (Snapshot or Timeseries) \n"
   ]
  },
  {
   "cell_type": "code",
   "execution_count": 323,
   "metadata": {},
   "outputs": [
    {
     "data": {
      "application/vnd.plotly.v1+json": {
       "config": {
        "plotlyServerURL": "https://plot.ly"
       },
       "data": [
        {
         "alignmentgroup": "True",
         "hovertemplate": "data_field=GDP (current US$)<br>Country=%{x}<br>value=%{y}<extra></extra>",
         "legendgroup": "GDP (current US$)",
         "marker": {
          "color": "#636efa",
          "pattern": {
           "shape": ""
          }
         },
         "name": "GDP (current US$)",
         "offsetgroup": "GDP (current US$)",
         "orientation": "v",
         "showlegend": true,
         "textposition": "auto",
         "type": "bar",
         "x": [
          "Germany",
          "France",
          "Italy",
          "Spain",
          "Netherlands",
          "Poland",
          "Benchmark",
          "Sweden",
          "Belgium",
          "Austria",
          "Ireland",
          "Denmark",
          "Finland",
          "Romania",
          "Czechia",
          "Portugal",
          "Greece",
          "Hungary",
          "Slovak Republic",
          "Luxembourg",
          "Bulgaria",
          "Croatia",
          "Lithuania",
          "Slovenia",
          "Latvia",
          "Estonia",
          "Cyprus",
          "Malta"
         ],
         "xaxis": "x",
         "y": [
          28,
          27,
          26,
          25,
          24,
          23,
          22,
          21,
          20,
          19,
          18,
          17,
          16,
          15,
          14,
          13,
          12,
          11,
          10,
          9,
          8,
          7,
          6,
          5,
          4,
          3,
          2,
          1
         ],
         "yaxis": "y"
        },
        {
         "alignmentgroup": "True",
         "hovertemplate": "data_field=GDP per capita (current US$)<br>Country=%{x}<br>value=%{y}<extra></extra>",
         "legendgroup": "GDP per capita (current US$)",
         "marker": {
          "color": "#EF553B",
          "pattern": {
           "shape": ""
          }
         },
         "name": "GDP per capita (current US$)",
         "offsetgroup": "GDP per capita (current US$)",
         "orientation": "v",
         "showlegend": true,
         "textposition": "auto",
         "type": "bar",
         "x": [
          "Germany",
          "France",
          "Italy",
          "Spain",
          "Netherlands",
          "Poland",
          "Benchmark",
          "Sweden",
          "Belgium",
          "Austria",
          "Ireland",
          "Denmark",
          "Finland",
          "Romania",
          "Czechia",
          "Portugal",
          "Greece",
          "Hungary",
          "Slovak Republic",
          "Luxembourg",
          "Bulgaria",
          "Croatia",
          "Lithuania",
          "Slovenia",
          "Latvia",
          "Estonia",
          "Cyprus",
          "Malta"
         ],
         "xaxis": "x",
         "y": [
          21,
          19,
          17,
          14,
          25,
          4,
          18,
          24,
          20,
          22,
          27,
          26,
          23,
          2,
          11,
          10,
          6,
          5,
          8,
          28,
          1,
          3,
          9,
          13,
          7,
          12,
          15,
          16
         ],
         "yaxis": "y"
        },
        {
         "alignmentgroup": "True",
         "hovertemplate": "data_field=Unemployment, total (% of total labor force)<br>Country=%{x}<br>value=%{y}<extra></extra>",
         "legendgroup": "Unemployment, total (% of total labor force)",
         "marker": {
          "color": "#00cc96",
          "pattern": {
           "shape": ""
          }
         },
         "name": "Unemployment, total (% of total labor force)",
         "offsetgroup": "Unemployment, total (% of total labor force)",
         "orientation": "v",
         "showlegend": true,
         "textposition": "auto",
         "type": "bar",
         "x": [
          "Germany",
          "France",
          "Italy",
          "Spain",
          "Netherlands",
          "Poland",
          "Benchmark",
          "Sweden",
          "Belgium",
          "Austria",
          "Ireland",
          "Denmark",
          "Finland",
          "Romania",
          "Czechia",
          "Portugal",
          "Greece",
          "Hungary",
          "Slovak Republic",
          "Luxembourg",
          "Bulgaria",
          "Croatia",
          "Lithuania",
          "Slovenia",
          "Latvia",
          "Estonia",
          "Cyprus",
          "Malta"
         ],
         "xaxis": "x",
         "y": [
          26,
          7,
          3,
          2,
          25,
          27,
          13,
          5,
          18,
          19,
          17,
          16,
          8,
          21,
          28,
          12,
          1,
          24,
          15,
          14,
          20,
          10,
          4,
          22,
          6,
          11,
          9,
          23
         ],
         "yaxis": "y"
        }
       ],
       "layout": {
        "barmode": "group",
        "legend": {
         "title": {
          "text": "data_field"
         },
         "tracegroupgap": 0
        },
        "margin": {
         "t": 60
        },
        "template": {
         "data": {
          "bar": [
           {
            "error_x": {
             "color": "#2a3f5f"
            },
            "error_y": {
             "color": "#2a3f5f"
            },
            "marker": {
             "line": {
              "color": "#E5ECF6",
              "width": 0.5
             },
             "pattern": {
              "fillmode": "overlay",
              "size": 10,
              "solidity": 0.2
             }
            },
            "type": "bar"
           }
          ],
          "barpolar": [
           {
            "marker": {
             "line": {
              "color": "#E5ECF6",
              "width": 0.5
             },
             "pattern": {
              "fillmode": "overlay",
              "size": 10,
              "solidity": 0.2
             }
            },
            "type": "barpolar"
           }
          ],
          "carpet": [
           {
            "aaxis": {
             "endlinecolor": "#2a3f5f",
             "gridcolor": "white",
             "linecolor": "white",
             "minorgridcolor": "white",
             "startlinecolor": "#2a3f5f"
            },
            "baxis": {
             "endlinecolor": "#2a3f5f",
             "gridcolor": "white",
             "linecolor": "white",
             "minorgridcolor": "white",
             "startlinecolor": "#2a3f5f"
            },
            "type": "carpet"
           }
          ],
          "choropleth": [
           {
            "colorbar": {
             "outlinewidth": 0,
             "ticks": ""
            },
            "type": "choropleth"
           }
          ],
          "contour": [
           {
            "colorbar": {
             "outlinewidth": 0,
             "ticks": ""
            },
            "colorscale": [
             [
              0,
              "#0d0887"
             ],
             [
              0.1111111111111111,
              "#46039f"
             ],
             [
              0.2222222222222222,
              "#7201a8"
             ],
             [
              0.3333333333333333,
              "#9c179e"
             ],
             [
              0.4444444444444444,
              "#bd3786"
             ],
             [
              0.5555555555555556,
              "#d8576b"
             ],
             [
              0.6666666666666666,
              "#ed7953"
             ],
             [
              0.7777777777777778,
              "#fb9f3a"
             ],
             [
              0.8888888888888888,
              "#fdca26"
             ],
             [
              1,
              "#f0f921"
             ]
            ],
            "type": "contour"
           }
          ],
          "contourcarpet": [
           {
            "colorbar": {
             "outlinewidth": 0,
             "ticks": ""
            },
            "type": "contourcarpet"
           }
          ],
          "heatmap": [
           {
            "colorbar": {
             "outlinewidth": 0,
             "ticks": ""
            },
            "colorscale": [
             [
              0,
              "#0d0887"
             ],
             [
              0.1111111111111111,
              "#46039f"
             ],
             [
              0.2222222222222222,
              "#7201a8"
             ],
             [
              0.3333333333333333,
              "#9c179e"
             ],
             [
              0.4444444444444444,
              "#bd3786"
             ],
             [
              0.5555555555555556,
              "#d8576b"
             ],
             [
              0.6666666666666666,
              "#ed7953"
             ],
             [
              0.7777777777777778,
              "#fb9f3a"
             ],
             [
              0.8888888888888888,
              "#fdca26"
             ],
             [
              1,
              "#f0f921"
             ]
            ],
            "type": "heatmap"
           }
          ],
          "heatmapgl": [
           {
            "colorbar": {
             "outlinewidth": 0,
             "ticks": ""
            },
            "colorscale": [
             [
              0,
              "#0d0887"
             ],
             [
              0.1111111111111111,
              "#46039f"
             ],
             [
              0.2222222222222222,
              "#7201a8"
             ],
             [
              0.3333333333333333,
              "#9c179e"
             ],
             [
              0.4444444444444444,
              "#bd3786"
             ],
             [
              0.5555555555555556,
              "#d8576b"
             ],
             [
              0.6666666666666666,
              "#ed7953"
             ],
             [
              0.7777777777777778,
              "#fb9f3a"
             ],
             [
              0.8888888888888888,
              "#fdca26"
             ],
             [
              1,
              "#f0f921"
             ]
            ],
            "type": "heatmapgl"
           }
          ],
          "histogram": [
           {
            "marker": {
             "pattern": {
              "fillmode": "overlay",
              "size": 10,
              "solidity": 0.2
             }
            },
            "type": "histogram"
           }
          ],
          "histogram2d": [
           {
            "colorbar": {
             "outlinewidth": 0,
             "ticks": ""
            },
            "colorscale": [
             [
              0,
              "#0d0887"
             ],
             [
              0.1111111111111111,
              "#46039f"
             ],
             [
              0.2222222222222222,
              "#7201a8"
             ],
             [
              0.3333333333333333,
              "#9c179e"
             ],
             [
              0.4444444444444444,
              "#bd3786"
             ],
             [
              0.5555555555555556,
              "#d8576b"
             ],
             [
              0.6666666666666666,
              "#ed7953"
             ],
             [
              0.7777777777777778,
              "#fb9f3a"
             ],
             [
              0.8888888888888888,
              "#fdca26"
             ],
             [
              1,
              "#f0f921"
             ]
            ],
            "type": "histogram2d"
           }
          ],
          "histogram2dcontour": [
           {
            "colorbar": {
             "outlinewidth": 0,
             "ticks": ""
            },
            "colorscale": [
             [
              0,
              "#0d0887"
             ],
             [
              0.1111111111111111,
              "#46039f"
             ],
             [
              0.2222222222222222,
              "#7201a8"
             ],
             [
              0.3333333333333333,
              "#9c179e"
             ],
             [
              0.4444444444444444,
              "#bd3786"
             ],
             [
              0.5555555555555556,
              "#d8576b"
             ],
             [
              0.6666666666666666,
              "#ed7953"
             ],
             [
              0.7777777777777778,
              "#fb9f3a"
             ],
             [
              0.8888888888888888,
              "#fdca26"
             ],
             [
              1,
              "#f0f921"
             ]
            ],
            "type": "histogram2dcontour"
           }
          ],
          "mesh3d": [
           {
            "colorbar": {
             "outlinewidth": 0,
             "ticks": ""
            },
            "type": "mesh3d"
           }
          ],
          "parcoords": [
           {
            "line": {
             "colorbar": {
              "outlinewidth": 0,
              "ticks": ""
             }
            },
            "type": "parcoords"
           }
          ],
          "pie": [
           {
            "automargin": true,
            "type": "pie"
           }
          ],
          "scatter": [
           {
            "fillpattern": {
             "fillmode": "overlay",
             "size": 10,
             "solidity": 0.2
            },
            "type": "scatter"
           }
          ],
          "scatter3d": [
           {
            "line": {
             "colorbar": {
              "outlinewidth": 0,
              "ticks": ""
             }
            },
            "marker": {
             "colorbar": {
              "outlinewidth": 0,
              "ticks": ""
             }
            },
            "type": "scatter3d"
           }
          ],
          "scattercarpet": [
           {
            "marker": {
             "colorbar": {
              "outlinewidth": 0,
              "ticks": ""
             }
            },
            "type": "scattercarpet"
           }
          ],
          "scattergeo": [
           {
            "marker": {
             "colorbar": {
              "outlinewidth": 0,
              "ticks": ""
             }
            },
            "type": "scattergeo"
           }
          ],
          "scattergl": [
           {
            "marker": {
             "colorbar": {
              "outlinewidth": 0,
              "ticks": ""
             }
            },
            "type": "scattergl"
           }
          ],
          "scattermapbox": [
           {
            "marker": {
             "colorbar": {
              "outlinewidth": 0,
              "ticks": ""
             }
            },
            "type": "scattermapbox"
           }
          ],
          "scatterpolar": [
           {
            "marker": {
             "colorbar": {
              "outlinewidth": 0,
              "ticks": ""
             }
            },
            "type": "scatterpolar"
           }
          ],
          "scatterpolargl": [
           {
            "marker": {
             "colorbar": {
              "outlinewidth": 0,
              "ticks": ""
             }
            },
            "type": "scatterpolargl"
           }
          ],
          "scatterternary": [
           {
            "marker": {
             "colorbar": {
              "outlinewidth": 0,
              "ticks": ""
             }
            },
            "type": "scatterternary"
           }
          ],
          "surface": [
           {
            "colorbar": {
             "outlinewidth": 0,
             "ticks": ""
            },
            "colorscale": [
             [
              0,
              "#0d0887"
             ],
             [
              0.1111111111111111,
              "#46039f"
             ],
             [
              0.2222222222222222,
              "#7201a8"
             ],
             [
              0.3333333333333333,
              "#9c179e"
             ],
             [
              0.4444444444444444,
              "#bd3786"
             ],
             [
              0.5555555555555556,
              "#d8576b"
             ],
             [
              0.6666666666666666,
              "#ed7953"
             ],
             [
              0.7777777777777778,
              "#fb9f3a"
             ],
             [
              0.8888888888888888,
              "#fdca26"
             ],
             [
              1,
              "#f0f921"
             ]
            ],
            "type": "surface"
           }
          ],
          "table": [
           {
            "cells": {
             "fill": {
              "color": "#EBF0F8"
             },
             "line": {
              "color": "white"
             }
            },
            "header": {
             "fill": {
              "color": "#C8D4E3"
             },
             "line": {
              "color": "white"
             }
            },
            "type": "table"
           }
          ]
         },
         "layout": {
          "annotationdefaults": {
           "arrowcolor": "#2a3f5f",
           "arrowhead": 0,
           "arrowwidth": 1
          },
          "autotypenumbers": "strict",
          "coloraxis": {
           "colorbar": {
            "outlinewidth": 0,
            "ticks": ""
           }
          },
          "colorscale": {
           "diverging": [
            [
             0,
             "#8e0152"
            ],
            [
             0.1,
             "#c51b7d"
            ],
            [
             0.2,
             "#de77ae"
            ],
            [
             0.3,
             "#f1b6da"
            ],
            [
             0.4,
             "#fde0ef"
            ],
            [
             0.5,
             "#f7f7f7"
            ],
            [
             0.6,
             "#e6f5d0"
            ],
            [
             0.7,
             "#b8e186"
            ],
            [
             0.8,
             "#7fbc41"
            ],
            [
             0.9,
             "#4d9221"
            ],
            [
             1,
             "#276419"
            ]
           ],
           "sequential": [
            [
             0,
             "#0d0887"
            ],
            [
             0.1111111111111111,
             "#46039f"
            ],
            [
             0.2222222222222222,
             "#7201a8"
            ],
            [
             0.3333333333333333,
             "#9c179e"
            ],
            [
             0.4444444444444444,
             "#bd3786"
            ],
            [
             0.5555555555555556,
             "#d8576b"
            ],
            [
             0.6666666666666666,
             "#ed7953"
            ],
            [
             0.7777777777777778,
             "#fb9f3a"
            ],
            [
             0.8888888888888888,
             "#fdca26"
            ],
            [
             1,
             "#f0f921"
            ]
           ],
           "sequentialminus": [
            [
             0,
             "#0d0887"
            ],
            [
             0.1111111111111111,
             "#46039f"
            ],
            [
             0.2222222222222222,
             "#7201a8"
            ],
            [
             0.3333333333333333,
             "#9c179e"
            ],
            [
             0.4444444444444444,
             "#bd3786"
            ],
            [
             0.5555555555555556,
             "#d8576b"
            ],
            [
             0.6666666666666666,
             "#ed7953"
            ],
            [
             0.7777777777777778,
             "#fb9f3a"
            ],
            [
             0.8888888888888888,
             "#fdca26"
            ],
            [
             1,
             "#f0f921"
            ]
           ]
          },
          "colorway": [
           "#636efa",
           "#EF553B",
           "#00cc96",
           "#ab63fa",
           "#FFA15A",
           "#19d3f3",
           "#FF6692",
           "#B6E880",
           "#FF97FF",
           "#FECB52"
          ],
          "font": {
           "color": "#2a3f5f"
          },
          "geo": {
           "bgcolor": "white",
           "lakecolor": "white",
           "landcolor": "#E5ECF6",
           "showlakes": true,
           "showland": true,
           "subunitcolor": "white"
          },
          "hoverlabel": {
           "align": "left"
          },
          "hovermode": "closest",
          "mapbox": {
           "style": "light"
          },
          "paper_bgcolor": "white",
          "plot_bgcolor": "#E5ECF6",
          "polar": {
           "angularaxis": {
            "gridcolor": "white",
            "linecolor": "white",
            "ticks": ""
           },
           "bgcolor": "#E5ECF6",
           "radialaxis": {
            "gridcolor": "white",
            "linecolor": "white",
            "ticks": ""
           }
          },
          "scene": {
           "xaxis": {
            "backgroundcolor": "#E5ECF6",
            "gridcolor": "white",
            "gridwidth": 2,
            "linecolor": "white",
            "showbackground": true,
            "ticks": "",
            "zerolinecolor": "white"
           },
           "yaxis": {
            "backgroundcolor": "#E5ECF6",
            "gridcolor": "white",
            "gridwidth": 2,
            "linecolor": "white",
            "showbackground": true,
            "ticks": "",
            "zerolinecolor": "white"
           },
           "zaxis": {
            "backgroundcolor": "#E5ECF6",
            "gridcolor": "white",
            "gridwidth": 2,
            "linecolor": "white",
            "showbackground": true,
            "ticks": "",
            "zerolinecolor": "white"
           }
          },
          "shapedefaults": {
           "line": {
            "color": "#2a3f5f"
           }
          },
          "ternary": {
           "aaxis": {
            "gridcolor": "white",
            "linecolor": "white",
            "ticks": ""
           },
           "baxis": {
            "gridcolor": "white",
            "linecolor": "white",
            "ticks": ""
           },
           "bgcolor": "#E5ECF6",
           "caxis": {
            "gridcolor": "white",
            "linecolor": "white",
            "ticks": ""
           }
          },
          "title": {
           "x": 0.05
          },
          "xaxis": {
           "automargin": true,
           "gridcolor": "white",
           "linecolor": "white",
           "ticks": "",
           "title": {
            "standoff": 15
           },
           "zerolinecolor": "white",
           "zerolinewidth": 2
          },
          "yaxis": {
           "automargin": true,
           "gridcolor": "white",
           "linecolor": "white",
           "ticks": "",
           "title": {
            "standoff": 15
           },
           "zerolinecolor": "white",
           "zerolinewidth": 2
          }
         }
        },
        "xaxis": {
         "anchor": "y",
         "domain": [
          0,
          1
         ],
         "title": {
          "text": "Country"
         }
        },
        "yaxis": {
         "anchor": "x",
         "domain": [
          0,
          1
         ],
         "title": {
          "text": "value"
         }
        }
       }
      }
     },
     "metadata": {},
     "output_type": "display_data"
    }
   ],
   "source": [
    "# chart data as grouped bars\n",
    "\n",
    "# to have Country as row and all column names under a new 'data_field' column and their values under 'value' column\n",
    "df_new = df.reset_index() # move 'Country' column from index to a separate column\n",
    "df_new = df_new.melt(id_vars=['Country'], value_vars=list(df.columns)[0:], var_name='data_field', value_name='value')\n",
    "\n",
    "# chart shows data as grouped bars\n",
    "fig = px.bar(df_new, x='Country', y='value', color='data_field', barmode = 'group')\n",
    "fig.show()"
   ]
  },
  {
   "cell_type": "code",
   "execution_count": 228,
   "metadata": {},
   "outputs": [],
   "source": [
    "data_fields_dict = {'NY.GDP.MKTP.CD' : 'GDP (current US$)',\n",
    "                    'NY.GDP.PCAP.CD' : 'GDP per capita (current US$)',\n",
    "                    'SL.UEM.TOTL.ZS' : 'Unemployment, total (% of total labor force)',\n",
    "                    'FP.CPI.TOTL.ZG' : 'Inflation, consumer prices (annual %)'\n",
    "                    }\n",
    "data_fields_dict = dict(sorted(data_fields_dict.items())) # to sort keys in the dictionary alphabetically. Otherwise, API download wouldn't work properly\n",
    "\n",
    "#download the data\n",
    "df = wb.data.DataFrame(list(data_fields_dict.keys()), wb.region.members('EUU'), time=2020, labels=True).dropna()\n",
    "df.columns = ['Country'] + list(data_fields_dict.values()) # change columns names from using indicator codes to indicator names\n",
    "df.set_index(['Country'], inplace=True) # replace index that has country codes with index using values from 'Country' column\n",
    "\n",
    "# reformat the data to rank it (the higher the rank number the better)\n",
    "df['Inflation, consumer prices (annual %)'] = -df['Inflation, consumer prices (annual %)'] # since higher inflation rate is bad, we need to flip the sign for data under the inflation column. We'll need to use it in benchmarking rankings.\n",
    "df['Unemployment, total (% of total labor force)'] = -df['Unemployment, total (% of total labor force)'] # since higher unemployment rate is bad, we need to flip the sign for data under the unemployment column. We'll need to use it in benchmarking rankings.\n",
    "median_df = pd.DataFrame(df.median()).T # create new 'median_df' DataFrame to with a row to show median values of columns in 'df' DataFrame\n",
    "median_df[df.index.name] = 'Benchmark' # adds a column name 'Country' from 'df' DataFrame to 'median_df' DataFrame and populates it with 'Benchmark' string as value\n",
    "median_df.set_index(df.index.name, inplace=True) # sets 'Country' column as index for 'median_df' DataFrame\n",
    "# median_df\n",
    "# df\n",
    "benchmark_df = df.append(median_df) # mergers 'df' and 'median_df' DataFrame into a new 'benchmark_df' DataFrame\n",
    "ranked_df = benchmark_df.rank(method='first') # creates a new 'ranked_df' DataFrame to rank the countries for each dataf field. The higher the rank value the better.\n",
    "# ranked_df\n",
    "# comparison_df = pd.concat([ranked_df[ranked_df.index == 'France'], ranked_df[ranked_df.index == 'Benchmark']]) # to compare a country (in this case 'France') with a Benchmark and see them side-by-side\n",
    "# comparison_df"
   ]
  },
  {
   "cell_type": "code",
   "execution_count": 277,
   "metadata": {},
   "outputs": [
    {
     "data": {
      "text/html": [
       "<div>\n",
       "<style scoped>\n",
       "    .dataframe tbody tr th:only-of-type {\n",
       "        vertical-align: middle;\n",
       "    }\n",
       "\n",
       "    .dataframe tbody tr th {\n",
       "        vertical-align: top;\n",
       "    }\n",
       "\n",
       "    .dataframe thead th {\n",
       "        text-align: right;\n",
       "    }\n",
       "</style>\n",
       "<table border=\"1\" class=\"dataframe\">\n",
       "  <thead>\n",
       "    <tr style=\"text-align: right;\">\n",
       "      <th></th>\n",
       "      <th>Access to electricity (% of population)</th>\n",
       "      <th>Inflation, consumer prices (annual %)</th>\n",
       "      <th>GDP (current US$)</th>\n",
       "      <th>GDP per capita (current US$)</th>\n",
       "      <th>Population, female (% of total population)</th>\n",
       "    </tr>\n",
       "    <tr>\n",
       "      <th>Country</th>\n",
       "      <th></th>\n",
       "      <th></th>\n",
       "      <th></th>\n",
       "      <th></th>\n",
       "      <th></th>\n",
       "    </tr>\n",
       "  </thead>\n",
       "  <tbody>\n",
       "    <tr>\n",
       "      <th>Italy</th>\n",
       "      <td>100.000000</td>\n",
       "      <td>-0.137708</td>\n",
       "      <td>1.892574e+12</td>\n",
       "      <td>31834.972618</td>\n",
       "      <td>51.311884</td>\n",
       "    </tr>\n",
       "    <tr>\n",
       "      <th>Slovak Republic</th>\n",
       "      <td>100.000000</td>\n",
       "      <td>1.936941</td>\n",
       "      <td>1.051726e+11</td>\n",
       "      <td>19266.513574</td>\n",
       "      <td>51.306725</td>\n",
       "    </tr>\n",
       "    <tr>\n",
       "      <th>Portugal</th>\n",
       "      <td>100.000000</td>\n",
       "      <td>-0.012438</td>\n",
       "      <td>2.285392e+11</td>\n",
       "      <td>22194.566115</td>\n",
       "      <td>52.690275</td>\n",
       "    </tr>\n",
       "    <tr>\n",
       "      <th>Denmark</th>\n",
       "      <td>100.000000</td>\n",
       "      <td>0.420712</td>\n",
       "      <td>3.560849e+11</td>\n",
       "      <td>61063.316430</td>\n",
       "      <td>50.289018</td>\n",
       "    </tr>\n",
       "    <tr>\n",
       "      <th>Hungary</th>\n",
       "      <td>100.000000</td>\n",
       "      <td>3.326744</td>\n",
       "      <td>1.567431e+11</td>\n",
       "      <td>16075.973266</td>\n",
       "      <td>52.400400</td>\n",
       "    </tr>\n",
       "    <tr>\n",
       "      <th>Belgium</th>\n",
       "      <td>100.000000</td>\n",
       "      <td>0.740792</td>\n",
       "      <td>5.216769e+11</td>\n",
       "      <td>45189.366900</td>\n",
       "      <td>50.435502</td>\n",
       "    </tr>\n",
       "    <tr>\n",
       "      <th>Austria</th>\n",
       "      <td>100.000000</td>\n",
       "      <td>1.381911</td>\n",
       "      <td>4.332585e+11</td>\n",
       "      <td>48588.659385</td>\n",
       "      <td>50.705154</td>\n",
       "    </tr>\n",
       "    <tr>\n",
       "      <th>Croatia</th>\n",
       "      <td>100.000000</td>\n",
       "      <td>0.154811</td>\n",
       "      <td>5.720378e+10</td>\n",
       "      <td>14132.486561</td>\n",
       "      <td>51.786534</td>\n",
       "    </tr>\n",
       "    <tr>\n",
       "      <th>Greece</th>\n",
       "      <td>100.000000</td>\n",
       "      <td>-1.247984</td>\n",
       "      <td>1.888352e+11</td>\n",
       "      <td>17647.232688</td>\n",
       "      <td>50.918176</td>\n",
       "    </tr>\n",
       "    <tr>\n",
       "      <th>Czechia</th>\n",
       "      <td>100.000000</td>\n",
       "      <td>3.161295</td>\n",
       "      <td>2.453393e+11</td>\n",
       "      <td>22933.499591</td>\n",
       "      <td>50.765423</td>\n",
       "    </tr>\n",
       "    <tr>\n",
       "      <th>Sweden</th>\n",
       "      <td>100.000000</td>\n",
       "      <td>0.497367</td>\n",
       "      <td>5.414872e+11</td>\n",
       "      <td>52300.206199</td>\n",
       "      <td>49.907795</td>\n",
       "    </tr>\n",
       "    <tr>\n",
       "      <th>Luxembourg</th>\n",
       "      <td>100.000000</td>\n",
       "      <td>0.819957</td>\n",
       "      <td>7.335313e+10</td>\n",
       "      <td>116356.158037</td>\n",
       "      <td>49.425058</td>\n",
       "    </tr>\n",
       "    <tr>\n",
       "      <th>Latvia</th>\n",
       "      <td>100.000000</td>\n",
       "      <td>0.219065</td>\n",
       "      <td>3.364546e+10</td>\n",
       "      <td>17703.953443</td>\n",
       "      <td>53.910769</td>\n",
       "    </tr>\n",
       "    <tr>\n",
       "      <th>Poland</th>\n",
       "      <td>100.000000</td>\n",
       "      <td>3.374470</td>\n",
       "      <td>5.966244e+11</td>\n",
       "      <td>15742.453726</td>\n",
       "      <td>51.546822</td>\n",
       "    </tr>\n",
       "    <tr>\n",
       "      <th>Spain</th>\n",
       "      <td>100.000000</td>\n",
       "      <td>-0.322753</td>\n",
       "      <td>1.281485e+12</td>\n",
       "      <td>27056.421751</td>\n",
       "      <td>50.853503</td>\n",
       "    </tr>\n",
       "    <tr>\n",
       "      <th>Lithuania</th>\n",
       "      <td>100.000000</td>\n",
       "      <td>1.199894</td>\n",
       "      <td>5.654696e+10</td>\n",
       "      <td>20232.302036</td>\n",
       "      <td>53.715933</td>\n",
       "    </tr>\n",
       "    <tr>\n",
       "      <th>France</th>\n",
       "      <td>100.000000</td>\n",
       "      <td>0.476499</td>\n",
       "      <td>2.630318e+12</td>\n",
       "      <td>39037.122631</td>\n",
       "      <td>51.604879</td>\n",
       "    </tr>\n",
       "    <tr>\n",
       "      <th>Malta</th>\n",
       "      <td>100.000000</td>\n",
       "      <td>0.638545</td>\n",
       "      <td>1.491704e+10</td>\n",
       "      <td>28946.462677</td>\n",
       "      <td>49.852674</td>\n",
       "    </tr>\n",
       "    <tr>\n",
       "      <th>Cyprus</th>\n",
       "      <td>100.000000</td>\n",
       "      <td>-0.638423</td>\n",
       "      <td>2.469210e+10</td>\n",
       "      <td>27681.566406</td>\n",
       "      <td>50.013790</td>\n",
       "    </tr>\n",
       "    <tr>\n",
       "      <th>Germany</th>\n",
       "      <td>100.000000</td>\n",
       "      <td>0.506690</td>\n",
       "      <td>3.846414e+12</td>\n",
       "      <td>46252.689304</td>\n",
       "      <td>50.568201</td>\n",
       "    </tr>\n",
       "    <tr>\n",
       "      <th>Bulgaria</th>\n",
       "      <td>99.699997</td>\n",
       "      <td>1.672441</td>\n",
       "      <td>6.988935e+10</td>\n",
       "      <td>10079.203381</td>\n",
       "      <td>51.440632</td>\n",
       "    </tr>\n",
       "    <tr>\n",
       "      <th>Finland</th>\n",
       "      <td>100.000000</td>\n",
       "      <td>0.290555</td>\n",
       "      <td>2.718370e+11</td>\n",
       "      <td>49160.837152</td>\n",
       "      <td>50.684983</td>\n",
       "    </tr>\n",
       "    <tr>\n",
       "      <th>Romania</th>\n",
       "      <td>100.000000</td>\n",
       "      <td>2.631073</td>\n",
       "      <td>2.495113e+11</td>\n",
       "      <td>12956.566248</td>\n",
       "      <td>51.377136</td>\n",
       "    </tr>\n",
       "    <tr>\n",
       "      <th>Estonia</th>\n",
       "      <td>100.000000</td>\n",
       "      <td>-0.444531</td>\n",
       "      <td>3.065029e+10</td>\n",
       "      <td>23054.358491</td>\n",
       "      <td>52.624386</td>\n",
       "    </tr>\n",
       "    <tr>\n",
       "      <th>Slovenia</th>\n",
       "      <td>100.000000</td>\n",
       "      <td>-0.054857</td>\n",
       "      <td>5.358961e+10</td>\n",
       "      <td>25489.500228</td>\n",
       "      <td>50.203758</td>\n",
       "    </tr>\n",
       "    <tr>\n",
       "      <th>Netherlands</th>\n",
       "      <td>100.000000</td>\n",
       "      <td>1.272460</td>\n",
       "      <td>9.138654e+11</td>\n",
       "      <td>52396.032210</td>\n",
       "      <td>50.176783</td>\n",
       "    </tr>\n",
       "    <tr>\n",
       "      <th>Ireland</th>\n",
       "      <td>100.000000</td>\n",
       "      <td>-0.334585</td>\n",
       "      <td>4.258890e+11</td>\n",
       "      <td>85422.542868</td>\n",
       "      <td>50.355401</td>\n",
       "    </tr>\n",
       "  </tbody>\n",
       "</table>\n",
       "</div>"
      ],
      "text/plain": [
       "                 Access to electricity (% of population)  \\\n",
       "Country                                                    \n",
       "Italy                                         100.000000   \n",
       "Slovak Republic                               100.000000   \n",
       "Portugal                                      100.000000   \n",
       "Denmark                                       100.000000   \n",
       "Hungary                                       100.000000   \n",
       "Belgium                                       100.000000   \n",
       "Austria                                       100.000000   \n",
       "Croatia                                       100.000000   \n",
       "Greece                                        100.000000   \n",
       "Czechia                                       100.000000   \n",
       "Sweden                                        100.000000   \n",
       "Luxembourg                                    100.000000   \n",
       "Latvia                                        100.000000   \n",
       "Poland                                        100.000000   \n",
       "Spain                                         100.000000   \n",
       "Lithuania                                     100.000000   \n",
       "France                                        100.000000   \n",
       "Malta                                         100.000000   \n",
       "Cyprus                                        100.000000   \n",
       "Germany                                       100.000000   \n",
       "Bulgaria                                       99.699997   \n",
       "Finland                                       100.000000   \n",
       "Romania                                       100.000000   \n",
       "Estonia                                       100.000000   \n",
       "Slovenia                                      100.000000   \n",
       "Netherlands                                   100.000000   \n",
       "Ireland                                       100.000000   \n",
       "\n",
       "                 Inflation, consumer prices (annual %)  GDP (current US$)  \\\n",
       "Country                                                                     \n",
       "Italy                                        -0.137708       1.892574e+12   \n",
       "Slovak Republic                               1.936941       1.051726e+11   \n",
       "Portugal                                     -0.012438       2.285392e+11   \n",
       "Denmark                                       0.420712       3.560849e+11   \n",
       "Hungary                                       3.326744       1.567431e+11   \n",
       "Belgium                                       0.740792       5.216769e+11   \n",
       "Austria                                       1.381911       4.332585e+11   \n",
       "Croatia                                       0.154811       5.720378e+10   \n",
       "Greece                                       -1.247984       1.888352e+11   \n",
       "Czechia                                       3.161295       2.453393e+11   \n",
       "Sweden                                        0.497367       5.414872e+11   \n",
       "Luxembourg                                    0.819957       7.335313e+10   \n",
       "Latvia                                        0.219065       3.364546e+10   \n",
       "Poland                                        3.374470       5.966244e+11   \n",
       "Spain                                        -0.322753       1.281485e+12   \n",
       "Lithuania                                     1.199894       5.654696e+10   \n",
       "France                                        0.476499       2.630318e+12   \n",
       "Malta                                         0.638545       1.491704e+10   \n",
       "Cyprus                                       -0.638423       2.469210e+10   \n",
       "Germany                                       0.506690       3.846414e+12   \n",
       "Bulgaria                                      1.672441       6.988935e+10   \n",
       "Finland                                       0.290555       2.718370e+11   \n",
       "Romania                                       2.631073       2.495113e+11   \n",
       "Estonia                                      -0.444531       3.065029e+10   \n",
       "Slovenia                                     -0.054857       5.358961e+10   \n",
       "Netherlands                                   1.272460       9.138654e+11   \n",
       "Ireland                                      -0.334585       4.258890e+11   \n",
       "\n",
       "                 GDP per capita (current US$)  \\\n",
       "Country                                         \n",
       "Italy                            31834.972618   \n",
       "Slovak Republic                  19266.513574   \n",
       "Portugal                         22194.566115   \n",
       "Denmark                          61063.316430   \n",
       "Hungary                          16075.973266   \n",
       "Belgium                          45189.366900   \n",
       "Austria                          48588.659385   \n",
       "Croatia                          14132.486561   \n",
       "Greece                           17647.232688   \n",
       "Czechia                          22933.499591   \n",
       "Sweden                           52300.206199   \n",
       "Luxembourg                      116356.158037   \n",
       "Latvia                           17703.953443   \n",
       "Poland                           15742.453726   \n",
       "Spain                            27056.421751   \n",
       "Lithuania                        20232.302036   \n",
       "France                           39037.122631   \n",
       "Malta                            28946.462677   \n",
       "Cyprus                           27681.566406   \n",
       "Germany                          46252.689304   \n",
       "Bulgaria                         10079.203381   \n",
       "Finland                          49160.837152   \n",
       "Romania                          12956.566248   \n",
       "Estonia                          23054.358491   \n",
       "Slovenia                         25489.500228   \n",
       "Netherlands                      52396.032210   \n",
       "Ireland                          85422.542868   \n",
       "\n",
       "                 Population, female (% of total population)  \n",
       "Country                                                      \n",
       "Italy                                             51.311884  \n",
       "Slovak Republic                                   51.306725  \n",
       "Portugal                                          52.690275  \n",
       "Denmark                                           50.289018  \n",
       "Hungary                                           52.400400  \n",
       "Belgium                                           50.435502  \n",
       "Austria                                           50.705154  \n",
       "Croatia                                           51.786534  \n",
       "Greece                                            50.918176  \n",
       "Czechia                                           50.765423  \n",
       "Sweden                                            49.907795  \n",
       "Luxembourg                                        49.425058  \n",
       "Latvia                                            53.910769  \n",
       "Poland                                            51.546822  \n",
       "Spain                                             50.853503  \n",
       "Lithuania                                         53.715933  \n",
       "France                                            51.604879  \n",
       "Malta                                             49.852674  \n",
       "Cyprus                                            50.013790  \n",
       "Germany                                           50.568201  \n",
       "Bulgaria                                          51.440632  \n",
       "Finland                                           50.684983  \n",
       "Romania                                           51.377136  \n",
       "Estonia                                           52.624386  \n",
       "Slovenia                                          50.203758  \n",
       "Netherlands                                       50.176783  \n",
       "Ireland                                           50.355401  "
      ]
     },
     "execution_count": 277,
     "metadata": {},
     "output_type": "execute_result"
    }
   ],
   "source": [
    "# download data from World Bank for multiple countries & data fields/indicators but for a single year. Then show it as a bar chart.\n",
    "\n",
    "countries = ['USA', 'GBR', 'CHN', 'BRA', 'IND', 'ZWE', 'AZE', 'WLD'] # select countries\n",
    "region = 'EUU' # select region\n",
    "\n",
    "data_fields_dict = {'EG.ELC.ACCS.ZS' : 'Access to electricity (% of population)', \n",
    "                    'NY.GDP.PCAP.CD' : 'GDP per capita (current US$)',\n",
    "                    'NY.GDP.MKTP.CD' : 'GDP (current US$)',\n",
    "                    'FP.CPI.TOTL.ZG' : 'Inflation, consumer prices (annual %)',\n",
    "                    'SP.POP.TOTL.FE.ZS' : 'Population, female (% of total population)'\n",
    "                    } # create a dictionary of indicator codes and descriptions\n",
    "data_fields_dict = dict(sorted(data_fields_dict.items())) # to sort keys in the dictionary alphabetically. Otherwise, API download wouldn't work properly\n",
    "\n",
    "df = wb.data.DataFrame(list(data_fields_dict.keys()), wb.region.members(region), time=2020, labels=True).dropna() # downloads data for all EU countries for specific data fields/indicators for year 2020. Also, drops all blank values\n",
    "df.columns = ['Country'] +  list(data_fields_dict.values()) # change columns names from using indicator codes to indicator names\n",
    "df.set_index(['Country'], inplace=True) # replace index that has country codes with index using values from 'Country' column\n",
    "#df = wb.data.DataFrame(data_fields_list, countries, mrv=30, numericTimeKeys=True)\n",
    "#df = wb.data.DataFrame(data_fields_list, coutnries, time=range(2010,2020), index='time', numericTimeKeys=True, labels=True)\n",
    "df"
   ]
  },
  {
   "cell_type": "code",
   "execution_count": 274,
   "metadata": {},
   "outputs": [
    {
     "data": {
      "application/vnd.plotly.v1+json": {
       "config": {
        "plotlyServerURL": "https://plot.ly"
       },
       "data": [
        {
         "alignmentgroup": "True",
         "hovertemplate": "variable=Access to electricity (% of population)<br>Country=%{x}<br>value=%{y}<extra></extra>",
         "legendgroup": "Access to electricity (% of population)",
         "marker": {
          "color": "#636efa",
          "pattern": {
           "shape": ""
          }
         },
         "name": "Access to electricity (% of population)",
         "offsetgroup": "Access to electricity (% of population)",
         "orientation": "v",
         "showlegend": true,
         "textposition": "auto",
         "type": "bar",
         "x": [
          "Italy",
          "Slovak Republic",
          "Portugal",
          "Denmark",
          "Hungary",
          "Belgium",
          "Austria",
          "Croatia",
          "Greece",
          "Czechia",
          "Sweden",
          "Luxembourg",
          "Latvia",
          "Poland",
          "Spain",
          "Lithuania",
          "France",
          "Malta",
          "Cyprus",
          "Germany",
          "Bulgaria",
          "Finland",
          "Romania",
          "Estonia",
          "Slovenia",
          "Netherlands",
          "Ireland"
         ],
         "xaxis": "x",
         "y": [
          100,
          100,
          100,
          100,
          100,
          100,
          100,
          100,
          100,
          100,
          100,
          100,
          100,
          100,
          100,
          100,
          100,
          100,
          100,
          100,
          99.6999969482422,
          100,
          100,
          100,
          100,
          100,
          100
         ],
         "yaxis": "y"
        },
        {
         "alignmentgroup": "True",
         "hovertemplate": "variable=Inflation, consumer prices (annual %)<br>Country=%{x}<br>value=%{y}<extra></extra>",
         "legendgroup": "Inflation, consumer prices (annual %)",
         "marker": {
          "color": "#EF553B",
          "pattern": {
           "shape": ""
          }
         },
         "name": "Inflation, consumer prices (annual %)",
         "offsetgroup": "Inflation, consumer prices (annual %)",
         "orientation": "v",
         "showlegend": true,
         "textposition": "auto",
         "type": "bar",
         "x": [
          "Italy",
          "Slovak Republic",
          "Portugal",
          "Denmark",
          "Hungary",
          "Belgium",
          "Austria",
          "Croatia",
          "Greece",
          "Czechia",
          "Sweden",
          "Luxembourg",
          "Latvia",
          "Poland",
          "Spain",
          "Lithuania",
          "France",
          "Malta",
          "Cyprus",
          "Germany",
          "Bulgaria",
          "Finland",
          "Romania",
          "Estonia",
          "Slovenia",
          "Netherlands",
          "Ireland"
         ],
         "xaxis": "x",
         "y": [
          -0.13770757391657,
          1.9369412669422,
          -0.0124383299576167,
          0.420711974110026,
          3.3267438576673,
          0.740791812220385,
          1.38191063351859,
          0.154811374562028,
          -1.24798355581408,
          3.16129528497808,
          0.497367318853562,
          0.819957302126994,
          0.219064904842049,
          3.3744697261859,
          -0.322753017299705,
          1.19989444983569,
          0.476498852725083,
          0.638544956776653,
          -0.638422797978907,
          0.506689889953274,
          1.67244096855762,
          0.290554555653313,
          2.63107311184752,
          -0.444531097679859,
          -0.0548568157606067,
          1.2724603778917,
          -0.334584625428444
         ],
         "yaxis": "y"
        },
        {
         "alignmentgroup": "True",
         "hovertemplate": "variable=GDP (current US$)<br>Country=%{x}<br>value=%{y}<extra></extra>",
         "legendgroup": "GDP (current US$)",
         "marker": {
          "color": "#00cc96",
          "pattern": {
           "shape": ""
          }
         },
         "name": "GDP (current US$)",
         "offsetgroup": "GDP (current US$)",
         "orientation": "v",
         "showlegend": true,
         "textposition": "auto",
         "type": "bar",
         "x": [
          "Italy",
          "Slovak Republic",
          "Portugal",
          "Denmark",
          "Hungary",
          "Belgium",
          "Austria",
          "Croatia",
          "Greece",
          "Czechia",
          "Sweden",
          "Luxembourg",
          "Latvia",
          "Poland",
          "Spain",
          "Lithuania",
          "France",
          "Malta",
          "Cyprus",
          "Germany",
          "Bulgaria",
          "Finland",
          "Romania",
          "Estonia",
          "Slovenia",
          "Netherlands",
          "Ireland"
         ],
         "xaxis": "x",
         "y": [
          1892574064222.11,
          105172564491.569,
          228539245045.341,
          356084867685.639,
          156743134665.959,
          521676942134.632,
          433258467676.515,
          57203783203.0259,
          188835201625.91,
          245339322066.759,
          541487151474.557,
          73353132793.7076,
          33645460617.239,
          596624355719.671,
          1281484640043.58,
          56546957475.4912,
          2630317731455.26,
          14917038504.285,
          24692095945.1742,
          3846413928653.71,
          69889347433.4324,
          271836962949.417,
          249511333647.502,
          30650285471.7215,
          53589609580.7099,
          913865395789.886,
          425888950992.003
         ],
         "yaxis": "y"
        },
        {
         "alignmentgroup": "True",
         "hovertemplate": "variable=GDP per capita (current US$)<br>Country=%{x}<br>value=%{y}<extra></extra>",
         "legendgroup": "GDP per capita (current US$)",
         "marker": {
          "color": "#ab63fa",
          "pattern": {
           "shape": ""
          }
         },
         "name": "GDP per capita (current US$)",
         "offsetgroup": "GDP per capita (current US$)",
         "orientation": "v",
         "showlegend": true,
         "textposition": "auto",
         "type": "bar",
         "x": [
          "Italy",
          "Slovak Republic",
          "Portugal",
          "Denmark",
          "Hungary",
          "Belgium",
          "Austria",
          "Croatia",
          "Greece",
          "Czechia",
          "Sweden",
          "Luxembourg",
          "Latvia",
          "Poland",
          "Spain",
          "Lithuania",
          "France",
          "Malta",
          "Cyprus",
          "Germany",
          "Bulgaria",
          "Finland",
          "Romania",
          "Estonia",
          "Slovenia",
          "Netherlands",
          "Ireland"
         ],
         "xaxis": "x",
         "y": [
          31834.9726184046,
          19266.5135736247,
          22194.566114935,
          61063.3164304238,
          16075.9732662505,
          45189.3669003126,
          48588.6593847921,
          14132.4865609499,
          17647.2326882744,
          22933.4995909236,
          52300.2061994993,
          116356.158037286,
          17703.9534432332,
          15742.4537256368,
          27056.4217512166,
          20232.3020358588,
          39037.1226309074,
          28946.4626770412,
          27681.56640625,
          46252.6893044892,
          10079.2033812203,
          49160.8371522596,
          12956.5662477568,
          23054.3584905978,
          25489.5002284083,
          52396.0322099525,
          85422.5428682266
         ],
         "yaxis": "y"
        },
        {
         "alignmentgroup": "True",
         "hovertemplate": "variable=Population, female (% of total population)<br>Country=%{x}<br>value=%{y}<extra></extra>",
         "legendgroup": "Population, female (% of total population)",
         "marker": {
          "color": "#FFA15A",
          "pattern": {
           "shape": ""
          }
         },
         "name": "Population, female (% of total population)",
         "offsetgroup": "Population, female (% of total population)",
         "orientation": "v",
         "showlegend": true,
         "textposition": "auto",
         "type": "bar",
         "x": [
          "Italy",
          "Slovak Republic",
          "Portugal",
          "Denmark",
          "Hungary",
          "Belgium",
          "Austria",
          "Croatia",
          "Greece",
          "Czechia",
          "Sweden",
          "Luxembourg",
          "Latvia",
          "Poland",
          "Spain",
          "Lithuania",
          "France",
          "Malta",
          "Cyprus",
          "Germany",
          "Bulgaria",
          "Finland",
          "Romania",
          "Estonia",
          "Slovenia",
          "Netherlands",
          "Ireland"
         ],
         "xaxis": "x",
         "y": [
          51.3118839212073,
          51.3067246338268,
          52.6902753996952,
          50.289017840017,
          52.4003995714441,
          50.4355019182689,
          50.705154112631,
          51.7865337902422,
          50.9181760128699,
          50.7654228945384,
          49.9077953158991,
          49.4250578296932,
          53.9107688359995,
          51.5468217030299,
          50.8535030522973,
          53.7159326464364,
          51.6048791736532,
          49.8526743956932,
          50.013790407343,
          50.5682013421545,
          51.4406316809013,
          50.6849834263357,
          51.3771357692678,
          52.6243857134996,
          50.2037584682905,
          50.1767827517601,
          50.3554014787164
         ],
         "yaxis": "y"
        }
       ],
       "layout": {
        "barmode": "relative",
        "legend": {
         "title": {
          "text": "variable"
         },
         "tracegroupgap": 0
        },
        "margin": {
         "t": 60
        },
        "template": {
         "data": {
          "bar": [
           {
            "error_x": {
             "color": "#2a3f5f"
            },
            "error_y": {
             "color": "#2a3f5f"
            },
            "marker": {
             "line": {
              "color": "#E5ECF6",
              "width": 0.5
             },
             "pattern": {
              "fillmode": "overlay",
              "size": 10,
              "solidity": 0.2
             }
            },
            "type": "bar"
           }
          ],
          "barpolar": [
           {
            "marker": {
             "line": {
              "color": "#E5ECF6",
              "width": 0.5
             },
             "pattern": {
              "fillmode": "overlay",
              "size": 10,
              "solidity": 0.2
             }
            },
            "type": "barpolar"
           }
          ],
          "carpet": [
           {
            "aaxis": {
             "endlinecolor": "#2a3f5f",
             "gridcolor": "white",
             "linecolor": "white",
             "minorgridcolor": "white",
             "startlinecolor": "#2a3f5f"
            },
            "baxis": {
             "endlinecolor": "#2a3f5f",
             "gridcolor": "white",
             "linecolor": "white",
             "minorgridcolor": "white",
             "startlinecolor": "#2a3f5f"
            },
            "type": "carpet"
           }
          ],
          "choropleth": [
           {
            "colorbar": {
             "outlinewidth": 0,
             "ticks": ""
            },
            "type": "choropleth"
           }
          ],
          "contour": [
           {
            "colorbar": {
             "outlinewidth": 0,
             "ticks": ""
            },
            "colorscale": [
             [
              0,
              "#0d0887"
             ],
             [
              0.1111111111111111,
              "#46039f"
             ],
             [
              0.2222222222222222,
              "#7201a8"
             ],
             [
              0.3333333333333333,
              "#9c179e"
             ],
             [
              0.4444444444444444,
              "#bd3786"
             ],
             [
              0.5555555555555556,
              "#d8576b"
             ],
             [
              0.6666666666666666,
              "#ed7953"
             ],
             [
              0.7777777777777778,
              "#fb9f3a"
             ],
             [
              0.8888888888888888,
              "#fdca26"
             ],
             [
              1,
              "#f0f921"
             ]
            ],
            "type": "contour"
           }
          ],
          "contourcarpet": [
           {
            "colorbar": {
             "outlinewidth": 0,
             "ticks": ""
            },
            "type": "contourcarpet"
           }
          ],
          "heatmap": [
           {
            "colorbar": {
             "outlinewidth": 0,
             "ticks": ""
            },
            "colorscale": [
             [
              0,
              "#0d0887"
             ],
             [
              0.1111111111111111,
              "#46039f"
             ],
             [
              0.2222222222222222,
              "#7201a8"
             ],
             [
              0.3333333333333333,
              "#9c179e"
             ],
             [
              0.4444444444444444,
              "#bd3786"
             ],
             [
              0.5555555555555556,
              "#d8576b"
             ],
             [
              0.6666666666666666,
              "#ed7953"
             ],
             [
              0.7777777777777778,
              "#fb9f3a"
             ],
             [
              0.8888888888888888,
              "#fdca26"
             ],
             [
              1,
              "#f0f921"
             ]
            ],
            "type": "heatmap"
           }
          ],
          "heatmapgl": [
           {
            "colorbar": {
             "outlinewidth": 0,
             "ticks": ""
            },
            "colorscale": [
             [
              0,
              "#0d0887"
             ],
             [
              0.1111111111111111,
              "#46039f"
             ],
             [
              0.2222222222222222,
              "#7201a8"
             ],
             [
              0.3333333333333333,
              "#9c179e"
             ],
             [
              0.4444444444444444,
              "#bd3786"
             ],
             [
              0.5555555555555556,
              "#d8576b"
             ],
             [
              0.6666666666666666,
              "#ed7953"
             ],
             [
              0.7777777777777778,
              "#fb9f3a"
             ],
             [
              0.8888888888888888,
              "#fdca26"
             ],
             [
              1,
              "#f0f921"
             ]
            ],
            "type": "heatmapgl"
           }
          ],
          "histogram": [
           {
            "marker": {
             "pattern": {
              "fillmode": "overlay",
              "size": 10,
              "solidity": 0.2
             }
            },
            "type": "histogram"
           }
          ],
          "histogram2d": [
           {
            "colorbar": {
             "outlinewidth": 0,
             "ticks": ""
            },
            "colorscale": [
             [
              0,
              "#0d0887"
             ],
             [
              0.1111111111111111,
              "#46039f"
             ],
             [
              0.2222222222222222,
              "#7201a8"
             ],
             [
              0.3333333333333333,
              "#9c179e"
             ],
             [
              0.4444444444444444,
              "#bd3786"
             ],
             [
              0.5555555555555556,
              "#d8576b"
             ],
             [
              0.6666666666666666,
              "#ed7953"
             ],
             [
              0.7777777777777778,
              "#fb9f3a"
             ],
             [
              0.8888888888888888,
              "#fdca26"
             ],
             [
              1,
              "#f0f921"
             ]
            ],
            "type": "histogram2d"
           }
          ],
          "histogram2dcontour": [
           {
            "colorbar": {
             "outlinewidth": 0,
             "ticks": ""
            },
            "colorscale": [
             [
              0,
              "#0d0887"
             ],
             [
              0.1111111111111111,
              "#46039f"
             ],
             [
              0.2222222222222222,
              "#7201a8"
             ],
             [
              0.3333333333333333,
              "#9c179e"
             ],
             [
              0.4444444444444444,
              "#bd3786"
             ],
             [
              0.5555555555555556,
              "#d8576b"
             ],
             [
              0.6666666666666666,
              "#ed7953"
             ],
             [
              0.7777777777777778,
              "#fb9f3a"
             ],
             [
              0.8888888888888888,
              "#fdca26"
             ],
             [
              1,
              "#f0f921"
             ]
            ],
            "type": "histogram2dcontour"
           }
          ],
          "mesh3d": [
           {
            "colorbar": {
             "outlinewidth": 0,
             "ticks": ""
            },
            "type": "mesh3d"
           }
          ],
          "parcoords": [
           {
            "line": {
             "colorbar": {
              "outlinewidth": 0,
              "ticks": ""
             }
            },
            "type": "parcoords"
           }
          ],
          "pie": [
           {
            "automargin": true,
            "type": "pie"
           }
          ],
          "scatter": [
           {
            "fillpattern": {
             "fillmode": "overlay",
             "size": 10,
             "solidity": 0.2
            },
            "type": "scatter"
           }
          ],
          "scatter3d": [
           {
            "line": {
             "colorbar": {
              "outlinewidth": 0,
              "ticks": ""
             }
            },
            "marker": {
             "colorbar": {
              "outlinewidth": 0,
              "ticks": ""
             }
            },
            "type": "scatter3d"
           }
          ],
          "scattercarpet": [
           {
            "marker": {
             "colorbar": {
              "outlinewidth": 0,
              "ticks": ""
             }
            },
            "type": "scattercarpet"
           }
          ],
          "scattergeo": [
           {
            "marker": {
             "colorbar": {
              "outlinewidth": 0,
              "ticks": ""
             }
            },
            "type": "scattergeo"
           }
          ],
          "scattergl": [
           {
            "marker": {
             "colorbar": {
              "outlinewidth": 0,
              "ticks": ""
             }
            },
            "type": "scattergl"
           }
          ],
          "scattermapbox": [
           {
            "marker": {
             "colorbar": {
              "outlinewidth": 0,
              "ticks": ""
             }
            },
            "type": "scattermapbox"
           }
          ],
          "scatterpolar": [
           {
            "marker": {
             "colorbar": {
              "outlinewidth": 0,
              "ticks": ""
             }
            },
            "type": "scatterpolar"
           }
          ],
          "scatterpolargl": [
           {
            "marker": {
             "colorbar": {
              "outlinewidth": 0,
              "ticks": ""
             }
            },
            "type": "scatterpolargl"
           }
          ],
          "scatterternary": [
           {
            "marker": {
             "colorbar": {
              "outlinewidth": 0,
              "ticks": ""
             }
            },
            "type": "scatterternary"
           }
          ],
          "surface": [
           {
            "colorbar": {
             "outlinewidth": 0,
             "ticks": ""
            },
            "colorscale": [
             [
              0,
              "#0d0887"
             ],
             [
              0.1111111111111111,
              "#46039f"
             ],
             [
              0.2222222222222222,
              "#7201a8"
             ],
             [
              0.3333333333333333,
              "#9c179e"
             ],
             [
              0.4444444444444444,
              "#bd3786"
             ],
             [
              0.5555555555555556,
              "#d8576b"
             ],
             [
              0.6666666666666666,
              "#ed7953"
             ],
             [
              0.7777777777777778,
              "#fb9f3a"
             ],
             [
              0.8888888888888888,
              "#fdca26"
             ],
             [
              1,
              "#f0f921"
             ]
            ],
            "type": "surface"
           }
          ],
          "table": [
           {
            "cells": {
             "fill": {
              "color": "#EBF0F8"
             },
             "line": {
              "color": "white"
             }
            },
            "header": {
             "fill": {
              "color": "#C8D4E3"
             },
             "line": {
              "color": "white"
             }
            },
            "type": "table"
           }
          ]
         },
         "layout": {
          "annotationdefaults": {
           "arrowcolor": "#2a3f5f",
           "arrowhead": 0,
           "arrowwidth": 1
          },
          "autotypenumbers": "strict",
          "coloraxis": {
           "colorbar": {
            "outlinewidth": 0,
            "ticks": ""
           }
          },
          "colorscale": {
           "diverging": [
            [
             0,
             "#8e0152"
            ],
            [
             0.1,
             "#c51b7d"
            ],
            [
             0.2,
             "#de77ae"
            ],
            [
             0.3,
             "#f1b6da"
            ],
            [
             0.4,
             "#fde0ef"
            ],
            [
             0.5,
             "#f7f7f7"
            ],
            [
             0.6,
             "#e6f5d0"
            ],
            [
             0.7,
             "#b8e186"
            ],
            [
             0.8,
             "#7fbc41"
            ],
            [
             0.9,
             "#4d9221"
            ],
            [
             1,
             "#276419"
            ]
           ],
           "sequential": [
            [
             0,
             "#0d0887"
            ],
            [
             0.1111111111111111,
             "#46039f"
            ],
            [
             0.2222222222222222,
             "#7201a8"
            ],
            [
             0.3333333333333333,
             "#9c179e"
            ],
            [
             0.4444444444444444,
             "#bd3786"
            ],
            [
             0.5555555555555556,
             "#d8576b"
            ],
            [
             0.6666666666666666,
             "#ed7953"
            ],
            [
             0.7777777777777778,
             "#fb9f3a"
            ],
            [
             0.8888888888888888,
             "#fdca26"
            ],
            [
             1,
             "#f0f921"
            ]
           ],
           "sequentialminus": [
            [
             0,
             "#0d0887"
            ],
            [
             0.1111111111111111,
             "#46039f"
            ],
            [
             0.2222222222222222,
             "#7201a8"
            ],
            [
             0.3333333333333333,
             "#9c179e"
            ],
            [
             0.4444444444444444,
             "#bd3786"
            ],
            [
             0.5555555555555556,
             "#d8576b"
            ],
            [
             0.6666666666666666,
             "#ed7953"
            ],
            [
             0.7777777777777778,
             "#fb9f3a"
            ],
            [
             0.8888888888888888,
             "#fdca26"
            ],
            [
             1,
             "#f0f921"
            ]
           ]
          },
          "colorway": [
           "#636efa",
           "#EF553B",
           "#00cc96",
           "#ab63fa",
           "#FFA15A",
           "#19d3f3",
           "#FF6692",
           "#B6E880",
           "#FF97FF",
           "#FECB52"
          ],
          "font": {
           "color": "#2a3f5f"
          },
          "geo": {
           "bgcolor": "white",
           "lakecolor": "white",
           "landcolor": "#E5ECF6",
           "showlakes": true,
           "showland": true,
           "subunitcolor": "white"
          },
          "hoverlabel": {
           "align": "left"
          },
          "hovermode": "closest",
          "mapbox": {
           "style": "light"
          },
          "paper_bgcolor": "white",
          "plot_bgcolor": "#E5ECF6",
          "polar": {
           "angularaxis": {
            "gridcolor": "white",
            "linecolor": "white",
            "ticks": ""
           },
           "bgcolor": "#E5ECF6",
           "radialaxis": {
            "gridcolor": "white",
            "linecolor": "white",
            "ticks": ""
           }
          },
          "scene": {
           "xaxis": {
            "backgroundcolor": "#E5ECF6",
            "gridcolor": "white",
            "gridwidth": 2,
            "linecolor": "white",
            "showbackground": true,
            "ticks": "",
            "zerolinecolor": "white"
           },
           "yaxis": {
            "backgroundcolor": "#E5ECF6",
            "gridcolor": "white",
            "gridwidth": 2,
            "linecolor": "white",
            "showbackground": true,
            "ticks": "",
            "zerolinecolor": "white"
           },
           "zaxis": {
            "backgroundcolor": "#E5ECF6",
            "gridcolor": "white",
            "gridwidth": 2,
            "linecolor": "white",
            "showbackground": true,
            "ticks": "",
            "zerolinecolor": "white"
           }
          },
          "shapedefaults": {
           "line": {
            "color": "#2a3f5f"
           }
          },
          "ternary": {
           "aaxis": {
            "gridcolor": "white",
            "linecolor": "white",
            "ticks": ""
           },
           "baxis": {
            "gridcolor": "white",
            "linecolor": "white",
            "ticks": ""
           },
           "bgcolor": "#E5ECF6",
           "caxis": {
            "gridcolor": "white",
            "linecolor": "white",
            "ticks": ""
           }
          },
          "title": {
           "x": 0.05
          },
          "xaxis": {
           "automargin": true,
           "gridcolor": "white",
           "linecolor": "white",
           "ticks": "",
           "title": {
            "standoff": 15
           },
           "zerolinecolor": "white",
           "zerolinewidth": 2
          },
          "yaxis": {
           "automargin": true,
           "gridcolor": "white",
           "linecolor": "white",
           "ticks": "",
           "title": {
            "standoff": 15
           },
           "zerolinecolor": "white",
           "zerolinewidth": 2
          }
         }
        },
        "xaxis": {
         "anchor": "y",
         "domain": [
          0,
          1
         ],
         "title": {
          "text": "Country"
         }
        },
        "yaxis": {
         "anchor": "x",
         "domain": [
          0,
          1
         ],
         "title": {
          "text": "value"
         }
        }
       }
      }
     },
     "metadata": {},
     "output_type": "display_data"
    }
   ],
   "source": [
    "# chart the data\n",
    "\n",
    "fig = px.bar(df, x=df.index, y=df.columns)\n",
    "fig.show()"
   ]
  },
  {
   "cell_type": "code",
   "execution_count": 239,
   "metadata": {},
   "outputs": [
    {
     "data": {
      "text/html": [
       "<div>\n",
       "<style scoped>\n",
       "    .dataframe tbody tr th:only-of-type {\n",
       "        vertical-align: middle;\n",
       "    }\n",
       "\n",
       "    .dataframe tbody tr th {\n",
       "        vertical-align: top;\n",
       "    }\n",
       "\n",
       "    .dataframe thead th {\n",
       "        text-align: right;\n",
       "    }\n",
       "</style>\n",
       "<table border=\"1\" class=\"dataframe\">\n",
       "  <thead>\n",
       "    <tr style=\"text-align: right;\">\n",
       "      <th></th>\n",
       "      <th>Country</th>\n",
       "      <th>data_field</th>\n",
       "      <th>value</th>\n",
       "    </tr>\n",
       "  </thead>\n",
       "  <tbody>\n",
       "    <tr>\n",
       "      <th>0</th>\n",
       "      <td>Italy</td>\n",
       "      <td>GDP (current US$)</td>\n",
       "      <td>26.0</td>\n",
       "    </tr>\n",
       "    <tr>\n",
       "      <th>1</th>\n",
       "      <td>Slovak Republic</td>\n",
       "      <td>GDP (current US$)</td>\n",
       "      <td>10.0</td>\n",
       "    </tr>\n",
       "    <tr>\n",
       "      <th>2</th>\n",
       "      <td>Portugal</td>\n",
       "      <td>GDP (current US$)</td>\n",
       "      <td>13.0</td>\n",
       "    </tr>\n",
       "    <tr>\n",
       "      <th>3</th>\n",
       "      <td>Denmark</td>\n",
       "      <td>GDP (current US$)</td>\n",
       "      <td>18.0</td>\n",
       "    </tr>\n",
       "    <tr>\n",
       "      <th>4</th>\n",
       "      <td>Hungary</td>\n",
       "      <td>GDP (current US$)</td>\n",
       "      <td>11.0</td>\n",
       "    </tr>\n",
       "  </tbody>\n",
       "</table>\n",
       "</div>"
      ],
      "text/plain": [
       "           Country         data_field  value\n",
       "0            Italy  GDP (current US$)   26.0\n",
       "1  Slovak Republic  GDP (current US$)   10.0\n",
       "2         Portugal  GDP (current US$)   13.0\n",
       "3          Denmark  GDP (current US$)   18.0\n",
       "4          Hungary  GDP (current US$)   11.0"
      ]
     },
     "execution_count": 239,
     "metadata": {},
     "output_type": "execute_result"
    }
   ],
   "source": [
    "# to have Country as row and all column names under a new 'data_field' column and their values under 'value' column\n",
    "df_new = df.reset_index() # move 'Country' column from index to a separate column\n",
    "df_new = df_new.melt(id_vars=['Country'], value_vars=list(df.columns)[:], var_name='data_field', value_name='value')\n",
    "df_new.head()"
   ]
  }
 ],
 "metadata": {
  "kernelspec": {
   "display_name": "Python 3",
   "language": "python",
   "name": "python3"
  },
  "language_info": {
   "codemirror_mode": {
    "name": "ipython",
    "version": 3
   },
   "file_extension": ".py",
   "mimetype": "text/x-python",
   "name": "python",
   "nbconvert_exporter": "python",
   "pygments_lexer": "ipython3",
   "version": "3.10.0 (tags/v3.10.0:b494f59, Oct  4 2021, 19:00:18) [MSC v.1929 64 bit (AMD64)]"
  },
  "orig_nbformat": 4,
  "vscode": {
   "interpreter": {
    "hash": "369f2c481f4da34e4445cda3fffd2e751bd1c4d706f27375911949ba6bb62e1c"
   }
  }
 },
 "nbformat": 4,
 "nbformat_minor": 2
}
