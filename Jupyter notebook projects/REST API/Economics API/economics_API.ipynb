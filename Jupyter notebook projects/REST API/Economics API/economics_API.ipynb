{
 "cells": [
  {
   "cell_type": "code",
   "execution_count": 267,
   "metadata": {},
   "outputs": [],
   "source": [
    "import pandas as pd\n",
    "import fredapi as fa # to import data from Federal Reserve API\n",
    "import wbgapi as wb # to import data from World Bank API\n",
    "import plotly.express as px # to chart the data"
   ]
  },
  {
   "cell_type": "code",
   "execution_count": 268,
   "metadata": {},
   "outputs": [
    {
     "data": {
      "text/plain": [
       "2021-07-01    19672.594\n",
       "2021-10-01    20006.181\n",
       "2022-01-01    19924.088\n",
       "2022-04-01    19895.271\n",
       "2022-07-01    20039.406\n",
       "dtype: float64"
      ]
     },
     "execution_count": 268,
     "metadata": {},
     "output_type": "execute_result"
    }
   ],
   "source": [
    "# Downloads data from Federal Reserve API\n",
    "\n",
    "fred = fa.Fred(api_key=\"afaf79e2dc5aa8fa23e422406368e64a\")\n",
    "\n",
    "# comparable datasets\n",
    "real_gdp_capita_US_USD_NSA_A = fred.get_series('NYGDPPCAPKDUSA') # Constant GDP per capita for the United States (2010 U.S. Dollars, Not Seasonally Adjusted)\n",
    "real_gdp_capita_UK_USD_NSA_A = fred.get_series('NYGDPPCAPKDGBR') # Constant GDP per capita for the United Kingdom (2010 U.S. Dollars, Not Seasonally Adjusted)\n",
    "nominal_gdp_US_USD_A = fred.get_series('MKTGDPUSA646NWDB') # Gross Domestic Product for United States\n",
    "nominal_gdp_UK_USD_A = fred.get_series('MKTGDPGBA646NWDB') # Gross Domestic Product for United Kingdom\n",
    "nominal_gdp_US_NSA_Q = fred.get_series('NA000334Q') # Gross Domestic Product for United States\n",
    "nominal_gdp_UK_NSA_Q = fred.get_series('CPMNACNSAB1GQUK') # Gross Domestic Product for United Kingdom\n",
    "CPI_US_YoY_NSA_M = fred.get_series('CPALTT01USM659N') # Consumer Price Index: Total All Items for the United States \n",
    "CPI_UK_YoY_NSA_M = fred.get_series('CPALTT01GBM659N') # Consumer Price Index: Total All Items for the United Kingdom\n",
    "unemp_US_SA_M = fred.get_series('UNRATE') # unemployment rate in the United States\n",
    "unemp_UK_SA_M = fred.get_series('AURUKM') # Unemployment Rate in the United Kingdom\n",
    "population_US_NSA_A = fred.get_series('POPTHM') # Population in the United States\n",
    "population_UK_NSA_A = fred.get_series('POPUKA') # Population in the United Kingdom\n",
    "gov_debt_to_gdp_US_NSA_A = fred.get_series('GGGDTAUSA188N') # General government gross debt for United States\n",
    "gov_debt_to_gdp_UK_NSA_A = fred.get_series('GGGDTAGBA188N') # General government gross debt for United Kingdom\n",
    "house_debt_to_gdp_US_NSA_Q = fred.get_series('HDTGPDUSQ163N') # Household Debt to GDP for United States\n",
    "house_debt_to_gdp_UK_NSA_Q = fred.get_series('HDTGPDGBQ163N') # Household Debt to GDP for United Kingdom\n",
    "# non-comparable datasets\n",
    "real_gdp_US_SA_Q = fred.get_series('GDPC1') # Real Gross Domestic Product for United States (Billions of Chained 2012 Dollars, Seasonally Adjusted Annual Rate)\n",
    "real_gdp_UK_SA_Q = fred.get_series('NGDPRSAXDCGBQ') # Real Gross Domestic Product for Great Britain (Domestic Currency, Seasonally Adjusted)\n",
    "ind_prod_US_SA_M = fred.get_series('INDPRO') # Industrial Production: Total Index in the United States (Index 2017=100, Seasonally Adjusted)\n",
    "ind_prod_UK_SA_M = fred.get_series('GBRPROINDMISMEI') # Production of Total Industry in the United Kingdom (Index 2015=100, Seasonally Adjusted)\n",
    "\n",
    "# current account balance\n",
    "# FDI\n",
    "\n",
    "real_gdp_US_SA_Q.tail()"
   ]
  },
  {
   "cell_type": "code",
   "execution_count": 269,
   "metadata": {},
   "outputs": [
    {
     "data": {
      "text/html": [
       "<div>\n",
       "<style scoped>\n",
       "    .dataframe tbody tr th:only-of-type {\n",
       "        vertical-align: middle;\n",
       "    }\n",
       "\n",
       "    .dataframe tbody tr th {\n",
       "        vertical-align: top;\n",
       "    }\n",
       "\n",
       "    .dataframe thead th {\n",
       "        text-align: right;\n",
       "    }\n",
       "</style>\n",
       "<table border=\"1\" class=\"dataframe\">\n",
       "  <thead>\n",
       "    <tr style=\"text-align: right;\">\n",
       "      <th></th>\n",
       "      <th>ind_prod_US_SA_M</th>\n",
       "      <th>ind_prod_UK_SA_M</th>\n",
       "    </tr>\n",
       "  </thead>\n",
       "  <tbody>\n",
       "    <tr>\n",
       "      <th>2022-04-01</th>\n",
       "      <td>104.2709</td>\n",
       "      <td>113.229572</td>\n",
       "    </tr>\n",
       "    <tr>\n",
       "      <th>2022-05-01</th>\n",
       "      <td>104.1646</td>\n",
       "      <td>113.654050</td>\n",
       "    </tr>\n",
       "    <tr>\n",
       "      <th>2022-06-01</th>\n",
       "      <td>104.0772</td>\n",
       "      <td>113.335692</td>\n",
       "    </tr>\n",
       "    <tr>\n",
       "      <th>2022-07-01</th>\n",
       "      <td>104.7577</td>\n",
       "      <td>112.062257</td>\n",
       "    </tr>\n",
       "    <tr>\n",
       "      <th>2022-08-01</th>\n",
       "      <td>104.6544</td>\n",
       "      <td>110.045985</td>\n",
       "    </tr>\n",
       "  </tbody>\n",
       "</table>\n",
       "</div>"
      ],
      "text/plain": [
       "            ind_prod_US_SA_M  ind_prod_UK_SA_M\n",
       "2022-04-01          104.2709        113.229572\n",
       "2022-05-01          104.1646        113.654050\n",
       "2022-06-01          104.0772        113.335692\n",
       "2022-07-01          104.7577        112.062257\n",
       "2022-08-01          104.6544        110.045985"
      ]
     },
     "execution_count": 269,
     "metadata": {},
     "output_type": "execute_result"
    }
   ],
   "source": [
    "ind_prod_US_SA_M.name = 'ind_prod_US_SA_M'\n",
    "ind_prod_UK_SA_M.name = 'ind_prod_UK_SA_M'\n",
    "\n",
    "df = pd.merge(ind_prod_US_SA_M, ind_prod_UK_SA_M, how='inner', left_index=True, right_index=True) # merge data for 2 countries into a single DataFrame only for rows for which both countries have data\n",
    "df.tail()"
   ]
  },
  {
   "cell_type": "code",
   "execution_count": 270,
   "metadata": {},
   "outputs": [],
   "source": [
    "# Downloads data from World Bank API. \n",
    "# Documentation is here: https://github.com/tgherzog/wbgapi\n",
    "\n",
    "# find the right data to import\n",
    "\n",
    "# wb.source.info() # shows names of World Bank databases.\n",
    "# wb.series.info() # shows all world bank indicators (e.g. 'EG.ELC.ACCS.ZS'). By defaults, it shows all indicators in World Development Indicators (WDI) database.\n",
    "# wb.series.info(q=\"GDP\") # to search for a specific indicator in WB API using a keyword\n",
    "# wb.economy.info() # shows names and codes of countries and economies and codes for their region & income levels in World Bank databases\n",
    "# wb.economy.info(q=\"Azerbaijan\") # to search for a specific country/economy in WB API using a keyword\n",
    "# wb.region.info() # shows names of geographic regions in World Bank databases\n",
    "# wb.income.info() # shows income groups in World Bank databases\n",
    "# wb.search('NY.GDP.MKTP.CD') # deeper search on all meta data "
   ]
  },
  {
   "cell_type": "code",
   "execution_count": 8,
   "metadata": {},
   "outputs": [
    {
     "name": "stdout",
     "output_type": "stream",
     "text": [
      "You selected Time series\n",
      "You selected 2000\n",
      "You selected 2019\n",
      "You selected Country\n",
      "You selected  ['USA', 'GER']\n",
      "You selected  ['DATA1']\n",
      "You selected Line chart: benchmarked\n"
     ]
    }
   ],
   "source": [
    "# create functions as described in the logic for the code here: https://miro.com/app/board/uXjVP6Rlhjg=/\n",
    "\n",
    "# function for users to select data type by choosing either Snapshot (if user types '1') or Time series (if user types '2'). The function will return 1 or 2.\n",
    "def data_type_func():\n",
    "    data_type_dict = {1: 'Snapshot', 2: 'Time series'}\n",
    "    while True:\n",
    "        try: # use try+except to force the users to re-enter values if they entered them incorrectly\n",
    "            data_type_user_choice = int(input('What data type do you want to capture? Enter 1 for Snapshot or 2 for Time series'))\n",
    "            if data_type_user_choice in (1, 2):\n",
    "                print('You selected '+ data_type_dict[data_type_user_choice])\n",
    "                return data_type_user_choice\n",
    "                break\n",
    "            else:\n",
    "                print('You typed the wrong value. Try again.')\n",
    "        except:\n",
    "            print('You typed the wrong value. Try again.')\n",
    "\n",
    "# function for users to enter countries/regions that they want the data. The options will differ depending on whether they selected Country (1) or Region (2). The function will return country/countries or region(s)\n",
    "def geo_list_func(country_or_region):\n",
    "    geo_list = []\n",
    "    x = 0\n",
    "    if country_or_region == 1:\n",
    "        geo_msg = 'Enter ISO-3 country code (e.g. USA). Press \"q\" to finish.'\n",
    "    elif country_or_region == 2:\n",
    "        geo_msg = 'Enter geographical code (e.g. EEU). Press \"q\" to finish.'\n",
    "    while x == 0:\n",
    "        country = input(geo_msg)\n",
    "        if country == 'q':\n",
    "            x = x + 1\n",
    "        else:\n",
    "            geo_list.append(country.upper())\n",
    "    print('You selected ', geo_list)\n",
    "    return geo_list\n",
    "\n",
    "# function for users to select between Country (if user types '1') or Region (if user types '2'). The function will return 1 or 2.\n",
    "def geo_func():\n",
    "    geo_dict = {1: 'Country', 2: 'Region'}\n",
    "    while True:\n",
    "        try: # use try+except to force the users to re-enter values if they entered them incorrectly\n",
    "            geo_user_choice = int(input('What geography do you want to capture? Enter 1 for Country or 2 for Region'))\n",
    "            if geo_user_choice == 1:\n",
    "                print('You selected '+ geo_dict[geo_user_choice])\n",
    "                countries = geo_list_func(geo_user_choice) # calls geo_list_func to get user to enter countries, then assigns them to 'countries' list\n",
    "                return geo_user_choice, countries\n",
    "                break\n",
    "            elif geo_user_choice == 2:\n",
    "                print('You selected '+ geo_dict[geo_user_choice])\n",
    "                regions = geo_list_func(geo_user_choice) # calls geo_list_func to get user to enter regions, then assigns them to 'regions' list\n",
    "                return geo_user_choice, regions\n",
    "                break\n",
    "            else:\n",
    "                print('You typed the wrong value. Try again.')\n",
    "        except:\n",
    "            print('You typed the wrong value. Try again.')\n",
    "\n",
    "# function for users to type year(s) depending on their earlier selection between Snapshot and Time series data type. The function will return year(s).\n",
    "def year_func(data_type_user_choice):\n",
    "    while True:\n",
    "        try: # use try+except to force the users to re-enter values if they entered them incorrectly\n",
    "            if data_type_user_choice == 1: # runs this code if option 1 (i.e. Snapshot) has been previously selected as data type. Outputs year using year_user_choice variable.\n",
    "                year_user_choice = input('What year do you want to see the data for? For example, 2019.')\n",
    "                if len(year_user_choice) == 4 and int(year_user_choice) > 0: # checks to ensure that year value is 4 characters long\n",
    "                    print('You selected ' + year_user_choice)\n",
    "                    return int(year_user_choice)\n",
    "                    break\n",
    "            elif data_type_user_choice == 2: # runs this code if option 2 (i.e. Time series) has been previously selected as data type. Outputs start and end year using start_year_user_choice and end_year_user_choice variables.\n",
    "                start_year_user_choice = input('What start year do you want to see the data for? For example, 2019.')\n",
    "                end_year_user_choice = input('What end year do you want to see the data for? For example, 2019.')\n",
    "                if len(start_year_user_choice) == 4 and len(end_year_user_choice) == 4 and int(start_year_user_choice) < int(end_year_user_choice): # checks to ensure that years are 4-characters long and that start year value is lower than end year value.\n",
    "                    print('You selected ' + start_year_user_choice)\n",
    "                    print('You selected ' + end_year_user_choice)\n",
    "                    year_user_choice = (int(start_year_user_choice), int(end_year_user_choice))\n",
    "                    return year_user_choice\n",
    "                    break\n",
    "            else:\n",
    "                print('You typed the wrong value. Try again.')\n",
    "        except:\n",
    "            print('You typed the wrong value. Try again.')\n",
    "\n",
    "# function for users to type the data field(s) that they wanna download. Whether is a field or several fields depends on users' earlier selection between Snapshot and Time series data type. . The function will return data field(s) in a list format.\n",
    "def data_fields_func(field_or_fields):\n",
    "    field_list = []\n",
    "    x = 0\n",
    "    if field_or_fields == 1:\n",
    "        while x == 0:\n",
    "            geo_msg = 'Enter data fields to download data for (e.g. EG.ELC.ACCS.ZS). Press \"q\" to finish.'\n",
    "            data_field = input(geo_msg)\n",
    "            if data_field == 'q':\n",
    "                x = x + 1\n",
    "            else:\n",
    "                field_list.append(data_field.upper())\n",
    "    elif field_or_fields == 2:\n",
    "        geo_msg = 'Enter data field to download data for (e.g. EG.ELC.ACCS.ZS).'\n",
    "        data_field = input(geo_msg)\n",
    "        field_list.append(data_field.upper())\n",
    "    print('You selected ', field_list)\n",
    "    return field_list\n",
    "\n",
    "# function to select the appropriate chart depending on whether the user previously selected Snapshot (in which case this function will automatically return 'Bar chart: benchmarked') or Time series data type (in which case the user will be given an option to either select 'Line chart: benchmarked' or 'Line chart: percent change'). The function will return 0, 1 or 2.\n",
    "def chart_type_func(data_type_user_choice):\n",
    "    chart_type_dict = {0: 'Bar chart: benchmarked', 1: 'Line chart: benchmarked', 2: 'Line chart: percent change'}\n",
    "    if data_type_user_choice == 1:\n",
    "        print('You selected '+ chart_type_dict[0])\n",
    "        return 0 # returns '0' value which represents 'Bar chart: benchmarked'\n",
    "    elif data_type_user_choice == 2:\n",
    "        while True:\n",
    "            try: # use try+except to force the users to re-enter values if they entered them incorrectly\n",
    "                chart_type_user_choice = int(input(\"What chart do you want to create? Enter 1 for 'Line chart: benchmarked' or 2 for 'Line chart: percent change'\"))\n",
    "                if chart_type_user_choice == 1:\n",
    "                    print('You selected '+ chart_type_dict[chart_type_user_choice])\n",
    "                    return chart_type_user_choice\n",
    "                    break\n",
    "                elif chart_type_user_choice == 2:\n",
    "                    print('You selected '+ chart_type_dict[chart_type_user_choice])\n",
    "                    return chart_type_user_choice\n",
    "                    break\n",
    "                else:\n",
    "                    print('You typed the wrong value. Try again.')\n",
    "            except:\n",
    "                print('You typed the wrong value. Try again.')\n",
    "\n",
    "\n",
    "# call the functions\n",
    "\n",
    "data_type_user_choice = data_type_func() # runs a function to let users select either Snapshot or Time series data type and outputs variable data_type_user_choice with user selection either as 1 (Snapshot) or 2 (Time series).\n",
    "year_user_choice = year_func(data_type_user_choice) # runs a function to let users select year (if they previously selected Snapshot data type) or start & end year (if they previuosly selected Time series data type)\n",
    "geo_user_choice = geo_func() # runs a function geo_func and returns a list of two lists, where the first entry shows whether the user picked country (option 1) or region (option 2) and the second entry is a list of countries/regions that the user has inputted\n",
    "data_fields_user_choice = data_fields_func(data_type_user_choice) # runs a function to let users select several data fields (if they previously selected Snapshot data type) or one data field (if they previuosly selected Time series data type). This function outputs field(s) inputted by user as a list.\n",
    "chart_type_func_choice = chart_type_func(data_type_user_choice) # runs a function to let users select a chart type (if they previuosly selected Time series data type) by choosing between 'Line chart: benchmarked' (option 1) or 'Line chart: percent change' (option 2). If the users previously selected Snapshot data type, then this function will automatically select 'Bar chart: benchmarked' (option 0)."
   ]
  },
  {
   "cell_type": "code",
   "execution_count": 276,
   "metadata": {},
   "outputs": [
    {
     "data": {
      "text/html": [
       "<div>\n",
       "<style scoped>\n",
       "    .dataframe tbody tr th:only-of-type {\n",
       "        vertical-align: middle;\n",
       "    }\n",
       "\n",
       "    .dataframe tbody tr th {\n",
       "        vertical-align: top;\n",
       "    }\n",
       "\n",
       "    .dataframe thead th {\n",
       "        text-align: right;\n",
       "    }\n",
       "</style>\n",
       "<table border=\"1\" class=\"dataframe\">\n",
       "  <thead>\n",
       "    <tr style=\"text-align: right;\">\n",
       "      <th></th>\n",
       "      <th>Access to electricity (% of population)</th>\n",
       "      <th>GDP (current US$)</th>\n",
       "      <th>GDP per capita (current US$)</th>\n",
       "      <th>Population, female (% of total population</th>\n",
       "    </tr>\n",
       "    <tr>\n",
       "      <th>Country</th>\n",
       "      <th></th>\n",
       "      <th></th>\n",
       "      <th></th>\n",
       "      <th></th>\n",
       "    </tr>\n",
       "  </thead>\n",
       "  <tbody>\n",
       "    <tr>\n",
       "      <th>Ireland</th>\n",
       "      <td>100.000000</td>\n",
       "      <td>4.258890e+11</td>\n",
       "      <td>85422.542868</td>\n",
       "      <td>50.355401</td>\n",
       "    </tr>\n",
       "    <tr>\n",
       "      <th>Greece</th>\n",
       "      <td>100.000000</td>\n",
       "      <td>1.888352e+11</td>\n",
       "      <td>17647.232688</td>\n",
       "      <td>50.918176</td>\n",
       "    </tr>\n",
       "    <tr>\n",
       "      <th>Lithuania</th>\n",
       "      <td>100.000000</td>\n",
       "      <td>5.654696e+10</td>\n",
       "      <td>20232.302036</td>\n",
       "      <td>53.715933</td>\n",
       "    </tr>\n",
       "    <tr>\n",
       "      <th>Finland</th>\n",
       "      <td>100.000000</td>\n",
       "      <td>2.718370e+11</td>\n",
       "      <td>49160.837152</td>\n",
       "      <td>50.684983</td>\n",
       "    </tr>\n",
       "    <tr>\n",
       "      <th>Romania</th>\n",
       "      <td>100.000000</td>\n",
       "      <td>2.495113e+11</td>\n",
       "      <td>12956.566248</td>\n",
       "      <td>51.377136</td>\n",
       "    </tr>\n",
       "    <tr>\n",
       "      <th>Sweden</th>\n",
       "      <td>100.000000</td>\n",
       "      <td>5.414872e+11</td>\n",
       "      <td>52300.206199</td>\n",
       "      <td>49.907795</td>\n",
       "    </tr>\n",
       "    <tr>\n",
       "      <th>France</th>\n",
       "      <td>100.000000</td>\n",
       "      <td>2.630318e+12</td>\n",
       "      <td>39037.122631</td>\n",
       "      <td>51.604879</td>\n",
       "    </tr>\n",
       "    <tr>\n",
       "      <th>Portugal</th>\n",
       "      <td>100.000000</td>\n",
       "      <td>2.285392e+11</td>\n",
       "      <td>22194.566115</td>\n",
       "      <td>52.690275</td>\n",
       "    </tr>\n",
       "    <tr>\n",
       "      <th>Italy</th>\n",
       "      <td>100.000000</td>\n",
       "      <td>1.892574e+12</td>\n",
       "      <td>31834.972618</td>\n",
       "      <td>51.311884</td>\n",
       "    </tr>\n",
       "    <tr>\n",
       "      <th>Bulgaria</th>\n",
       "      <td>99.699997</td>\n",
       "      <td>6.988935e+10</td>\n",
       "      <td>10079.203381</td>\n",
       "      <td>51.440632</td>\n",
       "    </tr>\n",
       "    <tr>\n",
       "      <th>Slovak Republic</th>\n",
       "      <td>100.000000</td>\n",
       "      <td>1.051726e+11</td>\n",
       "      <td>19266.513574</td>\n",
       "      <td>51.306725</td>\n",
       "    </tr>\n",
       "    <tr>\n",
       "      <th>Belgium</th>\n",
       "      <td>100.000000</td>\n",
       "      <td>5.216769e+11</td>\n",
       "      <td>45189.366900</td>\n",
       "      <td>50.435502</td>\n",
       "    </tr>\n",
       "    <tr>\n",
       "      <th>Latvia</th>\n",
       "      <td>100.000000</td>\n",
       "      <td>3.364546e+10</td>\n",
       "      <td>17703.953443</td>\n",
       "      <td>53.910769</td>\n",
       "    </tr>\n",
       "    <tr>\n",
       "      <th>Croatia</th>\n",
       "      <td>100.000000</td>\n",
       "      <td>5.720378e+10</td>\n",
       "      <td>14132.486561</td>\n",
       "      <td>51.786534</td>\n",
       "    </tr>\n",
       "    <tr>\n",
       "      <th>Estonia</th>\n",
       "      <td>100.000000</td>\n",
       "      <td>3.065029e+10</td>\n",
       "      <td>23054.358491</td>\n",
       "      <td>52.624386</td>\n",
       "    </tr>\n",
       "    <tr>\n",
       "      <th>Austria</th>\n",
       "      <td>100.000000</td>\n",
       "      <td>4.332585e+11</td>\n",
       "      <td>48588.659385</td>\n",
       "      <td>50.705154</td>\n",
       "    </tr>\n",
       "    <tr>\n",
       "      <th>Hungary</th>\n",
       "      <td>100.000000</td>\n",
       "      <td>1.567431e+11</td>\n",
       "      <td>16075.973266</td>\n",
       "      <td>52.400400</td>\n",
       "    </tr>\n",
       "    <tr>\n",
       "      <th>Luxembourg</th>\n",
       "      <td>100.000000</td>\n",
       "      <td>7.335313e+10</td>\n",
       "      <td>116356.158037</td>\n",
       "      <td>49.425058</td>\n",
       "    </tr>\n",
       "    <tr>\n",
       "      <th>Denmark</th>\n",
       "      <td>100.000000</td>\n",
       "      <td>3.560849e+11</td>\n",
       "      <td>61063.316430</td>\n",
       "      <td>50.289018</td>\n",
       "    </tr>\n",
       "    <tr>\n",
       "      <th>Malta</th>\n",
       "      <td>100.000000</td>\n",
       "      <td>1.491704e+10</td>\n",
       "      <td>28946.462677</td>\n",
       "      <td>49.852674</td>\n",
       "    </tr>\n",
       "    <tr>\n",
       "      <th>Netherlands</th>\n",
       "      <td>100.000000</td>\n",
       "      <td>9.138654e+11</td>\n",
       "      <td>52396.032210</td>\n",
       "      <td>50.176783</td>\n",
       "    </tr>\n",
       "    <tr>\n",
       "      <th>Cyprus</th>\n",
       "      <td>100.000000</td>\n",
       "      <td>2.469210e+10</td>\n",
       "      <td>27681.566406</td>\n",
       "      <td>50.013790</td>\n",
       "    </tr>\n",
       "    <tr>\n",
       "      <th>Czechia</th>\n",
       "      <td>100.000000</td>\n",
       "      <td>2.453393e+11</td>\n",
       "      <td>22933.499591</td>\n",
       "      <td>50.765423</td>\n",
       "    </tr>\n",
       "    <tr>\n",
       "      <th>Poland</th>\n",
       "      <td>100.000000</td>\n",
       "      <td>5.966244e+11</td>\n",
       "      <td>15742.453726</td>\n",
       "      <td>51.546822</td>\n",
       "    </tr>\n",
       "    <tr>\n",
       "      <th>Slovenia</th>\n",
       "      <td>100.000000</td>\n",
       "      <td>5.358961e+10</td>\n",
       "      <td>25489.500228</td>\n",
       "      <td>50.203758</td>\n",
       "    </tr>\n",
       "    <tr>\n",
       "      <th>Germany</th>\n",
       "      <td>100.000000</td>\n",
       "      <td>3.846414e+12</td>\n",
       "      <td>46252.689304</td>\n",
       "      <td>50.568201</td>\n",
       "    </tr>\n",
       "    <tr>\n",
       "      <th>Spain</th>\n",
       "      <td>100.000000</td>\n",
       "      <td>1.281485e+12</td>\n",
       "      <td>27056.421751</td>\n",
       "      <td>50.853503</td>\n",
       "    </tr>\n",
       "  </tbody>\n",
       "</table>\n",
       "</div>"
      ],
      "text/plain": [
       "                 Access to electricity (% of population)  GDP (current US$)  \\\n",
       "Country                                                                       \n",
       "Ireland                                       100.000000       4.258890e+11   \n",
       "Greece                                        100.000000       1.888352e+11   \n",
       "Lithuania                                     100.000000       5.654696e+10   \n",
       "Finland                                       100.000000       2.718370e+11   \n",
       "Romania                                       100.000000       2.495113e+11   \n",
       "Sweden                                        100.000000       5.414872e+11   \n",
       "France                                        100.000000       2.630318e+12   \n",
       "Portugal                                      100.000000       2.285392e+11   \n",
       "Italy                                         100.000000       1.892574e+12   \n",
       "Bulgaria                                       99.699997       6.988935e+10   \n",
       "Slovak Republic                               100.000000       1.051726e+11   \n",
       "Belgium                                       100.000000       5.216769e+11   \n",
       "Latvia                                        100.000000       3.364546e+10   \n",
       "Croatia                                       100.000000       5.720378e+10   \n",
       "Estonia                                       100.000000       3.065029e+10   \n",
       "Austria                                       100.000000       4.332585e+11   \n",
       "Hungary                                       100.000000       1.567431e+11   \n",
       "Luxembourg                                    100.000000       7.335313e+10   \n",
       "Denmark                                       100.000000       3.560849e+11   \n",
       "Malta                                         100.000000       1.491704e+10   \n",
       "Netherlands                                   100.000000       9.138654e+11   \n",
       "Cyprus                                        100.000000       2.469210e+10   \n",
       "Czechia                                       100.000000       2.453393e+11   \n",
       "Poland                                        100.000000       5.966244e+11   \n",
       "Slovenia                                      100.000000       5.358961e+10   \n",
       "Germany                                       100.000000       3.846414e+12   \n",
       "Spain                                         100.000000       1.281485e+12   \n",
       "\n",
       "                 GDP per capita (current US$)  \\\n",
       "Country                                         \n",
       "Ireland                          85422.542868   \n",
       "Greece                           17647.232688   \n",
       "Lithuania                        20232.302036   \n",
       "Finland                          49160.837152   \n",
       "Romania                          12956.566248   \n",
       "Sweden                           52300.206199   \n",
       "France                           39037.122631   \n",
       "Portugal                         22194.566115   \n",
       "Italy                            31834.972618   \n",
       "Bulgaria                         10079.203381   \n",
       "Slovak Republic                  19266.513574   \n",
       "Belgium                          45189.366900   \n",
       "Latvia                           17703.953443   \n",
       "Croatia                          14132.486561   \n",
       "Estonia                          23054.358491   \n",
       "Austria                          48588.659385   \n",
       "Hungary                          16075.973266   \n",
       "Luxembourg                      116356.158037   \n",
       "Denmark                          61063.316430   \n",
       "Malta                            28946.462677   \n",
       "Netherlands                      52396.032210   \n",
       "Cyprus                           27681.566406   \n",
       "Czechia                          22933.499591   \n",
       "Poland                           15742.453726   \n",
       "Slovenia                         25489.500228   \n",
       "Germany                          46252.689304   \n",
       "Spain                            27056.421751   \n",
       "\n",
       "                 Population, female (% of total population  \n",
       "Country                                                     \n",
       "Ireland                                          50.355401  \n",
       "Greece                                           50.918176  \n",
       "Lithuania                                        53.715933  \n",
       "Finland                                          50.684983  \n",
       "Romania                                          51.377136  \n",
       "Sweden                                           49.907795  \n",
       "France                                           51.604879  \n",
       "Portugal                                         52.690275  \n",
       "Italy                                            51.311884  \n",
       "Bulgaria                                         51.440632  \n",
       "Slovak Republic                                  51.306725  \n",
       "Belgium                                          50.435502  \n",
       "Latvia                                           53.910769  \n",
       "Croatia                                          51.786534  \n",
       "Estonia                                          52.624386  \n",
       "Austria                                          50.705154  \n",
       "Hungary                                          52.400400  \n",
       "Luxembourg                                       49.425058  \n",
       "Denmark                                          50.289018  \n",
       "Malta                                            49.852674  \n",
       "Netherlands                                      50.176783  \n",
       "Cyprus                                           50.013790  \n",
       "Czechia                                          50.765423  \n",
       "Poland                                           51.546822  \n",
       "Slovenia                                         50.203758  \n",
       "Germany                                          50.568201  \n",
       "Spain                                            50.853503  "
      ]
     },
     "execution_count": 276,
     "metadata": {},
     "output_type": "execute_result"
    }
   ],
   "source": [
    "# download data from World Bank for multiple countries & data fields/indicators but for a single year. Then show it as a bar chart.\n",
    "\n",
    "countries = ['USA', 'GBP', 'CHN', 'BRA', 'IND', 'ZWE', 'AZE', 'WLD'] # select countries\n",
    "region = 'EUU' # select region\n",
    "\n",
    "data_fields_dict = {'EG.ELC.ACCS.ZS' : 'Access to electricity (% of population)', \n",
    "                    'NY.GDP.MKTP.CD' : 'GDP (current US$)',\n",
    "                    'NY.GDP.PCAP.CD' : 'GDP per capita (current US$)',\n",
    "                    'SP.POP.TOTL.FE.ZS' : 'Population, female (% of total population'\n",
    "                    } # create a dictionary of indicator codes and descriptions\n",
    "\n",
    "df = wb.data.DataFrame(list(data_fields_dict.keys()), wb.region.members(region), time=2020, labels=True).dropna() # downloads data for all EU countries for specific data fields/indicators for year 2020. Also, drops all blank values\n",
    "df.columns = ['Country'] +  list(data_fields_dict.values()) # change columns names from using indicator codes to indicator names\n",
    "df.set_index(['Country'], inplace=True) # replace index that has country codes with index using values from 'Country' column\n",
    "#df = wb.data.DataFrame(data_fields_list, countries, mrv=30, numericTimeKeys=True)\n",
    "#df = wb.data.DataFrame(data_fields_list, coutnries, time=range(2010,2020), index='time', numericTimeKeys=True, labels=True)\n",
    "df"
   ]
  },
  {
   "cell_type": "code",
   "execution_count": null,
   "metadata": {},
   "outputs": [
    {
     "data": {
      "application/vnd.plotly.v1+json": {
       "config": {
        "plotlyServerURL": "https://plot.ly"
       },
       "data": [
        {
         "alignmentgroup": "True",
         "hovertemplate": "variable=Access to electricity (% of population)<br>Country=%{x}<br>value=%{y}<extra></extra>",
         "legendgroup": "Access to electricity (% of population)",
         "marker": {
          "color": "#636efa",
          "pattern": {
           "shape": ""
          }
         },
         "name": "Access to electricity (% of population)",
         "offsetgroup": "Access to electricity (% of population)",
         "orientation": "v",
         "showlegend": true,
         "textposition": "auto",
         "type": "bar",
         "x": [
          "Ireland",
          "Greece",
          "Lithuania",
          "Finland",
          "Romania",
          "Sweden",
          "France",
          "Portugal",
          "Italy",
          "Bulgaria",
          "Slovak Republic",
          "Belgium",
          "Latvia",
          "Croatia",
          "Estonia",
          "Austria",
          "Hungary",
          "Luxembourg",
          "Denmark",
          "Malta",
          "Netherlands",
          "Cyprus",
          "Czechia",
          "Poland",
          "Slovenia",
          "Germany",
          "Spain"
         ],
         "xaxis": "x",
         "y": [
          100,
          100,
          100,
          100,
          100,
          100,
          100,
          100,
          100,
          99.6999969482422,
          100,
          100,
          100,
          100,
          100,
          100,
          100,
          100,
          100,
          100,
          100,
          100,
          100,
          100,
          100,
          100,
          100
         ],
         "yaxis": "y"
        },
        {
         "alignmentgroup": "True",
         "hovertemplate": "variable=GDP (current US$)<br>Country=%{x}<br>value=%{y}<extra></extra>",
         "legendgroup": "GDP (current US$)",
         "marker": {
          "color": "#EF553B",
          "pattern": {
           "shape": ""
          }
         },
         "name": "GDP (current US$)",
         "offsetgroup": "GDP (current US$)",
         "orientation": "v",
         "showlegend": true,
         "textposition": "auto",
         "type": "bar",
         "x": [
          "Ireland",
          "Greece",
          "Lithuania",
          "Finland",
          "Romania",
          "Sweden",
          "France",
          "Portugal",
          "Italy",
          "Bulgaria",
          "Slovak Republic",
          "Belgium",
          "Latvia",
          "Croatia",
          "Estonia",
          "Austria",
          "Hungary",
          "Luxembourg",
          "Denmark",
          "Malta",
          "Netherlands",
          "Cyprus",
          "Czechia",
          "Poland",
          "Slovenia",
          "Germany",
          "Spain"
         ],
         "xaxis": "x",
         "y": [
          425888950992.003,
          188835201625.91,
          56546957475.4912,
          271836962949.417,
          249511333647.502,
          541487151474.557,
          2630317731455.26,
          228539245045.341,
          1892574064222.11,
          69889347433.4324,
          105172564491.569,
          521676942134.632,
          33645460617.239,
          57203783203.0259,
          30650285471.7215,
          433258467676.515,
          156743134665.959,
          73353132793.7076,
          356084867685.639,
          14917038504.285,
          913865395789.886,
          24692095945.1742,
          245339322066.759,
          596624355719.671,
          53589609580.7099,
          3846413928653.71,
          1281484640043.58
         ],
         "yaxis": "y"
        },
        {
         "alignmentgroup": "True",
         "hovertemplate": "variable=GDP per capita (current US$)<br>Country=%{x}<br>value=%{y}<extra></extra>",
         "legendgroup": "GDP per capita (current US$)",
         "marker": {
          "color": "#00cc96",
          "pattern": {
           "shape": ""
          }
         },
         "name": "GDP per capita (current US$)",
         "offsetgroup": "GDP per capita (current US$)",
         "orientation": "v",
         "showlegend": true,
         "textposition": "auto",
         "type": "bar",
         "x": [
          "Ireland",
          "Greece",
          "Lithuania",
          "Finland",
          "Romania",
          "Sweden",
          "France",
          "Portugal",
          "Italy",
          "Bulgaria",
          "Slovak Republic",
          "Belgium",
          "Latvia",
          "Croatia",
          "Estonia",
          "Austria",
          "Hungary",
          "Luxembourg",
          "Denmark",
          "Malta",
          "Netherlands",
          "Cyprus",
          "Czechia",
          "Poland",
          "Slovenia",
          "Germany",
          "Spain"
         ],
         "xaxis": "x",
         "y": [
          85422.5428682266,
          17647.2326882744,
          20232.3020358588,
          49160.8371522596,
          12956.5662477568,
          52300.2061994993,
          39037.1226309074,
          22194.566114935,
          31834.9726184046,
          10079.2033812203,
          19266.5135736247,
          45189.3669003126,
          17703.9534432332,
          14132.4865609499,
          23054.3584905978,
          48588.6593847921,
          16075.9732662505,
          116356.158037286,
          61063.3164304238,
          28946.4626770412,
          52396.0322099525,
          27681.56640625,
          22933.4995909236,
          15742.4537256368,
          25489.5002284083,
          46252.6893044892,
          27056.4217512166
         ],
         "yaxis": "y"
        },
        {
         "alignmentgroup": "True",
         "hovertemplate": "variable=Population, female (% of total population<br>Country=%{x}<br>value=%{y}<extra></extra>",
         "legendgroup": "Population, female (% of total population",
         "marker": {
          "color": "#ab63fa",
          "pattern": {
           "shape": ""
          }
         },
         "name": "Population, female (% of total population",
         "offsetgroup": "Population, female (% of total population",
         "orientation": "v",
         "showlegend": true,
         "textposition": "auto",
         "type": "bar",
         "x": [
          "Ireland",
          "Greece",
          "Lithuania",
          "Finland",
          "Romania",
          "Sweden",
          "France",
          "Portugal",
          "Italy",
          "Bulgaria",
          "Slovak Republic",
          "Belgium",
          "Latvia",
          "Croatia",
          "Estonia",
          "Austria",
          "Hungary",
          "Luxembourg",
          "Denmark",
          "Malta",
          "Netherlands",
          "Cyprus",
          "Czechia",
          "Poland",
          "Slovenia",
          "Germany",
          "Spain"
         ],
         "xaxis": "x",
         "y": [
          50.3554014787164,
          50.9181760128699,
          53.7159326464364,
          50.6849834263357,
          51.3771357692678,
          49.9077953158991,
          51.6048791736532,
          52.6902753996952,
          51.3118839212073,
          51.4406316809013,
          51.3067246338268,
          50.4355019182689,
          53.9107688359995,
          51.7865337902422,
          52.6243857134996,
          50.705154112631,
          52.4003995714441,
          49.4250578296932,
          50.289017840017,
          49.8526743956932,
          50.1767827517601,
          50.013790407343,
          50.7654228945384,
          51.5468217030299,
          50.2037584682905,
          50.5682013421545,
          50.8535030522973
         ],
         "yaxis": "y"
        }
       ],
       "layout": {
        "barmode": "relative",
        "legend": {
         "title": {
          "text": "variable"
         },
         "tracegroupgap": 0
        },
        "margin": {
         "t": 60
        },
        "template": {
         "data": {
          "bar": [
           {
            "error_x": {
             "color": "#2a3f5f"
            },
            "error_y": {
             "color": "#2a3f5f"
            },
            "marker": {
             "line": {
              "color": "#E5ECF6",
              "width": 0.5
             },
             "pattern": {
              "fillmode": "overlay",
              "size": 10,
              "solidity": 0.2
             }
            },
            "type": "bar"
           }
          ],
          "barpolar": [
           {
            "marker": {
             "line": {
              "color": "#E5ECF6",
              "width": 0.5
             },
             "pattern": {
              "fillmode": "overlay",
              "size": 10,
              "solidity": 0.2
             }
            },
            "type": "barpolar"
           }
          ],
          "carpet": [
           {
            "aaxis": {
             "endlinecolor": "#2a3f5f",
             "gridcolor": "white",
             "linecolor": "white",
             "minorgridcolor": "white",
             "startlinecolor": "#2a3f5f"
            },
            "baxis": {
             "endlinecolor": "#2a3f5f",
             "gridcolor": "white",
             "linecolor": "white",
             "minorgridcolor": "white",
             "startlinecolor": "#2a3f5f"
            },
            "type": "carpet"
           }
          ],
          "choropleth": [
           {
            "colorbar": {
             "outlinewidth": 0,
             "ticks": ""
            },
            "type": "choropleth"
           }
          ],
          "contour": [
           {
            "colorbar": {
             "outlinewidth": 0,
             "ticks": ""
            },
            "colorscale": [
             [
              0,
              "#0d0887"
             ],
             [
              0.1111111111111111,
              "#46039f"
             ],
             [
              0.2222222222222222,
              "#7201a8"
             ],
             [
              0.3333333333333333,
              "#9c179e"
             ],
             [
              0.4444444444444444,
              "#bd3786"
             ],
             [
              0.5555555555555556,
              "#d8576b"
             ],
             [
              0.6666666666666666,
              "#ed7953"
             ],
             [
              0.7777777777777778,
              "#fb9f3a"
             ],
             [
              0.8888888888888888,
              "#fdca26"
             ],
             [
              1,
              "#f0f921"
             ]
            ],
            "type": "contour"
           }
          ],
          "contourcarpet": [
           {
            "colorbar": {
             "outlinewidth": 0,
             "ticks": ""
            },
            "type": "contourcarpet"
           }
          ],
          "heatmap": [
           {
            "colorbar": {
             "outlinewidth": 0,
             "ticks": ""
            },
            "colorscale": [
             [
              0,
              "#0d0887"
             ],
             [
              0.1111111111111111,
              "#46039f"
             ],
             [
              0.2222222222222222,
              "#7201a8"
             ],
             [
              0.3333333333333333,
              "#9c179e"
             ],
             [
              0.4444444444444444,
              "#bd3786"
             ],
             [
              0.5555555555555556,
              "#d8576b"
             ],
             [
              0.6666666666666666,
              "#ed7953"
             ],
             [
              0.7777777777777778,
              "#fb9f3a"
             ],
             [
              0.8888888888888888,
              "#fdca26"
             ],
             [
              1,
              "#f0f921"
             ]
            ],
            "type": "heatmap"
           }
          ],
          "heatmapgl": [
           {
            "colorbar": {
             "outlinewidth": 0,
             "ticks": ""
            },
            "colorscale": [
             [
              0,
              "#0d0887"
             ],
             [
              0.1111111111111111,
              "#46039f"
             ],
             [
              0.2222222222222222,
              "#7201a8"
             ],
             [
              0.3333333333333333,
              "#9c179e"
             ],
             [
              0.4444444444444444,
              "#bd3786"
             ],
             [
              0.5555555555555556,
              "#d8576b"
             ],
             [
              0.6666666666666666,
              "#ed7953"
             ],
             [
              0.7777777777777778,
              "#fb9f3a"
             ],
             [
              0.8888888888888888,
              "#fdca26"
             ],
             [
              1,
              "#f0f921"
             ]
            ],
            "type": "heatmapgl"
           }
          ],
          "histogram": [
           {
            "marker": {
             "pattern": {
              "fillmode": "overlay",
              "size": 10,
              "solidity": 0.2
             }
            },
            "type": "histogram"
           }
          ],
          "histogram2d": [
           {
            "colorbar": {
             "outlinewidth": 0,
             "ticks": ""
            },
            "colorscale": [
             [
              0,
              "#0d0887"
             ],
             [
              0.1111111111111111,
              "#46039f"
             ],
             [
              0.2222222222222222,
              "#7201a8"
             ],
             [
              0.3333333333333333,
              "#9c179e"
             ],
             [
              0.4444444444444444,
              "#bd3786"
             ],
             [
              0.5555555555555556,
              "#d8576b"
             ],
             [
              0.6666666666666666,
              "#ed7953"
             ],
             [
              0.7777777777777778,
              "#fb9f3a"
             ],
             [
              0.8888888888888888,
              "#fdca26"
             ],
             [
              1,
              "#f0f921"
             ]
            ],
            "type": "histogram2d"
           }
          ],
          "histogram2dcontour": [
           {
            "colorbar": {
             "outlinewidth": 0,
             "ticks": ""
            },
            "colorscale": [
             [
              0,
              "#0d0887"
             ],
             [
              0.1111111111111111,
              "#46039f"
             ],
             [
              0.2222222222222222,
              "#7201a8"
             ],
             [
              0.3333333333333333,
              "#9c179e"
             ],
             [
              0.4444444444444444,
              "#bd3786"
             ],
             [
              0.5555555555555556,
              "#d8576b"
             ],
             [
              0.6666666666666666,
              "#ed7953"
             ],
             [
              0.7777777777777778,
              "#fb9f3a"
             ],
             [
              0.8888888888888888,
              "#fdca26"
             ],
             [
              1,
              "#f0f921"
             ]
            ],
            "type": "histogram2dcontour"
           }
          ],
          "mesh3d": [
           {
            "colorbar": {
             "outlinewidth": 0,
             "ticks": ""
            },
            "type": "mesh3d"
           }
          ],
          "parcoords": [
           {
            "line": {
             "colorbar": {
              "outlinewidth": 0,
              "ticks": ""
             }
            },
            "type": "parcoords"
           }
          ],
          "pie": [
           {
            "automargin": true,
            "type": "pie"
           }
          ],
          "scatter": [
           {
            "fillpattern": {
             "fillmode": "overlay",
             "size": 10,
             "solidity": 0.2
            },
            "type": "scatter"
           }
          ],
          "scatter3d": [
           {
            "line": {
             "colorbar": {
              "outlinewidth": 0,
              "ticks": ""
             }
            },
            "marker": {
             "colorbar": {
              "outlinewidth": 0,
              "ticks": ""
             }
            },
            "type": "scatter3d"
           }
          ],
          "scattercarpet": [
           {
            "marker": {
             "colorbar": {
              "outlinewidth": 0,
              "ticks": ""
             }
            },
            "type": "scattercarpet"
           }
          ],
          "scattergeo": [
           {
            "marker": {
             "colorbar": {
              "outlinewidth": 0,
              "ticks": ""
             }
            },
            "type": "scattergeo"
           }
          ],
          "scattergl": [
           {
            "marker": {
             "colorbar": {
              "outlinewidth": 0,
              "ticks": ""
             }
            },
            "type": "scattergl"
           }
          ],
          "scattermapbox": [
           {
            "marker": {
             "colorbar": {
              "outlinewidth": 0,
              "ticks": ""
             }
            },
            "type": "scattermapbox"
           }
          ],
          "scatterpolar": [
           {
            "marker": {
             "colorbar": {
              "outlinewidth": 0,
              "ticks": ""
             }
            },
            "type": "scatterpolar"
           }
          ],
          "scatterpolargl": [
           {
            "marker": {
             "colorbar": {
              "outlinewidth": 0,
              "ticks": ""
             }
            },
            "type": "scatterpolargl"
           }
          ],
          "scatterternary": [
           {
            "marker": {
             "colorbar": {
              "outlinewidth": 0,
              "ticks": ""
             }
            },
            "type": "scatterternary"
           }
          ],
          "surface": [
           {
            "colorbar": {
             "outlinewidth": 0,
             "ticks": ""
            },
            "colorscale": [
             [
              0,
              "#0d0887"
             ],
             [
              0.1111111111111111,
              "#46039f"
             ],
             [
              0.2222222222222222,
              "#7201a8"
             ],
             [
              0.3333333333333333,
              "#9c179e"
             ],
             [
              0.4444444444444444,
              "#bd3786"
             ],
             [
              0.5555555555555556,
              "#d8576b"
             ],
             [
              0.6666666666666666,
              "#ed7953"
             ],
             [
              0.7777777777777778,
              "#fb9f3a"
             ],
             [
              0.8888888888888888,
              "#fdca26"
             ],
             [
              1,
              "#f0f921"
             ]
            ],
            "type": "surface"
           }
          ],
          "table": [
           {
            "cells": {
             "fill": {
              "color": "#EBF0F8"
             },
             "line": {
              "color": "white"
             }
            },
            "header": {
             "fill": {
              "color": "#C8D4E3"
             },
             "line": {
              "color": "white"
             }
            },
            "type": "table"
           }
          ]
         },
         "layout": {
          "annotationdefaults": {
           "arrowcolor": "#2a3f5f",
           "arrowhead": 0,
           "arrowwidth": 1
          },
          "autotypenumbers": "strict",
          "coloraxis": {
           "colorbar": {
            "outlinewidth": 0,
            "ticks": ""
           }
          },
          "colorscale": {
           "diverging": [
            [
             0,
             "#8e0152"
            ],
            [
             0.1,
             "#c51b7d"
            ],
            [
             0.2,
             "#de77ae"
            ],
            [
             0.3,
             "#f1b6da"
            ],
            [
             0.4,
             "#fde0ef"
            ],
            [
             0.5,
             "#f7f7f7"
            ],
            [
             0.6,
             "#e6f5d0"
            ],
            [
             0.7,
             "#b8e186"
            ],
            [
             0.8,
             "#7fbc41"
            ],
            [
             0.9,
             "#4d9221"
            ],
            [
             1,
             "#276419"
            ]
           ],
           "sequential": [
            [
             0,
             "#0d0887"
            ],
            [
             0.1111111111111111,
             "#46039f"
            ],
            [
             0.2222222222222222,
             "#7201a8"
            ],
            [
             0.3333333333333333,
             "#9c179e"
            ],
            [
             0.4444444444444444,
             "#bd3786"
            ],
            [
             0.5555555555555556,
             "#d8576b"
            ],
            [
             0.6666666666666666,
             "#ed7953"
            ],
            [
             0.7777777777777778,
             "#fb9f3a"
            ],
            [
             0.8888888888888888,
             "#fdca26"
            ],
            [
             1,
             "#f0f921"
            ]
           ],
           "sequentialminus": [
            [
             0,
             "#0d0887"
            ],
            [
             0.1111111111111111,
             "#46039f"
            ],
            [
             0.2222222222222222,
             "#7201a8"
            ],
            [
             0.3333333333333333,
             "#9c179e"
            ],
            [
             0.4444444444444444,
             "#bd3786"
            ],
            [
             0.5555555555555556,
             "#d8576b"
            ],
            [
             0.6666666666666666,
             "#ed7953"
            ],
            [
             0.7777777777777778,
             "#fb9f3a"
            ],
            [
             0.8888888888888888,
             "#fdca26"
            ],
            [
             1,
             "#f0f921"
            ]
           ]
          },
          "colorway": [
           "#636efa",
           "#EF553B",
           "#00cc96",
           "#ab63fa",
           "#FFA15A",
           "#19d3f3",
           "#FF6692",
           "#B6E880",
           "#FF97FF",
           "#FECB52"
          ],
          "font": {
           "color": "#2a3f5f"
          },
          "geo": {
           "bgcolor": "white",
           "lakecolor": "white",
           "landcolor": "#E5ECF6",
           "showlakes": true,
           "showland": true,
           "subunitcolor": "white"
          },
          "hoverlabel": {
           "align": "left"
          },
          "hovermode": "closest",
          "mapbox": {
           "style": "light"
          },
          "paper_bgcolor": "white",
          "plot_bgcolor": "#E5ECF6",
          "polar": {
           "angularaxis": {
            "gridcolor": "white",
            "linecolor": "white",
            "ticks": ""
           },
           "bgcolor": "#E5ECF6",
           "radialaxis": {
            "gridcolor": "white",
            "linecolor": "white",
            "ticks": ""
           }
          },
          "scene": {
           "xaxis": {
            "backgroundcolor": "#E5ECF6",
            "gridcolor": "white",
            "gridwidth": 2,
            "linecolor": "white",
            "showbackground": true,
            "ticks": "",
            "zerolinecolor": "white"
           },
           "yaxis": {
            "backgroundcolor": "#E5ECF6",
            "gridcolor": "white",
            "gridwidth": 2,
            "linecolor": "white",
            "showbackground": true,
            "ticks": "",
            "zerolinecolor": "white"
           },
           "zaxis": {
            "backgroundcolor": "#E5ECF6",
            "gridcolor": "white",
            "gridwidth": 2,
            "linecolor": "white",
            "showbackground": true,
            "ticks": "",
            "zerolinecolor": "white"
           }
          },
          "shapedefaults": {
           "line": {
            "color": "#2a3f5f"
           }
          },
          "ternary": {
           "aaxis": {
            "gridcolor": "white",
            "linecolor": "white",
            "ticks": ""
           },
           "baxis": {
            "gridcolor": "white",
            "linecolor": "white",
            "ticks": ""
           },
           "bgcolor": "#E5ECF6",
           "caxis": {
            "gridcolor": "white",
            "linecolor": "white",
            "ticks": ""
           }
          },
          "title": {
           "x": 0.05
          },
          "xaxis": {
           "automargin": true,
           "gridcolor": "white",
           "linecolor": "white",
           "ticks": "",
           "title": {
            "standoff": 15
           },
           "zerolinecolor": "white",
           "zerolinewidth": 2
          },
          "yaxis": {
           "automargin": true,
           "gridcolor": "white",
           "linecolor": "white",
           "ticks": "",
           "title": {
            "standoff": 15
           },
           "zerolinecolor": "white",
           "zerolinewidth": 2
          }
         }
        },
        "xaxis": {
         "anchor": "y",
         "domain": [
          0,
          1
         ],
         "title": {
          "text": "Country"
         }
        },
        "yaxis": {
         "anchor": "x",
         "domain": [
          0,
          1
         ],
         "title": {
          "text": "value"
         }
        }
       }
      }
     },
     "metadata": {},
     "output_type": "display_data"
    }
   ],
   "source": [
    "# chart the data\n",
    "\n",
    "fig = px.bar(df, x=df.index, y=df.columns)\n",
    "fig.show()"
   ]
  },
  {
   "cell_type": "code",
   "execution_count": null,
   "metadata": {},
   "outputs": [
    {
     "data": {
      "text/html": [
       "<div>\n",
       "<style scoped>\n",
       "    .dataframe tbody tr th:only-of-type {\n",
       "        vertical-align: middle;\n",
       "    }\n",
       "\n",
       "    .dataframe tbody tr th {\n",
       "        vertical-align: top;\n",
       "    }\n",
       "\n",
       "    .dataframe thead th {\n",
       "        text-align: right;\n",
       "    }\n",
       "</style>\n",
       "<table border=\"1\" class=\"dataframe\">\n",
       "  <thead>\n",
       "    <tr style=\"text-align: right;\">\n",
       "      <th></th>\n",
       "      <th>Country</th>\n",
       "      <th>data_field</th>\n",
       "      <th>value</th>\n",
       "    </tr>\n",
       "  </thead>\n",
       "  <tbody>\n",
       "    <tr>\n",
       "      <th>0</th>\n",
       "      <td>Ireland</td>\n",
       "      <td>GDP (current US$)</td>\n",
       "      <td>4.258890e+11</td>\n",
       "    </tr>\n",
       "    <tr>\n",
       "      <th>1</th>\n",
       "      <td>Greece</td>\n",
       "      <td>GDP (current US$)</td>\n",
       "      <td>1.888352e+11</td>\n",
       "    </tr>\n",
       "    <tr>\n",
       "      <th>2</th>\n",
       "      <td>Lithuania</td>\n",
       "      <td>GDP (current US$)</td>\n",
       "      <td>5.654696e+10</td>\n",
       "    </tr>\n",
       "    <tr>\n",
       "      <th>3</th>\n",
       "      <td>Finland</td>\n",
       "      <td>GDP (current US$)</td>\n",
       "      <td>2.718370e+11</td>\n",
       "    </tr>\n",
       "    <tr>\n",
       "      <th>4</th>\n",
       "      <td>Romania</td>\n",
       "      <td>GDP (current US$)</td>\n",
       "      <td>2.495113e+11</td>\n",
       "    </tr>\n",
       "  </tbody>\n",
       "</table>\n",
       "</div>"
      ],
      "text/plain": [
       "     Country         data_field         value\n",
       "0    Ireland  GDP (current US$)  4.258890e+11\n",
       "1     Greece  GDP (current US$)  1.888352e+11\n",
       "2  Lithuania  GDP (current US$)  5.654696e+10\n",
       "3    Finland  GDP (current US$)  2.718370e+11\n",
       "4    Romania  GDP (current US$)  2.495113e+11"
      ]
     },
     "execution_count": 252,
     "metadata": {},
     "output_type": "execute_result"
    }
   ],
   "source": [
    "# to have Country as row and all column names under a new 'data_field' column and their values under 'value' column\n",
    "df_new = df.reset_index() # move 'Country' column from index to a separate column\n",
    "df_new = df_new.melt(id_vars=['Country'], value_vars=list(df.columns)[1:], var_name='data_field', value_name='value')\n",
    "df_new.head()"
   ]
  },
  {
   "cell_type": "code",
   "execution_count": null,
   "metadata": {},
   "outputs": [
    {
     "data": {
      "application/vnd.plotly.v1+json": {
       "config": {
        "plotlyServerURL": "https://plot.ly"
       },
       "data": [
        {
         "alignmentgroup": "True",
         "hovertemplate": "data_field=GDP (current US$)<br>Country=%{x}<br>value=%{y}<extra></extra>",
         "legendgroup": "GDP (current US$)",
         "marker": {
          "color": "#636efa",
          "pattern": {
           "shape": ""
          }
         },
         "name": "GDP (current US$)",
         "offsetgroup": "GDP (current US$)",
         "orientation": "v",
         "showlegend": true,
         "textposition": "auto",
         "type": "bar",
         "x": [
          "Ireland",
          "Greece",
          "Lithuania",
          "Finland",
          "Romania",
          "Sweden",
          "France",
          "Portugal",
          "Italy",
          "Bulgaria",
          "Slovak Republic",
          "Belgium",
          "Latvia",
          "Croatia",
          "Estonia",
          "Austria",
          "Hungary",
          "Luxembourg",
          "Denmark",
          "Malta",
          "Netherlands",
          "Cyprus",
          "Czechia",
          "Poland",
          "Slovenia",
          "Germany",
          "Spain"
         ],
         "xaxis": "x",
         "y": [
          425888950992.003,
          188835201625.91,
          56546957475.4912,
          271836962949.417,
          249511333647.502,
          541487151474.557,
          2630317731455.26,
          228539245045.341,
          1892574064222.11,
          69889347433.4324,
          105172564491.569,
          521676942134.632,
          33645460617.239,
          57203783203.0259,
          30650285471.7215,
          433258467676.515,
          156743134665.959,
          73353132793.7076,
          356084867685.639,
          14917038504.285,
          913865395789.886,
          24692095945.1742,
          245339322066.759,
          596624355719.671,
          53589609580.7099,
          3846413928653.71,
          1281484640043.58
         ],
         "yaxis": "y"
        },
        {
         "alignmentgroup": "True",
         "hovertemplate": "data_field=GDP per capita (current US$)<br>Country=%{x}<br>value=%{y}<extra></extra>",
         "legendgroup": "GDP per capita (current US$)",
         "marker": {
          "color": "#EF553B",
          "pattern": {
           "shape": ""
          }
         },
         "name": "GDP per capita (current US$)",
         "offsetgroup": "GDP per capita (current US$)",
         "orientation": "v",
         "showlegend": true,
         "textposition": "auto",
         "type": "bar",
         "x": [
          "Ireland",
          "Greece",
          "Lithuania",
          "Finland",
          "Romania",
          "Sweden",
          "France",
          "Portugal",
          "Italy",
          "Bulgaria",
          "Slovak Republic",
          "Belgium",
          "Latvia",
          "Croatia",
          "Estonia",
          "Austria",
          "Hungary",
          "Luxembourg",
          "Denmark",
          "Malta",
          "Netherlands",
          "Cyprus",
          "Czechia",
          "Poland",
          "Slovenia",
          "Germany",
          "Spain"
         ],
         "xaxis": "x",
         "y": [
          85422.5428682266,
          17647.2326882744,
          20232.3020358588,
          49160.8371522596,
          12956.5662477568,
          52300.2061994993,
          39037.1226309074,
          22194.566114935,
          31834.9726184046,
          10079.2033812203,
          19266.5135736247,
          45189.3669003126,
          17703.9534432332,
          14132.4865609499,
          23054.3584905978,
          48588.6593847921,
          16075.9732662505,
          116356.158037286,
          61063.3164304238,
          28946.4626770412,
          52396.0322099525,
          27681.56640625,
          22933.4995909236,
          15742.4537256368,
          25489.5002284083,
          46252.6893044892,
          27056.4217512166
         ],
         "yaxis": "y"
        },
        {
         "alignmentgroup": "True",
         "hovertemplate": "data_field=Population, female (% of total population<br>Country=%{x}<br>value=%{y}<extra></extra>",
         "legendgroup": "Population, female (% of total population",
         "marker": {
          "color": "#00cc96",
          "pattern": {
           "shape": ""
          }
         },
         "name": "Population, female (% of total population",
         "offsetgroup": "Population, female (% of total population",
         "orientation": "v",
         "showlegend": true,
         "textposition": "auto",
         "type": "bar",
         "x": [
          "Ireland",
          "Greece",
          "Lithuania",
          "Finland",
          "Romania",
          "Sweden",
          "France",
          "Portugal",
          "Italy",
          "Bulgaria",
          "Slovak Republic",
          "Belgium",
          "Latvia",
          "Croatia",
          "Estonia",
          "Austria",
          "Hungary",
          "Luxembourg",
          "Denmark",
          "Malta",
          "Netherlands",
          "Cyprus",
          "Czechia",
          "Poland",
          "Slovenia",
          "Germany",
          "Spain"
         ],
         "xaxis": "x",
         "y": [
          50.3554014787164,
          50.9181760128699,
          53.7159326464364,
          50.6849834263357,
          51.3771357692678,
          49.9077953158991,
          51.6048791736532,
          52.6902753996952,
          51.3118839212073,
          51.4406316809013,
          51.3067246338268,
          50.4355019182689,
          53.9107688359995,
          51.7865337902422,
          52.6243857134996,
          50.705154112631,
          52.4003995714441,
          49.4250578296932,
          50.289017840017,
          49.8526743956932,
          50.1767827517601,
          50.013790407343,
          50.7654228945384,
          51.5468217030299,
          50.2037584682905,
          50.5682013421545,
          50.8535030522973
         ],
         "yaxis": "y"
        }
       ],
       "layout": {
        "barmode": "group",
        "legend": {
         "title": {
          "text": "data_field"
         },
         "tracegroupgap": 0
        },
        "margin": {
         "t": 60
        },
        "template": {
         "data": {
          "bar": [
           {
            "error_x": {
             "color": "#2a3f5f"
            },
            "error_y": {
             "color": "#2a3f5f"
            },
            "marker": {
             "line": {
              "color": "#E5ECF6",
              "width": 0.5
             },
             "pattern": {
              "fillmode": "overlay",
              "size": 10,
              "solidity": 0.2
             }
            },
            "type": "bar"
           }
          ],
          "barpolar": [
           {
            "marker": {
             "line": {
              "color": "#E5ECF6",
              "width": 0.5
             },
             "pattern": {
              "fillmode": "overlay",
              "size": 10,
              "solidity": 0.2
             }
            },
            "type": "barpolar"
           }
          ],
          "carpet": [
           {
            "aaxis": {
             "endlinecolor": "#2a3f5f",
             "gridcolor": "white",
             "linecolor": "white",
             "minorgridcolor": "white",
             "startlinecolor": "#2a3f5f"
            },
            "baxis": {
             "endlinecolor": "#2a3f5f",
             "gridcolor": "white",
             "linecolor": "white",
             "minorgridcolor": "white",
             "startlinecolor": "#2a3f5f"
            },
            "type": "carpet"
           }
          ],
          "choropleth": [
           {
            "colorbar": {
             "outlinewidth": 0,
             "ticks": ""
            },
            "type": "choropleth"
           }
          ],
          "contour": [
           {
            "colorbar": {
             "outlinewidth": 0,
             "ticks": ""
            },
            "colorscale": [
             [
              0,
              "#0d0887"
             ],
             [
              0.1111111111111111,
              "#46039f"
             ],
             [
              0.2222222222222222,
              "#7201a8"
             ],
             [
              0.3333333333333333,
              "#9c179e"
             ],
             [
              0.4444444444444444,
              "#bd3786"
             ],
             [
              0.5555555555555556,
              "#d8576b"
             ],
             [
              0.6666666666666666,
              "#ed7953"
             ],
             [
              0.7777777777777778,
              "#fb9f3a"
             ],
             [
              0.8888888888888888,
              "#fdca26"
             ],
             [
              1,
              "#f0f921"
             ]
            ],
            "type": "contour"
           }
          ],
          "contourcarpet": [
           {
            "colorbar": {
             "outlinewidth": 0,
             "ticks": ""
            },
            "type": "contourcarpet"
           }
          ],
          "heatmap": [
           {
            "colorbar": {
             "outlinewidth": 0,
             "ticks": ""
            },
            "colorscale": [
             [
              0,
              "#0d0887"
             ],
             [
              0.1111111111111111,
              "#46039f"
             ],
             [
              0.2222222222222222,
              "#7201a8"
             ],
             [
              0.3333333333333333,
              "#9c179e"
             ],
             [
              0.4444444444444444,
              "#bd3786"
             ],
             [
              0.5555555555555556,
              "#d8576b"
             ],
             [
              0.6666666666666666,
              "#ed7953"
             ],
             [
              0.7777777777777778,
              "#fb9f3a"
             ],
             [
              0.8888888888888888,
              "#fdca26"
             ],
             [
              1,
              "#f0f921"
             ]
            ],
            "type": "heatmap"
           }
          ],
          "heatmapgl": [
           {
            "colorbar": {
             "outlinewidth": 0,
             "ticks": ""
            },
            "colorscale": [
             [
              0,
              "#0d0887"
             ],
             [
              0.1111111111111111,
              "#46039f"
             ],
             [
              0.2222222222222222,
              "#7201a8"
             ],
             [
              0.3333333333333333,
              "#9c179e"
             ],
             [
              0.4444444444444444,
              "#bd3786"
             ],
             [
              0.5555555555555556,
              "#d8576b"
             ],
             [
              0.6666666666666666,
              "#ed7953"
             ],
             [
              0.7777777777777778,
              "#fb9f3a"
             ],
             [
              0.8888888888888888,
              "#fdca26"
             ],
             [
              1,
              "#f0f921"
             ]
            ],
            "type": "heatmapgl"
           }
          ],
          "histogram": [
           {
            "marker": {
             "pattern": {
              "fillmode": "overlay",
              "size": 10,
              "solidity": 0.2
             }
            },
            "type": "histogram"
           }
          ],
          "histogram2d": [
           {
            "colorbar": {
             "outlinewidth": 0,
             "ticks": ""
            },
            "colorscale": [
             [
              0,
              "#0d0887"
             ],
             [
              0.1111111111111111,
              "#46039f"
             ],
             [
              0.2222222222222222,
              "#7201a8"
             ],
             [
              0.3333333333333333,
              "#9c179e"
             ],
             [
              0.4444444444444444,
              "#bd3786"
             ],
             [
              0.5555555555555556,
              "#d8576b"
             ],
             [
              0.6666666666666666,
              "#ed7953"
             ],
             [
              0.7777777777777778,
              "#fb9f3a"
             ],
             [
              0.8888888888888888,
              "#fdca26"
             ],
             [
              1,
              "#f0f921"
             ]
            ],
            "type": "histogram2d"
           }
          ],
          "histogram2dcontour": [
           {
            "colorbar": {
             "outlinewidth": 0,
             "ticks": ""
            },
            "colorscale": [
             [
              0,
              "#0d0887"
             ],
             [
              0.1111111111111111,
              "#46039f"
             ],
             [
              0.2222222222222222,
              "#7201a8"
             ],
             [
              0.3333333333333333,
              "#9c179e"
             ],
             [
              0.4444444444444444,
              "#bd3786"
             ],
             [
              0.5555555555555556,
              "#d8576b"
             ],
             [
              0.6666666666666666,
              "#ed7953"
             ],
             [
              0.7777777777777778,
              "#fb9f3a"
             ],
             [
              0.8888888888888888,
              "#fdca26"
             ],
             [
              1,
              "#f0f921"
             ]
            ],
            "type": "histogram2dcontour"
           }
          ],
          "mesh3d": [
           {
            "colorbar": {
             "outlinewidth": 0,
             "ticks": ""
            },
            "type": "mesh3d"
           }
          ],
          "parcoords": [
           {
            "line": {
             "colorbar": {
              "outlinewidth": 0,
              "ticks": ""
             }
            },
            "type": "parcoords"
           }
          ],
          "pie": [
           {
            "automargin": true,
            "type": "pie"
           }
          ],
          "scatter": [
           {
            "fillpattern": {
             "fillmode": "overlay",
             "size": 10,
             "solidity": 0.2
            },
            "type": "scatter"
           }
          ],
          "scatter3d": [
           {
            "line": {
             "colorbar": {
              "outlinewidth": 0,
              "ticks": ""
             }
            },
            "marker": {
             "colorbar": {
              "outlinewidth": 0,
              "ticks": ""
             }
            },
            "type": "scatter3d"
           }
          ],
          "scattercarpet": [
           {
            "marker": {
             "colorbar": {
              "outlinewidth": 0,
              "ticks": ""
             }
            },
            "type": "scattercarpet"
           }
          ],
          "scattergeo": [
           {
            "marker": {
             "colorbar": {
              "outlinewidth": 0,
              "ticks": ""
             }
            },
            "type": "scattergeo"
           }
          ],
          "scattergl": [
           {
            "marker": {
             "colorbar": {
              "outlinewidth": 0,
              "ticks": ""
             }
            },
            "type": "scattergl"
           }
          ],
          "scattermapbox": [
           {
            "marker": {
             "colorbar": {
              "outlinewidth": 0,
              "ticks": ""
             }
            },
            "type": "scattermapbox"
           }
          ],
          "scatterpolar": [
           {
            "marker": {
             "colorbar": {
              "outlinewidth": 0,
              "ticks": ""
             }
            },
            "type": "scatterpolar"
           }
          ],
          "scatterpolargl": [
           {
            "marker": {
             "colorbar": {
              "outlinewidth": 0,
              "ticks": ""
             }
            },
            "type": "scatterpolargl"
           }
          ],
          "scatterternary": [
           {
            "marker": {
             "colorbar": {
              "outlinewidth": 0,
              "ticks": ""
             }
            },
            "type": "scatterternary"
           }
          ],
          "surface": [
           {
            "colorbar": {
             "outlinewidth": 0,
             "ticks": ""
            },
            "colorscale": [
             [
              0,
              "#0d0887"
             ],
             [
              0.1111111111111111,
              "#46039f"
             ],
             [
              0.2222222222222222,
              "#7201a8"
             ],
             [
              0.3333333333333333,
              "#9c179e"
             ],
             [
              0.4444444444444444,
              "#bd3786"
             ],
             [
              0.5555555555555556,
              "#d8576b"
             ],
             [
              0.6666666666666666,
              "#ed7953"
             ],
             [
              0.7777777777777778,
              "#fb9f3a"
             ],
             [
              0.8888888888888888,
              "#fdca26"
             ],
             [
              1,
              "#f0f921"
             ]
            ],
            "type": "surface"
           }
          ],
          "table": [
           {
            "cells": {
             "fill": {
              "color": "#EBF0F8"
             },
             "line": {
              "color": "white"
             }
            },
            "header": {
             "fill": {
              "color": "#C8D4E3"
             },
             "line": {
              "color": "white"
             }
            },
            "type": "table"
           }
          ]
         },
         "layout": {
          "annotationdefaults": {
           "arrowcolor": "#2a3f5f",
           "arrowhead": 0,
           "arrowwidth": 1
          },
          "autotypenumbers": "strict",
          "coloraxis": {
           "colorbar": {
            "outlinewidth": 0,
            "ticks": ""
           }
          },
          "colorscale": {
           "diverging": [
            [
             0,
             "#8e0152"
            ],
            [
             0.1,
             "#c51b7d"
            ],
            [
             0.2,
             "#de77ae"
            ],
            [
             0.3,
             "#f1b6da"
            ],
            [
             0.4,
             "#fde0ef"
            ],
            [
             0.5,
             "#f7f7f7"
            ],
            [
             0.6,
             "#e6f5d0"
            ],
            [
             0.7,
             "#b8e186"
            ],
            [
             0.8,
             "#7fbc41"
            ],
            [
             0.9,
             "#4d9221"
            ],
            [
             1,
             "#276419"
            ]
           ],
           "sequential": [
            [
             0,
             "#0d0887"
            ],
            [
             0.1111111111111111,
             "#46039f"
            ],
            [
             0.2222222222222222,
             "#7201a8"
            ],
            [
             0.3333333333333333,
             "#9c179e"
            ],
            [
             0.4444444444444444,
             "#bd3786"
            ],
            [
             0.5555555555555556,
             "#d8576b"
            ],
            [
             0.6666666666666666,
             "#ed7953"
            ],
            [
             0.7777777777777778,
             "#fb9f3a"
            ],
            [
             0.8888888888888888,
             "#fdca26"
            ],
            [
             1,
             "#f0f921"
            ]
           ],
           "sequentialminus": [
            [
             0,
             "#0d0887"
            ],
            [
             0.1111111111111111,
             "#46039f"
            ],
            [
             0.2222222222222222,
             "#7201a8"
            ],
            [
             0.3333333333333333,
             "#9c179e"
            ],
            [
             0.4444444444444444,
             "#bd3786"
            ],
            [
             0.5555555555555556,
             "#d8576b"
            ],
            [
             0.6666666666666666,
             "#ed7953"
            ],
            [
             0.7777777777777778,
             "#fb9f3a"
            ],
            [
             0.8888888888888888,
             "#fdca26"
            ],
            [
             1,
             "#f0f921"
            ]
           ]
          },
          "colorway": [
           "#636efa",
           "#EF553B",
           "#00cc96",
           "#ab63fa",
           "#FFA15A",
           "#19d3f3",
           "#FF6692",
           "#B6E880",
           "#FF97FF",
           "#FECB52"
          ],
          "font": {
           "color": "#2a3f5f"
          },
          "geo": {
           "bgcolor": "white",
           "lakecolor": "white",
           "landcolor": "#E5ECF6",
           "showlakes": true,
           "showland": true,
           "subunitcolor": "white"
          },
          "hoverlabel": {
           "align": "left"
          },
          "hovermode": "closest",
          "mapbox": {
           "style": "light"
          },
          "paper_bgcolor": "white",
          "plot_bgcolor": "#E5ECF6",
          "polar": {
           "angularaxis": {
            "gridcolor": "white",
            "linecolor": "white",
            "ticks": ""
           },
           "bgcolor": "#E5ECF6",
           "radialaxis": {
            "gridcolor": "white",
            "linecolor": "white",
            "ticks": ""
           }
          },
          "scene": {
           "xaxis": {
            "backgroundcolor": "#E5ECF6",
            "gridcolor": "white",
            "gridwidth": 2,
            "linecolor": "white",
            "showbackground": true,
            "ticks": "",
            "zerolinecolor": "white"
           },
           "yaxis": {
            "backgroundcolor": "#E5ECF6",
            "gridcolor": "white",
            "gridwidth": 2,
            "linecolor": "white",
            "showbackground": true,
            "ticks": "",
            "zerolinecolor": "white"
           },
           "zaxis": {
            "backgroundcolor": "#E5ECF6",
            "gridcolor": "white",
            "gridwidth": 2,
            "linecolor": "white",
            "showbackground": true,
            "ticks": "",
            "zerolinecolor": "white"
           }
          },
          "shapedefaults": {
           "line": {
            "color": "#2a3f5f"
           }
          },
          "ternary": {
           "aaxis": {
            "gridcolor": "white",
            "linecolor": "white",
            "ticks": ""
           },
           "baxis": {
            "gridcolor": "white",
            "linecolor": "white",
            "ticks": ""
           },
           "bgcolor": "#E5ECF6",
           "caxis": {
            "gridcolor": "white",
            "linecolor": "white",
            "ticks": ""
           }
          },
          "title": {
           "x": 0.05
          },
          "xaxis": {
           "automargin": true,
           "gridcolor": "white",
           "linecolor": "white",
           "ticks": "",
           "title": {
            "standoff": 15
           },
           "zerolinecolor": "white",
           "zerolinewidth": 2
          },
          "yaxis": {
           "automargin": true,
           "gridcolor": "white",
           "linecolor": "white",
           "ticks": "",
           "title": {
            "standoff": 15
           },
           "zerolinecolor": "white",
           "zerolinewidth": 2
          }
         }
        },
        "xaxis": {
         "anchor": "y",
         "domain": [
          0,
          1
         ],
         "title": {
          "text": "Country"
         }
        },
        "yaxis": {
         "anchor": "x",
         "domain": [
          0,
          1
         ],
         "title": {
          "text": "value"
         }
        }
       }
      }
     },
     "metadata": {},
     "output_type": "display_data"
    }
   ],
   "source": [
    "# TODO fix chart so that it shows data as grouped bars\n",
    "\n",
    "fig = px.bar(df_new, x='Country', y='value', color='data_field', barmode = 'group')\n",
    "fig.show()"
   ]
  },
  {
   "cell_type": "code",
   "execution_count": null,
   "metadata": {},
   "outputs": [],
   "source": [
    "# TODO select datapoints to download from https://data.worldbank.org/ and add them to data_fields_dict\n",
    "# TODO https://www.youtube.com/watch?v=fXqAajIgtWc\n",
    "# TODO create geographic maps using this tutorial: https://www.youtube.com/watch?v=Oht6cf-Acl0"
   ]
  }
 ],
 "metadata": {
  "kernelspec": {
   "display_name": "Python 3.10.0 64-bit",
   "language": "python",
   "name": "python3"
  },
  "language_info": {
   "codemirror_mode": {
    "name": "ipython",
    "version": 3
   },
   "file_extension": ".py",
   "mimetype": "text/x-python",
   "name": "python",
   "nbconvert_exporter": "python",
   "pygments_lexer": "ipython3",
   "version": "3.10.0"
  },
  "orig_nbformat": 4,
  "vscode": {
   "interpreter": {
    "hash": "369f2c481f4da34e4445cda3fffd2e751bd1c4d706f27375911949ba6bb62e1c"
   }
  }
 },
 "nbformat": 4,
 "nbformat_minor": 2
}
