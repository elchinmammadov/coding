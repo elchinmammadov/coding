{
 "cells": [
  {
   "cell_type": "code",
   "execution_count": 327,
   "metadata": {},
   "outputs": [
    {
     "data": {
      "application/vnd.plotly.v1+json": {
       "config": {
        "plotlyServerURL": "https://plot.ly"
       },
       "data": [
        {
         "hovertemplate": "Country=Austria<br>Date=%{x}<br>Price (EUR/MWhe)=%{y}<extra></extra>",
         "legendgroup": "Austria",
         "line": {
          "color": "#636efa",
          "dash": "solid"
         },
         "marker": {
          "symbol": "circle"
         },
         "mode": "lines",
         "name": "Austria",
         "orientation": "v",
         "showlegend": true,
         "type": "scatter",
         "x": [
          "2015-01-01T00:00:00",
          "2016-01-01T00:00:00",
          "2017-01-01T00:00:00",
          "2018-01-01T00:00:00",
          "2019-01-01T00:00:00",
          "2020-01-01T00:00:00",
          "2021-01-01T00:00:00",
          "2022-01-01T00:00:00"
         ],
         "xaxis": "x",
         "y": [
          31.87901369863014,
          28.98226775956284,
          34.185534246575344,
          46.3147397260274,
          40.057753424657534,
          33.145655737704914,
          106.85175342465753,
          263.29556886227545
         ],
         "yaxis": "y"
        },
        {
         "hovertemplate": "Country=Belgium<br>Date=%{x}<br>Price (EUR/MWhe)=%{y}<extra></extra>",
         "legendgroup": "Belgium",
         "line": {
          "color": "#EF553B",
          "dash": "solid"
         },
         "marker": {
          "symbol": "circle"
         },
         "mode": "lines",
         "name": "Belgium",
         "orientation": "v",
         "showlegend": true,
         "type": "scatter",
         "x": [
          "2015-01-01T00:00:00",
          "2016-01-01T00:00:00",
          "2017-01-01T00:00:00",
          "2018-01-01T00:00:00",
          "2019-01-01T00:00:00",
          "2020-01-01T00:00:00",
          "2021-01-01T00:00:00",
          "2022-01-01T00:00:00"
         ],
         "xaxis": "x",
         "y": [
          44.72345205479452,
          36.61830601092896,
          44.57975342465753,
          55.27819178082192,
          39.34583561643836,
          31.882622950819673,
          104.12383561643834,
          242.26149700598802
         ],
         "yaxis": "y"
        },
        {
         "hovertemplate": "Country=Bulgaria<br>Date=%{x}<br>Price (EUR/MWhe)=%{y}<extra></extra>",
         "legendgroup": "Bulgaria",
         "line": {
          "color": "#00cc96",
          "dash": "solid"
         },
         "marker": {
          "symbol": "circle"
         },
         "mode": "lines",
         "name": "Bulgaria",
         "orientation": "v",
         "showlegend": true,
         "type": "scatter",
         "x": [
          "2015-01-01T00:00:00",
          "2016-01-01T00:00:00",
          "2017-01-01T00:00:00",
          "2018-01-01T00:00:00",
          "2019-01-01T00:00:00",
          "2020-01-01T00:00:00",
          "2021-01-01T00:00:00",
          "2022-01-01T00:00:00"
         ],
         "xaxis": "x",
         "y": [
          null,
          48.795543478260875,
          39.66827397260274,
          39.89323287671233,
          47.47498630136986,
          39.292814207650274,
          108.70194520547945,
          253.3865269461078
         ],
         "yaxis": "y"
        },
        {
         "hovertemplate": "Country=Croatia<br>Date=%{x}<br>Price (EUR/MWhe)=%{y}<extra></extra>",
         "legendgroup": "Croatia",
         "line": {
          "color": "#ab63fa",
          "dash": "solid"
         },
         "marker": {
          "symbol": "circle"
         },
         "mode": "lines",
         "name": "Croatia",
         "orientation": "v",
         "showlegend": true,
         "type": "scatter",
         "x": [
          "2015-01-01T00:00:00",
          "2016-01-01T00:00:00",
          "2017-01-01T00:00:00",
          "2018-01-01T00:00:00",
          "2019-01-01T00:00:00",
          "2020-01-01T00:00:00",
          "2021-01-01T00:00:00",
          "2022-01-01T00:00:00"
         ],
         "xaxis": "x",
         "y": [
          null,
          null,
          53.79445652173913,
          52.00810958904109,
          49.27605479452054,
          38.03401639344263,
          114.69852054794521,
          274.83110778443114
         ],
         "yaxis": "y"
        },
        {
         "hovertemplate": "Country=Czechia<br>Date=%{x}<br>Price (EUR/MWhe)=%{y}<extra></extra>",
         "legendgroup": "Czechia",
         "line": {
          "color": "#FFA15A",
          "dash": "solid"
         },
         "marker": {
          "symbol": "circle"
         },
         "mode": "lines",
         "name": "Czechia",
         "orientation": "v",
         "showlegend": true,
         "type": "scatter",
         "x": [
          "2015-01-01T00:00:00",
          "2016-01-01T00:00:00",
          "2017-01-01T00:00:00",
          "2018-01-01T00:00:00",
          "2019-01-01T00:00:00",
          "2020-01-01T00:00:00",
          "2021-01-01T00:00:00",
          "2022-01-01T00:00:00"
         ],
         "xaxis": "x",
         "y": [
          32.31931506849315,
          31.154207650273225,
          36.44728767123288,
          46.02813698630137,
          40.22972602739726,
          33.60193989071038,
          100.66276712328768,
          247.15239520958082
         ],
         "yaxis": "y"
        },
        {
         "hovertemplate": "Country=Denmark<br>Date=%{x}<br>Price (EUR/MWhe)=%{y}<extra></extra>",
         "legendgroup": "Denmark",
         "line": {
          "color": "#19d3f3",
          "dash": "solid"
         },
         "marker": {
          "symbol": "circle"
         },
         "mode": "lines",
         "name": "Denmark",
         "orientation": "v",
         "showlegend": true,
         "type": "scatter",
         "x": [
          "2015-01-01T00:00:00",
          "2016-01-01T00:00:00",
          "2017-01-01T00:00:00",
          "2018-01-01T00:00:00",
          "2019-01-01T00:00:00",
          "2020-01-01T00:00:00",
          "2021-01-01T00:00:00",
          "2022-01-01T00:00:00"
         ],
         "xaxis": "x",
         "y": [
          23.5253698630137,
          27.78087431693989,
          30.84095890410959,
          44.89405479452055,
          39.023397260273974,
          26.279754098360655,
          88.05860273972603,
          212.60895209580838
         ],
         "yaxis": "y"
        },
        {
         "hovertemplate": "Country=Estonia<br>Date=%{x}<br>Price (EUR/MWhe)=%{y}<extra></extra>",
         "legendgroup": "Estonia",
         "line": {
          "color": "#FF6692",
          "dash": "solid"
         },
         "marker": {
          "symbol": "circle"
         },
         "mode": "lines",
         "name": "Estonia",
         "orientation": "v",
         "showlegend": true,
         "type": "scatter",
         "x": [
          "2015-01-01T00:00:00",
          "2016-01-01T00:00:00",
          "2017-01-01T00:00:00",
          "2018-01-01T00:00:00",
          "2019-01-01T00:00:00",
          "2020-01-01T00:00:00",
          "2021-01-01T00:00:00",
          "2022-01-01T00:00:00"
         ],
         "xaxis": "x",
         "y": [
          31.083506849315068,
          33.06579234972678,
          33.20413698630137,
          47.06594520547945,
          45.8574794520548,
          33.68969945355191,
          86.7286301369863,
          186.37020958083832
         ],
         "yaxis": "y"
        },
        {
         "hovertemplate": "Country=Finland<br>Date=%{x}<br>Price (EUR/MWhe)=%{y}<extra></extra>",
         "legendgroup": "Finland",
         "line": {
          "color": "#B6E880",
          "dash": "solid"
         },
         "marker": {
          "symbol": "circle"
         },
         "mode": "lines",
         "name": "Finland",
         "orientation": "v",
         "showlegend": true,
         "type": "scatter",
         "x": [
          "2015-01-01T00:00:00",
          "2016-01-01T00:00:00",
          "2017-01-01T00:00:00",
          "2018-01-01T00:00:00",
          "2019-01-01T00:00:00",
          "2020-01-01T00:00:00",
          "2021-01-01T00:00:00",
          "2022-01-01T00:00:00"
         ],
         "xaxis": "x",
         "y": [
          29.657068493150685,
          32.435765027322404,
          33.192027397260276,
          46.79794520547945,
          44.040383561643836,
          28.02,
          72.34424657534247,
          145.5319161676647
         ],
         "yaxis": "y"
        },
        {
         "hovertemplate": "Country=France<br>Date=%{x}<br>Price (EUR/MWhe)=%{y}<extra></extra>",
         "legendgroup": "France",
         "line": {
          "color": "#FF97FF",
          "dash": "solid"
         },
         "marker": {
          "symbol": "circle"
         },
         "mode": "lines",
         "name": "France",
         "orientation": "v",
         "showlegend": true,
         "type": "scatter",
         "x": [
          "2015-01-01T00:00:00",
          "2016-01-01T00:00:00",
          "2017-01-01T00:00:00",
          "2018-01-01T00:00:00",
          "2019-01-01T00:00:00",
          "2020-01-01T00:00:00",
          "2021-01-01T00:00:00",
          "2022-01-01T00:00:00"
         ],
         "xaxis": "x",
         "y": [
          38.528,
          36.75289617486339,
          44.95942465753424,
          50.20356164383561,
          39.448684931506854,
          32.204180327868855,
          109.17613698630137,
          276.36715568862274
         ],
         "yaxis": "y"
        },
        {
         "hovertemplate": "Country=Germany<br>Date=%{x}<br>Price (EUR/MWhe)=%{y}<extra></extra>",
         "legendgroup": "Germany",
         "line": {
          "color": "#FECB52",
          "dash": "solid"
         },
         "marker": {
          "symbol": "circle"
         },
         "mode": "lines",
         "name": "Germany",
         "orientation": "v",
         "showlegend": true,
         "type": "scatter",
         "x": [
          "2015-01-01T00:00:00",
          "2016-01-01T00:00:00",
          "2017-01-01T00:00:00",
          "2018-01-01T00:00:00",
          "2019-01-01T00:00:00",
          "2020-01-01T00:00:00",
          "2021-01-01T00:00:00",
          "2022-01-01T00:00:00"
         ],
         "xaxis": "x",
         "y": [
          31.87901369863014,
          28.98226775956284,
          34.185534246575344,
          44.46665753424657,
          37.66813698630137,
          30.47172131147541,
          96.85002739726028,
          236.30365269461078
         ],
         "yaxis": "y"
        },
        {
         "hovertemplate": "Country=Greece<br>Date=%{x}<br>Price (EUR/MWhe)=%{y}<extra></extra>",
         "legendgroup": "Greece",
         "line": {
          "color": "#636efa",
          "dash": "solid"
         },
         "marker": {
          "symbol": "circle"
         },
         "mode": "lines",
         "name": "Greece",
         "orientation": "v",
         "showlegend": true,
         "type": "scatter",
         "x": [
          "2015-01-01T00:00:00",
          "2016-01-01T00:00:00",
          "2017-01-01T00:00:00",
          "2018-01-01T00:00:00",
          "2019-01-01T00:00:00",
          "2020-01-01T00:00:00",
          "2021-01-01T00:00:00",
          "2022-01-01T00:00:00"
         ],
         "xaxis": "x",
         "y": [
          51.92832876712329,
          42.84849726775956,
          54.68454794520548,
          60.397780821917806,
          63.81605479452055,
          45.091857923497265,
          116.45742465753425,
          280.17778443113775
         ],
         "yaxis": "y"
        },
        {
         "hovertemplate": "Country=Hungary<br>Date=%{x}<br>Price (EUR/MWhe)=%{y}<extra></extra>",
         "legendgroup": "Hungary",
         "line": {
          "color": "#EF553B",
          "dash": "solid"
         },
         "marker": {
          "symbol": "circle"
         },
         "mode": "lines",
         "name": "Hungary",
         "orientation": "v",
         "showlegend": true,
         "type": "scatter",
         "x": [
          "2015-01-01T00:00:00",
          "2016-01-01T00:00:00",
          "2017-01-01T00:00:00",
          "2018-01-01T00:00:00",
          "2019-01-01T00:00:00",
          "2020-01-01T00:00:00",
          "2021-01-01T00:00:00",
          "2022-01-01T00:00:00"
         ],
         "xaxis": "x",
         "y": [
          40.60205479452055,
          35.4320218579235,
          50.34928767123288,
          51.00701369863014,
          50.35320547945205,
          39.00551912568306,
          113.85945205479452,
          272.660748502994
         ],
         "yaxis": "y"
        },
        {
         "hovertemplate": "Country=Ireland<br>Date=%{x}<br>Price (EUR/MWhe)=%{y}<extra></extra>",
         "legendgroup": "Ireland",
         "line": {
          "color": "#00cc96",
          "dash": "solid"
         },
         "marker": {
          "symbol": "circle"
         },
         "mode": "lines",
         "name": "Ireland",
         "orientation": "v",
         "showlegend": true,
         "type": "scatter",
         "x": [
          "2015-01-01T00:00:00",
          "2016-01-01T00:00:00",
          "2017-01-01T00:00:00",
          "2018-01-01T00:00:00",
          "2019-01-01T00:00:00",
          "2020-01-01T00:00:00",
          "2021-01-01T00:00:00",
          "2022-01-01T00:00:00"
         ],
         "xaxis": "x",
         "y": [
          48.63531506849315,
          39.261448087431695,
          45.6977808219178,
          61.96728767123288,
          50.16024657534247,
          37.61199453551912,
          136.33071232876713,
          206.89495867768596
         ],
         "yaxis": "y"
        },
        {
         "hovertemplate": "Country=Italy<br>Date=%{x}<br>Price (EUR/MWhe)=%{y}<extra></extra>",
         "legendgroup": "Italy",
         "line": {
          "color": "#ab63fa",
          "dash": "solid"
         },
         "marker": {
          "symbol": "circle"
         },
         "mode": "lines",
         "name": "Italy",
         "orientation": "v",
         "showlegend": true,
         "type": "scatter",
         "x": [
          "2015-01-01T00:00:00",
          "2016-01-01T00:00:00",
          "2017-01-01T00:00:00",
          "2018-01-01T00:00:00",
          "2019-01-01T00:00:00",
          "2020-01-01T00:00:00",
          "2021-01-01T00:00:00",
          "2022-01-01T00:00:00"
         ],
         "xaxis": "x",
         "y": [
          52.377534246575344,
          42.69051912568306,
          53.927726027397256,
          61.28221917808219,
          52.33627397260275,
          38.91508196721311,
          125.48523287671233,
          304.7813473053892
         ],
         "yaxis": "y"
        },
        {
         "hovertemplate": "Country=Latvia<br>Date=%{x}<br>Price (EUR/MWhe)=%{y}<extra></extra>",
         "legendgroup": "Latvia",
         "line": {
          "color": "#FFA15A",
          "dash": "solid"
         },
         "marker": {
          "symbol": "circle"
         },
         "mode": "lines",
         "name": "Latvia",
         "orientation": "v",
         "showlegend": true,
         "type": "scatter",
         "x": [
          "2015-01-01T00:00:00",
          "2016-01-01T00:00:00",
          "2017-01-01T00:00:00",
          "2018-01-01T00:00:00",
          "2019-01-01T00:00:00",
          "2020-01-01T00:00:00",
          "2021-01-01T00:00:00",
          "2022-01-01T00:00:00"
         ],
         "xaxis": "x",
         "y": [
          41.84753424657534,
          36.08863387978142,
          34.67923287671233,
          49.89556164383562,
          46.2787397260274,
          34.04860655737705,
          88.78013698630137,
          223.43167664670656
         ],
         "yaxis": "y"
        },
        {
         "hovertemplate": "Country=Lithuania<br>Date=%{x}<br>Price (EUR/MWhe)=%{y}<extra></extra>",
         "legendgroup": "Lithuania",
         "line": {
          "color": "#19d3f3",
          "dash": "solid"
         },
         "marker": {
          "symbol": "circle"
         },
         "mode": "lines",
         "name": "Lithuania",
         "orientation": "v",
         "showlegend": true,
         "type": "scatter",
         "x": [
          "2015-01-01T00:00:00",
          "2016-01-01T00:00:00",
          "2017-01-01T00:00:00",
          "2018-01-01T00:00:00",
          "2019-01-01T00:00:00",
          "2020-01-01T00:00:00",
          "2021-01-01T00:00:00",
          "2022-01-01T00:00:00"
         ],
         "xaxis": "x",
         "y": [
          41.92123287671233,
          36.52543715846994,
          35.13205479452055,
          49.9987397260274,
          46.124575342465754,
          34.037923497267755,
          90.45679452054796,
          227.0362275449102
         ],
         "yaxis": "y"
        },
        {
         "hovertemplate": "Country=Luxembourg<br>Date=%{x}<br>Price (EUR/MWhe)=%{y}<extra></extra>",
         "legendgroup": "Luxembourg",
         "line": {
          "color": "#FF6692",
          "dash": "solid"
         },
         "marker": {
          "symbol": "circle"
         },
         "mode": "lines",
         "name": "Luxembourg",
         "orientation": "v",
         "showlegend": true,
         "type": "scatter",
         "x": [
          "2015-01-01T00:00:00",
          "2016-01-01T00:00:00",
          "2017-01-01T00:00:00",
          "2018-01-01T00:00:00",
          "2019-01-01T00:00:00",
          "2020-01-01T00:00:00",
          "2021-01-01T00:00:00",
          "2022-01-01T00:00:00"
         ],
         "xaxis": "x",
         "y": [
          31.87901369863014,
          28.98226775956284,
          34.185534246575344,
          44.46665753424657,
          37.66813698630137,
          30.47172131147541,
          96.85002739726028,
          236.30365269461078
         ],
         "yaxis": "y"
        },
        {
         "hovertemplate": "Country=Netherlands<br>Date=%{x}<br>Price (EUR/MWhe)=%{y}<extra></extra>",
         "legendgroup": "Netherlands",
         "line": {
          "color": "#B6E880",
          "dash": "solid"
         },
         "marker": {
          "symbol": "circle"
         },
         "mode": "lines",
         "name": "Netherlands",
         "orientation": "v",
         "showlegend": true,
         "type": "scatter",
         "x": [
          "2015-01-01T00:00:00",
          "2016-01-01T00:00:00",
          "2017-01-01T00:00:00",
          "2018-01-01T00:00:00",
          "2019-01-01T00:00:00",
          "2020-01-01T00:00:00",
          "2021-01-01T00:00:00",
          "2022-01-01T00:00:00"
         ],
         "xaxis": "x",
         "y": [
          40.080739726027396,
          32.24756830601093,
          39.30597260273973,
          52.53506849315068,
          41.193123287671234,
          32.24174863387978,
          102.9712602739726,
          240.37089820359282
         ],
         "yaxis": "y"
        },
        {
         "hovertemplate": "Country=Norway<br>Date=%{x}<br>Price (EUR/MWhe)=%{y}<extra></extra>",
         "legendgroup": "Norway",
         "line": {
          "color": "#FF97FF",
          "dash": "solid"
         },
         "marker": {
          "symbol": "circle"
         },
         "mode": "lines",
         "name": "Norway",
         "orientation": "v",
         "showlegend": true,
         "type": "scatter",
         "x": [
          "2015-01-01T00:00:00",
          "2016-01-01T00:00:00",
          "2017-01-01T00:00:00",
          "2018-01-01T00:00:00",
          "2019-01-01T00:00:00",
          "2020-01-01T00:00:00",
          "2021-01-01T00:00:00",
          "2022-01-01T00:00:00"
         ],
         "xaxis": "x",
         "y": [
          20.163479452054794,
          26.060765027322404,
          28.588219178082195,
          43.546602739726026,
          38.97824657534247,
          9.265601092896175,
          61.68068493150685,
          131.90979041916168
         ],
         "yaxis": "y"
        },
        {
         "hovertemplate": "Country=Poland<br>Date=%{x}<br>Price (EUR/MWhe)=%{y}<extra></extra>",
         "legendgroup": "Poland",
         "line": {
          "color": "#FECB52",
          "dash": "solid"
         },
         "marker": {
          "symbol": "circle"
         },
         "mode": "lines",
         "name": "Poland",
         "orientation": "v",
         "showlegend": true,
         "type": "scatter",
         "x": [
          "2015-01-01T00:00:00",
          "2016-01-01T00:00:00",
          "2017-01-01T00:00:00",
          "2018-01-01T00:00:00",
          "2019-01-01T00:00:00",
          "2020-01-01T00:00:00",
          "2021-01-01T00:00:00",
          "2022-01-01T00:00:00"
         ],
         "xaxis": "x",
         "y": [
          37.24224657534246,
          35.75568306010929,
          36.7812602739726,
          52.17027397260274,
          53.4561095890411,
          46.65636612021858,
          87.03487671232877,
          166.08074850299403
         ],
         "yaxis": "y"
        },
        {
         "hovertemplate": "Country=Portugal<br>Date=%{x}<br>Price (EUR/MWhe)=%{y}<extra></extra>",
         "legendgroup": "Portugal",
         "line": {
          "color": "#636efa",
          "dash": "solid"
         },
         "marker": {
          "symbol": "circle"
         },
         "mode": "lines",
         "name": "Portugal",
         "orientation": "v",
         "showlegend": true,
         "type": "scatter",
         "x": [
          "2015-01-01T00:00:00",
          "2016-01-01T00:00:00",
          "2017-01-01T00:00:00",
          "2018-01-01T00:00:00",
          "2019-01-01T00:00:00",
          "2020-01-01T00:00:00",
          "2021-01-01T00:00:00",
          "2022-01-01T00:00:00"
         ],
         "xaxis": "x",
         "y": [
          50.46687671232877,
          39.43868852459016,
          52.47619178082192,
          57.4547397260274,
          47.86630136986302,
          33.986393442622955,
          112.02049315068494,
          174.51311377245509
         ],
         "yaxis": "y"
        },
        {
         "hovertemplate": "Country=Romania<br>Date=%{x}<br>Price (EUR/MWhe)=%{y}<extra></extra>",
         "legendgroup": "Romania",
         "line": {
          "color": "#EF553B",
          "dash": "solid"
         },
         "marker": {
          "symbol": "circle"
         },
         "mode": "lines",
         "name": "Romania",
         "orientation": "v",
         "showlegend": true,
         "type": "scatter",
         "x": [
          "2015-01-01T00:00:00",
          "2016-01-01T00:00:00",
          "2017-01-01T00:00:00",
          "2018-01-01T00:00:00",
          "2019-01-01T00:00:00",
          "2020-01-01T00:00:00",
          "2021-01-01T00:00:00",
          "2022-01-01T00:00:00"
         ],
         "xaxis": "x",
         "y": [
          36.43476712328767,
          33.1642349726776,
          48.016356164383566,
          46.43304109589042,
          50.398410958904115,
          39.485956284153005,
          111.4152602739726,
          266.9317365269461
         ],
         "yaxis": "y"
        },
        {
         "hovertemplate": "Country=Serbia<br>Date=%{x}<br>Price (EUR/MWhe)=%{y}<extra></extra>",
         "legendgroup": "Serbia",
         "line": {
          "color": "#00cc96",
          "dash": "solid"
         },
         "marker": {
          "symbol": "circle"
         },
         "mode": "lines",
         "name": "Serbia",
         "orientation": "v",
         "showlegend": true,
         "type": "scatter",
         "x": [
          "2015-01-01T00:00:00",
          "2016-01-01T00:00:00",
          "2017-01-01T00:00:00",
          "2018-01-01T00:00:00",
          "2019-01-01T00:00:00",
          "2020-01-01T00:00:00",
          "2021-01-01T00:00:00",
          "2022-01-01T00:00:00"
         ],
         "xaxis": "x",
         "y": [
          null,
          54.7158064516129,
          51.05161643835616,
          50.162383561643836,
          50.50547945205479,
          39.006830601092894,
          114.0315616438356,
          276.6296107784431
         ],
         "yaxis": "y"
        },
        {
         "hovertemplate": "Country=Slovakia<br>Date=%{x}<br>Price (EUR/MWhe)=%{y}<extra></extra>",
         "legendgroup": "Slovakia",
         "line": {
          "color": "#ab63fa",
          "dash": "solid"
         },
         "marker": {
          "symbol": "circle"
         },
         "mode": "lines",
         "name": "Slovakia",
         "orientation": "v",
         "showlegend": true,
         "type": "scatter",
         "x": [
          "2015-01-01T00:00:00",
          "2016-01-01T00:00:00",
          "2017-01-01T00:00:00",
          "2018-01-01T00:00:00",
          "2019-01-01T00:00:00",
          "2020-01-01T00:00:00",
          "2021-01-01T00:00:00",
          "2022-01-01T00:00:00"
         ],
         "xaxis": "x",
         "y": [
          33.564465753424656,
          31.610464480874317,
          40.94,
          48.46917808219178,
          41.506027397260276,
          34.014426229508196,
          102.75550684931507,
          265.5932035928144
         ],
         "yaxis": "y"
        },
        {
         "hovertemplate": "Country=Slovenia<br>Date=%{x}<br>Price (EUR/MWhe)=%{y}<extra></extra>",
         "legendgroup": "Slovenia",
         "line": {
          "color": "#FFA15A",
          "dash": "solid"
         },
         "marker": {
          "symbol": "circle"
         },
         "mode": "lines",
         "name": "Slovenia",
         "orientation": "v",
         "showlegend": true,
         "type": "scatter",
         "x": [
          "2015-01-01T00:00:00",
          "2016-01-01T00:00:00",
          "2017-01-01T00:00:00",
          "2018-01-01T00:00:00",
          "2019-01-01T00:00:00",
          "2020-01-01T00:00:00",
          "2021-01-01T00:00:00",
          "2022-01-01T00:00:00"
         ],
         "xaxis": "x",
         "y": [
          41.415123287671236,
          35.61937158469946,
          49.519561643835615,
          51.16750684931507,
          48.74520547945205,
          37.54964480874317,
          115.04350684931507,
          275.40332335329344
         ],
         "yaxis": "y"
        },
        {
         "hovertemplate": "Country=Spain<br>Date=%{x}<br>Price (EUR/MWhe)=%{y}<extra></extra>",
         "legendgroup": "Spain",
         "line": {
          "color": "#19d3f3",
          "dash": "solid"
         },
         "marker": {
          "symbol": "circle"
         },
         "mode": "lines",
         "name": "Spain",
         "orientation": "v",
         "showlegend": true,
         "type": "scatter",
         "x": [
          "2015-01-01T00:00:00",
          "2016-01-01T00:00:00",
          "2017-01-01T00:00:00",
          "2018-01-01T00:00:00",
          "2019-01-01T00:00:00",
          "2020-01-01T00:00:00",
          "2021-01-01T00:00:00",
          "2022-01-01T00:00:00"
         ],
         "xaxis": "x",
         "y": [
          50.324657534246576,
          39.66833333333334,
          52.233178082191785,
          57.30090410958905,
          47.67871232876712,
          33.95920765027322,
          111.94479452054794,
          174.07239520958083
         ],
         "yaxis": "y"
        },
        {
         "hovertemplate": "Country=Sweden<br>Date=%{x}<br>Price (EUR/MWhe)=%{y}<extra></extra>",
         "legendgroup": "Sweden",
         "line": {
          "color": "#FF6692",
          "dash": "solid"
         },
         "marker": {
          "symbol": "circle"
         },
         "mode": "lines",
         "name": "Sweden",
         "orientation": "v",
         "showlegend": true,
         "type": "scatter",
         "x": [
          "2015-01-01T00:00:00",
          "2016-01-01T00:00:00",
          "2017-01-01T00:00:00",
          "2018-01-01T00:00:00",
          "2019-01-01T00:00:00",
          "2020-01-01T00:00:00",
          "2021-01-01T00:00:00",
          "2022-01-01T00:00:00"
         ],
         "xaxis": "x",
         "y": [
          22.01104109589041,
          29.24071038251366,
          31.336,
          44.80958904109589,
          38.54090410958904,
          20.74601092896175,
          64.34690410958903,
          109.07254491017964
         ],
         "yaxis": "y"
        },
        {
         "hovertemplate": "Country=Switzerland<br>Date=%{x}<br>Price (EUR/MWhe)=%{y}<extra></extra>",
         "legendgroup": "Switzerland",
         "line": {
          "color": "#B6E880",
          "dash": "solid"
         },
         "marker": {
          "symbol": "circle"
         },
         "mode": "lines",
         "name": "Switzerland",
         "orientation": "v",
         "showlegend": true,
         "type": "scatter",
         "x": [
          "2015-01-01T00:00:00",
          "2016-01-01T00:00:00",
          "2017-01-01T00:00:00",
          "2018-01-01T00:00:00",
          "2019-01-01T00:00:00",
          "2020-01-01T00:00:00",
          "2021-01-01T00:00:00",
          "2022-01-01T00:00:00"
         ],
         "xaxis": "x",
         "y": [
          40.256465753424656,
          37.88147540983607,
          45.92567123287671,
          52.21558904109589,
          40.913616438356165,
          34.003579234972676,
          114.9472602739726,
          281.8208383233533
         ],
         "yaxis": "y"
        }
       ],
       "layout": {
        "height": 500,
        "legend": {
         "title": {
          "text": "Country"
         },
         "tracegroupgap": 0
        },
        "margin": {
         "t": 60
        },
        "template": {
         "data": {
          "bar": [
           {
            "error_x": {
             "color": "#f2f5fa"
            },
            "error_y": {
             "color": "#f2f5fa"
            },
            "marker": {
             "line": {
              "color": "rgb(17,17,17)",
              "width": 0.5
             },
             "pattern": {
              "fillmode": "overlay",
              "size": 10,
              "solidity": 0.2
             }
            },
            "type": "bar"
           }
          ],
          "barpolar": [
           {
            "marker": {
             "line": {
              "color": "rgb(17,17,17)",
              "width": 0.5
             },
             "pattern": {
              "fillmode": "overlay",
              "size": 10,
              "solidity": 0.2
             }
            },
            "type": "barpolar"
           }
          ],
          "carpet": [
           {
            "aaxis": {
             "endlinecolor": "#A2B1C6",
             "gridcolor": "#506784",
             "linecolor": "#506784",
             "minorgridcolor": "#506784",
             "startlinecolor": "#A2B1C6"
            },
            "baxis": {
             "endlinecolor": "#A2B1C6",
             "gridcolor": "#506784",
             "linecolor": "#506784",
             "minorgridcolor": "#506784",
             "startlinecolor": "#A2B1C6"
            },
            "type": "carpet"
           }
          ],
          "choropleth": [
           {
            "colorbar": {
             "outlinewidth": 0,
             "ticks": ""
            },
            "type": "choropleth"
           }
          ],
          "contour": [
           {
            "colorbar": {
             "outlinewidth": 0,
             "ticks": ""
            },
            "colorscale": [
             [
              0,
              "#0d0887"
             ],
             [
              0.1111111111111111,
              "#46039f"
             ],
             [
              0.2222222222222222,
              "#7201a8"
             ],
             [
              0.3333333333333333,
              "#9c179e"
             ],
             [
              0.4444444444444444,
              "#bd3786"
             ],
             [
              0.5555555555555556,
              "#d8576b"
             ],
             [
              0.6666666666666666,
              "#ed7953"
             ],
             [
              0.7777777777777778,
              "#fb9f3a"
             ],
             [
              0.8888888888888888,
              "#fdca26"
             ],
             [
              1,
              "#f0f921"
             ]
            ],
            "type": "contour"
           }
          ],
          "contourcarpet": [
           {
            "colorbar": {
             "outlinewidth": 0,
             "ticks": ""
            },
            "type": "contourcarpet"
           }
          ],
          "heatmap": [
           {
            "colorbar": {
             "outlinewidth": 0,
             "ticks": ""
            },
            "colorscale": [
             [
              0,
              "#0d0887"
             ],
             [
              0.1111111111111111,
              "#46039f"
             ],
             [
              0.2222222222222222,
              "#7201a8"
             ],
             [
              0.3333333333333333,
              "#9c179e"
             ],
             [
              0.4444444444444444,
              "#bd3786"
             ],
             [
              0.5555555555555556,
              "#d8576b"
             ],
             [
              0.6666666666666666,
              "#ed7953"
             ],
             [
              0.7777777777777778,
              "#fb9f3a"
             ],
             [
              0.8888888888888888,
              "#fdca26"
             ],
             [
              1,
              "#f0f921"
             ]
            ],
            "type": "heatmap"
           }
          ],
          "heatmapgl": [
           {
            "colorbar": {
             "outlinewidth": 0,
             "ticks": ""
            },
            "colorscale": [
             [
              0,
              "#0d0887"
             ],
             [
              0.1111111111111111,
              "#46039f"
             ],
             [
              0.2222222222222222,
              "#7201a8"
             ],
             [
              0.3333333333333333,
              "#9c179e"
             ],
             [
              0.4444444444444444,
              "#bd3786"
             ],
             [
              0.5555555555555556,
              "#d8576b"
             ],
             [
              0.6666666666666666,
              "#ed7953"
             ],
             [
              0.7777777777777778,
              "#fb9f3a"
             ],
             [
              0.8888888888888888,
              "#fdca26"
             ],
             [
              1,
              "#f0f921"
             ]
            ],
            "type": "heatmapgl"
           }
          ],
          "histogram": [
           {
            "marker": {
             "pattern": {
              "fillmode": "overlay",
              "size": 10,
              "solidity": 0.2
             }
            },
            "type": "histogram"
           }
          ],
          "histogram2d": [
           {
            "colorbar": {
             "outlinewidth": 0,
             "ticks": ""
            },
            "colorscale": [
             [
              0,
              "#0d0887"
             ],
             [
              0.1111111111111111,
              "#46039f"
             ],
             [
              0.2222222222222222,
              "#7201a8"
             ],
             [
              0.3333333333333333,
              "#9c179e"
             ],
             [
              0.4444444444444444,
              "#bd3786"
             ],
             [
              0.5555555555555556,
              "#d8576b"
             ],
             [
              0.6666666666666666,
              "#ed7953"
             ],
             [
              0.7777777777777778,
              "#fb9f3a"
             ],
             [
              0.8888888888888888,
              "#fdca26"
             ],
             [
              1,
              "#f0f921"
             ]
            ],
            "type": "histogram2d"
           }
          ],
          "histogram2dcontour": [
           {
            "colorbar": {
             "outlinewidth": 0,
             "ticks": ""
            },
            "colorscale": [
             [
              0,
              "#0d0887"
             ],
             [
              0.1111111111111111,
              "#46039f"
             ],
             [
              0.2222222222222222,
              "#7201a8"
             ],
             [
              0.3333333333333333,
              "#9c179e"
             ],
             [
              0.4444444444444444,
              "#bd3786"
             ],
             [
              0.5555555555555556,
              "#d8576b"
             ],
             [
              0.6666666666666666,
              "#ed7953"
             ],
             [
              0.7777777777777778,
              "#fb9f3a"
             ],
             [
              0.8888888888888888,
              "#fdca26"
             ],
             [
              1,
              "#f0f921"
             ]
            ],
            "type": "histogram2dcontour"
           }
          ],
          "mesh3d": [
           {
            "colorbar": {
             "outlinewidth": 0,
             "ticks": ""
            },
            "type": "mesh3d"
           }
          ],
          "parcoords": [
           {
            "line": {
             "colorbar": {
              "outlinewidth": 0,
              "ticks": ""
             }
            },
            "type": "parcoords"
           }
          ],
          "pie": [
           {
            "automargin": true,
            "type": "pie"
           }
          ],
          "scatter": [
           {
            "marker": {
             "line": {
              "color": "#283442"
             }
            },
            "type": "scatter"
           }
          ],
          "scatter3d": [
           {
            "line": {
             "colorbar": {
              "outlinewidth": 0,
              "ticks": ""
             }
            },
            "marker": {
             "colorbar": {
              "outlinewidth": 0,
              "ticks": ""
             }
            },
            "type": "scatter3d"
           }
          ],
          "scattercarpet": [
           {
            "marker": {
             "colorbar": {
              "outlinewidth": 0,
              "ticks": ""
             }
            },
            "type": "scattercarpet"
           }
          ],
          "scattergeo": [
           {
            "marker": {
             "colorbar": {
              "outlinewidth": 0,
              "ticks": ""
             }
            },
            "type": "scattergeo"
           }
          ],
          "scattergl": [
           {
            "marker": {
             "line": {
              "color": "#283442"
             }
            },
            "type": "scattergl"
           }
          ],
          "scattermapbox": [
           {
            "marker": {
             "colorbar": {
              "outlinewidth": 0,
              "ticks": ""
             }
            },
            "type": "scattermapbox"
           }
          ],
          "scatterpolar": [
           {
            "marker": {
             "colorbar": {
              "outlinewidth": 0,
              "ticks": ""
             }
            },
            "type": "scatterpolar"
           }
          ],
          "scatterpolargl": [
           {
            "marker": {
             "colorbar": {
              "outlinewidth": 0,
              "ticks": ""
             }
            },
            "type": "scatterpolargl"
           }
          ],
          "scatterternary": [
           {
            "marker": {
             "colorbar": {
              "outlinewidth": 0,
              "ticks": ""
             }
            },
            "type": "scatterternary"
           }
          ],
          "surface": [
           {
            "colorbar": {
             "outlinewidth": 0,
             "ticks": ""
            },
            "colorscale": [
             [
              0,
              "#0d0887"
             ],
             [
              0.1111111111111111,
              "#46039f"
             ],
             [
              0.2222222222222222,
              "#7201a8"
             ],
             [
              0.3333333333333333,
              "#9c179e"
             ],
             [
              0.4444444444444444,
              "#bd3786"
             ],
             [
              0.5555555555555556,
              "#d8576b"
             ],
             [
              0.6666666666666666,
              "#ed7953"
             ],
             [
              0.7777777777777778,
              "#fb9f3a"
             ],
             [
              0.8888888888888888,
              "#fdca26"
             ],
             [
              1,
              "#f0f921"
             ]
            ],
            "type": "surface"
           }
          ],
          "table": [
           {
            "cells": {
             "fill": {
              "color": "#506784"
             },
             "line": {
              "color": "rgb(17,17,17)"
             }
            },
            "header": {
             "fill": {
              "color": "#2a3f5f"
             },
             "line": {
              "color": "rgb(17,17,17)"
             }
            },
            "type": "table"
           }
          ]
         },
         "layout": {
          "annotationdefaults": {
           "arrowcolor": "#f2f5fa",
           "arrowhead": 0,
           "arrowwidth": 1
          },
          "autotypenumbers": "strict",
          "coloraxis": {
           "colorbar": {
            "outlinewidth": 0,
            "ticks": ""
           }
          },
          "colorscale": {
           "diverging": [
            [
             0,
             "#8e0152"
            ],
            [
             0.1,
             "#c51b7d"
            ],
            [
             0.2,
             "#de77ae"
            ],
            [
             0.3,
             "#f1b6da"
            ],
            [
             0.4,
             "#fde0ef"
            ],
            [
             0.5,
             "#f7f7f7"
            ],
            [
             0.6,
             "#e6f5d0"
            ],
            [
             0.7,
             "#b8e186"
            ],
            [
             0.8,
             "#7fbc41"
            ],
            [
             0.9,
             "#4d9221"
            ],
            [
             1,
             "#276419"
            ]
           ],
           "sequential": [
            [
             0,
             "#0d0887"
            ],
            [
             0.1111111111111111,
             "#46039f"
            ],
            [
             0.2222222222222222,
             "#7201a8"
            ],
            [
             0.3333333333333333,
             "#9c179e"
            ],
            [
             0.4444444444444444,
             "#bd3786"
            ],
            [
             0.5555555555555556,
             "#d8576b"
            ],
            [
             0.6666666666666666,
             "#ed7953"
            ],
            [
             0.7777777777777778,
             "#fb9f3a"
            ],
            [
             0.8888888888888888,
             "#fdca26"
            ],
            [
             1,
             "#f0f921"
            ]
           ],
           "sequentialminus": [
            [
             0,
             "#0d0887"
            ],
            [
             0.1111111111111111,
             "#46039f"
            ],
            [
             0.2222222222222222,
             "#7201a8"
            ],
            [
             0.3333333333333333,
             "#9c179e"
            ],
            [
             0.4444444444444444,
             "#bd3786"
            ],
            [
             0.5555555555555556,
             "#d8576b"
            ],
            [
             0.6666666666666666,
             "#ed7953"
            ],
            [
             0.7777777777777778,
             "#fb9f3a"
            ],
            [
             0.8888888888888888,
             "#fdca26"
            ],
            [
             1,
             "#f0f921"
            ]
           ]
          },
          "colorway": [
           "#636efa",
           "#EF553B",
           "#00cc96",
           "#ab63fa",
           "#FFA15A",
           "#19d3f3",
           "#FF6692",
           "#B6E880",
           "#FF97FF",
           "#FECB52"
          ],
          "font": {
           "color": "#f2f5fa"
          },
          "geo": {
           "bgcolor": "rgb(17,17,17)",
           "lakecolor": "rgb(17,17,17)",
           "landcolor": "rgb(17,17,17)",
           "showlakes": true,
           "showland": true,
           "subunitcolor": "#506784"
          },
          "hoverlabel": {
           "align": "left"
          },
          "hovermode": "closest",
          "mapbox": {
           "style": "dark"
          },
          "paper_bgcolor": "rgb(17,17,17)",
          "plot_bgcolor": "rgb(17,17,17)",
          "polar": {
           "angularaxis": {
            "gridcolor": "#506784",
            "linecolor": "#506784",
            "ticks": ""
           },
           "bgcolor": "rgb(17,17,17)",
           "radialaxis": {
            "gridcolor": "#506784",
            "linecolor": "#506784",
            "ticks": ""
           }
          },
          "scene": {
           "xaxis": {
            "backgroundcolor": "rgb(17,17,17)",
            "gridcolor": "#506784",
            "gridwidth": 2,
            "linecolor": "#506784",
            "showbackground": true,
            "ticks": "",
            "zerolinecolor": "#C8D4E3"
           },
           "yaxis": {
            "backgroundcolor": "rgb(17,17,17)",
            "gridcolor": "#506784",
            "gridwidth": 2,
            "linecolor": "#506784",
            "showbackground": true,
            "ticks": "",
            "zerolinecolor": "#C8D4E3"
           },
           "zaxis": {
            "backgroundcolor": "rgb(17,17,17)",
            "gridcolor": "#506784",
            "gridwidth": 2,
            "linecolor": "#506784",
            "showbackground": true,
            "ticks": "",
            "zerolinecolor": "#C8D4E3"
           }
          },
          "shapedefaults": {
           "line": {
            "color": "#f2f5fa"
           }
          },
          "sliderdefaults": {
           "bgcolor": "#C8D4E3",
           "bordercolor": "rgb(17,17,17)",
           "borderwidth": 1,
           "tickwidth": 0
          },
          "ternary": {
           "aaxis": {
            "gridcolor": "#506784",
            "linecolor": "#506784",
            "ticks": ""
           },
           "baxis": {
            "gridcolor": "#506784",
            "linecolor": "#506784",
            "ticks": ""
           },
           "bgcolor": "rgb(17,17,17)",
           "caxis": {
            "gridcolor": "#506784",
            "linecolor": "#506784",
            "ticks": ""
           }
          },
          "title": {
           "x": 0.05
          },
          "updatemenudefaults": {
           "bgcolor": "#506784",
           "borderwidth": 0
          },
          "xaxis": {
           "automargin": true,
           "gridcolor": "#283442",
           "linecolor": "#506784",
           "ticks": "",
           "title": {
            "standoff": 15
           },
           "zerolinecolor": "#283442",
           "zerolinewidth": 2
          },
          "yaxis": {
           "automargin": true,
           "gridcolor": "#283442",
           "linecolor": "#506784",
           "ticks": "",
           "title": {
            "standoff": 15
           },
           "zerolinecolor": "#283442",
           "zerolinewidth": 2
          }
         }
        },
        "width": 900,
        "xaxis": {
         "anchor": "y",
         "domain": [
          0,
          1
         ],
         "title": {
          "text": "Date"
         }
        },
        "yaxis": {
         "anchor": "x",
         "domain": [
          0,
          1
         ],
         "title": {
          "text": "Price (EUR/MWhe)"
         }
        }
       }
      }
     },
     "metadata": {},
     "output_type": "display_data"
    },
    {
     "data": {
      "application/vnd.plotly.v1+json": {
       "config": {
        "plotlyServerURL": "https://plot.ly"
       },
       "data": [
        {
         "coloraxis": "coloraxis",
         "customdata": [
          [
           "Sweden",
           109.07254491017964
          ],
          [
           "Norway",
           131.90979041916168
          ],
          [
           "Finland",
           145.5319161676647
          ],
          [
           "Poland",
           166.08074850299403
          ],
          [
           "Spain",
           174.07239520958083
          ],
          [
           "Portugal",
           174.51311377245509
          ],
          [
           "Estonia",
           186.37020958083832
          ],
          [
           "Ireland",
           206.89495867768596
          ],
          [
           "Denmark",
           212.60895209580838
          ],
          [
           "Latvia",
           223.43167664670656
          ],
          [
           "Lithuania",
           227.0362275449102
          ],
          [
           "Luxembourg",
           236.30365269461078
          ],
          [
           "Germany",
           236.30365269461078
          ],
          [
           "Netherlands",
           240.37089820359282
          ],
          [
           "Belgium",
           242.26149700598802
          ],
          [
           "Czechia",
           247.15239520958082
          ],
          [
           "Bulgaria",
           253.3865269461078
          ],
          [
           "Austria",
           263.29556886227545
          ],
          [
           "Slovakia",
           265.5932035928144
          ],
          [
           "Romania",
           266.9317365269461
          ],
          [
           "Hungary",
           272.660748502994
          ],
          [
           "Croatia",
           274.83110778443114
          ],
          [
           "Slovenia",
           275.40332335329344
          ],
          [
           "France",
           276.36715568862274
          ],
          [
           "Serbia",
           276.6296107784431
          ],
          [
           "Greece",
           280.17778443113775
          ],
          [
           "Switzerland",
           281.8208383233533
          ],
          [
           "Italy",
           304.7813473053892
          ]
         ],
         "geo": "geo",
         "hovertemplate": "<b>%{hovertext}</b><br><br>ISO3 Code=%{location}<br>Country=%{customdata[0]}<br>Price (EUR/MWhe)=%{z}<extra></extra>",
         "hovertext": [
          "Sweden",
          "Norway",
          "Finland",
          "Poland",
          "Spain",
          "Portugal",
          "Estonia",
          "Ireland",
          "Denmark",
          "Latvia",
          "Lithuania",
          "Luxembourg",
          "Germany",
          "Netherlands",
          "Belgium",
          "Czechia",
          "Bulgaria",
          "Austria",
          "Slovakia",
          "Romania",
          "Hungary",
          "Croatia",
          "Slovenia",
          "France",
          "Serbia",
          "Greece",
          "Switzerland",
          "Italy"
         ],
         "locations": [
          "SWE",
          "NOR",
          "FIN",
          "POL",
          "ESP",
          "PRT",
          "EST",
          "IRL",
          "DNK",
          "LVA",
          "LTU",
          "LUX",
          "DEU",
          "NLD",
          "BEL",
          "CZE",
          "BGR",
          "AUT",
          "SVK",
          "ROU",
          "HUN",
          "HRV",
          "SVN",
          "FRA",
          "SRB",
          "GRC",
          "CHE",
          "ITA"
         ],
         "name": "",
         "type": "choropleth",
         "z": [
          109.07254491017964,
          131.90979041916168,
          145.5319161676647,
          166.08074850299403,
          174.07239520958083,
          174.51311377245509,
          186.37020958083832,
          206.89495867768596,
          212.60895209580838,
          223.43167664670656,
          227.0362275449102,
          236.30365269461078,
          236.30365269461078,
          240.37089820359282,
          242.26149700598802,
          247.15239520958082,
          253.3865269461078,
          263.29556886227545,
          265.5932035928144,
          266.9317365269461,
          272.660748502994,
          274.83110778443114,
          275.40332335329344,
          276.36715568862274,
          276.6296107784431,
          280.17778443113775,
          281.8208383233533,
          304.7813473053892
         ]
        }
       ],
       "layout": {
        "coloraxis": {
         "colorbar": {
          "title": {
           "text": "Price (EUR/MWhe)"
          }
         },
         "colorscale": [
          [
           0,
           "green"
          ],
          [
           0.5,
           "white"
          ],
          [
           1,
           "red"
          ]
         ]
        },
        "geo": {
         "center": {},
         "domain": {
          "x": [
           0,
           1
          ],
          "y": [
           0,
           1
          ]
         },
         "projection": {
          "type": "orthographic"
         },
         "scope": "europe"
        },
        "height": 500,
        "legend": {
         "tracegroupgap": 0
        },
        "margin": {
         "t": 60
        },
        "template": {
         "data": {
          "bar": [
           {
            "error_x": {
             "color": "#2a3f5f"
            },
            "error_y": {
             "color": "#2a3f5f"
            },
            "marker": {
             "line": {
              "color": "#E5ECF6",
              "width": 0.5
             },
             "pattern": {
              "fillmode": "overlay",
              "size": 10,
              "solidity": 0.2
             }
            },
            "type": "bar"
           }
          ],
          "barpolar": [
           {
            "marker": {
             "line": {
              "color": "#E5ECF6",
              "width": 0.5
             },
             "pattern": {
              "fillmode": "overlay",
              "size": 10,
              "solidity": 0.2
             }
            },
            "type": "barpolar"
           }
          ],
          "carpet": [
           {
            "aaxis": {
             "endlinecolor": "#2a3f5f",
             "gridcolor": "white",
             "linecolor": "white",
             "minorgridcolor": "white",
             "startlinecolor": "#2a3f5f"
            },
            "baxis": {
             "endlinecolor": "#2a3f5f",
             "gridcolor": "white",
             "linecolor": "white",
             "minorgridcolor": "white",
             "startlinecolor": "#2a3f5f"
            },
            "type": "carpet"
           }
          ],
          "choropleth": [
           {
            "colorbar": {
             "outlinewidth": 0,
             "ticks": ""
            },
            "type": "choropleth"
           }
          ],
          "contour": [
           {
            "colorbar": {
             "outlinewidth": 0,
             "ticks": ""
            },
            "colorscale": [
             [
              0,
              "#0d0887"
             ],
             [
              0.1111111111111111,
              "#46039f"
             ],
             [
              0.2222222222222222,
              "#7201a8"
             ],
             [
              0.3333333333333333,
              "#9c179e"
             ],
             [
              0.4444444444444444,
              "#bd3786"
             ],
             [
              0.5555555555555556,
              "#d8576b"
             ],
             [
              0.6666666666666666,
              "#ed7953"
             ],
             [
              0.7777777777777778,
              "#fb9f3a"
             ],
             [
              0.8888888888888888,
              "#fdca26"
             ],
             [
              1,
              "#f0f921"
             ]
            ],
            "type": "contour"
           }
          ],
          "contourcarpet": [
           {
            "colorbar": {
             "outlinewidth": 0,
             "ticks": ""
            },
            "type": "contourcarpet"
           }
          ],
          "heatmap": [
           {
            "colorbar": {
             "outlinewidth": 0,
             "ticks": ""
            },
            "colorscale": [
             [
              0,
              "#0d0887"
             ],
             [
              0.1111111111111111,
              "#46039f"
             ],
             [
              0.2222222222222222,
              "#7201a8"
             ],
             [
              0.3333333333333333,
              "#9c179e"
             ],
             [
              0.4444444444444444,
              "#bd3786"
             ],
             [
              0.5555555555555556,
              "#d8576b"
             ],
             [
              0.6666666666666666,
              "#ed7953"
             ],
             [
              0.7777777777777778,
              "#fb9f3a"
             ],
             [
              0.8888888888888888,
              "#fdca26"
             ],
             [
              1,
              "#f0f921"
             ]
            ],
            "type": "heatmap"
           }
          ],
          "heatmapgl": [
           {
            "colorbar": {
             "outlinewidth": 0,
             "ticks": ""
            },
            "colorscale": [
             [
              0,
              "#0d0887"
             ],
             [
              0.1111111111111111,
              "#46039f"
             ],
             [
              0.2222222222222222,
              "#7201a8"
             ],
             [
              0.3333333333333333,
              "#9c179e"
             ],
             [
              0.4444444444444444,
              "#bd3786"
             ],
             [
              0.5555555555555556,
              "#d8576b"
             ],
             [
              0.6666666666666666,
              "#ed7953"
             ],
             [
              0.7777777777777778,
              "#fb9f3a"
             ],
             [
              0.8888888888888888,
              "#fdca26"
             ],
             [
              1,
              "#f0f921"
             ]
            ],
            "type": "heatmapgl"
           }
          ],
          "histogram": [
           {
            "marker": {
             "pattern": {
              "fillmode": "overlay",
              "size": 10,
              "solidity": 0.2
             }
            },
            "type": "histogram"
           }
          ],
          "histogram2d": [
           {
            "colorbar": {
             "outlinewidth": 0,
             "ticks": ""
            },
            "colorscale": [
             [
              0,
              "#0d0887"
             ],
             [
              0.1111111111111111,
              "#46039f"
             ],
             [
              0.2222222222222222,
              "#7201a8"
             ],
             [
              0.3333333333333333,
              "#9c179e"
             ],
             [
              0.4444444444444444,
              "#bd3786"
             ],
             [
              0.5555555555555556,
              "#d8576b"
             ],
             [
              0.6666666666666666,
              "#ed7953"
             ],
             [
              0.7777777777777778,
              "#fb9f3a"
             ],
             [
              0.8888888888888888,
              "#fdca26"
             ],
             [
              1,
              "#f0f921"
             ]
            ],
            "type": "histogram2d"
           }
          ],
          "histogram2dcontour": [
           {
            "colorbar": {
             "outlinewidth": 0,
             "ticks": ""
            },
            "colorscale": [
             [
              0,
              "#0d0887"
             ],
             [
              0.1111111111111111,
              "#46039f"
             ],
             [
              0.2222222222222222,
              "#7201a8"
             ],
             [
              0.3333333333333333,
              "#9c179e"
             ],
             [
              0.4444444444444444,
              "#bd3786"
             ],
             [
              0.5555555555555556,
              "#d8576b"
             ],
             [
              0.6666666666666666,
              "#ed7953"
             ],
             [
              0.7777777777777778,
              "#fb9f3a"
             ],
             [
              0.8888888888888888,
              "#fdca26"
             ],
             [
              1,
              "#f0f921"
             ]
            ],
            "type": "histogram2dcontour"
           }
          ],
          "mesh3d": [
           {
            "colorbar": {
             "outlinewidth": 0,
             "ticks": ""
            },
            "type": "mesh3d"
           }
          ],
          "parcoords": [
           {
            "line": {
             "colorbar": {
              "outlinewidth": 0,
              "ticks": ""
             }
            },
            "type": "parcoords"
           }
          ],
          "pie": [
           {
            "automargin": true,
            "type": "pie"
           }
          ],
          "scatter": [
           {
            "fillpattern": {
             "fillmode": "overlay",
             "size": 10,
             "solidity": 0.2
            },
            "type": "scatter"
           }
          ],
          "scatter3d": [
           {
            "line": {
             "colorbar": {
              "outlinewidth": 0,
              "ticks": ""
             }
            },
            "marker": {
             "colorbar": {
              "outlinewidth": 0,
              "ticks": ""
             }
            },
            "type": "scatter3d"
           }
          ],
          "scattercarpet": [
           {
            "marker": {
             "colorbar": {
              "outlinewidth": 0,
              "ticks": ""
             }
            },
            "type": "scattercarpet"
           }
          ],
          "scattergeo": [
           {
            "marker": {
             "colorbar": {
              "outlinewidth": 0,
              "ticks": ""
             }
            },
            "type": "scattergeo"
           }
          ],
          "scattergl": [
           {
            "marker": {
             "colorbar": {
              "outlinewidth": 0,
              "ticks": ""
             }
            },
            "type": "scattergl"
           }
          ],
          "scattermapbox": [
           {
            "marker": {
             "colorbar": {
              "outlinewidth": 0,
              "ticks": ""
             }
            },
            "type": "scattermapbox"
           }
          ],
          "scatterpolar": [
           {
            "marker": {
             "colorbar": {
              "outlinewidth": 0,
              "ticks": ""
             }
            },
            "type": "scatterpolar"
           }
          ],
          "scatterpolargl": [
           {
            "marker": {
             "colorbar": {
              "outlinewidth": 0,
              "ticks": ""
             }
            },
            "type": "scatterpolargl"
           }
          ],
          "scatterternary": [
           {
            "marker": {
             "colorbar": {
              "outlinewidth": 0,
              "ticks": ""
             }
            },
            "type": "scatterternary"
           }
          ],
          "surface": [
           {
            "colorbar": {
             "outlinewidth": 0,
             "ticks": ""
            },
            "colorscale": [
             [
              0,
              "#0d0887"
             ],
             [
              0.1111111111111111,
              "#46039f"
             ],
             [
              0.2222222222222222,
              "#7201a8"
             ],
             [
              0.3333333333333333,
              "#9c179e"
             ],
             [
              0.4444444444444444,
              "#bd3786"
             ],
             [
              0.5555555555555556,
              "#d8576b"
             ],
             [
              0.6666666666666666,
              "#ed7953"
             ],
             [
              0.7777777777777778,
              "#fb9f3a"
             ],
             [
              0.8888888888888888,
              "#fdca26"
             ],
             [
              1,
              "#f0f921"
             ]
            ],
            "type": "surface"
           }
          ],
          "table": [
           {
            "cells": {
             "fill": {
              "color": "#EBF0F8"
             },
             "line": {
              "color": "white"
             }
            },
            "header": {
             "fill": {
              "color": "#C8D4E3"
             },
             "line": {
              "color": "white"
             }
            },
            "type": "table"
           }
          ]
         },
         "layout": {
          "annotationdefaults": {
           "arrowcolor": "#2a3f5f",
           "arrowhead": 0,
           "arrowwidth": 1
          },
          "autotypenumbers": "strict",
          "coloraxis": {
           "colorbar": {
            "outlinewidth": 0,
            "ticks": ""
           }
          },
          "colorscale": {
           "diverging": [
            [
             0,
             "#8e0152"
            ],
            [
             0.1,
             "#c51b7d"
            ],
            [
             0.2,
             "#de77ae"
            ],
            [
             0.3,
             "#f1b6da"
            ],
            [
             0.4,
             "#fde0ef"
            ],
            [
             0.5,
             "#f7f7f7"
            ],
            [
             0.6,
             "#e6f5d0"
            ],
            [
             0.7,
             "#b8e186"
            ],
            [
             0.8,
             "#7fbc41"
            ],
            [
             0.9,
             "#4d9221"
            ],
            [
             1,
             "#276419"
            ]
           ],
           "sequential": [
            [
             0,
             "#0d0887"
            ],
            [
             0.1111111111111111,
             "#46039f"
            ],
            [
             0.2222222222222222,
             "#7201a8"
            ],
            [
             0.3333333333333333,
             "#9c179e"
            ],
            [
             0.4444444444444444,
             "#bd3786"
            ],
            [
             0.5555555555555556,
             "#d8576b"
            ],
            [
             0.6666666666666666,
             "#ed7953"
            ],
            [
             0.7777777777777778,
             "#fb9f3a"
            ],
            [
             0.8888888888888888,
             "#fdca26"
            ],
            [
             1,
             "#f0f921"
            ]
           ],
           "sequentialminus": [
            [
             0,
             "#0d0887"
            ],
            [
             0.1111111111111111,
             "#46039f"
            ],
            [
             0.2222222222222222,
             "#7201a8"
            ],
            [
             0.3333333333333333,
             "#9c179e"
            ],
            [
             0.4444444444444444,
             "#bd3786"
            ],
            [
             0.5555555555555556,
             "#d8576b"
            ],
            [
             0.6666666666666666,
             "#ed7953"
            ],
            [
             0.7777777777777778,
             "#fb9f3a"
            ],
            [
             0.8888888888888888,
             "#fdca26"
            ],
            [
             1,
             "#f0f921"
            ]
           ]
          },
          "colorway": [
           "#636efa",
           "#EF553B",
           "#00cc96",
           "#ab63fa",
           "#FFA15A",
           "#19d3f3",
           "#FF6692",
           "#B6E880",
           "#FF97FF",
           "#FECB52"
          ],
          "font": {
           "color": "#2a3f5f"
          },
          "geo": {
           "bgcolor": "white",
           "lakecolor": "white",
           "landcolor": "#E5ECF6",
           "showlakes": true,
           "showland": true,
           "subunitcolor": "white"
          },
          "hoverlabel": {
           "align": "left"
          },
          "hovermode": "closest",
          "mapbox": {
           "style": "light"
          },
          "paper_bgcolor": "white",
          "plot_bgcolor": "#E5ECF6",
          "polar": {
           "angularaxis": {
            "gridcolor": "white",
            "linecolor": "white",
            "ticks": ""
           },
           "bgcolor": "#E5ECF6",
           "radialaxis": {
            "gridcolor": "white",
            "linecolor": "white",
            "ticks": ""
           }
          },
          "scene": {
           "xaxis": {
            "backgroundcolor": "#E5ECF6",
            "gridcolor": "white",
            "gridwidth": 2,
            "linecolor": "white",
            "showbackground": true,
            "ticks": "",
            "zerolinecolor": "white"
           },
           "yaxis": {
            "backgroundcolor": "#E5ECF6",
            "gridcolor": "white",
            "gridwidth": 2,
            "linecolor": "white",
            "showbackground": true,
            "ticks": "",
            "zerolinecolor": "white"
           },
           "zaxis": {
            "backgroundcolor": "#E5ECF6",
            "gridcolor": "white",
            "gridwidth": 2,
            "linecolor": "white",
            "showbackground": true,
            "ticks": "",
            "zerolinecolor": "white"
           }
          },
          "shapedefaults": {
           "line": {
            "color": "#2a3f5f"
           }
          },
          "ternary": {
           "aaxis": {
            "gridcolor": "white",
            "linecolor": "white",
            "ticks": ""
           },
           "baxis": {
            "gridcolor": "white",
            "linecolor": "white",
            "ticks": ""
           },
           "bgcolor": "#E5ECF6",
           "caxis": {
            "gridcolor": "white",
            "linecolor": "white",
            "ticks": ""
           }
          },
          "title": {
           "x": 0.05
          },
          "xaxis": {
           "automargin": true,
           "gridcolor": "white",
           "linecolor": "white",
           "ticks": "",
           "title": {
            "standoff": 15
           },
           "zerolinecolor": "white",
           "zerolinewidth": 2
          },
          "yaxis": {
           "automargin": true,
           "gridcolor": "white",
           "linecolor": "white",
           "ticks": "",
           "title": {
            "standoff": 15
           },
           "zerolinecolor": "white",
           "zerolinewidth": 2
          }
         }
        },
        "width": 900
       }
      }
     },
     "metadata": {},
     "output_type": "display_data"
    }
   ],
   "source": [
    "# Code to download data from https://ember-climate.org/app/uploads/2022/09/european_wholesale_electricity_price_data_daily-4.csv\n",
    "\n",
    "import pandas as pd\n",
    "import plotly_express as px\n",
    "\n",
    "# Select data to chart\n",
    "data_frequency = 3 # Enter 1 (daily prices), 2 (monthly average prices), 3 (yearly average prices)\n",
    "country_coverage = 1 # Enter 1 (all countries), 2 (specific countries that need to be listed in 'country_list' variable below)\n",
    "country_list = ['Germany', 'France', 'Italy'] # for use when user wants to import data for certain countries (i.e. option 2 in 'country_coverage')\n",
    "\n",
    "def time_series_data_func(df, country_list): # returns time series data (for charting) as well as geographical data (for mapping) of daily/monthly/yearly prices either for all countries or for some. \n",
    "    # save ISO3 country codes per country in a DataFrame. ISO3 codes will be used later to create geographical map chart\n",
    "    country_names  = list(df['Country'].unique()) # assign unique country names to country_names list\n",
    "    country_codes = list(df['ISO3 Code'].unique()) # assign unique ISO3 country codes to country_codes list\n",
    "    df_ISO_codes = pd.DataFrame({'Country': country_names, 'ISO3 Code': country_codes}) # create 'df_ISO_codes' DataFrame to host country names and their ISO3 codes\n",
    "    if country_coverage == 2: # filters time series data only for certain countries that were selected in 'country_list' variable\n",
    "        df = df[df['Country'].isin(country_list)]\n",
    "    if data_frequency == 1: # returns time series data (for charting) as well as geographical data (for mapping) of all daily prices either for all countries or for some. \n",
    "        df_geo = geo_data_func(df, df_ISO_codes) # formats data that will be used later to create geographical map chart\n",
    "        return df, df_geo\n",
    "    elif data_frequency == 2 or data_frequency == 3: # returns time series data (for charting) as well as geographical data (for mapping) of average monthly/yearly prices either for all countries or for some. \n",
    "        # calculate monthly average prices by country\n",
    "        df = df.pivot(index='Date', columns='Country', values='Price (EUR/MWhe)') # move country names to columns\n",
    "        if data_frequency == 2:\n",
    "            df = df.groupby(pd.PeriodIndex(df.index, freq=\"M\")).mean() # calculate monthly average values per country\n",
    "        elif data_frequency == 3:\n",
    "            df = df.groupby(pd.PeriodIndex(df.index, freq=\"Y\")).mean() # calculate monthly average values per country\n",
    "        df = df.reset_index() # move 'Date' column from being index into a separate column\n",
    "        df = df.melt(id_vars=['Date'], value_vars=list(df.columns)[1:], var_name='Country', value_name='Price (EUR/MWhe)') # move individual country columns into a single 'Country' column\n",
    "        df['Date'] = df['Date'].dt.to_timestamp() # convert DataFrame periods (e.g. 2015-01) to timestamp (e.g. 2015-01-01)\n",
    "        df_geo = geo_data_func(df, df_ISO_codes) # formats data that will be used later to create geographical map chart\n",
    "        return df, df_geo\n",
    "\n",
    "def geo_data_func(df, df_ISO_codes): # formats data that will be used later to create geographical map chart\n",
    "    if data_frequency == 1:\n",
    "        df_geo = df\n",
    "    elif data_frequency == 2 or data_frequency == 3:\n",
    "        df_geo = pd.merge(df, df_ISO_codes, on ='Country', how ='left').dropna() # add 'ISO3 Code' column to 'df_avg_m' DataFrame. This will be used later to create a geographic map chart. Also, uses 'dropna()' function to remove NaN values to prevent geographic chart from showing wrong colours due to NaN values.\n",
    "    df_geo = df_geo.sort_values('Date').groupby('Country').tail(1) # filter to show the latest (by 'Date' column) value per country\n",
    "    df_geo = df_geo.sort_values('Price (EUR/MWhe)') # sort by values\n",
    "    return df_geo\n",
    "\n",
    "\n",
    "def line_chart_func(df): # creates chart of the latest daily or latest average monthly/yearly prices by country\n",
    "    fig = px.line(df, \n",
    "        x=df['Date'],\n",
    "        y=df['Price (EUR/MWhe)'],\n",
    "        color=df['Country'],\n",
    "        height=500, \n",
    "        width=900,\n",
    "        template='plotly_dark'\n",
    "        )  # charts the data\n",
    "    fig.show() # chart daily the data\n",
    "\n",
    "# create geographic map of the latest daily or latest average monthly/yearly prices by country\n",
    "def geo_map_func(df):\n",
    "    map_fig = px.choropleth(df,\n",
    "                            locations='ISO3 Code',\n",
    "                            projection='orthographic',\n",
    "                            color='Price (EUR/MWhe)',\n",
    "                            height=500, \n",
    "                            width=900,\n",
    "                            color_continuous_scale=['green', 'white', 'red'],\n",
    "                            #color_continuous_scale=px.colors.sequential.Viridis,\n",
    "                            #color_continuous_scale='Bluered_r',\n",
    "                            scope='europe', # limit the map to showing European countries only\n",
    "                            hover_name='Country',\n",
    "                            hover_data=['Country', 'Price (EUR/MWhe)']\n",
    "    )\n",
    "    map_fig.show()\n",
    "\n",
    "\n",
    "\n",
    "# download data from CSV into DataFrame\n",
    "df = pd.read_csv('european_wholesale_electricity_price_data_daily-4.csv') # copy CSV file downloaded from https://ember-climate.org/app/uploads/2022/09/european_wholesale_electricity_price_data_daily-4.csv into 'df' DataFrame into the same directory as this python file\n",
    "\n",
    "# functions to run\n",
    "\n",
    "time_series_data = time_series_data_func(df, country_list)\n",
    "time_series_chart = line_chart_func(time_series_data[0])\n",
    "geo_map= geo_map_func(time_series_data[1])"
   ]
  }
 ],
 "metadata": {
  "kernelspec": {
   "display_name": "Python 3",
   "language": "python",
   "name": "python3"
  },
  "language_info": {
   "codemirror_mode": {
    "name": "ipython",
    "version": 3
   },
   "file_extension": ".py",
   "mimetype": "text/x-python",
   "name": "python",
   "nbconvert_exporter": "python",
   "pygments_lexer": "ipython3",
   "version": "3.10.0"
  },
  "orig_nbformat": 4,
  "vscode": {
   "interpreter": {
    "hash": "369f2c481f4da34e4445cda3fffd2e751bd1c4d706f27375911949ba6bb62e1c"
   }
  }
 },
 "nbformat": 4,
 "nbformat_minor": 2
}
