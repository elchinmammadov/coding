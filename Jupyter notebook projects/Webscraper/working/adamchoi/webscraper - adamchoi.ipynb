{
 "cells": [
  {
   "cell_type": "code",
   "execution_count": 17,
   "id": "5152c1b4",
   "metadata": {},
   "outputs": [
    {
     "name": "stderr",
     "output_type": "stream",
     "text": [
      "<ipython-input-17-d2914e0d4bc3>:8: DeprecationWarning: executable_path has been deprecated, please pass in a Service object\n",
      "  driver = webdriver.Chrome(path) # creates new webdriver\n"
     ]
    }
   ],
   "source": [
    "# instructions from https://www.youtube.com/watch?v=UOsRrxMKJYk&t=8s\n",
    "\n",
    "from selenium import webdriver # to be able to go to website and copy the data\n",
    "from selenium.webdriver.common.by import By # to be able to use By.XPATH and By.TAG_NAME with find_element()\n",
    "from selenium.webdriver.support.ui import Select # to be able to select country from dropdown\n",
    "import pandas as pd # to be able to store data in pandas DataFrame and export to CSV file\n",
    "import time # to wait for certain number of seconds for webpage to load\n",
    "\n",
    "path = '/Users/elchi/Dropbox/Coding/Webscrapers/chromedriver'  # location of chromedriver file\n",
    "driver = webdriver.Chrome(path) # creates new webdriver\n",
    "website = 'https://www.adamchoi.co.uk/overs/detailed'\n",
    "driver.get(website) # opens the website in Chrome browser window\n",
    "\n",
    "\n",
    "all_matches_button = driver.find_element(By.XPATH, '//label[@analytics-event=\"All matches\"]')\n",
    "all_matches_button.click() # clicks on 'All matches' button on the website\n",
    "\n",
    "dropdown = Select(driver.find_element(By.ID, 'country'))\n",
    "dropdown.select_by_visible_text('Spain') # goes to 'Select Country' dropdown and clicks on Spain \n",
    "\n",
    "time.sleep(5) # waits for 5 secs for the webpage content to load after selecting country from dropdown. Otherwise, the code will capture blank data\n",
    "\n",
    "matches = driver.find_elements(By.TAG_NAME, 'tr') # finds table element by tag name and stores results as a list\n",
    "\n",
    "\n",
    "# creates empty lists to store table values\n",
    "date = []\n",
    "home_team = []\n",
    "score = []\n",
    "away_team = []\n",
    "\n",
    "for match in matches:\n",
    "\t#print(match.text)\n",
    "\tdate.append(match.find_element(By.XPATH, './td[1]').text) # stores values from column 1 in 'date' list\n",
    "\thome_team.append(match.find_element(By.XPATH, './td[2]').text) # stores values from column 1 in 'home_team' list\n",
    "\tscore.append(match.find_element(By.XPATH, './td[3]').text) # stores values from column 1 in 'score' list\n",
    "\taway_team.append(match.find_element(By.XPATH, './td[4]').text) # stores values from column 1 in 'away_team' list\n",
    "\n",
    "\n",
    "df = pd.DataFrame({'date': date, 'home_team': home_team, 'score': score, 'away_team': away_team})\n",
    "df.to_csv('football_scores.csv', index=False)\n",
    "\n",
    "\n",
    "driver.quit() # closes Chrome browser window"
   ]
  },
  {
   "cell_type": "code",
   "execution_count": 15,
   "id": "916318fc",
   "metadata": {},
   "outputs": [
    {
     "name": "stdout",
     "output_type": "stream",
     "text": [
      "           date  home_team  score  away_team\n",
      "0    13-08-2021  Brentford  2 - 0    Arsenal\n",
      "1    22-08-2021    Arsenal  0 - 2    Chelsea\n",
      "2    28-08-2021   Man City  5 - 0    Arsenal\n",
      "3    11-09-2021    Arsenal  1 - 0    Norwich\n",
      "4    18-09-2021    Burnley  0 - 1    Arsenal\n",
      "..          ...        ...    ...        ...\n",
      "331  27-11-2021    Norwich  0 - 0     Wolves\n",
      "332  01-12-2021     Wolves  0 - 0    Burnley\n",
      "333  04-12-2021     Wolves  0 - 1  Liverpool\n",
      "334  11-12-2021   Man City  1 - 0     Wolves\n",
      "335  15-12-2021   Brighton  ? - ?     Wolves\n",
      "\n",
      "[336 rows x 4 columns]\n"
     ]
    }
   ],
   "source": [
    "print(df)"
   ]
  }
 ],
 "metadata": {
  "kernelspec": {
   "display_name": "Python 3",
   "language": "python",
   "name": "python3"
  },
  "language_info": {
   "codemirror_mode": {
    "name": "ipython",
    "version": 3
   },
   "file_extension": ".py",
   "mimetype": "text/x-python",
   "name": "python",
   "nbconvert_exporter": "python",
   "pygments_lexer": "ipython3",
   "version": "3.8.8"
  }
 },
 "nbformat": 4,
 "nbformat_minor": 5
}
